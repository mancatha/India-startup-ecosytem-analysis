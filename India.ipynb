{
 "cells": [
  {
   "attachments": {},
   "cell_type": "markdown",
   "metadata": {},
   "source": [
    "1.0 Business understanding \n",
    "    1.1 Analysis of the India Start_up ecosystem based on funding from 2018-2021\n",
    "\n",
    "    1.1.2 Project Description \n",
    "    This project focuses on the funding received by start_ups in India from 2018-2021. Our objective is to analyse the data and help management make informed decision in terms of where to situate in India and possible funding we can attract\n"
   ]
  },
  {
   "attachments": {},
   "cell_type": "markdown",
   "metadata": {},
   "source": [
    "2.0 Data Preparation "
   ]
  },
  {
   "cell_type": "code",
   "execution_count": 1,
   "metadata": {},
   "outputs": [
    {
     "name": "stdout",
     "output_type": "stream",
     "text": [
      "Defaulting to user installation because normal site-packages is not writeable\n",
      "Requirement already satisfied: matplotlib in c:\\programdata\\anaconda3\\lib\\site-packages (3.7.0)\n",
      "Requirement already satisfied: cycler>=0.10 in c:\\programdata\\anaconda3\\lib\\site-packages (from matplotlib) (0.11.0)\n",
      "Requirement already satisfied: kiwisolver>=1.0.1 in c:\\programdata\\anaconda3\\lib\\site-packages (from matplotlib) (1.4.4)\n",
      "Requirement already satisfied: python-dateutil>=2.7 in c:\\programdata\\anaconda3\\lib\\site-packages (from matplotlib) (2.8.2)\n",
      "Requirement already satisfied: contourpy>=1.0.1 in c:\\programdata\\anaconda3\\lib\\site-packages (from matplotlib) (1.0.5)\n",
      "Requirement already satisfied: pyparsing>=2.3.1 in c:\\programdata\\anaconda3\\lib\\site-packages (from matplotlib) (3.0.9)\n",
      "Requirement already satisfied: fonttools>=4.22.0 in c:\\programdata\\anaconda3\\lib\\site-packages (from matplotlib) (4.25.0)\n",
      "Requirement already satisfied: pillow>=6.2.0 in c:\\programdata\\anaconda3\\lib\\site-packages (from matplotlib) (9.4.0)\n",
      "Requirement already satisfied: packaging>=20.0 in c:\\programdata\\anaconda3\\lib\\site-packages (from matplotlib) (22.0)\n",
      "Requirement already satisfied: numpy>=1.20 in c:\\programdata\\anaconda3\\lib\\site-packages (from matplotlib) (1.23.5)\n",
      "Requirement already satisfied: six>=1.5 in c:\\programdata\\anaconda3\\lib\\site-packages (from python-dateutil>=2.7->matplotlib) (1.16.0)\n",
      "Note: you may need to restart the kernel to use updated packages.\n"
     ]
    }
   ],
   "source": [
    "pip install matplotlib\n"
   ]
  },
  {
   "cell_type": "code",
   "execution_count": 2,
   "metadata": {},
   "outputs": [
    {
     "name": "stdout",
     "output_type": "stream",
     "text": [
      "Defaulting to user installation because normal site-packages is not writeable\n",
      "Requirement already satisfied: seaborn in c:\\programdata\\anaconda3\\lib\\site-packages (0.12.2)\n",
      "Requirement already satisfied: pandas>=0.25 in c:\\programdata\\anaconda3\\lib\\site-packages (from seaborn) (1.5.3)\n",
      "Requirement already satisfied: numpy!=1.24.0,>=1.17 in c:\\programdata\\anaconda3\\lib\\site-packages (from seaborn) (1.23.5)\n",
      "Requirement already satisfied: matplotlib!=3.6.1,>=3.1 in c:\\programdata\\anaconda3\\lib\\site-packages (from seaborn) (3.7.0)\n",
      "Requirement already satisfied: cycler>=0.10 in c:\\programdata\\anaconda3\\lib\\site-packages (from matplotlib!=3.6.1,>=3.1->seaborn) (0.11.0)\n",
      "Requirement already satisfied: packaging>=20.0 in c:\\programdata\\anaconda3\\lib\\site-packages (from matplotlib!=3.6.1,>=3.1->seaborn) (22.0)\n",
      "Requirement already satisfied: pyparsing>=2.3.1 in c:\\programdata\\anaconda3\\lib\\site-packages (from matplotlib!=3.6.1,>=3.1->seaborn) (3.0.9)\n",
      "Requirement already satisfied: contourpy>=1.0.1 in c:\\programdata\\anaconda3\\lib\\site-packages (from matplotlib!=3.6.1,>=3.1->seaborn) (1.0.5)\n",
      "Requirement already satisfied: pillow>=6.2.0 in c:\\programdata\\anaconda3\\lib\\site-packages (from matplotlib!=3.6.1,>=3.1->seaborn) (9.4.0)\n",
      "Requirement already satisfied: python-dateutil>=2.7 in c:\\programdata\\anaconda3\\lib\\site-packages (from matplotlib!=3.6.1,>=3.1->seaborn) (2.8.2)\n",
      "Requirement already satisfied: fonttools>=4.22.0 in c:\\programdata\\anaconda3\\lib\\site-packages (from matplotlib!=3.6.1,>=3.1->seaborn) (4.25.0)\n",
      "Requirement already satisfied: kiwisolver>=1.0.1 in c:\\programdata\\anaconda3\\lib\\site-packages (from matplotlib!=3.6.1,>=3.1->seaborn) (1.4.4)\n",
      "Requirement already satisfied: pytz>=2020.1 in c:\\programdata\\anaconda3\\lib\\site-packages (from pandas>=0.25->seaborn) (2022.7)\n",
      "Requirement already satisfied: six>=1.5 in c:\\programdata\\anaconda3\\lib\\site-packages (from python-dateutil>=2.7->matplotlib!=3.6.1,>=3.1->seaborn) (1.16.0)\n",
      "Note: you may need to restart the kernel to use updated packages.\n"
     ]
    }
   ],
   "source": [
    "pip install seaborn"
   ]
  },
  {
   "cell_type": "code",
   "execution_count": 3,
   "metadata": {},
   "outputs": [
    {
     "name": "stdout",
     "output_type": "stream",
     "text": [
      "Defaulting to user installation because normal site-packages is not writeable\n",
      "Requirement already satisfied: fuzzywuzzy in c:\\users\\benedicta mankata\\appdata\\roaming\\python\\python310\\site-packages (0.18.0)\n",
      "Note: you may need to restart the kernel to use updated packages.\n"
     ]
    }
   ],
   "source": [
    " pip install fuzzywuzzy"
   ]
  },
  {
   "cell_type": "code",
   "execution_count": 4,
   "metadata": {},
   "outputs": [
    {
     "name": "stdout",
     "output_type": "stream",
     "text": [
      "Defaulting to user installation because normal site-packages is not writeable\n",
      "Requirement already satisfied: python-dotenv in c:\\users\\benedicta mankata\\appdata\\roaming\\python\\python310\\site-packages (1.0.0)\n",
      "Note: you may need to restart the kernel to use updated packages.\n"
     ]
    }
   ],
   "source": [
    "pip install python-dotenv"
   ]
  },
  {
   "cell_type": "code",
   "execution_count": 5,
   "metadata": {},
   "outputs": [],
   "source": [
    "import pyodbc #just installed with pip\n",
    "from dotenv import dotenv_values #import the dotenv_values function from the dotenv package\n",
    "import pandas as pd\n",
    "import warnings \n",
    "import numpy as np\n",
    "import matplotlib.pyplot as plt \n",
    "import seaborn as sns\n",
    "\n",
    "\n",
    "import datetime as dt\n",
    "from sklearn.impute import SimpleImputer\n",
    "\n",
    "\n",
    "\n",
    "import os\n",
    "\n",
    "warnings.filterwarnings('ignore')"
   ]
  },
  {
   "cell_type": "code",
   "execution_count": 6,
   "metadata": {},
   "outputs": [],
   "source": [
    "# Load environment variables from .env file into a dictionary\n",
    "environment_variables = dotenv_values('.env')\n",
    "database = environment_variables.get(\"DATABASE\")\n",
    "server = environment_variables.get(\"SERVER\")\n",
    "username = environment_variables.get(\"USERNAME\")\n",
    "password = environment_variables.get(\"PASSWORD\")\n",
    "\n",
    "\n",
    "connection_string = f\"DRIVER={{SQL Server}};SERVER={server};DATABASE={database};UID={username};PWD={password}\""
   ]
  },
  {
   "cell_type": "code",
   "execution_count": 7,
   "metadata": {},
   "outputs": [],
   "source": [
    "# Use the connect method of the pyodbc library and pass in the connection string.\n",
    "# This will connect to the server and might take a few seconds to be complete. \n",
    "# Check your internet connection if it takes more time than necessary\n",
    "\n",
    "connection = pyodbc.connect(connection_string)"
   ]
  },
  {
   "cell_type": "code",
   "execution_count": 8,
   "metadata": {},
   "outputs": [],
   "source": [
    "# Now the sql query to get the data is what what you see below. \n",
    "# Note that you will not have permissions to insert delete or update this database table. \n",
    "\n",
    "query2020 = \"select * from dbo.LP1_startup_funding2020\"\n",
    "\n",
    "\n",
    "\n",
    "\n",
    "df_2020 = pd.read_sql(query2020, connection)"
   ]
  },
  {
   "cell_type": "code",
   "execution_count": 9,
   "metadata": {},
   "outputs": [
    {
     "data": {
      "text/html": [
       "<div>\n",
       "<style scoped>\n",
       "    .dataframe tbody tr th:only-of-type {\n",
       "        vertical-align: middle;\n",
       "    }\n",
       "\n",
       "    .dataframe tbody tr th {\n",
       "        vertical-align: top;\n",
       "    }\n",
       "\n",
       "    .dataframe thead th {\n",
       "        text-align: right;\n",
       "    }\n",
       "</style>\n",
       "<table border=\"1\" class=\"dataframe\">\n",
       "  <thead>\n",
       "    <tr style=\"text-align: right;\">\n",
       "      <th></th>\n",
       "      <th>Company_Brand</th>\n",
       "      <th>Founded</th>\n",
       "      <th>HeadQuarter</th>\n",
       "      <th>Sector</th>\n",
       "      <th>What_it_does</th>\n",
       "      <th>Founders</th>\n",
       "      <th>Investor</th>\n",
       "      <th>Amount</th>\n",
       "      <th>Stage</th>\n",
       "      <th>column10</th>\n",
       "    </tr>\n",
       "  </thead>\n",
       "  <tbody>\n",
       "    <tr>\n",
       "      <th>0</th>\n",
       "      <td>Aqgromalin</td>\n",
       "      <td>2019.0</td>\n",
       "      <td>Chennai</td>\n",
       "      <td>AgriTech</td>\n",
       "      <td>Cultivating Ideas for Profit</td>\n",
       "      <td>Prasanna Manogaran, Bharani C L</td>\n",
       "      <td>Angel investors</td>\n",
       "      <td>200000.0</td>\n",
       "      <td>None</td>\n",
       "      <td>None</td>\n",
       "    </tr>\n",
       "    <tr>\n",
       "      <th>1</th>\n",
       "      <td>Krayonnz</td>\n",
       "      <td>2019.0</td>\n",
       "      <td>Bangalore</td>\n",
       "      <td>EdTech</td>\n",
       "      <td>An academy-guardian-scholar centric ecosystem ...</td>\n",
       "      <td>Saurabh Dixit, Gurudutt Upadhyay</td>\n",
       "      <td>GSF Accelerator</td>\n",
       "      <td>100000.0</td>\n",
       "      <td>Pre-seed</td>\n",
       "      <td>None</td>\n",
       "    </tr>\n",
       "    <tr>\n",
       "      <th>2</th>\n",
       "      <td>PadCare Labs</td>\n",
       "      <td>2018.0</td>\n",
       "      <td>Pune</td>\n",
       "      <td>Hygiene management</td>\n",
       "      <td>Converting bio-hazardous waste to harmless waste</td>\n",
       "      <td>Ajinkya Dhariya</td>\n",
       "      <td>Venture Center</td>\n",
       "      <td>NaN</td>\n",
       "      <td>Pre-seed</td>\n",
       "      <td>None</td>\n",
       "    </tr>\n",
       "    <tr>\n",
       "      <th>3</th>\n",
       "      <td>NCOME</td>\n",
       "      <td>2020.0</td>\n",
       "      <td>New Delhi</td>\n",
       "      <td>Escrow</td>\n",
       "      <td>Escrow-as-a-service platform</td>\n",
       "      <td>Ritesh Tiwari</td>\n",
       "      <td>Venture Catalysts, PointOne Capital</td>\n",
       "      <td>400000.0</td>\n",
       "      <td>None</td>\n",
       "      <td>None</td>\n",
       "    </tr>\n",
       "    <tr>\n",
       "      <th>4</th>\n",
       "      <td>Gramophone</td>\n",
       "      <td>2016.0</td>\n",
       "      <td>Indore</td>\n",
       "      <td>AgriTech</td>\n",
       "      <td>Gramophone is an AgTech platform enabling acce...</td>\n",
       "      <td>Ashish Rajan Singh, Harshit Gupta, Nishant Mah...</td>\n",
       "      <td>Siana Capital Management, Info Edge</td>\n",
       "      <td>340000.0</td>\n",
       "      <td>None</td>\n",
       "      <td>None</td>\n",
       "    </tr>\n",
       "    <tr>\n",
       "      <th>5</th>\n",
       "      <td>qZense</td>\n",
       "      <td>2019.0</td>\n",
       "      <td>Bangalore</td>\n",
       "      <td>AgriTech</td>\n",
       "      <td>qZense Labs is building the next-generation Io...</td>\n",
       "      <td>Rubal Chib, Dr Srishti Batra</td>\n",
       "      <td>Venture Catalysts, 9Unicorns Accelerator Fund</td>\n",
       "      <td>600000.0</td>\n",
       "      <td>Seed</td>\n",
       "      <td>None</td>\n",
       "    </tr>\n",
       "    <tr>\n",
       "      <th>6</th>\n",
       "      <td>MyClassboard</td>\n",
       "      <td>2008.0</td>\n",
       "      <td>Hyderabad</td>\n",
       "      <td>EdTech</td>\n",
       "      <td>MyClassboard is a full-fledged School / Colleg...</td>\n",
       "      <td>Ajay Sakhamuri</td>\n",
       "      <td>ICICI Bank.</td>\n",
       "      <td>600000.0</td>\n",
       "      <td>Pre-series A</td>\n",
       "      <td>None</td>\n",
       "    </tr>\n",
       "    <tr>\n",
       "      <th>7</th>\n",
       "      <td>Metvy</td>\n",
       "      <td>2018.0</td>\n",
       "      <td>Gurgaon</td>\n",
       "      <td>Networking platform</td>\n",
       "      <td>AI driven networking platform for individuals ...</td>\n",
       "      <td>Shawrya Mehrotra</td>\n",
       "      <td>HostelFund</td>\n",
       "      <td>NaN</td>\n",
       "      <td>Pre-series</td>\n",
       "      <td>None</td>\n",
       "    </tr>\n",
       "    <tr>\n",
       "      <th>8</th>\n",
       "      <td>Rupeek</td>\n",
       "      <td>2015.0</td>\n",
       "      <td>Bangalore</td>\n",
       "      <td>FinTech</td>\n",
       "      <td>Rupeek is an online lending platform that spec...</td>\n",
       "      <td>Amar Prabhu, Ashwin Soni, Sumit Maniyar</td>\n",
       "      <td>KB Investment, Bertelsmann India Investments</td>\n",
       "      <td>45000000.0</td>\n",
       "      <td>Series C</td>\n",
       "      <td>None</td>\n",
       "    </tr>\n",
       "    <tr>\n",
       "      <th>9</th>\n",
       "      <td>Gig India</td>\n",
       "      <td>2017.0</td>\n",
       "      <td>Pune</td>\n",
       "      <td>Crowdsourcing</td>\n",
       "      <td>GigIndia is a marketplace that provides on-dem...</td>\n",
       "      <td>Aditya Shirole, Sahil Sharma</td>\n",
       "      <td>Shantanu Deshpande, Subramaniam Ramadorai</td>\n",
       "      <td>1000000.0</td>\n",
       "      <td>Pre-series A</td>\n",
       "      <td>None</td>\n",
       "    </tr>\n",
       "  </tbody>\n",
       "</table>\n",
       "</div>"
      ],
      "text/plain": [
       "  Company_Brand  Founded HeadQuarter               Sector  \\\n",
       "0    Aqgromalin   2019.0     Chennai             AgriTech   \n",
       "1      Krayonnz   2019.0   Bangalore               EdTech   \n",
       "2  PadCare Labs   2018.0        Pune   Hygiene management   \n",
       "3         NCOME   2020.0   New Delhi               Escrow   \n",
       "4    Gramophone   2016.0      Indore             AgriTech   \n",
       "5        qZense   2019.0   Bangalore             AgriTech   \n",
       "6  MyClassboard   2008.0   Hyderabad               EdTech   \n",
       "7         Metvy   2018.0     Gurgaon  Networking platform   \n",
       "8        Rupeek   2015.0   Bangalore              FinTech   \n",
       "9     Gig India   2017.0        Pune        Crowdsourcing   \n",
       "\n",
       "                                        What_it_does  \\\n",
       "0                       Cultivating Ideas for Profit   \n",
       "1  An academy-guardian-scholar centric ecosystem ...   \n",
       "2   Converting bio-hazardous waste to harmless waste   \n",
       "3                       Escrow-as-a-service platform   \n",
       "4  Gramophone is an AgTech platform enabling acce...   \n",
       "5  qZense Labs is building the next-generation Io...   \n",
       "6  MyClassboard is a full-fledged School / Colleg...   \n",
       "7  AI driven networking platform for individuals ...   \n",
       "8  Rupeek is an online lending platform that spec...   \n",
       "9  GigIndia is a marketplace that provides on-dem...   \n",
       "\n",
       "                                            Founders  \\\n",
       "0                    Prasanna Manogaran, Bharani C L   \n",
       "1                   Saurabh Dixit, Gurudutt Upadhyay   \n",
       "2                                    Ajinkya Dhariya   \n",
       "3                                      Ritesh Tiwari   \n",
       "4  Ashish Rajan Singh, Harshit Gupta, Nishant Mah...   \n",
       "5                       Rubal Chib, Dr Srishti Batra   \n",
       "6                                     Ajay Sakhamuri   \n",
       "7                                   Shawrya Mehrotra   \n",
       "8            Amar Prabhu, Ashwin Soni, Sumit Maniyar   \n",
       "9                       Aditya Shirole, Sahil Sharma   \n",
       "\n",
       "                                        Investor      Amount         Stage  \\\n",
       "0                                Angel investors    200000.0          None   \n",
       "1                                GSF Accelerator    100000.0      Pre-seed   \n",
       "2                                 Venture Center         NaN      Pre-seed   \n",
       "3            Venture Catalysts, PointOne Capital    400000.0          None   \n",
       "4            Siana Capital Management, Info Edge    340000.0          None   \n",
       "5  Venture Catalysts, 9Unicorns Accelerator Fund    600000.0          Seed   \n",
       "6                                    ICICI Bank.    600000.0  Pre-series A   \n",
       "7                                     HostelFund         NaN    Pre-series   \n",
       "8   KB Investment, Bertelsmann India Investments  45000000.0      Series C   \n",
       "9      Shantanu Deshpande, Subramaniam Ramadorai   1000000.0  Pre-series A   \n",
       "\n",
       "  column10  \n",
       "0     None  \n",
       "1     None  \n",
       "2     None  \n",
       "3     None  \n",
       "4     None  \n",
       "5     None  \n",
       "6     None  \n",
       "7     None  \n",
       "8     None  \n",
       "9     None  "
      ]
     },
     "execution_count": 9,
     "metadata": {},
     "output_type": "execute_result"
    }
   ],
   "source": [
    "df_2020.head(10)"
   ]
  },
  {
   "cell_type": "code",
   "execution_count": 10,
   "metadata": {},
   "outputs": [],
   "source": [
    "query2021 = \"select * from dbo.LP1_startup_funding2021\"\n",
    "\n",
    "\n",
    "\n",
    "\n",
    "df_2021 = pd.read_sql(query2021, connection)"
   ]
  },
  {
   "cell_type": "code",
   "execution_count": 11,
   "metadata": {},
   "outputs": [
    {
     "data": {
      "text/html": [
       "<div>\n",
       "<style scoped>\n",
       "    .dataframe tbody tr th:only-of-type {\n",
       "        vertical-align: middle;\n",
       "    }\n",
       "\n",
       "    .dataframe tbody tr th {\n",
       "        vertical-align: top;\n",
       "    }\n",
       "\n",
       "    .dataframe thead th {\n",
       "        text-align: right;\n",
       "    }\n",
       "</style>\n",
       "<table border=\"1\" class=\"dataframe\">\n",
       "  <thead>\n",
       "    <tr style=\"text-align: right;\">\n",
       "      <th></th>\n",
       "      <th>Company_Brand</th>\n",
       "      <th>Founded</th>\n",
       "      <th>HeadQuarter</th>\n",
       "      <th>Sector</th>\n",
       "      <th>What_it_does</th>\n",
       "      <th>Founders</th>\n",
       "      <th>Investor</th>\n",
       "      <th>Amount</th>\n",
       "      <th>Stage</th>\n",
       "    </tr>\n",
       "  </thead>\n",
       "  <tbody>\n",
       "    <tr>\n",
       "      <th>0</th>\n",
       "      <td>Unbox Robotics</td>\n",
       "      <td>2019.0</td>\n",
       "      <td>Bangalore</td>\n",
       "      <td>AI startup</td>\n",
       "      <td>Unbox Robotics builds on-demand AI-driven ware...</td>\n",
       "      <td>Pramod Ghadge, Shahid Memon</td>\n",
       "      <td>BEENEXT, Entrepreneur First</td>\n",
       "      <td>$1,200,000</td>\n",
       "      <td>Pre-series A</td>\n",
       "    </tr>\n",
       "    <tr>\n",
       "      <th>1</th>\n",
       "      <td>upGrad</td>\n",
       "      <td>2015.0</td>\n",
       "      <td>Mumbai</td>\n",
       "      <td>EdTech</td>\n",
       "      <td>UpGrad is an online higher education platform.</td>\n",
       "      <td>Mayank Kumar, Phalgun Kompalli, Ravijot Chugh,...</td>\n",
       "      <td>Unilazer Ventures, IIFL Asset Management</td>\n",
       "      <td>$120,000,000</td>\n",
       "      <td>None</td>\n",
       "    </tr>\n",
       "    <tr>\n",
       "      <th>2</th>\n",
       "      <td>Lead School</td>\n",
       "      <td>2012.0</td>\n",
       "      <td>Mumbai</td>\n",
       "      <td>EdTech</td>\n",
       "      <td>LEAD School offers technology based school tra...</td>\n",
       "      <td>Smita Deorah, Sumeet Mehta</td>\n",
       "      <td>GSV Ventures, Westbridge Capital</td>\n",
       "      <td>$30,000,000</td>\n",
       "      <td>Series D</td>\n",
       "    </tr>\n",
       "    <tr>\n",
       "      <th>3</th>\n",
       "      <td>Bizongo</td>\n",
       "      <td>2015.0</td>\n",
       "      <td>Mumbai</td>\n",
       "      <td>B2B E-commerce</td>\n",
       "      <td>Bizongo is a business-to-business online marke...</td>\n",
       "      <td>Aniket Deb, Ankit Tomar, Sachin Agrawal</td>\n",
       "      <td>CDC Group, IDG Capital</td>\n",
       "      <td>$51,000,000</td>\n",
       "      <td>Series C</td>\n",
       "    </tr>\n",
       "    <tr>\n",
       "      <th>4</th>\n",
       "      <td>FypMoney</td>\n",
       "      <td>2021.0</td>\n",
       "      <td>Gurugram</td>\n",
       "      <td>FinTech</td>\n",
       "      <td>FypMoney is Digital NEO Bank for Teenagers, em...</td>\n",
       "      <td>Kapil Banwari</td>\n",
       "      <td>Liberatha Kallat, Mukesh Yadav, Dinesh Nagpal</td>\n",
       "      <td>$2,000,000</td>\n",
       "      <td>Seed</td>\n",
       "    </tr>\n",
       "  </tbody>\n",
       "</table>\n",
       "</div>"
      ],
      "text/plain": [
       "    Company_Brand  Founded HeadQuarter          Sector  \\\n",
       "0  Unbox Robotics   2019.0   Bangalore      AI startup   \n",
       "1          upGrad   2015.0      Mumbai          EdTech   \n",
       "2     Lead School   2012.0      Mumbai          EdTech   \n",
       "3         Bizongo   2015.0      Mumbai  B2B E-commerce   \n",
       "4        FypMoney   2021.0    Gurugram         FinTech   \n",
       "\n",
       "                                        What_it_does  \\\n",
       "0  Unbox Robotics builds on-demand AI-driven ware...   \n",
       "1     UpGrad is an online higher education platform.   \n",
       "2  LEAD School offers technology based school tra...   \n",
       "3  Bizongo is a business-to-business online marke...   \n",
       "4  FypMoney is Digital NEO Bank for Teenagers, em...   \n",
       "\n",
       "                                            Founders  \\\n",
       "0                        Pramod Ghadge, Shahid Memon   \n",
       "1  Mayank Kumar, Phalgun Kompalli, Ravijot Chugh,...   \n",
       "2                         Smita Deorah, Sumeet Mehta   \n",
       "3            Aniket Deb, Ankit Tomar, Sachin Agrawal   \n",
       "4                                      Kapil Banwari   \n",
       "\n",
       "                                        Investor        Amount         Stage  \n",
       "0                    BEENEXT, Entrepreneur First    $1,200,000  Pre-series A  \n",
       "1       Unilazer Ventures, IIFL Asset Management  $120,000,000          None  \n",
       "2               GSV Ventures, Westbridge Capital   $30,000,000      Series D  \n",
       "3                         CDC Group, IDG Capital   $51,000,000      Series C  \n",
       "4  Liberatha Kallat, Mukesh Yadav, Dinesh Nagpal    $2,000,000          Seed  "
      ]
     },
     "execution_count": 11,
     "metadata": {},
     "output_type": "execute_result"
    }
   ],
   "source": [
    "df_2021.head()"
   ]
  },
  {
   "cell_type": "code",
   "execution_count": 12,
   "metadata": {},
   "outputs": [],
   "source": [
    "df_2018 = pd.read_csv(\"startup_funding2018.csv\")\n"
   ]
  },
  {
   "cell_type": "code",
   "execution_count": 13,
   "metadata": {},
   "outputs": [
    {
     "data": {
      "text/html": [
       "<div>\n",
       "<style scoped>\n",
       "    .dataframe tbody tr th:only-of-type {\n",
       "        vertical-align: middle;\n",
       "    }\n",
       "\n",
       "    .dataframe tbody tr th {\n",
       "        vertical-align: top;\n",
       "    }\n",
       "\n",
       "    .dataframe thead th {\n",
       "        text-align: right;\n",
       "    }\n",
       "</style>\n",
       "<table border=\"1\" class=\"dataframe\">\n",
       "  <thead>\n",
       "    <tr style=\"text-align: right;\">\n",
       "      <th></th>\n",
       "      <th>Company Name</th>\n",
       "      <th>Industry</th>\n",
       "      <th>Round/Series</th>\n",
       "      <th>Amount</th>\n",
       "      <th>Location</th>\n",
       "      <th>About Company</th>\n",
       "    </tr>\n",
       "  </thead>\n",
       "  <tbody>\n",
       "    <tr>\n",
       "      <th>0</th>\n",
       "      <td>TheCollegeFever</td>\n",
       "      <td>Brand Marketing, Event Promotion, Marketing, S...</td>\n",
       "      <td>Seed</td>\n",
       "      <td>250000</td>\n",
       "      <td>Bangalore, Karnataka, India</td>\n",
       "      <td>TheCollegeFever is a hub for fun, fiesta and f...</td>\n",
       "    </tr>\n",
       "    <tr>\n",
       "      <th>1</th>\n",
       "      <td>Happy Cow Dairy</td>\n",
       "      <td>Agriculture, Farming</td>\n",
       "      <td>Seed</td>\n",
       "      <td>₹40,000,000</td>\n",
       "      <td>Mumbai, Maharashtra, India</td>\n",
       "      <td>A startup which aggregates milk from dairy far...</td>\n",
       "    </tr>\n",
       "    <tr>\n",
       "      <th>2</th>\n",
       "      <td>MyLoanCare</td>\n",
       "      <td>Credit, Financial Services, Lending, Marketplace</td>\n",
       "      <td>Series A</td>\n",
       "      <td>₹65,000,000</td>\n",
       "      <td>Gurgaon, Haryana, India</td>\n",
       "      <td>Leading Online Loans Marketplace in India</td>\n",
       "    </tr>\n",
       "    <tr>\n",
       "      <th>3</th>\n",
       "      <td>PayMe India</td>\n",
       "      <td>Financial Services, FinTech</td>\n",
       "      <td>Angel</td>\n",
       "      <td>2000000</td>\n",
       "      <td>Noida, Uttar Pradesh, India</td>\n",
       "      <td>PayMe India is an innovative FinTech organizat...</td>\n",
       "    </tr>\n",
       "    <tr>\n",
       "      <th>4</th>\n",
       "      <td>Eunimart</td>\n",
       "      <td>E-Commerce Platforms, Retail, SaaS</td>\n",
       "      <td>Seed</td>\n",
       "      <td>—</td>\n",
       "      <td>Hyderabad, Andhra Pradesh, India</td>\n",
       "      <td>Eunimart is a one stop solution for merchants ...</td>\n",
       "    </tr>\n",
       "  </tbody>\n",
       "</table>\n",
       "</div>"
      ],
      "text/plain": [
       "      Company Name                                           Industry  \\\n",
       "0  TheCollegeFever  Brand Marketing, Event Promotion, Marketing, S...   \n",
       "1  Happy Cow Dairy                               Agriculture, Farming   \n",
       "2       MyLoanCare   Credit, Financial Services, Lending, Marketplace   \n",
       "3      PayMe India                        Financial Services, FinTech   \n",
       "4         Eunimart                 E-Commerce Platforms, Retail, SaaS   \n",
       "\n",
       "  Round/Series       Amount                          Location  \\\n",
       "0         Seed       250000       Bangalore, Karnataka, India   \n",
       "1         Seed  ₹40,000,000        Mumbai, Maharashtra, India   \n",
       "2     Series A  ₹65,000,000           Gurgaon, Haryana, India   \n",
       "3        Angel      2000000       Noida, Uttar Pradesh, India   \n",
       "4         Seed            —  Hyderabad, Andhra Pradesh, India   \n",
       "\n",
       "                                       About Company  \n",
       "0  TheCollegeFever is a hub for fun, fiesta and f...  \n",
       "1  A startup which aggregates milk from dairy far...  \n",
       "2          Leading Online Loans Marketplace in India  \n",
       "3  PayMe India is an innovative FinTech organizat...  \n",
       "4  Eunimart is a one stop solution for merchants ...  "
      ]
     },
     "execution_count": 13,
     "metadata": {},
     "output_type": "execute_result"
    }
   ],
   "source": [
    "df_2018.head()"
   ]
  },
  {
   "cell_type": "code",
   "execution_count": 14,
   "metadata": {},
   "outputs": [],
   "source": [
    "df_2019 = pd.read_csv(\"startup_funding2019.csv\")\n"
   ]
  },
  {
   "cell_type": "code",
   "execution_count": 15,
   "metadata": {},
   "outputs": [
    {
     "data": {
      "text/html": [
       "<div>\n",
       "<style scoped>\n",
       "    .dataframe tbody tr th:only-of-type {\n",
       "        vertical-align: middle;\n",
       "    }\n",
       "\n",
       "    .dataframe tbody tr th {\n",
       "        vertical-align: top;\n",
       "    }\n",
       "\n",
       "    .dataframe thead th {\n",
       "        text-align: right;\n",
       "    }\n",
       "</style>\n",
       "<table border=\"1\" class=\"dataframe\">\n",
       "  <thead>\n",
       "    <tr style=\"text-align: right;\">\n",
       "      <th></th>\n",
       "      <th>Company/Brand</th>\n",
       "      <th>Founded</th>\n",
       "      <th>HeadQuarter</th>\n",
       "      <th>Sector</th>\n",
       "      <th>What it does</th>\n",
       "      <th>Founders</th>\n",
       "      <th>Investor</th>\n",
       "      <th>Amount($)</th>\n",
       "      <th>Stage</th>\n",
       "    </tr>\n",
       "  </thead>\n",
       "  <tbody>\n",
       "    <tr>\n",
       "      <th>0</th>\n",
       "      <td>Bombay Shaving</td>\n",
       "      <td>NaN</td>\n",
       "      <td>NaN</td>\n",
       "      <td>Ecommerce</td>\n",
       "      <td>Provides a range of male grooming products</td>\n",
       "      <td>Shantanu Deshpande</td>\n",
       "      <td>Sixth Sense Ventures</td>\n",
       "      <td>$6,300,000</td>\n",
       "      <td>NaN</td>\n",
       "    </tr>\n",
       "    <tr>\n",
       "      <th>1</th>\n",
       "      <td>Ruangguru</td>\n",
       "      <td>2014.0</td>\n",
       "      <td>Mumbai</td>\n",
       "      <td>Edtech</td>\n",
       "      <td>A learning platform that provides topic-based ...</td>\n",
       "      <td>Adamas Belva Syah Devara, Iman Usman.</td>\n",
       "      <td>General Atlantic</td>\n",
       "      <td>$150,000,000</td>\n",
       "      <td>Series C</td>\n",
       "    </tr>\n",
       "    <tr>\n",
       "      <th>2</th>\n",
       "      <td>Eduisfun</td>\n",
       "      <td>NaN</td>\n",
       "      <td>Mumbai</td>\n",
       "      <td>Edtech</td>\n",
       "      <td>It aims to make learning fun via games.</td>\n",
       "      <td>Jatin Solanki</td>\n",
       "      <td>Deepak Parekh, Amitabh Bachchan, Piyush Pandey</td>\n",
       "      <td>$28,000,000</td>\n",
       "      <td>Fresh funding</td>\n",
       "    </tr>\n",
       "    <tr>\n",
       "      <th>3</th>\n",
       "      <td>HomeLane</td>\n",
       "      <td>2014.0</td>\n",
       "      <td>Chennai</td>\n",
       "      <td>Interior design</td>\n",
       "      <td>Provides interior designing solutions</td>\n",
       "      <td>Srikanth Iyer, Rama Harinath</td>\n",
       "      <td>Evolvence India Fund (EIF), Pidilite Group, FJ...</td>\n",
       "      <td>$30,000,000</td>\n",
       "      <td>Series D</td>\n",
       "    </tr>\n",
       "    <tr>\n",
       "      <th>4</th>\n",
       "      <td>Nu Genes</td>\n",
       "      <td>2004.0</td>\n",
       "      <td>Telangana</td>\n",
       "      <td>AgriTech</td>\n",
       "      <td>It is a seed company engaged in production, pr...</td>\n",
       "      <td>Narayana Reddy Punyala</td>\n",
       "      <td>Innovation in Food and Agriculture (IFA)</td>\n",
       "      <td>$6,000,000</td>\n",
       "      <td>NaN</td>\n",
       "    </tr>\n",
       "  </tbody>\n",
       "</table>\n",
       "</div>"
      ],
      "text/plain": [
       "    Company/Brand  Founded HeadQuarter           Sector  \\\n",
       "0  Bombay Shaving      NaN         NaN        Ecommerce   \n",
       "1       Ruangguru   2014.0      Mumbai           Edtech   \n",
       "2        Eduisfun      NaN      Mumbai           Edtech   \n",
       "3        HomeLane   2014.0     Chennai  Interior design   \n",
       "4        Nu Genes   2004.0   Telangana         AgriTech   \n",
       "\n",
       "                                        What it does  \\\n",
       "0         Provides a range of male grooming products   \n",
       "1  A learning platform that provides topic-based ...   \n",
       "2            It aims to make learning fun via games.   \n",
       "3              Provides interior designing solutions   \n",
       "4  It is a seed company engaged in production, pr...   \n",
       "\n",
       "                                Founders  \\\n",
       "0                     Shantanu Deshpande   \n",
       "1  Adamas Belva Syah Devara, Iman Usman.   \n",
       "2                          Jatin Solanki   \n",
       "3           Srikanth Iyer, Rama Harinath   \n",
       "4                 Narayana Reddy Punyala   \n",
       "\n",
       "                                            Investor     Amount($)  \\\n",
       "0                               Sixth Sense Ventures    $6,300,000   \n",
       "1                                   General Atlantic  $150,000,000   \n",
       "2     Deepak Parekh, Amitabh Bachchan, Piyush Pandey   $28,000,000   \n",
       "3  Evolvence India Fund (EIF), Pidilite Group, FJ...   $30,000,000   \n",
       "4           Innovation in Food and Agriculture (IFA)    $6,000,000   \n",
       "\n",
       "           Stage  \n",
       "0            NaN  \n",
       "1       Series C  \n",
       "2  Fresh funding  \n",
       "3       Series D  \n",
       "4            NaN  "
      ]
     },
     "execution_count": 15,
     "metadata": {},
     "output_type": "execute_result"
    }
   ],
   "source": [
    "df_2019.head()"
   ]
  },
  {
   "cell_type": "code",
   "execution_count": 16,
   "metadata": {},
   "outputs": [
    {
     "data": {
      "text/plain": [
       "((1055, 10), (1209, 9), (526, 6), (89, 9))"
      ]
     },
     "execution_count": 16,
     "metadata": {},
     "output_type": "execute_result"
    }
   ],
   "source": [
    "df_2020.shape, df_2021.shape, df_2018.shape, df_2019.shape"
   ]
  },
  {
   "cell_type": "code",
   "execution_count": 17,
   "metadata": {},
   "outputs": [
    {
     "name": "stdout",
     "output_type": "stream",
     "text": [
      "<class 'pandas.core.frame.DataFrame'>\n",
      "RangeIndex: 1055 entries, 0 to 1054\n",
      "Data columns (total 10 columns):\n",
      " #   Column         Non-Null Count  Dtype  \n",
      "---  ------         --------------  -----  \n",
      " 0   Company_Brand  1055 non-null   object \n",
      " 1   Founded        842 non-null    float64\n",
      " 2   HeadQuarter    961 non-null    object \n",
      " 3   Sector         1042 non-null   object \n",
      " 4   What_it_does   1055 non-null   object \n",
      " 5   Founders       1043 non-null   object \n",
      " 6   Investor       1017 non-null   object \n",
      " 7   Amount         801 non-null    float64\n",
      " 8   Stage          591 non-null    object \n",
      " 9   column10       2 non-null      object \n",
      "dtypes: float64(2), object(8)\n",
      "memory usage: 82.5+ KB\n"
     ]
    }
   ],
   "source": [
    "df_2020.info() "
   ]
  },
  {
   "cell_type": "code",
   "execution_count": 18,
   "metadata": {},
   "outputs": [
    {
     "name": "stdout",
     "output_type": "stream",
     "text": [
      "<class 'pandas.core.frame.DataFrame'>\n",
      "RangeIndex: 1209 entries, 0 to 1208\n",
      "Data columns (total 9 columns):\n",
      " #   Column         Non-Null Count  Dtype  \n",
      "---  ------         --------------  -----  \n",
      " 0   Company_Brand  1209 non-null   object \n",
      " 1   Founded        1208 non-null   float64\n",
      " 2   HeadQuarter    1208 non-null   object \n",
      " 3   Sector         1209 non-null   object \n",
      " 4   What_it_does   1209 non-null   object \n",
      " 5   Founders       1205 non-null   object \n",
      " 6   Investor       1147 non-null   object \n",
      " 7   Amount         1206 non-null   object \n",
      " 8   Stage          781 non-null    object \n",
      "dtypes: float64(1), object(8)\n",
      "memory usage: 85.1+ KB\n"
     ]
    }
   ],
   "source": [
    "df_2021.info()"
   ]
  },
  {
   "cell_type": "code",
   "execution_count": 19,
   "metadata": {},
   "outputs": [
    {
     "name": "stdout",
     "output_type": "stream",
     "text": [
      "<class 'pandas.core.frame.DataFrame'>\n",
      "RangeIndex: 526 entries, 0 to 525\n",
      "Data columns (total 6 columns):\n",
      " #   Column         Non-Null Count  Dtype \n",
      "---  ------         --------------  ----- \n",
      " 0   Company Name   526 non-null    object\n",
      " 1   Industry       526 non-null    object\n",
      " 2   Round/Series   526 non-null    object\n",
      " 3   Amount         526 non-null    object\n",
      " 4   Location       526 non-null    object\n",
      " 5   About Company  526 non-null    object\n",
      "dtypes: object(6)\n",
      "memory usage: 24.8+ KB\n"
     ]
    }
   ],
   "source": [
    "df_2018.info()"
   ]
  },
  {
   "cell_type": "code",
   "execution_count": 20,
   "metadata": {},
   "outputs": [
    {
     "name": "stdout",
     "output_type": "stream",
     "text": [
      "<class 'pandas.core.frame.DataFrame'>\n",
      "RangeIndex: 89 entries, 0 to 88\n",
      "Data columns (total 9 columns):\n",
      " #   Column         Non-Null Count  Dtype  \n",
      "---  ------         --------------  -----  \n",
      " 0   Company/Brand  89 non-null     object \n",
      " 1   Founded        60 non-null     float64\n",
      " 2   HeadQuarter    70 non-null     object \n",
      " 3   Sector         84 non-null     object \n",
      " 4   What it does   89 non-null     object \n",
      " 5   Founders       86 non-null     object \n",
      " 6   Investor       89 non-null     object \n",
      " 7   Amount($)      89 non-null     object \n",
      " 8   Stage          43 non-null     object \n",
      "dtypes: float64(1), object(8)\n",
      "memory usage: 6.4+ KB\n"
     ]
    }
   ],
   "source": [
    "df_2019.info()"
   ]
  },
  {
   "cell_type": "code",
   "execution_count": 21,
   "metadata": {},
   "outputs": [],
   "source": [
    "df_2020.to_csv('startup_function2020.csv', index = False)"
   ]
  },
  {
   "cell_type": "code",
   "execution_count": 22,
   "metadata": {},
   "outputs": [],
   "source": [
    "df_2021.to_csv('startup_function2021.csv', index = False)"
   ]
  },
  {
   "attachments": {},
   "cell_type": "markdown",
   "metadata": {},
   "source": [
    "2.1  Null hypothesis: The location os a business doesn't affeact the amount of funding received from investors.\n",
    "Alternate hypothesis: The location of a business significantly affects the amount of funding issued by investors \n",
    "    2.1.1 To test this hypothesis we will examine the distribution of start_ups across cities and deduce which cities have the most highly funded start_ups "
   ]
  },
  {
   "attachments": {},
   "cell_type": "markdown",
   "metadata": {},
   "source": [
    "2.2 The formulated question for our analysis\n",
    "1. To what extend do cities influence funding?\n",
    "2. which industries are preferred by investors for funding?\n",
    "3. What is the typical funding amount the startups receive in India?\n",
    "4. How does the type of industry affect how the startup is funded?\n",
    "5. Average number of fund received each year by the companies?\n"
   ]
  },
  {
   "attachments": {},
   "cell_type": "markdown",
   "metadata": {},
   "source": [
    "3.0 Data Praparation "
   ]
  },
  {
   "cell_type": "code",
   "execution_count": 23,
   "metadata": {},
   "outputs": [],
   "source": [
    "#Cleaning 2018_data \n",
    "#load the data \n",
    "df_2018 = pd.read_csv('startup_funding2018.csv')"
   ]
  },
  {
   "cell_type": "code",
   "execution_count": 24,
   "metadata": {},
   "outputs": [
    {
     "data": {
      "text/html": [
       "<div>\n",
       "<style scoped>\n",
       "    .dataframe tbody tr th:only-of-type {\n",
       "        vertical-align: middle;\n",
       "    }\n",
       "\n",
       "    .dataframe tbody tr th {\n",
       "        vertical-align: top;\n",
       "    }\n",
       "\n",
       "    .dataframe thead th {\n",
       "        text-align: right;\n",
       "    }\n",
       "</style>\n",
       "<table border=\"1\" class=\"dataframe\">\n",
       "  <thead>\n",
       "    <tr style=\"text-align: right;\">\n",
       "      <th></th>\n",
       "      <th>Company Name</th>\n",
       "      <th>Industry</th>\n",
       "      <th>Round/Series</th>\n",
       "      <th>Amount</th>\n",
       "      <th>Location</th>\n",
       "      <th>About Company</th>\n",
       "    </tr>\n",
       "  </thead>\n",
       "  <tbody>\n",
       "    <tr>\n",
       "      <th>0</th>\n",
       "      <td>TheCollegeFever</td>\n",
       "      <td>Brand Marketing, Event Promotion, Marketing, S...</td>\n",
       "      <td>Seed</td>\n",
       "      <td>250000</td>\n",
       "      <td>Bangalore, Karnataka, India</td>\n",
       "      <td>TheCollegeFever is a hub for fun, fiesta and f...</td>\n",
       "    </tr>\n",
       "    <tr>\n",
       "      <th>1</th>\n",
       "      <td>Happy Cow Dairy</td>\n",
       "      <td>Agriculture, Farming</td>\n",
       "      <td>Seed</td>\n",
       "      <td>₹40,000,000</td>\n",
       "      <td>Mumbai, Maharashtra, India</td>\n",
       "      <td>A startup which aggregates milk from dairy far...</td>\n",
       "    </tr>\n",
       "    <tr>\n",
       "      <th>2</th>\n",
       "      <td>MyLoanCare</td>\n",
       "      <td>Credit, Financial Services, Lending, Marketplace</td>\n",
       "      <td>Series A</td>\n",
       "      <td>₹65,000,000</td>\n",
       "      <td>Gurgaon, Haryana, India</td>\n",
       "      <td>Leading Online Loans Marketplace in India</td>\n",
       "    </tr>\n",
       "    <tr>\n",
       "      <th>3</th>\n",
       "      <td>PayMe India</td>\n",
       "      <td>Financial Services, FinTech</td>\n",
       "      <td>Angel</td>\n",
       "      <td>2000000</td>\n",
       "      <td>Noida, Uttar Pradesh, India</td>\n",
       "      <td>PayMe India is an innovative FinTech organizat...</td>\n",
       "    </tr>\n",
       "    <tr>\n",
       "      <th>4</th>\n",
       "      <td>Eunimart</td>\n",
       "      <td>E-Commerce Platforms, Retail, SaaS</td>\n",
       "      <td>Seed</td>\n",
       "      <td>—</td>\n",
       "      <td>Hyderabad, Andhra Pradesh, India</td>\n",
       "      <td>Eunimart is a one stop solution for merchants ...</td>\n",
       "    </tr>\n",
       "  </tbody>\n",
       "</table>\n",
       "</div>"
      ],
      "text/plain": [
       "      Company Name                                           Industry  \\\n",
       "0  TheCollegeFever  Brand Marketing, Event Promotion, Marketing, S...   \n",
       "1  Happy Cow Dairy                               Agriculture, Farming   \n",
       "2       MyLoanCare   Credit, Financial Services, Lending, Marketplace   \n",
       "3      PayMe India                        Financial Services, FinTech   \n",
       "4         Eunimart                 E-Commerce Platforms, Retail, SaaS   \n",
       "\n",
       "  Round/Series       Amount                          Location  \\\n",
       "0         Seed       250000       Bangalore, Karnataka, India   \n",
       "1         Seed  ₹40,000,000        Mumbai, Maharashtra, India   \n",
       "2     Series A  ₹65,000,000           Gurgaon, Haryana, India   \n",
       "3        Angel      2000000       Noida, Uttar Pradesh, India   \n",
       "4         Seed            —  Hyderabad, Andhra Pradesh, India   \n",
       "\n",
       "                                       About Company  \n",
       "0  TheCollegeFever is a hub for fun, fiesta and f...  \n",
       "1  A startup which aggregates milk from dairy far...  \n",
       "2          Leading Online Loans Marketplace in India  \n",
       "3  PayMe India is an innovative FinTech organizat...  \n",
       "4  Eunimart is a one stop solution for merchants ...  "
      ]
     },
     "execution_count": 24,
     "metadata": {},
     "output_type": "execute_result"
    }
   ],
   "source": [
    "df_2018.head(5)"
   ]
  },
  {
   "cell_type": "code",
   "execution_count": 25,
   "metadata": {},
   "outputs": [
    {
     "name": "stdout",
     "output_type": "stream",
     "text": [
      "<class 'pandas.core.frame.DataFrame'>\n",
      "RangeIndex: 526 entries, 0 to 525\n",
      "Data columns (total 6 columns):\n",
      " #   Column         Non-Null Count  Dtype \n",
      "---  ------         --------------  ----- \n",
      " 0   Company Name   526 non-null    object\n",
      " 1   Industry       526 non-null    object\n",
      " 2   Round/Series   526 non-null    object\n",
      " 3   Amount         526 non-null    object\n",
      " 4   Location       526 non-null    object\n",
      " 5   About Company  526 non-null    object\n",
      "dtypes: object(6)\n",
      "memory usage: 24.8+ KB\n"
     ]
    }
   ],
   "source": [
    "df_2018.info()"
   ]
  },
  {
   "cell_type": "code",
   "execution_count": 26,
   "metadata": {},
   "outputs": [
    {
     "data": {
      "text/plain": [
       "Company Name     0\n",
       "Industry         0\n",
       "Round/Series     0\n",
       "Amount           0\n",
       "Location         0\n",
       "About Company    0\n",
       "dtype: int64"
      ]
     },
     "execution_count": 26,
     "metadata": {},
     "output_type": "execute_result"
    }
   ],
   "source": [
    "df_2018.isnull().sum() "
   ]
  },
  {
   "cell_type": "code",
   "execution_count": 27,
   "metadata": {},
   "outputs": [
    {
     "data": {
      "text/plain": [
       "array(['Seed', 'Series A', 'Angel', 'Series B', 'Pre-Seed',\n",
       "       'Private Equity', 'Venture - Series Unknown', 'Grant',\n",
       "       'Debt Financing', 'Post-IPO Debt', 'Series H', 'Series C',\n",
       "       'Series E', 'Corporate Round', 'Undisclosed',\n",
       "       'https://docs.google.com/spreadsheets/d/1x9ziNeaz6auNChIHnMI8U6kS7knTr3byy_YBGfQaoUA/edit#gid=1861303593',\n",
       "       'Series D', 'Secondary Market', 'Post-IPO Equity',\n",
       "       'Non-equity Assistance', 'Funding Round'], dtype=object)"
      ]
     },
     "execution_count": 27,
     "metadata": {},
     "output_type": "execute_result"
    }
   ],
   "source": [
    "#checking the unique value of Round/series\n",
    "df_2018['Round/Series'].unique()"
   ]
  },
  {
   "cell_type": "code",
   "execution_count": 28,
   "metadata": {},
   "outputs": [
    {
     "data": {
      "text/html": [
       "<div>\n",
       "<style scoped>\n",
       "    .dataframe tbody tr th:only-of-type {\n",
       "        vertical-align: middle;\n",
       "    }\n",
       "\n",
       "    .dataframe tbody tr th {\n",
       "        vertical-align: top;\n",
       "    }\n",
       "\n",
       "    .dataframe thead th {\n",
       "        text-align: right;\n",
       "    }\n",
       "</style>\n",
       "<table border=\"1\" class=\"dataframe\">\n",
       "  <thead>\n",
       "    <tr style=\"text-align: right;\">\n",
       "      <th></th>\n",
       "      <th>Company Name</th>\n",
       "      <th>Industry</th>\n",
       "      <th>Round/Series</th>\n",
       "      <th>Amount</th>\n",
       "      <th>Location</th>\n",
       "      <th>About Company</th>\n",
       "    </tr>\n",
       "  </thead>\n",
       "  <tbody>\n",
       "    <tr>\n",
       "      <th>178</th>\n",
       "      <td>BuyForexOnline</td>\n",
       "      <td>Travel</td>\n",
       "      <td>https://docs.google.com/spreadsheets/d/1x9ziNe...</td>\n",
       "      <td>2000000</td>\n",
       "      <td>Bangalore, Karnataka, India</td>\n",
       "      <td>BuyForexOnline.com is India's first completely...</td>\n",
       "    </tr>\n",
       "  </tbody>\n",
       "</table>\n",
       "</div>"
      ],
      "text/plain": [
       "       Company Name Industry  \\\n",
       "178  BuyForexOnline   Travel   \n",
       "\n",
       "                                          Round/Series   Amount  \\\n",
       "178  https://docs.google.com/spreadsheets/d/1x9ziNe...  2000000   \n",
       "\n",
       "                        Location  \\\n",
       "178  Bangalore, Karnataka, India   \n",
       "\n",
       "                                         About Company  \n",
       "178  BuyForexOnline.com is India's first completely...  "
      ]
     },
     "execution_count": 28,
     "metadata": {},
     "output_type": "execute_result"
    }
   ],
   "source": [
    "df_2018[df_2018['Round/Series']=='https://docs.google.com/spreadsheets/d/1x9ziNeaz6auNChIHnMI8U6kS7knTr3byy_YBGfQaoUA/edit#gid=1861303593']"
   ]
  },
  {
   "cell_type": "code",
   "execution_count": 29,
   "metadata": {},
   "outputs": [],
   "source": [
    "#dropping the row 164\n",
    "df_2018=df_2018.drop(index=178)"
   ]
  },
  {
   "cell_type": "code",
   "execution_count": 30,
   "metadata": {},
   "outputs": [
    {
     "data": {
      "text/plain": [
       "array(['Bangalore, Karnataka, India', 'Mumbai, Maharashtra, India',\n",
       "       'Gurgaon, Haryana, India', 'Noida, Uttar Pradesh, India',\n",
       "       'Hyderabad, Andhra Pradesh, India', 'Bengaluru, Karnataka, India',\n",
       "       'Kalkaji, Delhi, India', 'Delhi, Delhi, India', 'India, Asia',\n",
       "       'Hubli, Karnataka, India', 'New Delhi, Delhi, India',\n",
       "       'Chennai, Tamil Nadu, India', 'Mohali, Punjab, India',\n",
       "       'Kolkata, West Bengal, India', 'Pune, Maharashtra, India',\n",
       "       'Jodhpur, Rajasthan, India', 'Kanpur, Uttar Pradesh, India',\n",
       "       'Ahmedabad, Gujarat, India', 'Azadpur, Delhi, India',\n",
       "       'Haryana, Haryana, India', 'Cochin, Kerala, India',\n",
       "       'Faridabad, Haryana, India', 'Jaipur, Rajasthan, India',\n",
       "       'Kota, Rajasthan, India', 'Anand, Gujarat, India',\n",
       "       'Bangalore City, Karnataka, India', 'Belgaum, Karnataka, India',\n",
       "       'Thane, Maharashtra, India', 'Margão, Goa, India',\n",
       "       'Indore, Madhya Pradesh, India', 'Alwar, Rajasthan, India',\n",
       "       'Kannur, Kerala, India', 'Trivandrum, Kerala, India',\n",
       "       'Ernakulam, Kerala, India', 'Kormangala, Karnataka, India',\n",
       "       'Uttar Pradesh, India, Asia', 'Andheri, Maharashtra, India',\n",
       "       'Mylapore, Tamil Nadu, India', 'Ghaziabad, Uttar Pradesh, India',\n",
       "       'Kochi, Kerala, India', 'Powai, Assam, India',\n",
       "       'Guntur, Andhra Pradesh, India', 'Kalpakkam, Tamil Nadu, India',\n",
       "       'Bhopal, Madhya Pradesh, India', 'Coimbatore, Tamil Nadu, India',\n",
       "       'Worli, Maharashtra, India', 'Alleppey, Kerala, India',\n",
       "       'Chandigarh, Chandigarh, India', 'Guindy, Tamil Nadu, India',\n",
       "       'Lucknow, Uttar Pradesh, India'], dtype=object)"
      ]
     },
     "execution_count": 30,
     "metadata": {},
     "output_type": "execute_result"
    }
   ],
   "source": [
    "#checking the unique value of Location\n",
    "df_2018['Location'].unique()"
   ]
  },
  {
   "cell_type": "code",
   "execution_count": 31,
   "metadata": {},
   "outputs": [],
   "source": [
    "#splitting the industry column using the comma\n",
    "df_2018['Location'] = df_2018['Location'].str.split(',').str[0]"
   ]
  },
  {
   "cell_type": "code",
   "execution_count": 32,
   "metadata": {},
   "outputs": [
    {
     "data": {
      "text/html": [
       "<div>\n",
       "<style scoped>\n",
       "    .dataframe tbody tr th:only-of-type {\n",
       "        vertical-align: middle;\n",
       "    }\n",
       "\n",
       "    .dataframe tbody tr th {\n",
       "        vertical-align: top;\n",
       "    }\n",
       "\n",
       "    .dataframe thead th {\n",
       "        text-align: right;\n",
       "    }\n",
       "</style>\n",
       "<table border=\"1\" class=\"dataframe\">\n",
       "  <thead>\n",
       "    <tr style=\"text-align: right;\">\n",
       "      <th></th>\n",
       "      <th>Company Name</th>\n",
       "      <th>Industry</th>\n",
       "      <th>Round/Series</th>\n",
       "      <th>Amount</th>\n",
       "      <th>Location</th>\n",
       "      <th>About Company</th>\n",
       "    </tr>\n",
       "  </thead>\n",
       "  <tbody>\n",
       "    <tr>\n",
       "      <th>0</th>\n",
       "      <td>TheCollegeFever</td>\n",
       "      <td>Brand Marketing, Event Promotion, Marketing, S...</td>\n",
       "      <td>Seed</td>\n",
       "      <td>250000</td>\n",
       "      <td>Bangalore</td>\n",
       "      <td>TheCollegeFever is a hub for fun, fiesta and f...</td>\n",
       "    </tr>\n",
       "    <tr>\n",
       "      <th>1</th>\n",
       "      <td>Happy Cow Dairy</td>\n",
       "      <td>Agriculture, Farming</td>\n",
       "      <td>Seed</td>\n",
       "      <td>₹40,000,000</td>\n",
       "      <td>Mumbai</td>\n",
       "      <td>A startup which aggregates milk from dairy far...</td>\n",
       "    </tr>\n",
       "    <tr>\n",
       "      <th>2</th>\n",
       "      <td>MyLoanCare</td>\n",
       "      <td>Credit, Financial Services, Lending, Marketplace</td>\n",
       "      <td>Series A</td>\n",
       "      <td>₹65,000,000</td>\n",
       "      <td>Gurgaon</td>\n",
       "      <td>Leading Online Loans Marketplace in India</td>\n",
       "    </tr>\n",
       "    <tr>\n",
       "      <th>3</th>\n",
       "      <td>PayMe India</td>\n",
       "      <td>Financial Services, FinTech</td>\n",
       "      <td>Angel</td>\n",
       "      <td>2000000</td>\n",
       "      <td>Noida</td>\n",
       "      <td>PayMe India is an innovative FinTech organizat...</td>\n",
       "    </tr>\n",
       "    <tr>\n",
       "      <th>4</th>\n",
       "      <td>Eunimart</td>\n",
       "      <td>E-Commerce Platforms, Retail, SaaS</td>\n",
       "      <td>Seed</td>\n",
       "      <td>—</td>\n",
       "      <td>Hyderabad</td>\n",
       "      <td>Eunimart is a one stop solution for merchants ...</td>\n",
       "    </tr>\n",
       "  </tbody>\n",
       "</table>\n",
       "</div>"
      ],
      "text/plain": [
       "      Company Name                                           Industry  \\\n",
       "0  TheCollegeFever  Brand Marketing, Event Promotion, Marketing, S...   \n",
       "1  Happy Cow Dairy                               Agriculture, Farming   \n",
       "2       MyLoanCare   Credit, Financial Services, Lending, Marketplace   \n",
       "3      PayMe India                        Financial Services, FinTech   \n",
       "4         Eunimart                 E-Commerce Platforms, Retail, SaaS   \n",
       "\n",
       "  Round/Series       Amount   Location  \\\n",
       "0         Seed       250000  Bangalore   \n",
       "1         Seed  ₹40,000,000     Mumbai   \n",
       "2     Series A  ₹65,000,000    Gurgaon   \n",
       "3        Angel      2000000      Noida   \n",
       "4         Seed            —  Hyderabad   \n",
       "\n",
       "                                       About Company  \n",
       "0  TheCollegeFever is a hub for fun, fiesta and f...  \n",
       "1  A startup which aggregates milk from dairy far...  \n",
       "2          Leading Online Loans Marketplace in India  \n",
       "3  PayMe India is an innovative FinTech organizat...  \n",
       "4  Eunimart is a one stop solution for merchants ...  "
      ]
     },
     "execution_count": 32,
     "metadata": {},
     "output_type": "execute_result"
    }
   ],
   "source": [
    "df_2018.head(5)"
   ]
  },
  {
   "cell_type": "code",
   "execution_count": 33,
   "metadata": {},
   "outputs": [
    {
     "data": {
      "text/plain": [
       "array(['250000', '₹40,000,000', '₹65,000,000', '2000000', '—', '1600000',\n",
       "       '₹16,000,000', '₹50,000,000', '₹100,000,000', '150000', '1100000',\n",
       "       '₹500,000', '6000000', '650000', '₹35,000,000', '₹64,000,000',\n",
       "       '₹20,000,000', '1000000', '5000000', '4000000', '₹30,000,000',\n",
       "       '2800000', '1700000', '1300000', '₹5,000,000', '₹12,500,000',\n",
       "       '₹15,000,000', '500000', '₹104,000,000', '₹45,000,000', '13400000',\n",
       "       '₹25,000,000', '₹26,400,000', '₹8,000,000', '₹60,000', '9000000',\n",
       "       '100000', '20000', '120000', '₹34,000,000', '₹342,000,000',\n",
       "       '$143,145', '₹600,000,000', '$742,000,000', '₹1,000,000,000',\n",
       "       '₹2,000,000,000', '$3,980,000', '$10,000', '₹100,000',\n",
       "       '₹250,000,000', '$1,000,000,000', '$7,000,000', '$35,000,000',\n",
       "       '₹550,000,000', '$28,500,000', '$2,000,000', '₹240,000,000',\n",
       "       '₹120,000,000', '$2,400,000', '$30,000,000', '₹2,500,000,000',\n",
       "       '$23,000,000', '$150,000', '$11,000,000', '₹44,000,000',\n",
       "       '$3,240,000', '₹60,000,000', '$540,000,000', '₹650,000,000',\n",
       "       '₹1,600,000,000', '$900,000', '$10,000,000', '$1,500,000',\n",
       "       '₹70,000,000', '$1,000,000', '$5,000,000', '$14,000,000',\n",
       "       '₹102,500,000', '$100,000,000', '₹1,200,000', '₹5,200,000,000',\n",
       "       '$800,000', '$1,041,000', '$100,000', '$15,000', '1400000',\n",
       "       '1200000', '2200000', '1800000', '3600000', '₹9,500,000', '300000',\n",
       "       '6830000', '200000', '₹150,000,000', '4300000', '364846', '400000',\n",
       "       '1500000', '₹7,000,000', '₹1,400,000', '₹10,000,000',\n",
       "       '₹22,500,000', '13200000', '50000', '₹140,200,000', '3000000',\n",
       "       '1250000', '180000', '₹19,200,000', '₹103,000,000', '4200000',\n",
       "       '175000', '1450000', '₹200,000', '4500000', '600000',\n",
       "       '₹16,600,000', '₹12,000,000', '15000000', '₹33,000,000', '125000',\n",
       "       '130000', '₹34,900,000', '₹72,000,000', '17200000', '₹32,000,000',\n",
       "       '3500000', '₹135,000,000', '12000000', '$40,000,000', '$1,100,000',\n",
       "       '$50,000,000', '₹1,540,000,000', '$3,000,000', '$6,000,000',\n",
       "       '₹140,000,000', '$41,900,000', '₹1,410,000,000', '$3,530,000',\n",
       "       '$200,000', '$3,300,000', '₹580,000,000', '₹36,000,000',\n",
       "       '₹340,000,000', '$210,000,000', '$37,680,000', '$250,000',\n",
       "       '$20,000', '₹510,000,000', '₹2,200,000,000', '22000000', '70000',\n",
       "       '10000000', '₹15,392,000,000', '₹20,000,000,000', '₹4,000,000,000',\n",
       "       '185000000', '65000000', '₹165,000,000', '700000', '30000000',\n",
       "       '₹210,000,000', '210000000', '₹2,029,600,000', '75000000',\n",
       "       '₹80,000,000', '1760000', '2700000', '₹280,000,000',\n",
       "       '₹800,000,000', '750000', '2500000', '80000000', '25000000',\n",
       "       '₹730,000,000', '₹400,000,000', '3700000', '5600000',\n",
       "       '₹260,000,000', '99230000', '70000000', '40000', '550000',\n",
       "       '50000000', '365000000', '₹8,750,000', '₹78,000,000', '28000000',\n",
       "       '₹264,000,000', '100000000', '₹1,130,000,000', '₹810,000,000',\n",
       "       '₹1,400,000,000', '14900000', '225000000', '7500', '35000000'],\n",
       "      dtype=object)"
      ]
     },
     "execution_count": 33,
     "metadata": {},
     "output_type": "execute_result"
    }
   ],
   "source": [
    "#cheacking the unique value of amount\n",
    "df_2018['Amount'].unique()"
   ]
  },
  {
   "cell_type": "code",
   "execution_count": 34,
   "metadata": {},
   "outputs": [],
   "source": [
    "# changing the repuss currency into dollors currency using the exchange rates\n",
    "\n",
    "for row in df_2018.index:\n",
    "\n",
    "    for column in df_2018.columns:\n",
    "\n",
    "        if '₹' in str(df_2018.loc[row, column]):\n",
    "\n",
    "            amount = df_2018.loc[row, column].replace('₹', '').replace(',', '')\n",
    "\n",
    "            df_2018.loc[row, column] = pd.to_numeric(amount, errors='coerce') * 0.146\n",
    "\n",
    "        elif '$' in str(df_2018.loc[row, column]):\n",
    "\n",
    "            df_2018.loc[row, column] = df_2018.loc[row, column].replace('$', '').replace(',', '')\n",
    "\n",
    "        elif \"—\" in str(df_2018.loc[row, column]):\n",
    "\n",
    "            df_2018.loc[row, column] = df_2018.loc[row, column].replace(\"—\", '')"
   ]
  },
  {
   "cell_type": "code",
   "execution_count": 35,
   "metadata": {},
   "outputs": [
    {
     "data": {
      "text/html": [
       "<div>\n",
       "<style scoped>\n",
       "    .dataframe tbody tr th:only-of-type {\n",
       "        vertical-align: middle;\n",
       "    }\n",
       "\n",
       "    .dataframe tbody tr th {\n",
       "        vertical-align: top;\n",
       "    }\n",
       "\n",
       "    .dataframe thead th {\n",
       "        text-align: right;\n",
       "    }\n",
       "</style>\n",
       "<table border=\"1\" class=\"dataframe\">\n",
       "  <thead>\n",
       "    <tr style=\"text-align: right;\">\n",
       "      <th></th>\n",
       "      <th>Company Name</th>\n",
       "      <th>Industry</th>\n",
       "      <th>Round/Series</th>\n",
       "      <th>Amount</th>\n",
       "      <th>Location</th>\n",
       "      <th>About Company</th>\n",
       "    </tr>\n",
       "  </thead>\n",
       "  <tbody>\n",
       "    <tr>\n",
       "      <th>0</th>\n",
       "      <td>TheCollegeFever</td>\n",
       "      <td>Brand Marketing, Event Promotion, Marketing, S...</td>\n",
       "      <td>Seed</td>\n",
       "      <td>250000</td>\n",
       "      <td>Bangalore</td>\n",
       "      <td>TheCollegeFever is a hub for fun, fiesta and f...</td>\n",
       "    </tr>\n",
       "    <tr>\n",
       "      <th>1</th>\n",
       "      <td>Happy Cow Dairy</td>\n",
       "      <td>Agriculture, Farming</td>\n",
       "      <td>Seed</td>\n",
       "      <td>5840000.0</td>\n",
       "      <td>Mumbai</td>\n",
       "      <td>A startup which aggregates milk from dairy far...</td>\n",
       "    </tr>\n",
       "    <tr>\n",
       "      <th>2</th>\n",
       "      <td>MyLoanCare</td>\n",
       "      <td>Credit, Financial Services, Lending, Marketplace</td>\n",
       "      <td>Series A</td>\n",
       "      <td>9490000.0</td>\n",
       "      <td>Gurgaon</td>\n",
       "      <td>Leading Online Loans Marketplace in India</td>\n",
       "    </tr>\n",
       "    <tr>\n",
       "      <th>3</th>\n",
       "      <td>PayMe India</td>\n",
       "      <td>Financial Services, FinTech</td>\n",
       "      <td>Angel</td>\n",
       "      <td>2000000</td>\n",
       "      <td>Noida</td>\n",
       "      <td>PayMe India is an innovative FinTech organizat...</td>\n",
       "    </tr>\n",
       "    <tr>\n",
       "      <th>4</th>\n",
       "      <td>Eunimart</td>\n",
       "      <td>E-Commerce Platforms, Retail, SaaS</td>\n",
       "      <td>Seed</td>\n",
       "      <td></td>\n",
       "      <td>Hyderabad</td>\n",
       "      <td>Eunimart is a one stop solution for merchants ...</td>\n",
       "    </tr>\n",
       "  </tbody>\n",
       "</table>\n",
       "</div>"
      ],
      "text/plain": [
       "      Company Name                                           Industry  \\\n",
       "0  TheCollegeFever  Brand Marketing, Event Promotion, Marketing, S...   \n",
       "1  Happy Cow Dairy                               Agriculture, Farming   \n",
       "2       MyLoanCare   Credit, Financial Services, Lending, Marketplace   \n",
       "3      PayMe India                        Financial Services, FinTech   \n",
       "4         Eunimart                 E-Commerce Platforms, Retail, SaaS   \n",
       "\n",
       "  Round/Series     Amount   Location  \\\n",
       "0         Seed     250000  Bangalore   \n",
       "1         Seed  5840000.0     Mumbai   \n",
       "2     Series A  9490000.0    Gurgaon   \n",
       "3        Angel    2000000      Noida   \n",
       "4         Seed             Hyderabad   \n",
       "\n",
       "                                       About Company  \n",
       "0  TheCollegeFever is a hub for fun, fiesta and f...  \n",
       "1  A startup which aggregates milk from dairy far...  \n",
       "2          Leading Online Loans Marketplace in India  \n",
       "3  PayMe India is an innovative FinTech organizat...  \n",
       "4  Eunimart is a one stop solution for merchants ...  "
      ]
     },
     "execution_count": 35,
     "metadata": {},
     "output_type": "execute_result"
    }
   ],
   "source": [
    "df_2018.head(5)"
   ]
  },
  {
   "cell_type": "code",
   "execution_count": 36,
   "metadata": {},
   "outputs": [
    {
     "data": {
      "text/plain": [
       "array(['250000', 5840000.0, 9490000.0, '2000000', '', '1600000',\n",
       "       2336000.0, 7300000.0, 14600000.0, '150000', '1100000', 73000.0,\n",
       "       '6000000', '650000', 5110000.0, 9344000.0, 2920000.0, '1000000',\n",
       "       '5000000', '4000000', 4380000.0, '2800000', '1700000', '1300000',\n",
       "       730000.0, 1825000.0, 2190000.0, '500000', 15183999.999999998,\n",
       "       6570000.0, '13400000', 3650000.0, 3854399.9999999995, 1168000.0,\n",
       "       8760.0, '9000000', '100000', '20000', '120000', 4964000.0,\n",
       "       49932000.0, '143145', 87600000.0, '742000000', 146000000.0,\n",
       "       292000000.0, '3980000', '10000', 14599.999999999998, 36500000.0,\n",
       "       '1000000000', '7000000', '35000000', 80300000.0, '28500000',\n",
       "       35040000.0, 17520000.0, '2400000', '30000000', 365000000.0,\n",
       "       '23000000', '11000000', 6424000.0, '3240000', 8760000.0,\n",
       "       '540000000', 94900000.0, 233600000.0, '900000', '10000000',\n",
       "       '1500000', 10220000.0, '14000000', 14964999.999999998, '100000000',\n",
       "       175200.0, 759200000.0, '800000', '1041000', '15000', '1400000',\n",
       "       '1200000', '2200000', '1800000', '3600000', 1387000.0, '300000',\n",
       "       '6830000', '200000', 21900000.0, '4300000', '364846', '400000',\n",
       "       1021999.9999999999, 204400.0, 1460000.0, 3285000.0, '13200000',\n",
       "       '50000', 20469200.0, '3000000', '1250000', '180000', 2803200.0,\n",
       "       15037999.999999998, '4200000', '175000', '1450000',\n",
       "       29199.999999999996, '4500000', '600000', 2423600.0, 1752000.0,\n",
       "       '15000000', 4818000.0, '125000', '130000', 5095400.0, 10512000.0,\n",
       "       '17200000', 4672000.0, '3500000', 19710000.0, '12000000',\n",
       "       '40000000', '50000000', 224840000.0, 20440000.0, '41900000',\n",
       "       205860000.0, '3530000', '3300000', 84680000.0, 5256000.0,\n",
       "       49640000.0, '210000000', '37680000', 74460000.0, 321200000.0,\n",
       "       '22000000', '70000', 2247232000.0, 2920000000.0, 584000000.0,\n",
       "       '185000000', '65000000', 24090000.0, '700000', 30659999.999999996,\n",
       "       296321600.0, '75000000', 11680000.0, '1760000', '2700000',\n",
       "       40880000.0, 116800000.0, '750000', '2500000', '80000000',\n",
       "       '25000000', 106580000.0, 58400000.0, '3700000', '5600000',\n",
       "       37960000.0, '99230000', '70000000', '40000', '550000', '365000000',\n",
       "       1277500.0, 11388000.0, '28000000', 38544000.0, 164980000.0,\n",
       "       118260000.0, 204400000.0, '14900000', '225000000', '7500'],\n",
       "      dtype=object)"
      ]
     },
     "execution_count": 36,
     "metadata": {},
     "output_type": "execute_result"
    }
   ],
   "source": [
    "df_2018['Amount'].unique()"
   ]
  },
  {
   "cell_type": "code",
   "execution_count": 37,
   "metadata": {},
   "outputs": [],
   "source": [
    "# replace commas and extract numbers to create a new column\n",
    "df_2018['Amount($)'] = df_2018['Amount'].str.replace(',', '').str.extract(r'(\\d+)').astype(float)\n"
   ]
  },
  {
   "cell_type": "code",
   "execution_count": 38,
   "metadata": {},
   "outputs": [],
   "source": [
    "# # fill null values with the mode in the Amount($) column\n",
    "from sklearn.impute import SimpleImputer\n",
    "imputer = SimpleImputer(strategy='most_frequent', missing_values=np.nan)\n",
    "imputer_18 = imputer.fit(df_2018[['Amount($)']])\n",
    "df_2018['Amount($)'] = imputer_18.transform(df_2018[['Amount($)']])"
   ]
  },
  {
   "cell_type": "code",
   "execution_count": 39,
   "metadata": {},
   "outputs": [
    {
     "data": {
      "text/plain": [
       "0"
      ]
     },
     "execution_count": 39,
     "metadata": {},
     "output_type": "execute_result"
    }
   ],
   "source": [
    "# confirm null value have been replaced\n",
    "df_2018['Amount($)'].isnull().sum()"
   ]
  },
  {
   "cell_type": "code",
   "execution_count": 40,
   "metadata": {},
   "outputs": [
    {
     "data": {
      "text/plain": [
       "Company Name     524\n",
       "Industry         405\n",
       "Round/Series      20\n",
       "Amount           180\n",
       "Location          50\n",
       "About Company    523\n",
       "Amount($)         98\n",
       "dtype: int64"
      ]
     },
     "execution_count": 40,
     "metadata": {},
     "output_type": "execute_result"
    }
   ],
   "source": [
    "# Get the cardinality/number of unique values in each column\n",
    "df_2018.nunique()"
   ]
  },
  {
   "cell_type": "code",
   "execution_count": 41,
   "metadata": {},
   "outputs": [
    {
     "data": {
      "text/plain": [
       "array(['Brand Marketing, Event Promotion, Marketing, Sponsorship, Ticketing',\n",
       "       'Agriculture, Farming',\n",
       "       'Credit, Financial Services, Lending, Marketplace',\n",
       "       'Financial Services, FinTech',\n",
       "       'E-Commerce Platforms, Retail, SaaS',\n",
       "       'Cloud Infrastructure, PaaS, SaaS',\n",
       "       'Internet, Leisure, Marketplace', 'Market Research',\n",
       "       'Information Services, Information Technology', 'Mobile Payments',\n",
       "       'B2B, Shoes', 'Internet',\n",
       "       'Apps, Collaboration, Developer Platform, Enterprise Software, Messaging, Productivity Tools, Video Chat',\n",
       "       'Food Delivery', 'Industrial Automation',\n",
       "       'Automotive, Search Engine, Service Industry',\n",
       "       'Finance, Internet, Travel',\n",
       "       'Accounting, Business Information Systems, Business Travel, Finance, SaaS',\n",
       "       'Artificial Intelligence, Product Search, SaaS, Service Industry, Software',\n",
       "       'Internet of Things, Waste Management',\n",
       "       'Air Transportation, Freight Service, Logistics, Marine Transportation',\n",
       "       'Financial Services', 'Food and Beverage', 'Autonomous Vehicles',\n",
       "       'Enterprise Software, Health Care, Hospital, Parenting, Personal Health, SaaS',\n",
       "       'Agriculture, Analytics, Big Data, Farming',\n",
       "       'Logistics, Supply Chain Management',\n",
       "       'Financial Services, Lending',\n",
       "       'Automotive, Marketplace, Online Portals',\n",
       "       'Artificial Intelligence',\n",
       "       'Internet of Things, Telecommunications', 'Insurance',\n",
       "       'Information Technology, Logistics, Supply Chain Management',\n",
       "       'Blockchain, Developer Tools, Enterprise Software',\n",
       "       'Industrial Automation, Logistics, Supply Chain Management',\n",
       "       'Food and Beverage, Food Delivery, Snack Food', 'Education',\n",
       "       'E-Commerce, Fashion, Jewelry, Retail', 'Renewable Energy',\n",
       "       'E-Learning, Education',\n",
       "       'Clean Energy, CleanTech, Laundry and Dry-cleaning',\n",
       "       'E-Commerce, Fashion, Mobile',\n",
       "       'Apps, Messaging, Navigation, Public Safety', 'Transportation',\n",
       "       'Fitness, Health Care, Wellness',\n",
       "       'Artificial Intelligence, Machine Learning, SaaS, Virtual Assistant',\n",
       "       'Hospitality', 'Food and Beverage, Tea',\n",
       "       'Media and Entertainment, News, Outdoors',\n",
       "       'Broadcasting, Media and Entertainment, Music, Music Streaming, Video, Video Streaming',\n",
       "       'B2B, Information Services, Information Technology',\n",
       "       'EdTech, Education, Enterprise Software, Peer to Peer',\n",
       "       'Health Care, Medical', 'E-Commerce',\n",
       "       'Health Care, Hospital, Wellness', '', 'Sports',\n",
       "       'Big Data, Consumer Lending, FinTech',\n",
       "       'Cloud Computing, Computer, Semiconductor',\n",
       "       'Health Care, Medical, Pharmaceutical', 'Food Processing, Retail',\n",
       "       'Trading Platform', \"Consumer Goods, Lifestyle, Men's\", 'Wellness',\n",
       "       'Food and Beverage, Food Processing, Nutrition', 'Fashion',\n",
       "       'Automotive, Electric Vehicle, Energy Storage',\n",
       "       'Consulting, Retail, Social',\n",
       "       'Biotechnology, Life Science, Pharmaceutical, Product Research',\n",
       "       'Health Care',\n",
       "       'Credit, Financial Services, FinTech, Personal Finance',\n",
       "       'Communities, Coworking, Incubators',\n",
       "       'Consumer, Financial Services, FinTech',\n",
       "       'Consumer Applications, Information Services, Location Based Services, Virtual Assistant',\n",
       "       'Mobile, Mobile Apps, Personalization, Test and Measurement, Web Apps',\n",
       "       'Education, Financial Services, FinTech',\n",
       "       'Advertising, Consulting, Digital Marketing',\n",
       "       'Marketplace, Real Estate, Rental Property',\n",
       "       'E-Learning, Internet, Video Games',\n",
       "       'Artificial Intelligence, Cloud Computing, Video',\n",
       "       'Health Care, Information Technology', 'Aerospace',\n",
       "       'E-Commerce, Fashion, Lifestyle',\n",
       "       'Artificial Intelligence, Business Intelligence, Industrial Automation, Machine Learning',\n",
       "       'Home Decor, Home Improvement, Home Renovation, Home Services, Interior Design, Smart Home',\n",
       "       'EdTech, Education, Information Services, SaaS', 'Energy, Solar',\n",
       "       'B2B, Biometrics, Cyber Security, Fraud Detection, SaaS, Security',\n",
       "       'Artificial Intelligence, Social',\n",
       "       'Logistics, Transportation, Travel',\n",
       "       'Digital Marketing, SEM, SEO, Web Development',\n",
       "       'Health Care, Hospital, Medical', 'Finance, Financial Services',\n",
       "       'Food Delivery, Food Processing, Internet',\n",
       "       'E-Commerce, Food and Beverage, Internet',\n",
       "       'Fitness, Food and Beverage, Health Care, Nutrition',\n",
       "       'EdTech, Education, Knowledge Management',\n",
       "       'Apps, Beauty, Consumer, Retail',\n",
       "       'Creative Agency, Crowdfunding, EdTech, Health Care, Internet, Medical, Non Profit, Personal Health',\n",
       "       'Consumer Lending, Financial Services, FinTech, Insurance, Lending, Mobile Payments, Payments, Wealth Management',\n",
       "       'E-Learning, Education, Higher Education', 'Health Diagnostics',\n",
       "       'EdTech, Education', 'Financial Services, SaaS, Security',\n",
       "       'Banking, Finance, Financial Services, Non Profit',\n",
       "       'B2B, E-Commerce, Mobile',\n",
       "       'Automotive, Electric Vehicle, Renewable Energy', 'E-Learning',\n",
       "       'Embedded Systems, Health Care, Medical, Product Research',\n",
       "       'Apps, E-Commerce, Internet',\n",
       "       'Advertising, Human Resources, Marketing',\n",
       "       'Beauty, Fitness, Home Services, Internet',\n",
       "       'Health Care, Medical Device, Public Safety',\n",
       "       'Food Delivery, Online Portals, Restaurants',\n",
       "       'AgTech, B2B, Supply Chain Management',\n",
       "       'Credit Cards, Finance, Mobile Apps, Mobile Payments, Payments',\n",
       "       'Software',\n",
       "       'EdTech, Education, Higher Education, Secondary Education',\n",
       "       'Manufacturing, Retail', 'Manufacturing',\n",
       "       'Information Services, Information Technology, InsurTech',\n",
       "       'Consumer Lending, FinTech', 'Internet, Social Network, TV',\n",
       "       'Beauty, Health Care', 'Hospital', 'Events',\n",
       "       '3D Printing, Manufacturing, Product Design', 'Automotive',\n",
       "       'Automotive, Retail', 'Apps, Audio', 'Automotive, E-Commerce',\n",
       "       'Digital Entertainment, Fantasy Sports, Sports',\n",
       "       'E-Learning, EdTech, Education',\n",
       "       'Funding Platform, Incubators, Non Profit',\n",
       "       'Hospitality, Hotel, Leisure, Travel',\n",
       "       'Classifieds, Internet, Marketplace, Rental Property',\n",
       "       'Banking, E-Learning, Trading Platform',\n",
       "       'E-Commerce, Mobile, Retail',\n",
       "       'Artificial Intelligence, Information Technology',\n",
       "       'Enterprise Resource Planning (ERP), Information Services, Information Technology, Real Estate',\n",
       "       'Banking, Finance, Financial Services',\n",
       "       'Audio, Mobile, Tourism, Travel',\n",
       "       'Energy, Energy Storage, Infrastructure',\n",
       "       'Government, Information Technology, Software',\n",
       "       'Information Technology',\n",
       "       'Education, Information Technology, Internet, Mobile, Software',\n",
       "       'Consumer Lending, Financial Services, Lending, Personal Finance',\n",
       "       'Digital Media, Internet, Media and Entertainment, Online Portals, Social Media',\n",
       "       'Business Intelligence, Customer Service, Market Research, SaaS',\n",
       "       'Credit, Financial Services, FinTech, Lending',\n",
       "       'Children, Education, Parenting',\n",
       "       'Automotive, Battery, Energy, Energy Storage',\n",
       "       'E-Commerce, Mobile, Sharing Economy',\n",
       "       'Food Delivery, Organic, Organic Food', 'Mobile', 'Rental',\n",
       "       'Consumer', 'B2B, Farming, Marketplace', 'Wealth Management',\n",
       "       'Biotechnology', 'Education, Gaming, Training', 'Veterinary',\n",
       "       'Internet, Mobile, Social Entrepreneurship, Telecommunications, Wireless',\n",
       "       'Health Care, Hospital, Supply Chain Management',\n",
       "       'Tourism, Travel', 'Hospitality, Real Estate', 'Finance',\n",
       "       'Digital Media, EBooks, Publishing, Reading Apps',\n",
       "       'Consumer Electronics, Embedded Systems, Hardware, Smart Building, Software',\n",
       "       'Food and Beverage, Food Processing',\n",
       "       'Internet, Marketplace, Shopping',\n",
       "       'Analytics, Computer Vision, Enterprise Software, Machine Learning, Natural Language Processing, Speech Recognition',\n",
       "       'Facilities Support Services',\n",
       "       'Automotive, Electric Vehicle, Energy',\n",
       "       'Health Care, Health Diagnostics, Predictive Analytics',\n",
       "       'Cloud Computing, Computer, SaaS, Software',\n",
       "       'Fashion, Lifestyle, Retail', 'Medical', 'Music Streaming',\n",
       "       'Finance, Impact Investing, Internet',\n",
       "       'Internet, Social Entrepreneurship', 'Retail',\n",
       "       'Finance, Impact Investing, Mobile Apps',\n",
       "       'Cloud Computing, Computer, Software',\n",
       "       'Business Development, Market Research, Outsourcing',\n",
       "       'Health Care, Hospitality', 'Internet, Social News, Sports',\n",
       "       'Human Resources', 'Finance, Financial Services, FinTech',\n",
       "       'Customer Service, Software, Video, Video Streaming',\n",
       "       'E-Commerce, Food Processing', 'Training', 'Travel',\n",
       "       'Dietary Supplements, Food and Beverage, Health Care, Organic Food, Snack Food',\n",
       "       'Manufacturing, Oil and Gas, Robotics',\n",
       "       'Artificial Intelligence, Computer, Machine Learning',\n",
       "       'Collaboration, Communities, Coworking, Sharing Economy',\n",
       "       'Big Data, EdTech, Machine Learning', 'Nanotechnology',\n",
       "       'Analytics, Audio, Digital Media, Innovation Management, Internet Radio, Media and Entertainment',\n",
       "       'Financial Services, Lending, Peer to Peer',\n",
       "       'E-Commerce, Furniture, Home Decor, Interior Design, Internet',\n",
       "       'Digital Media', 'File Sharing, Personalization, Social Media',\n",
       "       'Home Decor, Interior Design',\n",
       "       'Health Care, Medical Device, Mobile Apps',\n",
       "       'E-Commerce, Facilities Support Services, Procurement, Supply Chain Management',\n",
       "       'Crowdfunding, Finance, Financial Services',\n",
       "       'Finance, Financial Services, Insurance',\n",
       "       'Children, Education, Online Portals', 'Software, Virtual Reality',\n",
       "       'B2B, Food and Beverage, Food Delivery',\n",
       "       'Catering, Food and Beverage, Food Delivery, Food Processing',\n",
       "       'Food and Beverage, Snack Food', 'Automotive, E-Commerce, Mobile',\n",
       "       'Computer, Digital Marketing, Facilities Support Services, Graphic Design, Internet, Mobile Apps, Social Media Marketing, Web Development',\n",
       "       'Android, Big Data, Blockchain, Cloud Computing, EdTech, Education, Information Technology, iOS, Training, Web Development',\n",
       "       'Analytics, CRM, Loyalty Programs, Machine Learning, Marketing Automation, Retail Technology, SaaS, Small and Medium Businesses',\n",
       "       'Delivery, Information Technology, Mobile Apps',\n",
       "       'Environmental Consulting, Renewable Energy',\n",
       "       'Big Data, Business Intelligence, Financial Services, FinTech, Personal Finance',\n",
       "       'Commercial Real Estate, Coworking, Office Administration, Real Estate',\n",
       "       'Food and Beverage, Food Processing, Organic Food, Snack Food',\n",
       "       'Apps, Health Care, Internet, Mobile Apps, Personal Health',\n",
       "       'Digital Media, Incubators, Social Entrepreneurship',\n",
       "       'Finance, Financial Services, Marketing',\n",
       "       'Biotechnology, Health Care, Life Science, Medical Device',\n",
       "       'Education, Human Resources', 'Consumer Electronics',\n",
       "       'Apps, Health Care, Hospital, Mobile Apps',\n",
       "       'Delivery Service, Logistics, Service Industry',\n",
       "       'Big Data, Data Visualization, Logistics, Software',\n",
       "       'Basketball, Cricket, Cycling, eSports, Fitness, Golf, Health Care, Hockey, Sports, Swimming, Table Tennis, Volley Ball',\n",
       "       'Media and Entertainment, News, Publishing', 'Consulting',\n",
       "       'Big Data, Financial Services, Machine Learning, Predictive Analytics',\n",
       "       'Agriculture, AgTech, Manufacturing',\n",
       "       'Digital Media, News, Publishing', 'Health Care, Hospital',\n",
       "       'B2B, E-Commerce, Enterprise',\n",
       "       'Fraud Detection, Information Services, Security',\n",
       "       'Agriculture, AgTech, Artificial Intelligence, Internet of Things, Machine Learning',\n",
       "       'Cryptocurrency, Trading Platform',\n",
       "       'Finance, FinTech, Mobile Payments', 'Wedding',\n",
       "       'E-Learning, EdTech, Education, Image Recognition, Machine Learning, STEM Education',\n",
       "       'Consumer Goods', 'Digital Entertainment',\n",
       "       'Crowdsourcing, Financial Services, Funding Platform, Venture Capital',\n",
       "       'Delivery, Drones, Geospatial, Robotics',\n",
       "       'Health Care, Information Technology, Management Information Systems',\n",
       "       'Farming',\n",
       "       'Business Travel, Hospitality, Hotel, Marketplace, Tourism, Travel Accommodations',\n",
       "       'Career Planning, Education, Higher Education, Service Industry',\n",
       "       'Medical Device', 'Alternative Medicine, Health Care',\n",
       "       'Internet, Software',\n",
       "       'Dental, Elder Care, Health Care, Home Health Care, Personal Health',\n",
       "       'Financial Services, Insurance, Private Social Networking',\n",
       "       'Consumer Electronics, E-Commerce, E-Commerce Platforms, Electronics, Shipping, Shopping',\n",
       "       'CleanTech', 'Advertising, Internet, Marketing',\n",
       "       'Human Resources, Security, Training',\n",
       "       'Consumer Lending, Finance, FinTech',\n",
       "       'Marketing, Social Media, Video', 'Banking', 'Food Processing',\n",
       "       'Apps', 'Marketing',\n",
       "       'Apps, B2B, Freight Service, Logistics, SaaS, Shipping, Supply Chain Management, Transportation',\n",
       "       'Digital Entertainment, Fantasy Sports, Gaming, Sports',\n",
       "       'Automotive, Last Mile Transportation, Peer to Peer, Ride Sharing',\n",
       "       'Commercial, E-Learning, Education',\n",
       "       'Continuing Education, EdTech, Education, Skill Assessment',\n",
       "       'Smart Cities, Telecommunications', 'Internet of Things, Robotics',\n",
       "       'Apps, Home Services, Information Services, Information Technology',\n",
       "       'Medical, Tourism', 'Career Planning, Education, Internet',\n",
       "       'Fashion, Graphic Design, Wearables',\n",
       "       'Communities, Leisure, Mobile Apps, Software',\n",
       "       'Automotive, Rental, Sharing Economy',\n",
       "       'Energy, Environmental Consulting, Renewable Energy, Solar',\n",
       "       'Information Technology, SaaS, Security',\n",
       "       'Crowdfunding, Financial Services, Internet',\n",
       "       'Customer Service, Information Technology, Internet, Sales Automation',\n",
       "       'Advertising, Artificial Intelligence, Digital Media, iOS, Location Based Services, News, Video, Video on Demand, Video Streaming',\n",
       "       'Credit Cards, Payments, Property Insurance, Property Management, Rental Property',\n",
       "       'Beauty, Cosmetics, Health Care, Service Industry',\n",
       "       'EdTech, Education, Mobile, Tutoring', 'Social Media, Sports',\n",
       "       'Biopharma', 'E-Commerce, E-Commerce Platforms, Retail',\n",
       "       'E-Commerce, Fashion, Shopping',\n",
       "       'Digital Entertainment, Mobile, PC Games',\n",
       "       'Finance, Financial Services, Small and Medium Businesses',\n",
       "       'Artificial Intelligence, Energy, Oil and Gas',\n",
       "       'Computer, FinTech, Risk Management, Software',\n",
       "       'Apps, Financial Services, FinTech',\n",
       "       \"Child Care, Health Care, Hospital, Medical, Women's\",\n",
       "       'Agriculture, Mobile',\n",
       "       'Finance, FinTech, Payments, Property Development, Rental',\n",
       "       'Information Services, Information Technology, Mobile, Software',\n",
       "       'Apps, Fitness, Health Care, mHealth',\n",
       "       'Food and Beverage, Food Delivery', 'Apps, Payments, Retail',\n",
       "       'Health Insurance, Insurance, Life Insurance',\n",
       "       'Rental, Taxi Service, Travel',\n",
       "       'E-Commerce, E-Commerce Platforms, Internet, Retail',\n",
       "       'Financial Services, Professional Services',\n",
       "       'Customer Service, Messaging, Mobile Apps, Personalization',\n",
       "       'Gaming, iOS, Sports',\n",
       "       'E-Commerce, E-Commerce Platforms, Internet, Mobile Apps, Social Media',\n",
       "       'Search Engine',\n",
       "       'Battery, Electric Vehicle, Energy, Renewable Energy, Transportation',\n",
       "       'Agriculture, Farmers Market, Farming',\n",
       "       'Artificial Intelligence, Drones, Navigation, Packaging Services, Robotics',\n",
       "       'Fitness, GreenTech, Internet of Things, Mobile Apps, Ride Sharing, Transportation',\n",
       "       'Mobile, Software, Travel', 'Cosmetics',\n",
       "       'Consulting, Cyber Security, Network Security',\n",
       "       'eSports, Gaming, Video Games', 'Fashion, Jewelry',\n",
       "       'B2B, Medical Device', 'Consumer Goods, Manufacturing',\n",
       "       'Biotechnology, Health Care, Wellness',\n",
       "       'Health Care, Hospital, Medical, Robotics',\n",
       "       'E-Commerce, Fitness, Health Care',\n",
       "       'Financial Services, Venture Capital', 'Accounting, Apps, FinTech',\n",
       "       'Apps, Mobile, Transportation', 'Reading Apps',\n",
       "       'Energy, Renewable Energy, Solar',\n",
       "       'Banking, Financial Services, FinTech', 'Apps, Education, Retail',\n",
       "       'Electric Vehicle',\n",
       "       'Automotive, Battery, Electric Vehicle, Manufacturing, Mechanical Design',\n",
       "       'Automotive, E-Commerce, Marketplace', 'Agriculture',\n",
       "       'Apps, Information Services, Information Technology',\n",
       "       'B2B, Marketplace', 'Packaging Services',\n",
       "       'Computer, Furniture, Software',\n",
       "       'Food Delivery, Hospitality, Reservations, Restaurants, Search Engine',\n",
       "       'Collaboration, Communities, Coworking, Real Estate',\n",
       "       'Accounting, Banking, Finance',\n",
       "       'Cloud Computing, Enterprise Software, Network Hardware, Network Security, SaaS',\n",
       "       'Information Services, Internet, Logistics, Supply Chain Management, Transportation',\n",
       "       'Automotive, E-Commerce, Information Services',\n",
       "       'Delivery, Logistics, Transportation',\n",
       "       'Automotive, E-Commerce Platforms, Marketplace',\n",
       "       'Last Mile Transportation, Railroad, Transportation, Travel',\n",
       "       'Cooking, E-Commerce, Food and Beverage, Food Delivery, Online Portals',\n",
       "       'FinTech, Mobile, Mobile Payments, Payments, Retail Technology',\n",
       "       'Online Games, Software',\n",
       "       'Online Portals, Property Management, Rental',\n",
       "       'E-Commerce, Food and Beverage, Tea',\n",
       "       'Music, Social Network, Video',\n",
       "       'Health Care, Pharmaceutical, Wellness',\n",
       "       'Delivery Service, Food and Beverage, Food Delivery',\n",
       "       'Hospitality, Information Technology, Travel Accommodations',\n",
       "       'Biotechnology, Diabetes, Health Care',\n",
       "       'Autonomous Vehicles, Last Mile Transportation, Recreational Vehicles, Rental',\n",
       "       'Finance, Financial Exchanges, Financial Services, Micro Lending',\n",
       "       'Analytics, Apps, Market Research',\n",
       "       'E-Commerce, E-Commerce Platforms, Furniture, Home Decor, Internet',\n",
       "       'Apps, Mobile, Mobile Apps, Software',\n",
       "       'News, Publishing, Social Media',\n",
       "       'Industrial, Industrial Automation',\n",
       "       'Internet, Mobile Apps, Social Network',\n",
       "       'Health Care, Health Diagnostics, Internet of Things, Life Science, Machine Learning, Medical, Medical Device',\n",
       "       'E-Commerce, Furniture, Interior Design', 'Apps, Events, News',\n",
       "       'Artificial Intelligence, Human Resources, Information Services, Information Technology',\n",
       "       'Logistics, Railroad, Transportation',\n",
       "       'Dating, Private Social Networking',\n",
       "       'Artificial Intelligence, Machine Learning, PaaS',\n",
       "       'Consumer, Furniture, Home Decor, Home Improvement',\n",
       "       'Apps, E-Commerce, Internet, Mobile, Ride Sharing, Transportation',\n",
       "       'Health Care, Health Insurance', 'Energy, Natural Resources',\n",
       "       'E-Commerce, Education, Health Care',\n",
       "       'Apps, Health Care, Pharmaceutical',\n",
       "       'Internet, Knowledge Management',\n",
       "       'Credit, Finance, FinTech, Lending, Sales Automation',\n",
       "       'Banking, Financial Services, Internet',\n",
       "       'E-Commerce, Health Care, Retail',\n",
       "       'Child Care, Information Technology',\n",
       "       'Financial Services, Micro Lending',\n",
       "       'E-Commerce, Retail, Shopping',\n",
       "       'Food and Beverage, Snack Food, Tea',\n",
       "       'Delivery Service, E-Commerce, Logistics',\n",
       "       'Fashion, Lifestyle, Rental', 'Fantasy Sports, Mobile, Sports',\n",
       "       'Beauty, Fashion, Wellness', 'Food and Beverage, Restaurants, Tea',\n",
       "       'Fitness, Sporting Goods, Sports',\n",
       "       'Food and Beverage, Food Processing, Manufacturing',\n",
       "       'E-Learning, Internet', 'Eyewear, Internet',\n",
       "       'Information Technology, Mobile, News, Operating Systems, Social Media, Social News',\n",
       "       'FinTech, Internet, Payments, Service Industry',\n",
       "       'B2B, Business Development, Internet, Marketplace',\n",
       "       'Food and Beverage, Food Delivery, Internet',\n",
       "       'Biotechnology, Health Care, Pharmaceutical'], dtype=object)"
      ]
     },
     "execution_count": 41,
     "metadata": {},
     "output_type": "execute_result"
    }
   ],
   "source": [
    "df_2018['Industry'].unique()"
   ]
  },
  {
   "cell_type": "code",
   "execution_count": 42,
   "metadata": {},
   "outputs": [],
   "source": [
    "\n",
    "#mapping the industry colunm \n",
    "mapping_dict = {\n",
    "    \"Brand Marketing, Event Promotion, Marketing, Sponsorship, Ticketing\":\"Media and Marketing\",\n",
    "    \"Agriculture, Farming\" :\"Agriculture\",\n",
    "    \"Credit, Financial Services, Lending, Marketplace\": \"Fintech\",\n",
    "    \"Financial Services, FinTech\":\"FinTech\",\n",
    "    \"E-Commerce Platforms, Retail, SaaS\":\"E-commerce\",\n",
    "    \"Cloud Infrastructure, PaaS, SaaS\":\"SaaS\",\n",
    "    \"Internet, Leisure, Marketplace', 'Market Research\":\"E-commerce\",\n",
    "    \"Information Services, Information Technology', 'Mobile Payments\" :\"IT\",\n",
    "    \"B2B, Shoes, Internet\":\"E-commerce\",\n",
    "    \"Apps, Collaboration, Developer Platform, Enterprise Software, Messaging, Productivity Tools, Video Chat\": \"Saas\",\n",
    "    \"Food Delivery\": \"Delivery System\", \n",
    "    \"Industrial Automation\":\"AI\",\n",
    "    \"Automotive, Search Engine, Service Industry\" : \"Trasport\",\n",
    "    \"Finance, Internet, Travel\" :\"Technology\",\n",
    "    \"Accounting, Business Information Systems, Business Travel, Finance, SaaS\" : \"SaaS\",\n",
    "    \"Artificial Intelligence, Product Search, SaaS, Service Industry, Software\" : \"AI\",\n",
    "    \"Internet of Things, Waste Management\": \"Internet of things\",\n",
    "    \"Air Transportation, Freight Service, Logistics, Marine Transportation\":\"Transport\",\n",
    "    \"Financial Services\":\"Financial service\",\n",
    "    \"Food and Beverage\": \"Food and Beverage\",\n",
    "    \"Autonomous Vehicles\" : \"Transport\",\n",
    "    \"Enterprise Software, Health Care, Hospital, Parenting, Personal Health, SaaS\": \"Healthtech\",\n",
    "    \"Agriculture, Analytics, Big Data, Farming\":\"Agricture\",\n",
    "    \"Logistics, Supply Chain Management\" :\"Logistics\",\n",
    "    \"Financial Services, Lending\": \"Fintech\",\n",
    "    \"Automotive, Marketplace, Online Portals\":\"Automotive\",\n",
    "    \"Artificial Intelligence\":\"AI\",\n",
    "    \"Internet of Things, Telecommunications\":\"Internet of Things\",\n",
    "    \"Insurance\": \"Finance\",\n",
    "    \"Information Technology, Logistics, Supply Chain Management\":\"Logistics\",\n",
    "    \"Blockchain, Developer Tools, Enterprise Software\":\"Blockchain\",\n",
    "    \"Industrial Automation, Logistics, Supply Chain Management\":\"Logistics\",\n",
    "    \"Food and Beverage, Food Delivery, Snack Food', 'Education\":\"Beverages\",\n",
    "    \"E-Commerce, Fashion, Jewelry, Retail\":\"E-commerce\",\n",
    "    \"Renewable Energy\":\"Energy\",\n",
    "    \"E-Learning, Education\":\"Education\",\n",
    "    \"Clean Energy, CleanTech, Laundry and Dry-cleaning\":\"Cleantech\",\n",
    "    \"E-Commerce, Fashion, Mobile\":\"E-commerce\",\n",
    "    \"Apps, Messaging, Navigation, Public Safety\":\"Transport\",\n",
    "    \"Transportation\":\"Transport\",\n",
    "    \"Fitness, Health Care, Wellness\": \"Healthtech\",\n",
    "    \"Artificial Intelligence, Machine Learning, SaaS, Virtual Assistant\":\"AI\",\n",
    "    \"Hospitality\":\"Hospitality\",\n",
    "    \"Food and Beverage, Tea\":\"Beverage\",\n",
    "    \"Media and Entertainment, News, Outdoors\":\"Entertainment\",\n",
    "    \"Broadcasting, Media and Entertainment, Music, Music Streaming, Video, Video Streaming\":\"Entertainment\",\n",
    "    \"B2B, Information Services, Information Technology\":\"Technology\",\n",
    "    \"EdTech, Education, Enterprise Software, Peer to Peer\":\"Education\",\n",
    "    \"Health Care, Medical\":\"Healthtech\",\n",
    "    \"E-Commerce\":\"E-commerce\",\n",
    "    \"Health Care, Hospital, Wellness\":\"Healthtech\",\n",
    "    \"Sports\":\"Sports\",\n",
    "    \"Big Data, Consumer Lending, FinTech\":\"Fintech\",\n",
    "    \"Cloud Computing, Computer, Semiconductor\":\"IT\",\n",
    "    \"Health Care, Medical, Pharmaceutical\":\"Healthtech\",\n",
    "    \"Food Processing, Retail\":\"Beverage\",\n",
    "    \"Trading Platform\":\"Marketing\",\n",
    "    \"Consumer Goods, Lifestyle, Men's\":\"Lifestyle\",\n",
    "    \"Wellness\":\"Lifestyle\",\n",
    "    \"Food and Beverage, Food Processing, Nutrition\":\"Beverage\",\n",
    "    \"Fashion\":\"Lifestyle\",\n",
    "    \"Automotive, Electric Vehicle, Energy Storage\":\"Automative\",\n",
    "    \"Consulting, Retail, Social\":\"Marketing\",\n",
    "    \"Biotechnology, Life Science, Pharmaceutical, Product Research\":\"Pharmaceutical\",\n",
    "    \"Health Care\":\"Healthtech\",\n",
    "    \"Credit, Financial Services, FinTech, Personal Finance\":\"Fintech\",\n",
    "    \"Communities, Coworking, Incubators\":\"Incubator\",\n",
    "    \"Consumer, Financial Services, FinTech\":\"Fintech\",\n",
    "    \"Consumer Applications, Information Services, Location Based Services, Virtual Assistant\":\"IT\",\n",
    "    \"Mobile, Mobile Apps, Personalization, Test and Measurement, Web Apps\":\"Technology\",\n",
    "    \"Education, Financial Services, FinTech\":\"Fintech\",\n",
    "    \"Advertising, Consulting, Digital Marketing\":\"Marketing\",\n",
    "    \"Marketplace, Real Estate, Rental Property\":\"Real Estate\",\n",
    "    \"E-Learning, Internet, Video Games\":\"E-learning\",\n",
    "    \"Artificial Intelligence, Cloud Computing, Video\":\"AI\",\n",
    "    \"Health Care, Information Technology\":\"Healthtech\",\n",
    "    \"Aerospace\": \"AI\",\n",
    "    \"E-Commerce, Fashion, Lifestyle\":\"Lifestyle\",\n",
    "    \"Artificial Intelligence, Business Intelligence, Industrial Automation, Machine Learning\":\"AI\",\n",
    "    \"Home Decor, Home Improvement, Home Renovation, Home Services, Interior Design, Smart Home\":\"Real Estate\",\n",
    "    \"EdTech, Education, Information Services, SaaS\":\"SaaS\",\n",
    "    \"Energy, Solar\":\"Energy\",\n",
    "    \"B2B, Biometrics, Cyber Security, Fraud Detection, SaaS, Security\":\"Technology\",\n",
    "    \"Artificial Intelligence, Social\":\"AI\",\n",
    "    \"Logistics, Transportation, Travel\":\"Transport\",\n",
    "    \"Digital Marketing, SEM, SEO, Web Development\":\"Marketing\",\n",
    "    \"Health Care, Hospital, Medical\":\"Healthtech\",\n",
    "    \"Finance, Financial Services\":\"Fintech\",\n",
    "    \"Food Delivery, Food Processing, Internet\":\"Transport\",\n",
    "    \"E-Commerce, Food and Beverage, Internet\":\"Beverage\",\n",
    "    \"Fitness, Food and Beverage, Health Care, Nutrition\":\"Beverage\",\n",
    "    \"EdTech, Education, Knowledge Management\":\"Edtech\",\n",
    "    \"Apps, Beauty, Consumer, Retail\":\"Lifestyle\",\n",
    "    \"Creative Agency, Crowdfunding, EdTech, Health Care, Internet, Medical, Non Profit, Personal Health\":\"Incubator\",\n",
    "    \"Consumer Lending, Financial Services, FinTech, Insurance, Lending, Mobile Payments, Payments, Wealth Management\":\"Fintech\",\n",
    "    \"E-Learning, Education, Higher Education\":\"Etech\",\n",
    "    \"Health Diagnostics\":\"Healthtech\",\n",
    "    \"EdTech, Education\":\"Etech\",\n",
    "    \"Financial Services, SaaS, Security\":\"Saas\",\n",
    "    \"Banking, Finance, Financial Services, Non Profit\":\"Finance\",\n",
    "    \"B2B, E-Commerce, Mobile\":\"Technology\",\n",
    "    \"Automotive, Electric Vehicle, Renewable Energy', 'E-Learning\":\"Automotive\",\n",
    "    \"Embedded Systems, Health Care, Medical, Product Research\":\"Healthtech\",\n",
    "    \"Apps, E-Commerce, Internet\":\"E-commerce\",\n",
    "    \"Advertising, Human Resources, Marketing\":\"Marketing\",\n",
    "    \"Beauty, Fitness, Home Services, Internet\":\"Lifestyle\",\n",
    "    \"Health Care, Medical Device, Public Safety\":\"Healthtech\",\n",
    "    \"Food Delivery, Online Portals, Restaurants\":\"Trasport\",\n",
    "    \"AgTech, B2B, Supply Chain Management\":\"Agritech\",\n",
    "    \"Credit Cards, Finance, Mobile Apps, Mobile Payments, Payments\":\"Fintech\",\n",
    "    \"Software\":\"AI\",\n",
    "    \"EdTech, Education, Higher Education, Secondary Education\":\"Edtech\",\n",
    "    \"Manufacturing, Retail\":\"Manufacturing\",\n",
    "    \"Manufacturing\":\"Manufacturing\",\n",
    "    \"Information Services, Information Technology, InsurTech\":\"Insurtech\",\n",
    "    \"Consumer Lending, FinTech\":\"Fintech\",\n",
    "    \"Internet, Social Network, TV\":\"Socialmedia\",\n",
    "    \"Beauty, Health Care', 'Hospital\":\"lifestyle\",\n",
    "    \"Events\":\"Event\",\n",
    "    \"3D Printing, Manufacturing, Product Design\":\"Design\",\n",
    "    \"Automotive\":\"Automative\",\n",
    "    \"Automotive, Retail\":\"Automative\",\n",
    "    \"Apps, Audio\":\"Socialmedia\",\n",
    "    \"Automotive, E-Commerce\":\"Automative\",\n",
    "    \"Digital Entertainment, Fantasy Sports, Sports\":\"Entertainment\",\n",
    "    \"E-Learning, EdTech, Education\":\"Edtech\",\n",
    "    \"Funding Platform, Incubators, Non Profit\":\"Incubator\",\n",
    "    \"Hospitality, Hotel, Leisure, Travel\":\"Hospitality\",\n",
    "    \"Classifieds, Internet, Marketplace, Rental Property\":\"Real  Estate\",\n",
    "    \"Banking, E-Learning, Trading Platform\":\"Edtech\",\n",
    "    \"E-Commerce, Mobile, Retail\":\"Technology\",\n",
    "    \"Artificial Intelligence, Information Technology\":\"AI\",\n",
    "    \"Enterprise Resource Planning (ERP), Information Services, Information Technology, Real Estate\":\"Real Estate\",\n",
    "    \"Banking, Finance, Financial Services\":\"Fintech\",\n",
    "    \"Audio, Mobile, Tourism, Travel\":\"Transport\",\n",
    "    \"Energy, Energy Storage, Infrastructure\":\"Energy\",\n",
    "    \"Government, Information Technology, Software\":\"Govtech\",\n",
    "    \"Information Technology\":\"IT\",\n",
    "    \"Education, Information Technology, Internet, Mobile, Software\":\"Technology\",\n",
    "    \"Consumer Lending, Financial Services, Lending, Personal Finance\":\"Finance\",\n",
    "    \"Digital Media, Internet, Media and Entertainment, Online Portals, Social Media\":\"Entertainment\",\n",
    "    \"Business Intelligence, Customer Service, Market Research, SaaS\":\"Customer feedback\",\n",
    "    \"Credit, Financial Services, FinTech, Lending\":\"Fintech\",\n",
    "    \"Children, Education, Parenting\":\"Edtech\",\n",
    "    \"Automotive, Battery, Energy, Energy Storage\":\"Automative\",\n",
    "    \"E-Commerce, Mobile, Sharing Economy\":\"E-commerce\",\n",
    "    \"Food Delivery, Organic, Organic Food\":\"Delivery\", \n",
    "    \"Mobile\":\"Technology\", \n",
    "    \"Rental\":\"Real Estate\",\n",
    "    \"Consumer\":\"consumer\", \n",
    "    \"B2B, Farming, Marketplace\":\"E-commerce\", \n",
    "    \"Wealth Management\":\"Finance\",\n",
    "    \"Biotechnology\":\"Biotech\", \n",
    "    \"Education, Gaming, Training\":\"Edtech\", \n",
    "    \"Veterinary\":\"Pettech\",\n",
    "    \"Internet, Mobile, Social Entrepreneurship, Telecommunications, Wireless\":\"Technology\",\n",
    "    \"Health Care, Hospital, Supply Chain Management\":\"Logistics\",\n",
    "    \"Tourism, Travel\":\"Transport\", \n",
    "    \"Hospitality, Real Estate\":\"Real Estate\", \n",
    "    \"Finance\":\"Finance\",\n",
    "    \"Digital Media, EBooks, Publishing, Reading Apps\":\"Ebook\",\n",
    "    \"Consumer Electronics, Embedded Systems, Hardware, Smart Building, Software\":\"Technology\",\n",
    "    \"Food and Beverage, Food Processing\":\"Beverage\",\n",
    "    \"Internet, Marketplace, Shopping\":\"E-commerce\",\n",
    "    \"Analytics, Computer Vision, Enterprise Software, Machine Learning, Natural Language Processing, Speech Recognition\":\"AI\",\n",
    "    \"Facilities Support Services\":\"Support sytem\",\n",
    "    \"Automotive, Electric Vehicle, Energy\":\"Automative\",\n",
    "    \"Health Care, Health Diagnostics, Predictive Analytics\":\"Healthtech\",\n",
    "    \"Cloud Computing, Computer, SaaS, Software\":\"Technology\",\n",
    "    \"Fashion, Lifestyle, Retail\":\"Lifestyle\", \n",
    "    \"Medical\":\"Healthtech\", \n",
    "    \"Music Streaming\":\"Entertainment\",\n",
    "    \"Finance, Impact Investing, Internet\":\"Fintech\",\n",
    "    \"Internet, Social Entrepreneurship\":\"Software\",\n",
    "    \"Retail\":\"Transport\",\n",
    "    \"Finance, Impact Investing, Mobile Apps\":\"Technology\",\n",
    "    \"Cloud Computing, Computer, Software\":\"Internet of things\",\n",
    "    \"Business Development, Market Research, Outsourcing\":\"E-commerce\",\n",
    "    \"Health Care, Hospitality\":\"Healthtech\", \n",
    "    \"Internet, Social News, Sports\":\"Entertainment\",\n",
    "    \"Human Resources\":\"Admin\", \n",
    "    \"Finance, Financial Services, FinTech\":\"Fintech\",\n",
    "    \"Customer Service, Software, Video, Video Streaming\":\"Software\",\n",
    "    \"E-Commerce, Food Processing\":\"E-commerce\", \n",
    "    \"Training\":\"Entertainment\", \n",
    "    \"Travel\":\"Transport\",\n",
    "    \"Dietary Supplements, Food and Beverage, Health Care, Organic Food, Snack Food\":\"Beverage\",\n",
    "    \"Manufacturing, Oil and Gas, Robotics\":\"AI\",\n",
    "    \"Artificial Intelligence, Computer, Machine Learning\":\"AI\",\n",
    "    \"Collaboration, Communities, Coworking, Sharing Economy\":\"Real Estate\",    \n",
    "    \"Finance\":\"Finance\",\n",
    "    \"Big Data, EdTech, Machine Learning\":\"AI\", \n",
    "    \"Nanotechnology\":\"Nanotech\",\n",
    "    \"Analytics, Audio, Digital Media, Innovation Management, Internet Radio, Media and Entertainment\":\"Entertainment\",\n",
    "    \"Financial Services, Lending, Peer to Peer\":\"Fintech\",\n",
    "    \"E-Commerce, Furniture, Home Decor, Interior Design, Internet\":\"Design\",\n",
    "    \"Digital Media\":\"Entertainment\", \n",
    "    \"File Sharing, Personalization, Social Media\":\"Social Media\",\n",
    "    \"Home Decor, Interior Design\":\"Design\",\n",
    "    \"Health Care, Medical Device, Mobile Apps\":\"Healthtech\",\n",
    "    \"E-Commerce, Facilities Support Services, Procurement, Supply Chain Management\":\"Ecommerce\",\n",
    "    \"Crowdfunding, Finance, Financial Services\":\"Fintech\",\n",
    "    \"Finance, Financial Services, Insurance\":\"Fintech\",\n",
    "    \"Children, Education, Online Portals\":\"Edtech\", \n",
    "    \"Software, Virtual Reality\":\"Entertainment\",\n",
    "    \"B2B, Food and Beverage, Food Delivery\":\"Beverage\",\n",
    "    \"Catering, Food and Beverage, Food Delivery, Food Processing\":\"Beverage\",\n",
    "    \"Food and Beverage, Snack Food\":\"Beverage\", \n",
    "    \"Automotive, E-Commerce, Mobile\":\"Automative\",\n",
    "    \"Computer, Digital Marketing, Facilities Support Services, Graphic Design, Internet, Mobile Apps, Social Media Marketing, Web Development\":\"Technology\",\n",
    "    \"Android, Big Data, Blockchain, Cloud Computing, EdTech, Education, Information Technology, iOS, Training, Web Development\":\"Edtech\",\n",
    "    \"Analytics, CRM, Loyalty Programs, Machine Learning, Marketing Automation, Retail Technology, SaaS, Small and Medium Businesses\":\"E-commerce\",\n",
    "    \"Delivery, Information Technology, Mobile Apps\":\"Technology\",\n",
    "    \"Environmental Consulting, Renewable Energy\":\"Energy\",\n",
    "    \"Big Data, Business Intelligence, Financial Services, FinTech, Personal Finance\":\"Fintech\",\n",
    "    \"Commercial Real Estate, Coworking, Office Administration, Real Estate\":\"Real Estate\",\n",
    "    \"Food and Beverage, Food Processing, Organic Food, Snack Food\":\"Beverage\",\n",
    "    \"Apps, Health Care, Internet, Mobile Apps, Personal Health\":\"Healthtech\",\n",
    "    \"Digital Media, Incubators, Social Entrepreneurship\":\"Incubator\",\n",
    "    \"Finance, Financial Services, Marketing\":\"fintech\",\n",
    "    \"Biotechnology, Health Care, Life Science, Medical Device\":\"Biotech\",\n",
    "    \"Education, Human Resources\":\"Edutech\", \n",
    "    \"Consumer Electronics\":\"Technology\",\n",
    "    \"Apps, Health Care, Hospital, Mobile Apps\":\"Healthtech\",\n",
    "    \"Delivery Service, Logistics, Service Industry\":\"Trasport\",\n",
    "    \"Big Data, Data Visualization, Logistics, Software\":\"Logistics\",\n",
    "    \"Basketball, Cricket, Cycling, eSports, Fitness, Golf, Health Care, Hockey, Sports, Swimming, Table Tennis, Volley Ball\":\"Esport\",\n",
    "    \"Media and Entertainment, News, Publishing\":\"Entertainment\", \n",
    "    \"Consulting\":\"Incubator\",\n",
    "    \"Big Data, Financial Services, Machine Learning, Predictive Analytics\":\"Fintech\",\n",
    "    \"Agriculture, AgTech, Manufacturing\":\"Agricuture\",\n",
    "    \"Digital Media, News, Publishing\":\"Entertainment\", \n",
    "    \"Health Care, Hospital\":\"Healthtech\",\n",
    "    \"B2B, E-Commerce, Enterprise\":\"E-commerce\",\n",
    "    \"Fraud Detection, Information Services, Security\":\"Software\",\n",
    "    \"Agriculture, AgTech, Artificial Intelligence, Internet of Things, Machine Learning\":\"Agriculture\",\n",
    "    \"Cryptocurrency, Trading Platform\":\"Crypo\",\n",
    "    \"Finance, FinTech, Mobile Payments\":\"Fintech\", \n",
    "    \"Wedding\":\"Software\",\n",
    "    \"E-Learning, EdTech, Education, Image Recognition, Machine Learning, STEM Education\":\"Edtech\",\n",
    "    \"Consumer Goods\":\"E-commerce\", \n",
    "    \"Digital Entertainment\":\"Entertainment\",\n",
    "    \"Crowdsourcing, Financial Services, Funding Platform, Venture Capital\":\"Fintech\",\n",
    "    \"Delivery, Drones, Geospatial, Robotics\":\"AI\",\n",
    "    \"Health Care, Information Technology, Management Information Systems\":\"Healthtech\",\n",
    "    \"Farming\":\"Agriculture\",\n",
    "    \"Business Travel, Hospitality, Hotel, Marketplace, Tourism, Travel Accommodations\":\"E-commerce\",\n",
    "    \"Career Planning, Education, Higher Education, Service Industry\":\"Edtech\",\n",
    "    \"Medical Device\":\"Healthtech\", \n",
    "    \"Alternative Medicine, Health Care\":\"Healthtech\",\n",
    "    \"Internet, Software\":\"Software\",\n",
    "    \"Dental, Elder Care, Health Care, Home Health Care, Personal Health\":\"Healthtech\",\n",
    "    \"Financial Services, Insurance, Private Social Networking\":\"Fintech\",\n",
    "    \"Consumer Electronics, E-Commerce, E-Commerce Platforms, Electronics, Shipping, Shopping\":\"E-commerce\",\n",
    "    \"CleanTech\":\"Cleantech\", \n",
    "    \"Advertising, Internet, Marketing\":\"Entertainment\",\n",
    "    \"Human Resources, Security, Training\":\"SaaS\",\n",
    "    \"Consumer Lending, Finance, FinTech\":\"Fintech\",\n",
    "    \"Marketing, Social Media, Video\":\"Entertainment\", \n",
    "    \"Banking\":\"Fintech\", \n",
    "    \"Food Processing\":\"Agriculture\",\n",
    "    \"Apps\":\"Software\", \n",
    "    \"Marketing\":\"E-commerce\",\n",
    "    \"Apps, B2B, Freight Service, Logistics, SaaS, Shipping, Supply Chain Management, Transportation\":\"Transportation\",\n",
    "    \"Digital Entertainment, Fantasy Sports, Gaming, Sports\":\"Esports\",\n",
    "    \"Automotive, Last Mile Transportation, Peer to Peer, Ride Sharing:\":\"Automative\",\n",
    "    \"Commercial, E-Learning, Education\":\"Software\",\n",
    "    \"Continuing Education, EdTech, Education, Skill Assessment\":\"Edtech\",\n",
    "    \"Smart Cities, Telecommunications', 'Internet of Things, Robotics\":\"Internet of things\",\n",
    "    \"Apps, Home Services, Information Services, Information Technology\":\"E-commerce\",\n",
    "    \"Medical, Tourism\":\"Transport\", \n",
    "    \"Career Planning, Education, Internet\":\"Edtech\",\n",
    "    \"Fashion, Graphic Design, Wearables\":\"Design\",\n",
    "    \"Communities, Leisure, Mobile Apps, Software\":\"Lifestyle\",\n",
    "    \"Automotive, Rental, Sharing Economy\":\"Automative\",\n",
    "    \"Energy, Environmental Consulting, Renewable Energy, Solar\":\"Energy\",\n",
    "    \"Information Technology, SaaS, Security\":\"Technology\",\n",
    "    \"Crowdfunding, Financial Services, Internet\":\"Fintech\",\n",
    "    \"Customer Service, Information Technology, Internet, Sales Automation\":\"Software\",\n",
    "    \"Advertising, Artificial Intelligence, Digital Media, iOS, Location Based Services, News, Video, Video on Demand, Video Streaming\":\"AI\",\n",
    "    \"Credit Cards, Payments, Property Insurance, Property Management, Rental Property\":\"Real Estate\",\n",
    "    \"Beauty, Cosmetics, Health Care, Service Industry\":\"Lifestyle\",\n",
    "    \"EdTech, Education, Mobile, Tutoring\":\"Edtech\", \n",
    "    \"Social Media, Sports\":\"Sports\",\n",
    "    \"Biopharma\":\"Pharmaceutical\", \n",
    "    \"E-Commerce, E-Commerce Platforms, Retail\":\"E-commerce\",\n",
    "    \"E-Commerce, Fashion, Shopping\":\"E-commerce\",\n",
    "     \"Digital Entertainment, Mobile, PC Games\":\"Entertainment\",\n",
    "    \"Finance, Financial Services, Small and Medium Businesses\":\"Fintech\",\n",
    "    \"Artificial Intelligence, Energy, Oil and Gas\":\"AI\",\n",
    "    \"Computer, FinTech, Risk Management, Software\":\"AI\",\n",
    "    \"Apps, Financial Services, FinTech\":\"Fintech\",\n",
    "    \"Child Care, Health Care, Hospital, Medical, Women's\":\"Healthtech\",\n",
    "    \"Agriculture, Mobile\":\"Agriculture\",\n",
    "    \"Finance, FinTech, Payments, Property Development, Rental\":\"Real Estate\",\n",
    "    \"Information Services, Information Technology, Mobile, Software\":\"Software\",\n",
    "    \"Apps, Fitness, Health Care, mHealth\":\"Lifestyle\",\n",
    "    \"Food and Beverage, Food Delivery\":\"Beverage\", \n",
    "    \"Apps, Payments, Retail\":\"E-commerce\",\n",
    "    \"Health Insurance, Insurance, Life Insurance\":\"Insurance\",\n",
    "    \"Rental, Taxi Service, Travel\":\"Trasport\",\n",
    "    \"E-Commerce, E-Commerce Platforms, Internet, Retail\":\"E-commerce\",\n",
    "    \"Financial Services, Professional Services\":\"Fintech\",\n",
    "    \"Customer Service, Messaging, Mobile Apps, Personalization\":\"Transport\",\n",
    "    \"Gaming, iOS, Sports\":\"E-sports\",\n",
    "    \"E-Commerce, E-Commerce Platforms, Internet, Mobile Apps, Social Media\":\"E-commerce\",\n",
    "    \"Search Engine\":\"Automative\",\n",
    "    \"Battery, Electric Vehicle, Energy, Renewable Energy, Transportation\":\"Automative\",\n",
    "    \"Agriculture, Farmers Market, Farming\":\"Agriculture\",\n",
    "    \"Artificial Intelligence, Drones, Navigation, Packaging Services, Robotics\":\"AI\",\n",
    "    \"Fitness, GreenTech, Internet of Things, Mobile Apps, Ride Sharing, Transportation\":\"Lifestyle\",\n",
    "    \"Mobile, Software, Travel\":\"Transport\", \n",
    "    \"Cosmetics\":\"Lifestyle\",\n",
    "    \"Consulting, Cyber Security, Network Security\":\"Edtech\",\n",
    "    \"eSports, Gaming, Video Games\":\"Esports\", \n",
    "    \"Fashion, Jewelry\":\"LIfestyle\",\n",
    "    \"B2B, Medical Device\":\"Healthtech\", \n",
    "    \"Consumer Goods, Manufacturing\":\"Manufacturing\",\n",
    "    \"Biotechnology, Health Care, Wellness\":\"Biotech\",\n",
    "    \"Health Care, Hospital, Medical, Robotics\":\"Healthtech\",\n",
    "    \"E-Commerce, Fitness, Health Care\":\"Healthtech\",\n",
    "    \"Financial Services, Venture Capital\":\"Fintech\", \n",
    "    \"Accounting, Apps, FinTech\":\"Fintech\",\n",
    "    \"Apps, Mobile, Transportation\":\"Transport\",\n",
    "    \"Reading Apps\":\"Edtech\",\n",
    "    \"Energy, Renewable Energy, Solar\":\"Energy\",\n",
    "    \"Banking, Financial Services, FinTech\":\"Fintech\", \n",
    "    \"Apps, Education, Retail\":\"Edtech\",\n",
    "    \"Electric Vehicle\":\"Automative\",\n",
    "    \"Automotive, Battery, Electric Vehicle, Manufacturing, Mechanical Design\":\"Automative\",\n",
    "    \"Automotive, E-Commerce, Marketplace\":\"E-commerce\", \n",
    "    \"Agriculture\":\"Agrictech\",\n",
    "    \"Apps, Information Services, Information Technology\":\"Information technology\",\n",
    "    \"B2B, Marketplace\":\"B2B\", \n",
    "    \"Packaging Services\":\"Manufacturing\",\n",
    "    \"Computer, Furniture, Software\":\"E-commerce\",\n",
    "    \"Food Delivery, Hospitality, Reservations, Restaurants, Search Engine\":\"Hospitality\",\n",
    "    \"Collaboration, Communities, Coworking, Real Estate\":\"Real Estate\",\n",
    "    \"Accounting, Banking, Finance\":\"Fintech\",\n",
    "    \"Cloud Computing, Enterprise Software, Network Hardware, Network Security, SaaS\":\"Technology\",\n",
    "    \"Information Services, Internet, Logistics, Supply Chain Management, Transportation\":\"Logistics\",\n",
    "    \"Automotive, E-Commerce, Information Services\":\"E-commerce\",\n",
    "    \"Delivery, Logistics, Transportation\":\"Transport\",\n",
    "    \"Automotive, E-Commerce Platforms, Marketplace\":\"E-commerce\",\n",
    "    \"Last Mile Transportation, Railroad, Transportation, Travel\":\"Transport\",\n",
    "    \"Cooking, E-Commerce, Food and Beverage, Food Delivery, Online Portals\":\"Food and beverage\",\n",
    "    \"FinTech, Mobile, Mobile Payments, Payments, Retail Technology\":\"E-commerce\",\n",
    "    \"Online Games, Software\":\"Esport\",\n",
    "    \"Online Portals, Property Management, Rental\":\"Real Estate\",\n",
    "    \"E-Commerce, Food and Beverage, Tea\":\"Food and Beverage\",\n",
    "    \"Music, Social Network, Video\":\"Entertainment\",\n",
    "    \"Health Care, Pharmaceutical, Wellness\":\"Pharmaceutical\",\n",
    "    \"Delivery Service, Food and Beverage, Food Delivery\":\"Food and Beverage\",\n",
    "    \"Hospitality, Information Technology, Travel Accommodations\":\"Accommodation\",\n",
    "    \"Biotechnology, Diabetes, Health Care\":\"Biotech\",\n",
    "    \"Autonomous Vehicles, Last Mile Transportation, Recreational Vehicles, Rental\":\"Transport\",\n",
    "    \"Finance, Financial Exchanges, Financial Services, Micro Lending\":\"Fintech\",\n",
    "    \"Analytics, Apps, Market Research\":\"Software\",\n",
    "    \"E-Commerce, E-Commerce Platforms, Furniture, Home Decor, Internet\":\"E-commerce\",\n",
    "    \"Apps, Mobile, Mobile Apps, Software\":\"Software\",\n",
    "    \"News, Publishing, Social Media\":\"Media\",\n",
    "    \"Industrial, Industrial Automation\":\"Automation\",\n",
    "    \"Internet, Mobile Apps, Social Network\":\"Media\",\n",
    "    \"Health Care, Health Diagnostics, Internet of Things, Life Science, Machine Learning, Medical, Medical Device\":\"Healthtech\",\n",
    "    \"E-Commerce, Furniture, Interior Design\":\"E-commerce\", \n",
    "    \"Apps, Events, News\":\"Media\",\n",
    "    \"Artificial Intelligence, Human Resources, Information Services, Information Technology\":\"Human Resources\",\n",
    "    \"Logistics, Railroad, Transportation\":\"Logisticstech\",\n",
    "    \"Dating, Private Social Networking\":\"Lifestyle\",\n",
    "    \"Artificial Intelligence, Machine Learning, PaaS\":\"AI\",\n",
    "    \"Consumer, Furniture, Home Decor, Home Improvement\":\"Real Estate\",\n",
    "    \"Apps, E-Commerce, Internet, Mobile, Ride Sharing, Transportation\":\"Transport\",\n",
    "    \"Health Care, Health Insurance\":\"Healthtech\", \n",
    "    \"Energy, Natural Resources\":\"Energy\",\n",
    "    \"E-Commerce, Education, Health Care\":\"Edtech\",\n",
    "    \"Apps, Health Care, Pharmaceutical\":\"Healthtech\",\n",
    "    \"Internet, Knowledge Management\":\"Software\",\n",
    "    \"Credit, Finance, FinTech, Lending, Sales Automation\":\"Fintech\",\n",
    "    \"Banking, Financial Services, Internet\":\"Fintech\",\n",
    "    \"E-Commerce, Health Care, Retail\":\"E-commerce\",\n",
    "    \"Child Care, Information Technology\":\"Software\",\n",
    "    \"Financial Services, Micro Lending\":\"Fintech\",\n",
    "    \"E-Commerce, Retail, Shopping\":\"E-commerce\",\n",
    "    \"Food and Beverage, Snack Food, Tea\":\"Food and Beverage\",\n",
    "    \"Delivery Service, E-Commerce, Logistics\":\"Logistics\",\n",
    "    \"Fashion, Lifestyle, Rental\":\"Fashion\", \n",
    "    \"Fantasy Sports, Mobile, Sports\":\"Esports\",\n",
    "    \"Beauty, Fashion, Wellness\":\"Lifestyle\", \n",
    "    \"Food and Beverage, Restaurants, Tea\":\"Food and Beverage\",\n",
    "    \"Fitness, Sporting Goods, Sports\":\"Manufacturing\",\n",
    "    \"Food and Beverage, Food Processing, Manufacturing\":\"Food and Beverage\",\n",
    "    \"E-Learning, Internet\":\"E-learning\", \n",
    "    \"Eyewear, Internet\":\"IT\",\n",
    "    \"Information Technology, Mobile, News, Operating Systems, Social Media, Social News\":\"Ebook\",\n",
    "    \"FinTech, Internet, Payments, Service Industry\":\"Fintech\",\n",
    "    \"B2B, Business Development, Internet, Marketplace\":\"B2B\",\n",
    "    \"Food and Beverage, Food Delivery, Internet\":\"Food and Beverage\",\n",
    "    \"Biotechnology, Health Care, Pharmaceutical\":\"Pharmaceutical\",\n",
    "\n",
    "\n",
    "\n",
    "\n",
    "\n",
    "}"
   ]
  },
  {
   "cell_type": "code",
   "execution_count": 43,
   "metadata": {},
   "outputs": [],
   "source": [
    "#mapping the dictionary made to create Sectr with regax for the mapping to be done \n",
    "df_2018['Sector']= df_2018['Industry'].replace(mapping_dict,regex=False)"
   ]
  },
  {
   "cell_type": "code",
   "execution_count": 44,
   "metadata": {},
   "outputs": [],
   "source": [
    "#droping the industry column\n",
    "df_2018= df_2018.drop('Industry', axis=1)\n"
   ]
  },
  {
   "cell_type": "code",
   "execution_count": 45,
   "metadata": {},
   "outputs": [
    {
     "data": {
      "text/plain": [
       "0"
      ]
     },
     "execution_count": 45,
     "metadata": {},
     "output_type": "execute_result"
    }
   ],
   "source": [
    "# confirm null value \n",
    "df_2018['Sector'].isnull().sum()"
   ]
  },
  {
   "cell_type": "code",
   "execution_count": 46,
   "metadata": {},
   "outputs": [
    {
     "data": {
      "text/plain": [
       "Fintech                   47\n",
       "Healthtech                41\n",
       "E-commerce                33\n",
       "                          30\n",
       "AI                        27\n",
       "                          ..\n",
       "Accommodation              1\n",
       "Agrictech                  1\n",
       "Food and beverage          1\n",
       "Information technology     1\n",
       "Fashion                    1\n",
       "Name: Sector, Length: 94, dtype: int64"
      ]
     },
     "execution_count": 46,
     "metadata": {},
     "output_type": "execute_result"
    }
   ],
   "source": [
    "#count the occurrences of unique values in Sector column\n",
    "df_2018['Sector'].value_counts().sort_values(ascending=False)"
   ]
  },
  {
   "cell_type": "code",
   "execution_count": 49,
   "metadata": {},
   "outputs": [
    {
     "ename": "TypeError",
     "evalue": "unhashable type: 'list'",
     "output_type": "error",
     "traceback": [
      "\u001b[1;31m---------------------------------------------------------------------------\u001b[0m",
      "\u001b[1;31mTypeError\u001b[0m                                 Traceback (most recent call last)",
      "Cell \u001b[1;32mIn[49], line 58\u001b[0m\n\u001b[0;32m     53\u001b[0m consistent_names\u001b[39m=\u001b[39m[\u001b[39m'\u001b[39m\u001b[39mFinance\u001b[39m\u001b[39m'\u001b[39m,\u001b[39m'\u001b[39m\u001b[39mE-commerce \u001b[39m\u001b[39m'\u001b[39m,\u001b[39m'\u001b[39m\u001b[39mEducation\u001b[39m\u001b[39m'\u001b[39m,\u001b[39m'\u001b[39m\u001b[39mAgriculture\u001b[39m\u001b[39m'\u001b[39m,\u001b[39m'\u001b[39m\u001b[39mTechnology\u001b[39m\u001b[39m'\u001b[39m,\u001b[39m'\u001b[39m\u001b[39mLifestyle\u001b[39m\u001b[39m'\u001b[39m,\n\u001b[0;32m     54\u001b[0m                   \u001b[39m'\u001b[39m\u001b[39mHuman Resources\u001b[39m\u001b[39m'\u001b[39m,\u001b[39m'\u001b[39m\u001b[39mFood & Beverage\u001b[39m\u001b[39m'\u001b[39m,\n\u001b[0;32m     55\u001b[0m                   \u001b[39m'\u001b[39m\u001b[39mHealth\u001b[39m\u001b[39m'\u001b[39m,\u001b[39m'\u001b[39m\u001b[39mMarketing and Advertising\u001b[39m\u001b[39m'\u001b[39m,\u001b[39m'\u001b[39m\u001b[39mManufacturing\u001b[39m\u001b[39m'\u001b[39m,\u001b[39m'\u001b[39m\u001b[39mTransportation\u001b[39m\u001b[39m'\u001b[39m,\u001b[39m'\u001b[39m\u001b[39mHospitality\u001b[39m\u001b[39m'\u001b[39m,\u001b[39m'\u001b[39m\u001b[39m Sports\u001b[39m\u001b[39m'\u001b[39m,\u001b[39m'\u001b[39m\u001b[39mEnergy\u001b[39m\u001b[39m'\u001b[39m,\u001b[39m'\u001b[39m\u001b[39m Media\u001b[39m\u001b[39m'\u001b[39m,\u001b[39m'\u001b[39m\u001b[39mService Provider\u001b[39m\u001b[39m'\u001b[39m]\n\u001b[0;32m     57\u001b[0m \u001b[39mfor\u001b[39;00m pattern,consistent_name \u001b[39min\u001b[39;00m \u001b[39mzip\u001b[39m(patterns,consistent_names):\n\u001b[1;32m---> 58\u001b[0m     df_2018 \u001b[39m=\u001b[39m merge_values_by_name_similarity(df_2018, \u001b[39m'\u001b[39;49m\u001b[39mSector\u001b[39;49m\u001b[39m'\u001b[39;49m, pattern,consistent_name)\n\u001b[0;32m     60\u001b[0m \u001b[39mprint\u001b[39m(df_2018[\u001b[39m'\u001b[39m\u001b[39mSector\u001b[39m\u001b[39m'\u001b[39m]\u001b[39m.\u001b[39mvalue_counts())\n",
      "Cell \u001b[1;32mIn[49], line 2\u001b[0m, in \u001b[0;36mmerge_values_by_name_similarity\u001b[1;34m(df_2018, column_name, pattern, consistent_name)\u001b[0m\n\u001b[0;32m      1\u001b[0m \u001b[39mdef\u001b[39;00m \u001b[39mmerge_values_by_name_similarity\u001b[39m(df_2018,column_name,pattern,consistent_name):\n\u001b[1;32m----> 2\u001b[0m     df_2018\u001b[39m.\u001b[39mloc[df_2018[column_name]\u001b[39m.\u001b[39;49mstr\u001b[39m.\u001b[39;49mcontains(pattern,case\u001b[39m=\u001b[39;49m\u001b[39mFalse\u001b[39;49;00m),column_name]\u001b[39m=\u001b[39mconsistent_name\n\u001b[0;32m      3\u001b[0m     \u001b[39mreturn\u001b[39;00m df_2018\n",
      "File \u001b[1;32mc:\\ProgramData\\anaconda3\\lib\\site-packages\\pandas\\core\\strings\\accessor.py:129\u001b[0m, in \u001b[0;36mforbid_nonstring_types.<locals>._forbid_nonstring_types.<locals>.wrapper\u001b[1;34m(self, *args, **kwargs)\u001b[0m\n\u001b[0;32m    124\u001b[0m     msg \u001b[39m=\u001b[39m (\n\u001b[0;32m    125\u001b[0m         \u001b[39mf\u001b[39m\u001b[39m\"\u001b[39m\u001b[39mCannot use .str.\u001b[39m\u001b[39m{\u001b[39;00mfunc_name\u001b[39m}\u001b[39;00m\u001b[39m with values of \u001b[39m\u001b[39m\"\u001b[39m\n\u001b[0;32m    126\u001b[0m         \u001b[39mf\u001b[39m\u001b[39m\"\u001b[39m\u001b[39minferred dtype \u001b[39m\u001b[39m'\u001b[39m\u001b[39m{\u001b[39;00m\u001b[39mself\u001b[39m\u001b[39m.\u001b[39m_inferred_dtype\u001b[39m}\u001b[39;00m\u001b[39m'\u001b[39m\u001b[39m.\u001b[39m\u001b[39m\"\u001b[39m\n\u001b[0;32m    127\u001b[0m     )\n\u001b[0;32m    128\u001b[0m     \u001b[39mraise\u001b[39;00m \u001b[39mTypeError\u001b[39;00m(msg)\n\u001b[1;32m--> 129\u001b[0m \u001b[39mreturn\u001b[39;00m func(\u001b[39mself\u001b[39m, \u001b[39m*\u001b[39margs, \u001b[39m*\u001b[39m\u001b[39m*\u001b[39mkwargs)\n",
      "File \u001b[1;32mc:\\ProgramData\\anaconda3\\lib\\site-packages\\pandas\\core\\strings\\accessor.py:1252\u001b[0m, in \u001b[0;36mStringMethods.contains\u001b[1;34m(self, pat, case, flags, na, regex)\u001b[0m\n\u001b[0;32m   1127\u001b[0m \u001b[39m@forbid_nonstring_types\u001b[39m([\u001b[39m\"\u001b[39m\u001b[39mbytes\u001b[39m\u001b[39m\"\u001b[39m])\n\u001b[0;32m   1128\u001b[0m \u001b[39mdef\u001b[39;00m \u001b[39mcontains\u001b[39m(\u001b[39mself\u001b[39m, pat, case\u001b[39m=\u001b[39m\u001b[39mTrue\u001b[39;00m, flags\u001b[39m=\u001b[39m\u001b[39m0\u001b[39m, na\u001b[39m=\u001b[39m\u001b[39mNone\u001b[39;00m, regex\u001b[39m=\u001b[39m\u001b[39mTrue\u001b[39;00m):\n\u001b[0;32m   1129\u001b[0m     \u001b[39mr\u001b[39m\u001b[39m\"\"\"\u001b[39;00m\n\u001b[0;32m   1130\u001b[0m \u001b[39m    Test if pattern or regex is contained within a string of a Series or Index.\u001b[39;00m\n\u001b[0;32m   1131\u001b[0m \n\u001b[1;32m   (...)\u001b[0m\n\u001b[0;32m   1250\u001b[0m \u001b[39m    dtype: bool\u001b[39;00m\n\u001b[0;32m   1251\u001b[0m \u001b[39m    \"\"\"\u001b[39;00m\n\u001b[1;32m-> 1252\u001b[0m     \u001b[39mif\u001b[39;00m regex \u001b[39mand\u001b[39;00m re\u001b[39m.\u001b[39;49mcompile(pat)\u001b[39m.\u001b[39mgroups:\n\u001b[0;32m   1253\u001b[0m         warnings\u001b[39m.\u001b[39mwarn(\n\u001b[0;32m   1254\u001b[0m             \u001b[39m\"\u001b[39m\u001b[39mThis pattern is interpreted as a regular expression, and has \u001b[39m\u001b[39m\"\u001b[39m\n\u001b[0;32m   1255\u001b[0m             \u001b[39m\"\u001b[39m\u001b[39mmatch groups. To actually get the groups, use str.extract.\u001b[39m\u001b[39m\"\u001b[39m,\n\u001b[0;32m   1256\u001b[0m             \u001b[39mUserWarning\u001b[39;00m,\n\u001b[0;32m   1257\u001b[0m             stacklevel\u001b[39m=\u001b[39mfind_stack_level(),\n\u001b[0;32m   1258\u001b[0m         )\n\u001b[0;32m   1260\u001b[0m     result \u001b[39m=\u001b[39m \u001b[39mself\u001b[39m\u001b[39m.\u001b[39m_data\u001b[39m.\u001b[39marray\u001b[39m.\u001b[39m_str_contains(pat, case, flags, na, regex)\n",
      "File \u001b[1;32mc:\\ProgramData\\anaconda3\\lib\\re.py:251\u001b[0m, in \u001b[0;36mcompile\u001b[1;34m(pattern, flags)\u001b[0m\n\u001b[0;32m    249\u001b[0m \u001b[39mdef\u001b[39;00m \u001b[39mcompile\u001b[39m(pattern, flags\u001b[39m=\u001b[39m\u001b[39m0\u001b[39m):\n\u001b[0;32m    250\u001b[0m     \u001b[39m\"\u001b[39m\u001b[39mCompile a regular expression pattern, returning a Pattern object.\u001b[39m\u001b[39m\"\u001b[39m\n\u001b[1;32m--> 251\u001b[0m     \u001b[39mreturn\u001b[39;00m _compile(pattern, flags)\n",
      "File \u001b[1;32mc:\\ProgramData\\anaconda3\\lib\\re.py:293\u001b[0m, in \u001b[0;36m_compile\u001b[1;34m(pattern, flags)\u001b[0m\n\u001b[0;32m    291\u001b[0m     flags \u001b[39m=\u001b[39m flags\u001b[39m.\u001b[39mvalue\n\u001b[0;32m    292\u001b[0m \u001b[39mtry\u001b[39;00m:\n\u001b[1;32m--> 293\u001b[0m     \u001b[39mreturn\u001b[39;00m _cache[\u001b[39mtype\u001b[39;49m(pattern), pattern, flags]\n\u001b[0;32m    294\u001b[0m \u001b[39mexcept\u001b[39;00m \u001b[39mKeyError\u001b[39;00m:\n\u001b[0;32m    295\u001b[0m     \u001b[39mpass\u001b[39;00m\n",
      "\u001b[1;31mTypeError\u001b[0m: unhashable type: 'list'"
     ]
    }
   ],
   "source": [
    "\n",
    "def merge_values_by_name_similarity(df_2018,column_name,pattern,consistent_name):\n",
    "    df_2018.loc[df_2018[column_name].str.contains(pattern,case=False),column_name]=consistent_name\n",
    "    return df_2018\n",
    " \n",
    "patterns =[[\n",
    "    ['Fintech','Fintech','Financial service','Finance','Insurtech','Insurance'],\n",
    "      #Finance     \n",
    "    ['E-commerce','E-commerce','Marketplace','Market Research','B2B','Ecommerce','B2B'],\n",
    "    #E-commerce \n",
    "    \n",
    "    ['Education','E-learning','Edtech','Etech','E-Learning','Ebook','Edutech'],\n",
    "        #Education\n",
    "    \n",
    "    ['Agriculture','Agricture','Agritech','Agricuture','Agrictech'],\n",
    "     #Agriculture\n",
    "\n",
    "    ['SaaS','IT','Information Services','Information Technology','Mobile Payments','Internet','Saas','AI','Technology','Internet of things','Internet of Things','Blockchain','Cleantech','IT','Govtech','Software','Nanotech','Crypo','Internet of Things','Robotics','Information technology'],\n",
    "         #Technology\n",
    "    \n",
    "    ['Leisure','Lifestyle','Beauty','Event','Design','Peer to Peer','LIfestyle','Fashion'],\n",
    "       # Lifestyle\n",
    "    \n",
    "    ['Incubator','Support sytem','Admin','Human Resources'],\n",
    "        #Human Resources\n",
    "    \n",
    "   ['Food and Beverage','Food and Beverage','Snack Food','Beverage','Food and beverage'],\n",
    "       # Food & Beverage\n",
    "    \n",
    "   ['Healthtech','Pharmaceutical','Health Care','Hospital','Biotech','Pettech'],\n",
    "       # Health\n",
    "    \n",
    "   ['Media and Marketing','Marketing','Customer feedback','consumer'],\n",
    "      # Marketing and Advertising\n",
    "    ['Shoes','Automotive','Automative','Automotive','Electric Vehicle','Manufacturing','Automotive','Automation'],\n",
    "        #Manufacturing\n",
    "    \n",
    "   ['Delivery System','Trasport','Transport','Logistics','Food Delivery','transport & rentals','Delivery','Transportation','Last Mile Transportation','Ride Sharing','Logisticstech'],\n",
    "     #Transportation\n",
    "    \n",
    "   ['Hospitality','Real Estate','hospitality','Real  Estate','Smart Cities','Accommodation'],\n",
    "        #Hospitality\n",
    "    \n",
    "   ['Sports','Esport','Esports','E-sports'],\n",
    "         #Sports\n",
    "    ['Energy','Renewable Energy'],\n",
    "     #Energy\n",
    "    ['Entertainment','Socialmedia','Social Media','Media'],\n",
    "     #Media\n",
    "   ['Telecommunications'],\n",
    "       #Service Provider\n",
    "       \n",
    "]]\n",
    "consistent_names=['Finance','E-commerce ','Education','Agriculture','Technology','Lifestyle',\n",
    "                  'Human Resources','Food & Beverage',\n",
    "                  'Health','Marketing and Advertising','Manufacturing','Transportation','Hospitality',' Sports','Energy',' Media','Service Provider']\n",
    "\n",
    "for pattern,consistent_name in zip(patterns,consistent_names):\n",
    "    df_2018 = merge_values_by_name_similarity(df_2018, 'Sector', pattern,consistent_name)\n",
    "\n",
    "print(df_2018['Sector'].value_counts())\n"
   ]
  },
  {
   "cell_type": "code",
   "execution_count": null,
   "metadata": {},
   "outputs": [],
   "source": [
    "df_2018.Sector.unique()"
   ]
  },
  {
   "cell_type": "code",
   "execution_count": null,
   "metadata": {},
   "outputs": [],
   "source": [
    "# Create Year of Funding column\n",
    "df_2018['Year of Funding'] = '2018'\n",
    "df_2018.head(5)"
   ]
  },
  {
   "cell_type": "code",
   "execution_count": null,
   "metadata": {},
   "outputs": [],
   "source": [
    "# checking for duplicates\n",
    "df_2018.duplicated().sum()"
   ]
  },
  {
   "cell_type": "code",
   "execution_count": null,
   "metadata": {},
   "outputs": [],
   "source": [
    "# lets have a look at rows with duplicates\n",
    "df_2018.loc[df_2018.duplicated()]"
   ]
  },
  {
   "cell_type": "code",
   "execution_count": null,
   "metadata": {},
   "outputs": [],
   "source": [
    "df_2018=df_2018.drop(index=348)"
   ]
  },
  {
   "cell_type": "code",
   "execution_count": null,
   "metadata": {},
   "outputs": [],
   "source": [
    "df_2018.to_csv('data_claning_2018.csv', index = False)"
   ]
  },
  {
   "cell_type": "code",
   "execution_count": null,
   "metadata": {},
   "outputs": [],
   "source": [
    "#loading 2019 data\n",
    "df_2019= pd.read_csv('startup_funding2019.csv')\n",
    "df_2021.head(5)"
   ]
  },
  {
   "cell_type": "code",
   "execution_count": null,
   "metadata": {},
   "outputs": [],
   "source": [
    "#Preview of dataset summary information using info method.\n",
    "\n",
    "df_2019.info()"
   ]
  },
  {
   "cell_type": "code",
   "execution_count": null,
   "metadata": {},
   "outputs": [],
   "source": [
    "#View of number of rows and columns in 2019 dataset\n",
    "num_f_colmns = df_2019.shape[(1)]\n",
    "num_f_rows = df_2019.shape[(0)]\n",
    "\n",
    "print('Number of rows in 2019 dataset:',num_f_rows)\n",
    "print('Number of columns in 2019 dataset:',num_f_colmns)"
   ]
  },
  {
   "cell_type": "code",
   "execution_count": null,
   "metadata": {},
   "outputs": [],
   "source": [
    "# Preview of description summary of numerical columns using describe method\n",
    "\n",
    "df_2019.describe()"
   ]
  },
  {
   "cell_type": "code",
   "execution_count": null,
   "metadata": {},
   "outputs": [],
   "source": [
    "# Preview of description summary of categorical columns using describe method\n",
    "df_2019.describe(include=object)"
   ]
  },
  {
   "cell_type": "code",
   "execution_count": null,
   "metadata": {},
   "outputs": [],
   "source": [
    "#Let us check for duplicates in our datas\n",
    "duplicate_vals = df_2019.duplicated().sum()\n",
    "\n",
    "#The 2019 dataset has no duplicate values\n",
    "\n",
    "print(\"Count of duplicate values:\",duplicate_vals)"
   ]
  },
  {
   "cell_type": "code",
   "execution_count": null,
   "metadata": {},
   "outputs": [],
   "source": [
    "#Check of number of missing values in our dataset.(i.e Total NAN values per column)\n",
    "missin_vals = df_2019.isnull().sum()\n",
    "\n",
    "#The 2019 dataset contains missing values\n",
    "\n",
    "missin_vals"
   ]
  },
  {
   "cell_type": "code",
   "execution_count": null,
   "metadata": {},
   "outputs": [],
   "source": [
    "#conversion of missing value as percentage to enable comparison and inference\n",
    "#we get total percentage of missing data in each column\n",
    "#gives inference of whether to delete data or not\n",
    "\n",
    "missing_percent = (df_2019.isnull().sum()/len(df_2019)) * 100\n",
    "\n",
    "missing_percent"
   ]
  },
  {
   "cell_type": "code",
   "execution_count": null,
   "metadata": {},
   "outputs": [],
   "source": [
    "#Boolean filtering of percentage missing data greater than 0 in columns\n",
    "#only columns selected have missing percentage > 0\n",
    "\n",
    "def missing_percent(table):\n",
    "    missing_percent = (df_2019.isnull().sum()/len(df_2019)) * 100\n",
    "    missing_percent = missing_percent[missing_percent > 0].sort_values(ascending=False)\n",
    "    return missing_percent"
   ]
  },
  {
   "cell_type": "code",
   "execution_count": null,
   "metadata": {},
   "outputs": [],
   "source": [
    "# per_nan = percentage nan\n",
    "\n",
    "per_nan = missing_percent(df_2019)\n",
    "\n",
    "per_nan"
   ]
  },
  {
   "cell_type": "code",
   "execution_count": null,
   "metadata": {},
   "outputs": [],
   "source": [
    "#Let us visualize to infer missing data for comprehensive understanding\n",
    "#NBper_nan is a series data that is indexed(with only one column)\n",
    "#NBseaborn and matplotlib are compatible, we'll us matplotlib's 'plt.xticks()' to do x-axis rotation \n",
    "\n",
    "plt.figure(figsize=(9, 6))\n",
    "sns.barplot(x=per_nan.index, y=per_nan)\n",
    "plt.xticks(rotation = 45)\n",
    "plt.title(\"Percentage Missing Values\");\n",
    "#plt.ylim(3, 21)\n",
    "#to get columns with missing data btwn 3 to 21 percentage, we use function 'plt.ylim()'"
   ]
  },
  {
   "cell_type": "code",
   "execution_count": null,
   "metadata": {},
   "outputs": [],
   "source": [
    "#let us clean column named 'founded' \n",
    "#we will fill in missing values with the median value\n",
    "elements = df_2019[\"Founded\"].unique()\n",
    "elements"
   ]
  },
  {
   "cell_type": "code",
   "execution_count": null,
   "metadata": {},
   "outputs": [],
   "source": [
    "#Count of missing values in column 'founded'\n",
    "\n",
    "missn_vals = df_2019[\"Founded\"].isna().sum()\n",
    "missn_vals \n",
    "print(\"Count of missing values in Founded column:\",missn_vals)"
   ]
  },
  {
   "cell_type": "code",
   "execution_count": null,
   "metadata": {},
   "outputs": [],
   "source": [
    "#Convert the column to numeric, coercing non-numeric values to NaN:\n",
    "#pd.to_numeric() converts values to float\n",
    "\n",
    "df_2019[\"Founded\"] = pd.to_numeric(df_2019[\"Founded\"], errors='coerce')\n",
    "\n",
    "#Calculate the median of the column, ignoring the NaN values:\n",
    "median_value = df_2019[\"Founded\"].median(skipna=True)\n",
    "\n",
    "median_value"
   ]
  },
  {
   "cell_type": "code",
   "execution_count": null,
   "metadata": {},
   "outputs": [],
   "source": [
    "#Replace the NaN values with the calculated median:\n",
    "df_2019[\"Founded\"].fillna(median_value, inplace=True)"
   ]
  },
  {
   "cell_type": "code",
   "execution_count": null,
   "metadata": {},
   "outputs": [],
   "source": [
    "#Any missing values?\n",
    "#confirm whether there are any NAN values (missing_values)\n",
    "df_2019[\"Founded\"].isna().values.any()"
   ]
  },
  {
   "cell_type": "code",
   "execution_count": null,
   "metadata": {},
   "outputs": [],
   "source": [
    "#we will clean column 'Headquarter'\n",
    "#We will fill up missing values with the mode(most occuring instance)\n",
    "\n",
    "#Let us use unique() method to examine the unique values:\n",
    "df_2019['HeadQuarter'].unique()"
   ]
  },
  {
   "cell_type": "code",
   "execution_count": null,
   "metadata": {},
   "outputs": [],
   "source": [
    "#Check on data\n",
    "df_2019['HeadQuarter']"
   ]
  },
  {
   "cell_type": "code",
   "execution_count": null,
   "metadata": {},
   "outputs": [],
   "source": [
    "#Calculate the mode of the column:\n",
    "#The iloc indexer is used to retrieve the first value from the mode result.\n",
    "#The mode() function returns a pandas Series object that contains the mode(s) of the column.\n",
    "\n",
    "mode_value = df_2019[\"HeadQuarter\"].mode().iloc[0]\n",
    "\n",
    "mode_value"
   ]
  },
  {
   "cell_type": "code",
   "execution_count": null,
   "metadata": {},
   "outputs": [],
   "source": [
    "#Replace the missing values with the mode:\n",
    "df_2019[\"HeadQuarter\"].fillna(mode_value, inplace=True)"
   ]
  },
  {
   "cell_type": "code",
   "execution_count": null,
   "metadata": {},
   "outputs": [],
   "source": [
    "#Any missing values?\n",
    "#Let us confirm whether there are any NAN values after changes\n",
    "df_2019[\"HeadQuarter\"].isna().values.any()"
   ]
  },
  {
   "cell_type": "code",
   "execution_count": null,
   "metadata": {},
   "outputs": [],
   "source": [
    "#Let us clean column 'sector' \n",
    "#Column has inconsistencies and some elements needs to be renamed to have consistent format\n",
    "#Let us use unique() method to examine the unique values:\n",
    "print(df_2019[\"Sector\"].unique())"
   ]
  },
  {
   "cell_type": "code",
   "execution_count": null,
   "metadata": {},
   "outputs": [],
   "source": [
    "#Check of counts of each category in the column\n",
    "df_2019[\"Sector\"].value_counts().sort_values(ascending=False)"
   ]
  },
  {
   "cell_type": "code",
   "execution_count": null,
   "metadata": {},
   "outputs": [],
   "source": [
    "#Creation of a function to attain consistency in names of elements\n",
    "\n",
    "from fuzzywuzzy import fuzz\n",
    "\n",
    "def rename_similar_names(data, Sector):\n",
    "    # Create a copy of the dataframe to avoid modifying the original data\n",
    "    dff = data.copy()\n",
    "\n",
    "     # Convert values in the specified column to strings\n",
    "    dff[Sector] = dff[Sector].astype(str)\n",
    "\n",
    "    # Iterate over each unique value in the specified column\n",
    "    for value in dff[Sector].unique():\n",
    "        similar_names = [name for name in dff[Sector].unique() if fuzz.ratio(value, name) >= 75]\n",
    "        # Identify similar names with a similarity ratio of at least 80\n",
    "        \n",
    "        if len(similar_names) > 1:\n",
    "            # If there are multiple similar names, choose a consistent name for all of them\n",
    "            consistent_name = min(similar_names, key=len)  # You can change the selection criteria as per your preference\n",
    "            \n",
    "            # Replace the similar names with the consistent name\n",
    "            dff[Sector].replace(similar_names, consistent_name, inplace=True)\n",
    "\n",
    "    return dff"
   ]
  },
  {
   "cell_type": "code",
   "execution_count": null,
   "metadata": {},
   "outputs": [],
   "source": [
    "# Rename similar names in the 'Sector' column\n",
    "df_cleaned = rename_similar_names(df_2019, \"Sector\")\n",
    "\n",
    "#check of unique elements after renaming our columns\n",
    "print(df_cleaned[\"Sector\"].unique())"
   ]
  },
  {
   "cell_type": "code",
   "execution_count": null,
   "metadata": {},
   "outputs": [],
   "source": [
    "# Count of unique elements in column after renaming columns\n",
    "df_cleaned[\"Sector\"].value_counts().sort_values(ascending=False)"
   ]
  },
  {
   "cell_type": "code",
   "execution_count": null,
   "metadata": {},
   "outputs": [],
   "source": [
    "#Calculate mode of the column\n",
    "mode_value = df_cleaned[\"Sector\"].mode().iloc[0]\n",
    "\n",
    "mode_value"
   ]
  },
  {
   "cell_type": "code",
   "execution_count": null,
   "metadata": {},
   "outputs": [],
   "source": [
    "#Let us clean 'Founders' column\n",
    "\n",
    "# View NaN values in 'Founders'\n",
    "nan_val = df_cleaned[df_cleaned[\"Founders\"].isna()]\n",
    "nan_val"
   ]
  },
  {
   "cell_type": "code",
   "execution_count": null,
   "metadata": {},
   "outputs": [],
   "source": [
    "# Replace missing values with \"Unknown\" in the 'Founders' column\n",
    "df_cleaned['Founders'] = df_cleaned['Founders'].fillna(\"Unknown\")\n",
    "\n",
    "#Any missing values?\n",
    "#Let us confirm whether there are any NAN values after changes\n",
    "\n",
    "df_cleaned[\"Founders\"].isna().values.any()"
   ]
  },
  {
   "cell_type": "code",
   "execution_count": null,
   "metadata": {},
   "outputs": [],
   "source": [
    "#Let us clean 'stage' colum\n",
    "#Column has inconsistencies\n",
    "\n",
    "df_cleaned['Stage'].unique()"
   ]
  },
  {
   "cell_type": "code",
   "execution_count": null,
   "metadata": {},
   "outputs": [],
   "source": [
    "#Count of missing values in column 'Stage'\n",
    "\n",
    "missn_vals = df_cleaned[\"Stage\"].isna().sum()\n",
    "missn_vals \n",
    "\n",
    "print(\"Count of missing values in stage column:\",missn_vals)"
   ]
  },
  {
   "cell_type": "code",
   "execution_count": null,
   "metadata": {},
   "outputs": [],
   "source": [
    "#Replace the NaN values with 'Unknown':\n",
    "df_cleaned[\"Stage\"].fillna(\"Unknown\", inplace=True)"
   ]
  },
  {
   "cell_type": "code",
   "execution_count": null,
   "metadata": {},
   "outputs": [],
   "source": [
    "#Any missing values?\n",
    "#confirm whether there are any NAN values (missing_values)\n",
    "df_cleaned[\"Stage\"].isna().values.any()"
   ]
  },
  {
   "cell_type": "code",
   "execution_count": null,
   "metadata": {},
   "outputs": [],
   "source": [
    "#A look at categorical column 'stage' value distribution.\n",
    "\n",
    "df_cleaned[\"Stage\"].value_counts()"
   ]
  },
  {
   "cell_type": "code",
   "execution_count": null,
   "metadata": {},
   "outputs": [],
   "source": [
    "#Renaming category variables for consistency\n",
    "df_cleaned[\"Stage\"] = df_cleaned[\"Stage\"].replace({\"Pre-series A\":\"Pre series A\"})\n",
    "df_cleaned[\"Stage\"] = df_cleaned[\"Stage\"].replace({\"Seed fund\":\"Seed\"})\n",
    "df_cleaned[\"Stage\"] = df_cleaned[\"Stage\"].replace({\"Seed funding\":\"Seed\"})\n",
    "\n",
    "df_cleaned[\"Stage\"].value_counts()"
   ]
  },
  {
   "cell_type": "code",
   "execution_count": null,
   "metadata": {},
   "outputs": [],
   "source": [
    "df_2019['Amount($)'].unique()"
   ]
  },
  {
   "cell_type": "code",
   "execution_count": null,
   "metadata": {},
   "outputs": [],
   "source": [
    "df_2019['Amount($)']"
   ]
  },
  {
   "cell_type": "code",
   "execution_count": null,
   "metadata": {},
   "outputs": [],
   "source": [
    "df_2019.head(5)"
   ]
  },
  {
   "cell_type": "code",
   "execution_count": null,
   "metadata": {},
   "outputs": [],
   "source": [
    "\n",
    "\n",
    "#Handing inconsistencies in 'Amount' column\n",
    "\n",
    "# Remove dollar sign, and convert the \"amount\" column from integer to float\n",
    "\n",
    "df_2019['Amount($)'] = df_2019['Amount($)'].str.replace('[$,]', '', regex=True)\n",
    "#Replace \"undisclosed\" with NaN\n",
    "\n",
    "df_2019['Amount($)'] = df_2019['Amount($)'].replace('Undisclosed', np.nan)\n",
    "\n",
    "\n",
    "\n",
    "\n",
    "#Preview of modified 'Amount' column\n",
    "\n",
    "\n",
    "\n",
    "\n",
    "df_2019['Amount($)'].head()\n",
    "\n",
    "\n",
    "\n"
   ]
  },
  {
   "cell_type": "code",
   "execution_count": null,
   "metadata": {},
   "outputs": [],
   "source": [
    "#changing object into float \n",
    "df_2019['Amount($)'].astype('float64')"
   ]
  },
  {
   "cell_type": "code",
   "execution_count": null,
   "metadata": {},
   "outputs": [],
   "source": [
    "#count of null value in the Amount column \n",
    "df_2019['Amount($)'].isnull().sum()"
   ]
  },
  {
   "cell_type": "code",
   "execution_count": null,
   "metadata": {},
   "outputs": [],
   "source": [
    "#Convert the column to numeric, coercing non-numeric values to NaN:\n",
    "\n",
    "#pd.to_numeric() converts values to float\n",
    "\n",
    "\n",
    "\n",
    "\n",
    "df_2019[\"Amount($)\"] = pd.to_numeric(df_2019[\"Amount($)\"], errors='coerce')\n",
    "\n",
    "\n",
    "\n",
    "\n",
    "#Calculate the median of the column, ignoring the NaN values:\n",
    "\n",
    "median_value = df_2019[\"Amount($)\"].median(skipna=True)\n",
    "\n",
    "\n",
    "\n",
    "\n",
    "median_value"
   ]
  },
  {
   "cell_type": "code",
   "execution_count": null,
   "metadata": {},
   "outputs": [],
   "source": [
    "#let us confirm count of Non-NA elements in column the 'amount'\n",
    "\n",
    "#DataFrame.count() method returns count of non-Non-NA/null entries\n",
    "\n",
    "\n",
    "\n",
    "\n",
    "Non_NA = df_2019[\"Amount($)\"].count()\n",
    "\n",
    "\n",
    "\n",
    "\n",
    "print(\"Count of non-NA elements in Amount column:\",Non_NA)"
   ]
  },
  {
   "cell_type": "code",
   "execution_count": null,
   "metadata": {},
   "outputs": [],
   "source": [
    "#Replace the NaN values with the calculated median:\n",
    "\n",
    "df_2019[\"Amount($)\"].fillna(median_value, inplace=True)"
   ]
  },
  {
   "cell_type": "code",
   "execution_count": null,
   "metadata": {},
   "outputs": [],
   "source": [
    "#confirm whether there are any NAN values (missing_values)\n",
    "\n",
    "df_2019[\"Amount($)\"].isna().values.any()"
   ]
  },
  {
   "cell_type": "code",
   "execution_count": null,
   "metadata": {},
   "outputs": [],
   "source": [
    "df_2019.head(3)"
   ]
  },
  {
   "cell_type": "code",
   "execution_count": null,
   "metadata": {},
   "outputs": [],
   "source": [
    "df_2019.to_csv('data_claning_2019.csv', index = False)"
   ]
  },
  {
   "cell_type": "code",
   "execution_count": null,
   "metadata": {},
   "outputs": [],
   "source": [
    "#loading 2020 data\n",
    "df_2020= pd.read_csv('startup_function2020.csv')\n",
    "df_2020.head(5)"
   ]
  },
  {
   "cell_type": "code",
   "execution_count": null,
   "metadata": {},
   "outputs": [],
   "source": [
    "df_2020.info()"
   ]
  },
  {
   "cell_type": "code",
   "execution_count": null,
   "metadata": {},
   "outputs": [],
   "source": [
    "# drop 'column10' from the dataset\n",
    "df_2020=df_2020.drop('column10', axis=1)\n",
    "df_2020.info()"
   ]
  },
  {
   "cell_type": "code",
   "execution_count": null,
   "metadata": {},
   "outputs": [],
   "source": [
    "df_2020['Founded'].describe()"
   ]
  },
  {
   "cell_type": "code",
   "execution_count": null,
   "metadata": {},
   "outputs": [],
   "source": [
    "imputer=SimpleImputer(strategy='median')"
   ]
  },
  {
   "cell_type": "code",
   "execution_count": null,
   "metadata": {},
   "outputs": [],
   "source": [
    "imputer.fit_transform(df_2020[['Founded']])"
   ]
  },
  {
   "cell_type": "code",
   "execution_count": null,
   "metadata": {},
   "outputs": [],
   "source": [
    "median_value=df_2020['Founded'].median()\n",
    "df_2020['Founded'].fillna(median_value, inplace=True)\n",
    "df_2020.isnull().sum()"
   ]
  },
  {
   "cell_type": "code",
   "execution_count": null,
   "metadata": {},
   "outputs": [],
   "source": [
    "# convert 'Founded' data type from float to integer\n",
    "#check to confirm data type\n",
    "\n",
    "df_2020['Founded']=df_2020['Founded'].astype(int)\n",
    "\n",
    "column_dtype=df_2020['Founded'].dtype\n",
    "print(column_dtype)"
   ]
  },
  {
   "cell_type": "code",
   "execution_count": null,
   "metadata": {},
   "outputs": [],
   "source": [
    "#check unique characters in 'Founded'\n",
    "df_2020['Founded'].unique()"
   ]
  },
  {
   "cell_type": "code",
   "execution_count": null,
   "metadata": {},
   "outputs": [],
   "source": [
    "#check unique characters in 'HeadQuarter'\n",
    "df_2020['HeadQuarter'].unique()"
   ]
  },
  {
   "cell_type": "code",
   "execution_count": null,
   "metadata": {},
   "outputs": [],
   "source": [
    "unique_chars_count=df_2020['HeadQuarter'].nunique()\n",
    "unique_chars_count"
   ]
  },
  {
   "cell_type": "code",
   "execution_count": null,
   "metadata": {},
   "outputs": [],
   "source": [
    "#maintain first word before comma in the HeadQuarter column\n",
    "df_2020[\"HeadQuarter\"]=df_2020['HeadQuarter'].apply(str)\n",
    "df_2020['HeadQuarter']=df_2020['HeadQuarter'].str.split(',').str[0]\n",
    "df_2020['HeadQuarter']=df_2020['HeadQuarter'].replace(\"'\",\"\",regex=True)"
   ]
  },
  {
   "cell_type": "code",
   "execution_count": null,
   "metadata": {},
   "outputs": [],
   "source": [
    "df_2020['HeadQuarter'].unique()"
   ]
  },
  {
   "cell_type": "code",
   "execution_count": null,
   "metadata": {},
   "outputs": [],
   "source": [
    "unique_chars_count=df_2020['HeadQuarter'].nunique()\n",
    "unique_chars_count"
   ]
  },
  {
   "cell_type": "code",
   "execution_count": null,
   "metadata": {},
   "outputs": [],
   "source": [
    "#rename similar cities and country names\n",
    "#replace specific values in column 'HeadQuarter'\n",
    "\n",
    "df_2020['HeadQuarter']=df_2020['HeadQuarter'].replace({'Bengaluru':'Bangalore', 'San Francisco Bay Area':'San Francisco','Banglore':'Bangalore','San Franciscao':'San Francisco','Newcastle Upon Tyne':'Newcastle'})\n",
    "df_2020['HeadQuarter'].unique()"
   ]
  },
  {
   "cell_type": "code",
   "execution_count": null,
   "metadata": {},
   "outputs": [],
   "source": [
    "#Fill in missing data with mode\n",
    "mode_HeadQuarter=df_2020['HeadQuarter'].mode()\n",
    "df_2020['HeadQuarter'].fillna(mode_HeadQuarter, inplace=True)\n",
    "df_2020['HeadQuarter'].isnull().sum()"
   ]
  },
  {
   "cell_type": "code",
   "execution_count": null,
   "metadata": {},
   "outputs": [],
   "source": [
    "df_2020['HeadQuarter']=df_2020['HeadQuarter'].replace({'Coimbatore':'Tamil Nadu', 'Hyderebad':'Hyderabad','Ludhiana':'Punjabi','Rajastan':'Rajasthan','Irvine':'California','Samastipur':'Bihar','Bangaldesh':'Bangladesh','Plano':'Texas','San Ramon':'California','San Francisco':'California'})\n",
    "df_2020['HeadQuarter'].unique()"
   ]
  },
  {
   "cell_type": "code",
   "execution_count": null,
   "metadata": {},
   "outputs": [],
   "source": [
    "unique_chars_count=df_2020['HeadQuarter'].nunique()\n",
    "unique_chars_count"
   ]
  },
  {
   "cell_type": "code",
   "execution_count": null,
   "metadata": {},
   "outputs": [],
   "source": [
    "df_2020['Stage'].head()"
   ]
  },
  {
   "cell_type": "code",
   "execution_count": null,
   "metadata": {},
   "outputs": [],
   "source": [
    "#fill empty data in stage with unknown\n",
    "df_2020['Stage'].fillna('unknown', inplace=True)\n",
    "df_2020['Stage'].isnull().sum()"
   ]
  },
  {
   "cell_type": "code",
   "execution_count": null,
   "metadata": {},
   "outputs": [],
   "source": [
    "#Fill missing data in 'Founders' column with 'unknown'\n",
    "df_2020['Founders'].fillna('unknown', inplace=True)\n",
    "df_2020['Founders'].isnull().sum()"
   ]
  },
  {
   "cell_type": "code",
   "execution_count": null,
   "metadata": {},
   "outputs": [],
   "source": [
    "df_2020['Founders'].unique()"
   ]
  },
  {
   "cell_type": "code",
   "execution_count": null,
   "metadata": {},
   "outputs": [],
   "source": [
    "df_2020['Investor'].fillna('unknown', inplace=True)\n",
    "df_2020['Investor'].isnull().sum()"
   ]
  },
  {
   "cell_type": "code",
   "execution_count": null,
   "metadata": {},
   "outputs": [],
   "source": [
    "#Fill in missing data with median\n",
    "median_Amount=df_2020['Amount'].median()\n",
    "df_2020['Amount'].fillna(median_Amount, inplace=True)\n",
    "df_2020['Amount'].isnull().sum()"
   ]
  },
  {
   "cell_type": "code",
   "execution_count": null,
   "metadata": {},
   "outputs": [],
   "source": [
    "df_2020['Sector'].unique()"
   ]
  },
  {
   "cell_type": "code",
   "execution_count": null,
   "metadata": {},
   "outputs": [],
   "source": [
    "df_2020['Sector'].isnull().sum()"
   ]
  },
  {
   "cell_type": "code",
   "execution_count": null,
   "metadata": {},
   "outputs": [],
   "source": [
    "df_2020_columns=df_2020[['Sector','What_it_does']]"
   ]
  },
  {
   "cell_type": "code",
   "execution_count": null,
   "metadata": {},
   "outputs": [],
   "source": [
    "df_2020_columns.isnull()"
   ]
  },
  {
   "cell_type": "code",
   "execution_count": null,
   "metadata": {},
   "outputs": [],
   "source": [
    "empty_values= df_2020[df_2020['Sector'].isnull()]"
   ]
  },
  {
   "cell_type": "code",
   "execution_count": null,
   "metadata": {},
   "outputs": [],
   "source": [
    "empty_values"
   ]
  },
  {
   "cell_type": "code",
   "execution_count": null,
   "metadata": {},
   "outputs": [],
   "source": [
    "mode_Sector=df_2020['Sector'].mode()\n",
    "df_2020['Sector'].fillna(mode_Sector, inplace=True)"
   ]
  },
  {
   "cell_type": "code",
   "execution_count": null,
   "metadata": {},
   "outputs": [],
   "source": [
    "df_2020['Sector'].isnull().sum()"
   ]
  },
  {
   "cell_type": "code",
   "execution_count": null,
   "metadata": {},
   "outputs": [],
   "source": [
    "#loading 2021 data\n",
    "df_2021= pd.read_csv('startup_function2021.csv')\n",
    "df_2021.head(5)"
   ]
  },
  {
   "cell_type": "code",
   "execution_count": null,
   "metadata": {},
   "outputs": [],
   "source": [
    "# # Get the dimensions of the DataFrame\n",
    "df_2021.shape"
   ]
  },
  {
   "cell_type": "code",
   "execution_count": null,
   "metadata": {},
   "outputs": [],
   "source": [
    "# # Generate descriptive statistics\n",
    "df_2021.describe()"
   ]
  },
  {
   "cell_type": "code",
   "execution_count": null,
   "metadata": {},
   "outputs": [],
   "source": [
    "# Get the cardinality/number of unique values in each column\n",
    "df_2021.nunique()"
   ]
  },
  {
   "cell_type": "code",
   "execution_count": null,
   "metadata": {},
   "outputs": [],
   "source": [
    "# Get the data types of each column\n",
    "df_2021.dtypes"
   ]
  },
  {
   "cell_type": "code",
   "execution_count": null,
   "metadata": {},
   "outputs": [],
   "source": [
    "# Get the missing values of each column\n",
    "df_2021.isna().sum()"
   ]
  },
  {
   "cell_type": "code",
   "execution_count": null,
   "metadata": {},
   "outputs": [],
   "source": [
    "# calculate the percentage of missing values in each column and sort them in descending order\n",
    "df_2021.isna().mean().sort_values(ascending=False)*100"
   ]
  },
  {
   "cell_type": "code",
   "execution_count": null,
   "metadata": {},
   "outputs": [],
   "source": [
    "# rename company/brand and Amount columns\n",
    "data2021=df_2021.rename(columns={'Company/Brand':'Company_Brand','Amount':'Amount($)'})\n",
    "data2021.columns"
   ]
  },
  {
   "cell_type": "code",
   "execution_count": null,
   "metadata": {},
   "outputs": [],
   "source": [
    "# count the occurrences of unique values in Company_brand column\n",
    "data2021['Company_Brand'].value_counts()"
   ]
  },
  {
   "cell_type": "code",
   "execution_count": null,
   "metadata": {},
   "outputs": [],
   "source": [
    "# count the occurrences of unique values in Founded column\n",
    "data2021['Founded'].value_counts()"
   ]
  },
  {
   "cell_type": "code",
   "execution_count": null,
   "metadata": {},
   "outputs": [],
   "source": [
    "# remove the floats in founded year\n",
    "# Replace non-finite values with median\n",
    "data2021['Founded'] = data2021['Founded'].fillna(data2021['Founded'].median())\n",
    "\n",
    "# Convert the 'Founded' column to an integer data type\n",
    "data2021['Founded'] = data2021['Founded'].astype(int)"
   ]
  },
  {
   "cell_type": "code",
   "execution_count": null,
   "metadata": {},
   "outputs": [],
   "source": [
    "data2021['Founded'].value_counts()"
   ]
  },
  {
   "cell_type": "code",
   "execution_count": null,
   "metadata": {},
   "outputs": [],
   "source": [
    "# count the occurrences of unique values in Headquarter column\n",
    "data2021['HeadQuarter'].value_counts()"
   ]
  },
  {
   "cell_type": "code",
   "execution_count": null,
   "metadata": {},
   "outputs": [],
   "source": [
    "# a few entries do not appear to be cities. extract the first part of each value\n",
    "# in the 'HeadQuarter' column before the comma\n",
    "# Split values in 'HeadQuarter' column by comma\n",
    "data2021['HeadQuarter'] = data2021['HeadQuarter'].str.split(',').str[0]"
   ]
  },
  {
   "cell_type": "code",
   "execution_count": null,
   "metadata": {},
   "outputs": [],
   "source": [
    "# Replace non headquarter values with NaN in a column\n",
    "data2021['HeadQuarter'] = data2021['HeadQuarter'].replace(['Pharmaceuticals\\t#REF!', 'Food & Beverages', 'Computer Games','Online Media\\t#REF!','Information Technology & Services'])"
   ]
  },
  {
   "cell_type": "code",
   "execution_count": null,
   "metadata": {},
   "outputs": [],
   "source": [
    "df_2021['HeadQuarter'].value_counts()"
   ]
  },
  {
   "cell_type": "code",
   "execution_count": null,
   "metadata": {},
   "outputs": [],
   "source": [
    "# remove special characters\n",
    "df_2021['HeadQuarter'] = df_2021['HeadQuarter'].str.replace('[\\,#,!,]','')"
   ]
  },
  {
   "cell_type": "code",
   "execution_count": null,
   "metadata": {},
   "outputs": [],
   "source": [
    "# count the occurrences of unique values in Sector column\n",
    "df_2021['Sector'].value_counts().sort_values(ascending=False)"
   ]
  },
  {
   "cell_type": "code",
   "execution_count": null,
   "metadata": {},
   "outputs": [],
   "source": [
    "# there are inconsistencies in the sector column\n",
    "# create a function to merge values based on name similarity to improve consistency\n",
    "def merge_values_by_name_similarity(df, column_name, pattern, consistent_name):\n",
    "    df.loc[df[column_name].str.contains(pattern, case=False), column_name] = consistent_name\n",
    "    return df\n",
    "\n",
    "# Define the patterns and consistent names\n",
    "patterns = ['care', 'Information', 'food']\n",
    "consistent_names = ['Healthcare', 'Information Technology & Services', 'Food & Beverages']\n",
    "\n",
    "# Apply the function for each pattern and consistent name\n",
    "for pattern, consistent_name in zip(patterns, consistent_names):\n",
    "    data2021 = merge_values_by_name_similarity(data2021, 'Sector', pattern, consistent_name)\n",
    "\n",
    "# Display the updated column\n",
    "print(df_2021['Sector'].value_counts())"
   ]
  },
  {
   "cell_type": "code",
   "execution_count": null,
   "metadata": {},
   "outputs": [],
   "source": [
    "# there are inconsistencies in the amount column\n",
    "# remove special characters($ sign)\n",
    "data2021['Amount($)'] = data2021['Amount($)'].str.replace('[$,,]','', regex=True)\n",
    "# remove any non-digit characters from the 'Amount($)' column\n",
    "data2021['Amount($)'] = data2021['Amount($)'].str.replace(r'\\D+','', regex=True)\n",
    "# convert empty space to nan\n",
    "data2021['Amount($)'] = data2021['Amount($)'].replace('',np.nan)\n",
    "# convert column to numeric\n",
    "data2021[\"Amount($)\"] = pd.to_numeric(data2021[\"Amount($)\"], errors='coerce')\n",
    "data2021['Amount($)'].value_counts()"
   ]
  },
  {
   "cell_type": "code",
   "execution_count": null,
   "metadata": {},
   "outputs": [],
   "source": [
    "# count the occurrences of unique values in Stage column\n",
    "data2021['Stage'].value_counts().sort_values(ascending=False)"
   ]
  },
  {
   "cell_type": "code",
   "execution_count": null,
   "metadata": {},
   "outputs": [],
   "source": [
    "# the stage has inconsistencies\n",
    "# remove special characters($ sign)\n",
    "data2021['Stage'] = data2021['Stage'].str.replace('$','', regex=True)\n",
    "# remove any digit characters from the 'Stage' column\n",
    "data2021['Stage'] = data2021['Stage'].str.replace(r'\\d+','', regex=True)\n",
    "# replace empty spaces with np.nan\n",
    "data2021['Stage'] = data2021['Stage'].replace('', np.nan)\n",
    "# replace nan with 'unknown'\n",
    "data2021['Stage'] = data2021['Stage'].replace(np.nan, 'Unknown')\n",
    "\n",
    "data2021['Stage'].value_counts()"
   ]
  },
  {
   "cell_type": "code",
   "execution_count": null,
   "metadata": {},
   "outputs": [],
   "source": [
    "# count the occurrences of unique values in Founders column\n",
    "data2021['Founders'].value_counts().sort_values(ascending=False)"
   ]
  },
  {
   "cell_type": "code",
   "execution_count": null,
   "metadata": {},
   "outputs": [],
   "source": [
    "missing_rows=data2021[data2021['Founders'].isnull()]\n",
    "missing_rows"
   ]
  },
  {
   "cell_type": "code",
   "execution_count": null,
   "metadata": {},
   "outputs": [],
   "source": [
    "# count the occurrences of unique values in Investor column\n",
    "data2021['Investor'].value_counts().sort_values(ascending=False)"
   ]
  },
  {
   "cell_type": "code",
   "execution_count": null,
   "metadata": {},
   "outputs": [],
   "source": [
    "# check missing values\n",
    "data2021.isna().sum()"
   ]
  },
  {
   "cell_type": "code",
   "execution_count": null,
   "metadata": {},
   "outputs": [],
   "source": [
    "#select object variables\n",
    "obj=data2021.select_dtypes(include='object')\n",
    "obj.columns"
   ]
  },
  {
   "cell_type": "code",
   "execution_count": null,
   "metadata": {},
   "outputs": [],
   "source": [
    "obj= ['Founders','HeadQuarter','Investor']"
   ]
  },
  {
   "cell_type": "code",
   "execution_count": null,
   "metadata": {},
   "outputs": [],
   "source": [
    "# use mode to impute missing value in object columns\n",
    "data2021[obj]=data2021[obj].fillna(data2021[obj].mode().iloc[0])"
   ]
  },
  {
   "cell_type": "code",
   "execution_count": null,
   "metadata": {},
   "outputs": [],
   "source": [
    "# select num columns\n",
    "num=data2021.select_dtypes(exclude='object')\n",
    "num.columns"
   ]
  },
  {
   "cell_type": "code",
   "execution_count": null,
   "metadata": {},
   "outputs": [],
   "source": [
    "num=['Amount($)']"
   ]
  },
  {
   "cell_type": "code",
   "execution_count": null,
   "metadata": {},
   "outputs": [],
   "source": [
    "# use median to impute numerical columns ignoring the Nan values to calculate the median\n",
    "data2021[num]=data2021[num].fillna(data2021[num].median(skipna=True))"
   ]
  },
  {
   "cell_type": "code",
   "execution_count": null,
   "metadata": {},
   "outputs": [],
   "source": [
    "data2021.isnull().sum()"
   ]
  },
  {
   "cell_type": "code",
   "execution_count": null,
   "metadata": {},
   "outputs": [],
   "source": [
    "# checking for duplicates\n",
    "data2021.duplicated().sum()"
   ]
  },
  {
   "cell_type": "code",
   "execution_count": null,
   "metadata": {},
   "outputs": [],
   "source": [
    "# lets have a look at rows with duplicates\n",
    "data2021.loc[data2021.duplicated()]"
   ]
  },
  {
   "cell_type": "code",
   "execution_count": null,
   "metadata": {},
   "outputs": [],
   "source": [
    "# checking an example of a duplicate\n",
    "data2021.query('Company_Brand ==\"Curefoods\"')"
   ]
  },
  {
   "cell_type": "code",
   "execution_count": null,
   "metadata": {},
   "outputs": [],
   "source": [
    "\n",
    "# checking another example of a duplicate\n",
    "data2021.query('Company_Brand ==\"Fullife Healthcare\"')"
   ]
  },
  {
   "cell_type": "code",
   "execution_count": null,
   "metadata": {},
   "outputs": [],
   "source": [
    "# rows without duplicates\n",
    "# remove duplicate rows based on the specified subset of columns\n",
    "data2021=data2021.loc[~data2021.duplicated(subset=['Company_Brand','Founded','Founders','Investor','Amount($)'])].reset_index(drop=True).copy()"
   ]
  },
  {
   "cell_type": "code",
   "execution_count": null,
   "metadata": {},
   "outputs": [],
   "source": [
    "# unique rows and columns\n",
    "data2021.shape"
   ]
  },
  {
   "cell_type": "code",
   "execution_count": null,
   "metadata": {},
   "outputs": [],
   "source": [
    "# Save the data as a CSV file\n",
    "df_2021.to_csv('data_cleaning_2021.csv', index = False)"
   ]
  }
 ],
 "metadata": {
  "kernelspec": {
   "display_name": "base",
   "language": "python",
   "name": "python3"
  },
  "language_info": {
   "codemirror_mode": {
    "name": "ipython",
    "version": 3
   },
   "file_extension": ".py",
   "mimetype": "text/x-python",
   "name": "python",
   "nbconvert_exporter": "python",
   "pygments_lexer": "ipython3",
   "version": "3.10.9"
  },
  "orig_nbformat": 4
 },
 "nbformat": 4,
 "nbformat_minor": 2
}
