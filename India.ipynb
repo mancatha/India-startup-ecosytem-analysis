{
 "cells": [
  {
   "attachments": {},
   "cell_type": "markdown",
   "metadata": {},
   "source": [
    "1.0 Business understanding \n",
    "    1.1 Analysis of the India Start_up ecosystem based on funding from 2018-2021\n",
    "\n",
    "    1.1.2 Project Description \n",
    "    This project focuses on the funding received by start_ups in India from 2018-2021. Our objective is to analyse the data and help management make informed decision in terms of where to situate in India and possible funding we can attract\n"
   ]
  },
  {
   "attachments": {},
   "cell_type": "markdown",
   "metadata": {},
   "source": [
    "2.0 Data Preparation "
   ]
  },
  {
   "cell_type": "code",
   "execution_count": 1,
   "metadata": {},
   "outputs": [
    {
     "name": "stdout",
     "output_type": "stream",
     "text": [
      "Defaulting to user installation because normal site-packages is not writeable\n",
      "Requirement already satisfied: matplotlib in c:\\programdata\\anaconda3\\lib\\site-packages (3.7.0)\n",
      "Requirement already satisfied: pyparsing>=2.3.1 in c:\\programdata\\anaconda3\\lib\\site-packages (from matplotlib) (3.0.9)\n",
      "Requirement already satisfied: python-dateutil>=2.7 in c:\\programdata\\anaconda3\\lib\\site-packages (from matplotlib) (2.8.2)\n",
      "Requirement already satisfied: packaging>=20.0 in c:\\programdata\\anaconda3\\lib\\site-packages (from matplotlib) (22.0)\n",
      "Requirement already satisfied: cycler>=0.10 in c:\\programdata\\anaconda3\\lib\\site-packages (from matplotlib) (0.11.0)\n",
      "Requirement already satisfied: fonttools>=4.22.0 in c:\\programdata\\anaconda3\\lib\\site-packages (from matplotlib) (4.25.0)\n",
      "Requirement already satisfied: pillow>=6.2.0 in c:\\programdata\\anaconda3\\lib\\site-packages (from matplotlib) (9.4.0)\n",
      "Requirement already satisfied: numpy>=1.20 in c:\\programdata\\anaconda3\\lib\\site-packages (from matplotlib) (1.23.5)\n",
      "Requirement already satisfied: kiwisolver>=1.0.1 in c:\\programdata\\anaconda3\\lib\\site-packages (from matplotlib) (1.4.4)\n",
      "Requirement already satisfied: contourpy>=1.0.1 in c:\\programdata\\anaconda3\\lib\\site-packages (from matplotlib) (1.0.5)\n",
      "Requirement already satisfied: six>=1.5 in c:\\programdata\\anaconda3\\lib\\site-packages (from python-dateutil>=2.7->matplotlib) (1.16.0)\n",
      "Note: you may need to restart the kernel to use updated packages.\n"
     ]
    }
   ],
   "source": [
    "pip install matplotlib\n"
   ]
  },
  {
   "cell_type": "code",
   "execution_count": 2,
   "metadata": {},
   "outputs": [
    {
     "name": "stdout",
     "output_type": "stream",
     "text": [
      "Defaulting to user installation because normal site-packages is not writeable\n",
      "Requirement already satisfied: seaborn in c:\\programdata\\anaconda3\\lib\\site-packages (0.12.2)\n",
      "Requirement already satisfied: matplotlib!=3.6.1,>=3.1 in c:\\programdata\\anaconda3\\lib\\site-packages (from seaborn) (3.7.0)\n",
      "Requirement already satisfied: pandas>=0.25 in c:\\programdata\\anaconda3\\lib\\site-packages (from seaborn) (1.5.3)\n",
      "Requirement already satisfied: numpy!=1.24.0,>=1.17 in c:\\programdata\\anaconda3\\lib\\site-packages (from seaborn) (1.23.5)\n",
      "Requirement already satisfied: packaging>=20.0 in c:\\programdata\\anaconda3\\lib\\site-packages (from matplotlib!=3.6.1,>=3.1->seaborn) (22.0)\n",
      "Requirement already satisfied: contourpy>=1.0.1 in c:\\programdata\\anaconda3\\lib\\site-packages (from matplotlib!=3.6.1,>=3.1->seaborn) (1.0.5)\n",
      "Requirement already satisfied: pyparsing>=2.3.1 in c:\\programdata\\anaconda3\\lib\\site-packages (from matplotlib!=3.6.1,>=3.1->seaborn) (3.0.9)\n",
      "Requirement already satisfied: kiwisolver>=1.0.1 in c:\\programdata\\anaconda3\\lib\\site-packages (from matplotlib!=3.6.1,>=3.1->seaborn) (1.4.4)\n",
      "Requirement already satisfied: pillow>=6.2.0 in c:\\programdata\\anaconda3\\lib\\site-packages (from matplotlib!=3.6.1,>=3.1->seaborn) (9.4.0)\n",
      "Requirement already satisfied: python-dateutil>=2.7 in c:\\programdata\\anaconda3\\lib\\site-packages (from matplotlib!=3.6.1,>=3.1->seaborn) (2.8.2)\n",
      "Requirement already satisfied: cycler>=0.10 in c:\\programdata\\anaconda3\\lib\\site-packages (from matplotlib!=3.6.1,>=3.1->seaborn) (0.11.0)\n",
      "Requirement already satisfied: fonttools>=4.22.0 in c:\\programdata\\anaconda3\\lib\\site-packages (from matplotlib!=3.6.1,>=3.1->seaborn) (4.25.0)\n",
      "Requirement already satisfied: pytz>=2020.1 in c:\\programdata\\anaconda3\\lib\\site-packages (from pandas>=0.25->seaborn) (2022.7)\n",
      "Requirement already satisfied: six>=1.5 in c:\\programdata\\anaconda3\\lib\\site-packages (from python-dateutil>=2.7->matplotlib!=3.6.1,>=3.1->seaborn) (1.16.0)\n",
      "Note: you may need to restart the kernel to use updated packages.\n"
     ]
    }
   ],
   "source": [
    "pip install seaborn"
   ]
  },
  {
   "cell_type": "code",
   "execution_count": 3,
   "metadata": {},
   "outputs": [
    {
     "name": "stdout",
     "output_type": "stream",
     "text": [
      "Defaulting to user installation because normal site-packages is not writeable\n",
      "Requirement already satisfied: fuzzywuzzy in c:\\users\\benedicta mankata\\appdata\\roaming\\python\\python310\\site-packages (0.18.0)\n",
      "Note: you may need to restart the kernel to use updated packages.\n"
     ]
    }
   ],
   "source": [
    " pip install fuzzywuzzy"
   ]
  },
  {
   "cell_type": "code",
   "execution_count": 4,
   "metadata": {},
   "outputs": [
    {
     "name": "stdout",
     "output_type": "stream",
     "text": [
      "Defaulting to user installation because normal site-packages is not writeableNote: you may need to restart the kernel to use updated packages.\n",
      "\n",
      "Requirement already satisfied: python-dotenv in c:\\users\\benedicta mankata\\appdata\\roaming\\python\\python310\\site-packages (1.0.0)\n"
     ]
    }
   ],
   "source": [
    "pip install python-dotenv"
   ]
  },
  {
   "cell_type": "code",
   "execution_count": 5,
   "metadata": {},
   "outputs": [],
   "source": [
    "import pyodbc #just installed with pip\n",
    "from dotenv import dotenv_values #import the dotenv_values function from the dotenv package\n",
    "import pandas as pd\n",
    "import warnings \n",
    "import numpy as np\n",
    "import matplotlib.pyplot as plt \n",
    "import seaborn as sns\n",
    "\n",
    "\n",
    "import datetime as dt\n",
    "from sklearn.impute import SimpleImputer\n",
    "\n",
    "\n",
    "\n",
    "import os\n",
    "\n",
    "warnings.filterwarnings('ignore')"
   ]
  },
  {
   "cell_type": "code",
   "execution_count": 6,
   "metadata": {},
   "outputs": [],
   "source": [
    "# Load environment variables from .env file into a dictionary\n",
    "environment_variables = dotenv_values('.env')\n",
    "database = environment_variables.get(\"DATABASE\")\n",
    "server = environment_variables.get(\"SERVER\")\n",
    "username = environment_variables.get(\"USERNAME\")\n",
    "password = environment_variables.get(\"PASSWORD\")\n",
    "\n",
    "\n",
    "connection_string = f\"DRIVER={{SQL Server}};SERVER={server};DATABASE={database};UID={username};PWD={password}\""
   ]
  },
  {
   "cell_type": "code",
   "execution_count": 7,
   "metadata": {},
   "outputs": [],
   "source": [
    "# Use the connect method of the pyodbc library and pass in the connection string.\n",
    "# This will connect to the server and might take a few seconds to be complete. \n",
    "# Check your internet connection if it takes more time than necessary\n",
    "\n",
    "connection = pyodbc.connect(connection_string)"
   ]
  },
  {
   "cell_type": "code",
   "execution_count": 8,
   "metadata": {},
   "outputs": [],
   "source": [
    "# Now the sql query to get the data is what what you see below. \n",
    "# Note that you will not have permissions to insert delete or update this database table. \n",
    "\n",
    "query2020 = \"select * from dbo.LP1_startup_funding2020\"\n",
    "\n",
    "\n",
    "\n",
    "\n",
    "df_2020 = pd.read_sql(query2020, connection)"
   ]
  },
  {
   "cell_type": "code",
   "execution_count": 9,
   "metadata": {},
   "outputs": [
    {
     "data": {
      "text/html": [
       "<div>\n",
       "<style scoped>\n",
       "    .dataframe tbody tr th:only-of-type {\n",
       "        vertical-align: middle;\n",
       "    }\n",
       "\n",
       "    .dataframe tbody tr th {\n",
       "        vertical-align: top;\n",
       "    }\n",
       "\n",
       "    .dataframe thead th {\n",
       "        text-align: right;\n",
       "    }\n",
       "</style>\n",
       "<table border=\"1\" class=\"dataframe\">\n",
       "  <thead>\n",
       "    <tr style=\"text-align: right;\">\n",
       "      <th></th>\n",
       "      <th>Company_Brand</th>\n",
       "      <th>Founded</th>\n",
       "      <th>HeadQuarter</th>\n",
       "      <th>Sector</th>\n",
       "      <th>What_it_does</th>\n",
       "      <th>Founders</th>\n",
       "      <th>Investor</th>\n",
       "      <th>Amount</th>\n",
       "      <th>Stage</th>\n",
       "      <th>column10</th>\n",
       "    </tr>\n",
       "  </thead>\n",
       "  <tbody>\n",
       "    <tr>\n",
       "      <th>0</th>\n",
       "      <td>Aqgromalin</td>\n",
       "      <td>2019.0</td>\n",
       "      <td>Chennai</td>\n",
       "      <td>AgriTech</td>\n",
       "      <td>Cultivating Ideas for Profit</td>\n",
       "      <td>Prasanna Manogaran, Bharani C L</td>\n",
       "      <td>Angel investors</td>\n",
       "      <td>200000.0</td>\n",
       "      <td>None</td>\n",
       "      <td>None</td>\n",
       "    </tr>\n",
       "    <tr>\n",
       "      <th>1</th>\n",
       "      <td>Krayonnz</td>\n",
       "      <td>2019.0</td>\n",
       "      <td>Bangalore</td>\n",
       "      <td>EdTech</td>\n",
       "      <td>An academy-guardian-scholar centric ecosystem ...</td>\n",
       "      <td>Saurabh Dixit, Gurudutt Upadhyay</td>\n",
       "      <td>GSF Accelerator</td>\n",
       "      <td>100000.0</td>\n",
       "      <td>Pre-seed</td>\n",
       "      <td>None</td>\n",
       "    </tr>\n",
       "    <tr>\n",
       "      <th>2</th>\n",
       "      <td>PadCare Labs</td>\n",
       "      <td>2018.0</td>\n",
       "      <td>Pune</td>\n",
       "      <td>Hygiene management</td>\n",
       "      <td>Converting bio-hazardous waste to harmless waste</td>\n",
       "      <td>Ajinkya Dhariya</td>\n",
       "      <td>Venture Center</td>\n",
       "      <td>NaN</td>\n",
       "      <td>Pre-seed</td>\n",
       "      <td>None</td>\n",
       "    </tr>\n",
       "  </tbody>\n",
       "</table>\n",
       "</div>"
      ],
      "text/plain": [
       "  Company_Brand  Founded HeadQuarter              Sector  \\\n",
       "0    Aqgromalin   2019.0     Chennai            AgriTech   \n",
       "1      Krayonnz   2019.0   Bangalore              EdTech   \n",
       "2  PadCare Labs   2018.0        Pune  Hygiene management   \n",
       "\n",
       "                                        What_it_does  \\\n",
       "0                       Cultivating Ideas for Profit   \n",
       "1  An academy-guardian-scholar centric ecosystem ...   \n",
       "2   Converting bio-hazardous waste to harmless waste   \n",
       "\n",
       "                           Founders         Investor    Amount     Stage  \\\n",
       "0   Prasanna Manogaran, Bharani C L  Angel investors  200000.0      None   \n",
       "1  Saurabh Dixit, Gurudutt Upadhyay  GSF Accelerator  100000.0  Pre-seed   \n",
       "2                   Ajinkya Dhariya   Venture Center       NaN  Pre-seed   \n",
       "\n",
       "  column10  \n",
       "0     None  \n",
       "1     None  \n",
       "2     None  "
      ]
     },
     "execution_count": 9,
     "metadata": {},
     "output_type": "execute_result"
    }
   ],
   "source": [
    "df_2020.head(3)"
   ]
  },
  {
   "cell_type": "code",
   "execution_count": 10,
   "metadata": {},
   "outputs": [],
   "source": [
    "query2021 = \"select * from dbo.LP1_startup_funding2021\"\n",
    "\n",
    "\n",
    "\n",
    "\n",
    "df_2021 = pd.read_sql(query2021, connection)"
   ]
  },
  {
   "cell_type": "code",
   "execution_count": 11,
   "metadata": {},
   "outputs": [
    {
     "data": {
      "text/html": [
       "<div>\n",
       "<style scoped>\n",
       "    .dataframe tbody tr th:only-of-type {\n",
       "        vertical-align: middle;\n",
       "    }\n",
       "\n",
       "    .dataframe tbody tr th {\n",
       "        vertical-align: top;\n",
       "    }\n",
       "\n",
       "    .dataframe thead th {\n",
       "        text-align: right;\n",
       "    }\n",
       "</style>\n",
       "<table border=\"1\" class=\"dataframe\">\n",
       "  <thead>\n",
       "    <tr style=\"text-align: right;\">\n",
       "      <th></th>\n",
       "      <th>Company_Brand</th>\n",
       "      <th>Founded</th>\n",
       "      <th>HeadQuarter</th>\n",
       "      <th>Sector</th>\n",
       "      <th>What_it_does</th>\n",
       "      <th>Founders</th>\n",
       "      <th>Investor</th>\n",
       "      <th>Amount</th>\n",
       "      <th>Stage</th>\n",
       "    </tr>\n",
       "  </thead>\n",
       "  <tbody>\n",
       "    <tr>\n",
       "      <th>0</th>\n",
       "      <td>Unbox Robotics</td>\n",
       "      <td>2019.0</td>\n",
       "      <td>Bangalore</td>\n",
       "      <td>AI startup</td>\n",
       "      <td>Unbox Robotics builds on-demand AI-driven ware...</td>\n",
       "      <td>Pramod Ghadge, Shahid Memon</td>\n",
       "      <td>BEENEXT, Entrepreneur First</td>\n",
       "      <td>$1,200,000</td>\n",
       "      <td>Pre-series A</td>\n",
       "    </tr>\n",
       "    <tr>\n",
       "      <th>1</th>\n",
       "      <td>upGrad</td>\n",
       "      <td>2015.0</td>\n",
       "      <td>Mumbai</td>\n",
       "      <td>EdTech</td>\n",
       "      <td>UpGrad is an online higher education platform.</td>\n",
       "      <td>Mayank Kumar, Phalgun Kompalli, Ravijot Chugh,...</td>\n",
       "      <td>Unilazer Ventures, IIFL Asset Management</td>\n",
       "      <td>$120,000,000</td>\n",
       "      <td>None</td>\n",
       "    </tr>\n",
       "    <tr>\n",
       "      <th>2</th>\n",
       "      <td>Lead School</td>\n",
       "      <td>2012.0</td>\n",
       "      <td>Mumbai</td>\n",
       "      <td>EdTech</td>\n",
       "      <td>LEAD School offers technology based school tra...</td>\n",
       "      <td>Smita Deorah, Sumeet Mehta</td>\n",
       "      <td>GSV Ventures, Westbridge Capital</td>\n",
       "      <td>$30,000,000</td>\n",
       "      <td>Series D</td>\n",
       "    </tr>\n",
       "    <tr>\n",
       "      <th>3</th>\n",
       "      <td>Bizongo</td>\n",
       "      <td>2015.0</td>\n",
       "      <td>Mumbai</td>\n",
       "      <td>B2B E-commerce</td>\n",
       "      <td>Bizongo is a business-to-business online marke...</td>\n",
       "      <td>Aniket Deb, Ankit Tomar, Sachin Agrawal</td>\n",
       "      <td>CDC Group, IDG Capital</td>\n",
       "      <td>$51,000,000</td>\n",
       "      <td>Series C</td>\n",
       "    </tr>\n",
       "    <tr>\n",
       "      <th>4</th>\n",
       "      <td>FypMoney</td>\n",
       "      <td>2021.0</td>\n",
       "      <td>Gurugram</td>\n",
       "      <td>FinTech</td>\n",
       "      <td>FypMoney is Digital NEO Bank for Teenagers, em...</td>\n",
       "      <td>Kapil Banwari</td>\n",
       "      <td>Liberatha Kallat, Mukesh Yadav, Dinesh Nagpal</td>\n",
       "      <td>$2,000,000</td>\n",
       "      <td>Seed</td>\n",
       "    </tr>\n",
       "  </tbody>\n",
       "</table>\n",
       "</div>"
      ],
      "text/plain": [
       "    Company_Brand  Founded HeadQuarter          Sector  \\\n",
       "0  Unbox Robotics   2019.0   Bangalore      AI startup   \n",
       "1          upGrad   2015.0      Mumbai          EdTech   \n",
       "2     Lead School   2012.0      Mumbai          EdTech   \n",
       "3         Bizongo   2015.0      Mumbai  B2B E-commerce   \n",
       "4        FypMoney   2021.0    Gurugram         FinTech   \n",
       "\n",
       "                                        What_it_does  \\\n",
       "0  Unbox Robotics builds on-demand AI-driven ware...   \n",
       "1     UpGrad is an online higher education platform.   \n",
       "2  LEAD School offers technology based school tra...   \n",
       "3  Bizongo is a business-to-business online marke...   \n",
       "4  FypMoney is Digital NEO Bank for Teenagers, em...   \n",
       "\n",
       "                                            Founders  \\\n",
       "0                        Pramod Ghadge, Shahid Memon   \n",
       "1  Mayank Kumar, Phalgun Kompalli, Ravijot Chugh,...   \n",
       "2                         Smita Deorah, Sumeet Mehta   \n",
       "3            Aniket Deb, Ankit Tomar, Sachin Agrawal   \n",
       "4                                      Kapil Banwari   \n",
       "\n",
       "                                        Investor        Amount         Stage  \n",
       "0                    BEENEXT, Entrepreneur First    $1,200,000  Pre-series A  \n",
       "1       Unilazer Ventures, IIFL Asset Management  $120,000,000          None  \n",
       "2               GSV Ventures, Westbridge Capital   $30,000,000      Series D  \n",
       "3                         CDC Group, IDG Capital   $51,000,000      Series C  \n",
       "4  Liberatha Kallat, Mukesh Yadav, Dinesh Nagpal    $2,000,000          Seed  "
      ]
     },
     "execution_count": 11,
     "metadata": {},
     "output_type": "execute_result"
    }
   ],
   "source": [
    "df_2021.head()"
   ]
  },
  {
   "cell_type": "code",
   "execution_count": 12,
   "metadata": {},
   "outputs": [],
   "source": [
    "df_2018 = pd.read_csv(\"startup_funding2018.csv\")\n"
   ]
  },
  {
   "cell_type": "code",
   "execution_count": 13,
   "metadata": {},
   "outputs": [
    {
     "data": {
      "text/html": [
       "<div>\n",
       "<style scoped>\n",
       "    .dataframe tbody tr th:only-of-type {\n",
       "        vertical-align: middle;\n",
       "    }\n",
       "\n",
       "    .dataframe tbody tr th {\n",
       "        vertical-align: top;\n",
       "    }\n",
       "\n",
       "    .dataframe thead th {\n",
       "        text-align: right;\n",
       "    }\n",
       "</style>\n",
       "<table border=\"1\" class=\"dataframe\">\n",
       "  <thead>\n",
       "    <tr style=\"text-align: right;\">\n",
       "      <th></th>\n",
       "      <th>Company Name</th>\n",
       "      <th>Industry</th>\n",
       "      <th>Round/Series</th>\n",
       "      <th>Amount</th>\n",
       "      <th>Location</th>\n",
       "      <th>About Company</th>\n",
       "    </tr>\n",
       "  </thead>\n",
       "  <tbody>\n",
       "    <tr>\n",
       "      <th>0</th>\n",
       "      <td>TheCollegeFever</td>\n",
       "      <td>Brand Marketing, Event Promotion, Marketing, S...</td>\n",
       "      <td>Seed</td>\n",
       "      <td>250000</td>\n",
       "      <td>Bangalore, Karnataka, India</td>\n",
       "      <td>TheCollegeFever is a hub for fun, fiesta and f...</td>\n",
       "    </tr>\n",
       "    <tr>\n",
       "      <th>1</th>\n",
       "      <td>Happy Cow Dairy</td>\n",
       "      <td>Agriculture, Farming</td>\n",
       "      <td>Seed</td>\n",
       "      <td>₹40,000,000</td>\n",
       "      <td>Mumbai, Maharashtra, India</td>\n",
       "      <td>A startup which aggregates milk from dairy far...</td>\n",
       "    </tr>\n",
       "    <tr>\n",
       "      <th>2</th>\n",
       "      <td>MyLoanCare</td>\n",
       "      <td>Credit, Financial Services, Lending, Marketplace</td>\n",
       "      <td>Series A</td>\n",
       "      <td>₹65,000,000</td>\n",
       "      <td>Gurgaon, Haryana, India</td>\n",
       "      <td>Leading Online Loans Marketplace in India</td>\n",
       "    </tr>\n",
       "    <tr>\n",
       "      <th>3</th>\n",
       "      <td>PayMe India</td>\n",
       "      <td>Financial Services, FinTech</td>\n",
       "      <td>Angel</td>\n",
       "      <td>2000000</td>\n",
       "      <td>Noida, Uttar Pradesh, India</td>\n",
       "      <td>PayMe India is an innovative FinTech organizat...</td>\n",
       "    </tr>\n",
       "    <tr>\n",
       "      <th>4</th>\n",
       "      <td>Eunimart</td>\n",
       "      <td>E-Commerce Platforms, Retail, SaaS</td>\n",
       "      <td>Seed</td>\n",
       "      <td>—</td>\n",
       "      <td>Hyderabad, Andhra Pradesh, India</td>\n",
       "      <td>Eunimart is a one stop solution for merchants ...</td>\n",
       "    </tr>\n",
       "  </tbody>\n",
       "</table>\n",
       "</div>"
      ],
      "text/plain": [
       "      Company Name                                           Industry  \\\n",
       "0  TheCollegeFever  Brand Marketing, Event Promotion, Marketing, S...   \n",
       "1  Happy Cow Dairy                               Agriculture, Farming   \n",
       "2       MyLoanCare   Credit, Financial Services, Lending, Marketplace   \n",
       "3      PayMe India                        Financial Services, FinTech   \n",
       "4         Eunimart                 E-Commerce Platforms, Retail, SaaS   \n",
       "\n",
       "  Round/Series       Amount                          Location  \\\n",
       "0         Seed       250000       Bangalore, Karnataka, India   \n",
       "1         Seed  ₹40,000,000        Mumbai, Maharashtra, India   \n",
       "2     Series A  ₹65,000,000           Gurgaon, Haryana, India   \n",
       "3        Angel      2000000       Noida, Uttar Pradesh, India   \n",
       "4         Seed            —  Hyderabad, Andhra Pradesh, India   \n",
       "\n",
       "                                       About Company  \n",
       "0  TheCollegeFever is a hub for fun, fiesta and f...  \n",
       "1  A startup which aggregates milk from dairy far...  \n",
       "2          Leading Online Loans Marketplace in India  \n",
       "3  PayMe India is an innovative FinTech organizat...  \n",
       "4  Eunimart is a one stop solution for merchants ...  "
      ]
     },
     "execution_count": 13,
     "metadata": {},
     "output_type": "execute_result"
    }
   ],
   "source": [
    "df_2018.head()"
   ]
  },
  {
   "cell_type": "code",
   "execution_count": 14,
   "metadata": {},
   "outputs": [],
   "source": [
    "df_2019 = pd.read_csv(\"startup_funding2019.csv\")\n"
   ]
  },
  {
   "cell_type": "code",
   "execution_count": 15,
   "metadata": {},
   "outputs": [
    {
     "data": {
      "text/html": [
       "<div>\n",
       "<style scoped>\n",
       "    .dataframe tbody tr th:only-of-type {\n",
       "        vertical-align: middle;\n",
       "    }\n",
       "\n",
       "    .dataframe tbody tr th {\n",
       "        vertical-align: top;\n",
       "    }\n",
       "\n",
       "    .dataframe thead th {\n",
       "        text-align: right;\n",
       "    }\n",
       "</style>\n",
       "<table border=\"1\" class=\"dataframe\">\n",
       "  <thead>\n",
       "    <tr style=\"text-align: right;\">\n",
       "      <th></th>\n",
       "      <th>Company/Brand</th>\n",
       "      <th>Founded</th>\n",
       "      <th>HeadQuarter</th>\n",
       "      <th>Sector</th>\n",
       "      <th>What it does</th>\n",
       "      <th>Founders</th>\n",
       "      <th>Investor</th>\n",
       "      <th>Amount($)</th>\n",
       "      <th>Stage</th>\n",
       "    </tr>\n",
       "  </thead>\n",
       "  <tbody>\n",
       "    <tr>\n",
       "      <th>0</th>\n",
       "      <td>Bombay Shaving</td>\n",
       "      <td>NaN</td>\n",
       "      <td>NaN</td>\n",
       "      <td>Ecommerce</td>\n",
       "      <td>Provides a range of male grooming products</td>\n",
       "      <td>Shantanu Deshpande</td>\n",
       "      <td>Sixth Sense Ventures</td>\n",
       "      <td>$6,300,000</td>\n",
       "      <td>NaN</td>\n",
       "    </tr>\n",
       "    <tr>\n",
       "      <th>1</th>\n",
       "      <td>Ruangguru</td>\n",
       "      <td>2014.0</td>\n",
       "      <td>Mumbai</td>\n",
       "      <td>Edtech</td>\n",
       "      <td>A learning platform that provides topic-based ...</td>\n",
       "      <td>Adamas Belva Syah Devara, Iman Usman.</td>\n",
       "      <td>General Atlantic</td>\n",
       "      <td>$150,000,000</td>\n",
       "      <td>Series C</td>\n",
       "    </tr>\n",
       "    <tr>\n",
       "      <th>2</th>\n",
       "      <td>Eduisfun</td>\n",
       "      <td>NaN</td>\n",
       "      <td>Mumbai</td>\n",
       "      <td>Edtech</td>\n",
       "      <td>It aims to make learning fun via games.</td>\n",
       "      <td>Jatin Solanki</td>\n",
       "      <td>Deepak Parekh, Amitabh Bachchan, Piyush Pandey</td>\n",
       "      <td>$28,000,000</td>\n",
       "      <td>Fresh funding</td>\n",
       "    </tr>\n",
       "    <tr>\n",
       "      <th>3</th>\n",
       "      <td>HomeLane</td>\n",
       "      <td>2014.0</td>\n",
       "      <td>Chennai</td>\n",
       "      <td>Interior design</td>\n",
       "      <td>Provides interior designing solutions</td>\n",
       "      <td>Srikanth Iyer, Rama Harinath</td>\n",
       "      <td>Evolvence India Fund (EIF), Pidilite Group, FJ...</td>\n",
       "      <td>$30,000,000</td>\n",
       "      <td>Series D</td>\n",
       "    </tr>\n",
       "    <tr>\n",
       "      <th>4</th>\n",
       "      <td>Nu Genes</td>\n",
       "      <td>2004.0</td>\n",
       "      <td>Telangana</td>\n",
       "      <td>AgriTech</td>\n",
       "      <td>It is a seed company engaged in production, pr...</td>\n",
       "      <td>Narayana Reddy Punyala</td>\n",
       "      <td>Innovation in Food and Agriculture (IFA)</td>\n",
       "      <td>$6,000,000</td>\n",
       "      <td>NaN</td>\n",
       "    </tr>\n",
       "  </tbody>\n",
       "</table>\n",
       "</div>"
      ],
      "text/plain": [
       "    Company/Brand  Founded HeadQuarter           Sector  \\\n",
       "0  Bombay Shaving      NaN         NaN        Ecommerce   \n",
       "1       Ruangguru   2014.0      Mumbai           Edtech   \n",
       "2        Eduisfun      NaN      Mumbai           Edtech   \n",
       "3        HomeLane   2014.0     Chennai  Interior design   \n",
       "4        Nu Genes   2004.0   Telangana         AgriTech   \n",
       "\n",
       "                                        What it does  \\\n",
       "0         Provides a range of male grooming products   \n",
       "1  A learning platform that provides topic-based ...   \n",
       "2            It aims to make learning fun via games.   \n",
       "3              Provides interior designing solutions   \n",
       "4  It is a seed company engaged in production, pr...   \n",
       "\n",
       "                                Founders  \\\n",
       "0                     Shantanu Deshpande   \n",
       "1  Adamas Belva Syah Devara, Iman Usman.   \n",
       "2                          Jatin Solanki   \n",
       "3           Srikanth Iyer, Rama Harinath   \n",
       "4                 Narayana Reddy Punyala   \n",
       "\n",
       "                                            Investor     Amount($)  \\\n",
       "0                               Sixth Sense Ventures    $6,300,000   \n",
       "1                                   General Atlantic  $150,000,000   \n",
       "2     Deepak Parekh, Amitabh Bachchan, Piyush Pandey   $28,000,000   \n",
       "3  Evolvence India Fund (EIF), Pidilite Group, FJ...   $30,000,000   \n",
       "4           Innovation in Food and Agriculture (IFA)    $6,000,000   \n",
       "\n",
       "           Stage  \n",
       "0            NaN  \n",
       "1       Series C  \n",
       "2  Fresh funding  \n",
       "3       Series D  \n",
       "4            NaN  "
      ]
     },
     "execution_count": 15,
     "metadata": {},
     "output_type": "execute_result"
    }
   ],
   "source": [
    "df_2019.head()"
   ]
  },
  {
   "cell_type": "code",
   "execution_count": 16,
   "metadata": {},
   "outputs": [
    {
     "data": {
      "text/plain": [
       "((1055, 10), (1209, 9), (526, 6), (89, 9))"
      ]
     },
     "execution_count": 16,
     "metadata": {},
     "output_type": "execute_result"
    }
   ],
   "source": [
    "df_2020.shape, df_2021.shape, df_2018.shape, df_2019.shape"
   ]
  },
  {
   "cell_type": "code",
   "execution_count": 17,
   "metadata": {},
   "outputs": [
    {
     "name": "stdout",
     "output_type": "stream",
     "text": [
      "<class 'pandas.core.frame.DataFrame'>\n",
      "RangeIndex: 1055 entries, 0 to 1054\n",
      "Data columns (total 10 columns):\n",
      " #   Column         Non-Null Count  Dtype  \n",
      "---  ------         --------------  -----  \n",
      " 0   Company_Brand  1055 non-null   object \n",
      " 1   Founded        842 non-null    float64\n",
      " 2   HeadQuarter    961 non-null    object \n",
      " 3   Sector         1042 non-null   object \n",
      " 4   What_it_does   1055 non-null   object \n",
      " 5   Founders       1043 non-null   object \n",
      " 6   Investor       1017 non-null   object \n",
      " 7   Amount         801 non-null    float64\n",
      " 8   Stage          591 non-null    object \n",
      " 9   column10       2 non-null      object \n",
      "dtypes: float64(2), object(8)\n",
      "memory usage: 82.5+ KB\n"
     ]
    }
   ],
   "source": [
    "df_2020.info() "
   ]
  },
  {
   "cell_type": "code",
   "execution_count": 18,
   "metadata": {},
   "outputs": [
    {
     "name": "stdout",
     "output_type": "stream",
     "text": [
      "<class 'pandas.core.frame.DataFrame'>\n",
      "RangeIndex: 1209 entries, 0 to 1208\n",
      "Data columns (total 9 columns):\n",
      " #   Column         Non-Null Count  Dtype  \n",
      "---  ------         --------------  -----  \n",
      " 0   Company_Brand  1209 non-null   object \n",
      " 1   Founded        1208 non-null   float64\n",
      " 2   HeadQuarter    1208 non-null   object \n",
      " 3   Sector         1209 non-null   object \n",
      " 4   What_it_does   1209 non-null   object \n",
      " 5   Founders       1205 non-null   object \n",
      " 6   Investor       1147 non-null   object \n",
      " 7   Amount         1206 non-null   object \n",
      " 8   Stage          781 non-null    object \n",
      "dtypes: float64(1), object(8)\n",
      "memory usage: 85.1+ KB\n"
     ]
    }
   ],
   "source": [
    "df_2021.info()"
   ]
  },
  {
   "cell_type": "code",
   "execution_count": 19,
   "metadata": {},
   "outputs": [
    {
     "name": "stdout",
     "output_type": "stream",
     "text": [
      "<class 'pandas.core.frame.DataFrame'>\n",
      "RangeIndex: 526 entries, 0 to 525\n",
      "Data columns (total 6 columns):\n",
      " #   Column         Non-Null Count  Dtype \n",
      "---  ------         --------------  ----- \n",
      " 0   Company Name   526 non-null    object\n",
      " 1   Industry       526 non-null    object\n",
      " 2   Round/Series   526 non-null    object\n",
      " 3   Amount         526 non-null    object\n",
      " 4   Location       526 non-null    object\n",
      " 5   About Company  526 non-null    object\n",
      "dtypes: object(6)\n",
      "memory usage: 24.8+ KB\n"
     ]
    }
   ],
   "source": [
    "df_2018.info()"
   ]
  },
  {
   "cell_type": "code",
   "execution_count": 20,
   "metadata": {},
   "outputs": [
    {
     "name": "stdout",
     "output_type": "stream",
     "text": [
      "<class 'pandas.core.frame.DataFrame'>\n",
      "RangeIndex: 89 entries, 0 to 88\n",
      "Data columns (total 9 columns):\n",
      " #   Column         Non-Null Count  Dtype  \n",
      "---  ------         --------------  -----  \n",
      " 0   Company/Brand  89 non-null     object \n",
      " 1   Founded        60 non-null     float64\n",
      " 2   HeadQuarter    70 non-null     object \n",
      " 3   Sector         84 non-null     object \n",
      " 4   What it does   89 non-null     object \n",
      " 5   Founders       86 non-null     object \n",
      " 6   Investor       89 non-null     object \n",
      " 7   Amount($)      89 non-null     object \n",
      " 8   Stage          43 non-null     object \n",
      "dtypes: float64(1), object(8)\n",
      "memory usage: 6.4+ KB\n"
     ]
    }
   ],
   "source": [
    "df_2019.info()"
   ]
  },
  {
   "cell_type": "code",
   "execution_count": 21,
   "metadata": {},
   "outputs": [],
   "source": [
    "df_2020.to_csv('startup_function2020.csv', index = False)"
   ]
  },
  {
   "cell_type": "code",
   "execution_count": 22,
   "metadata": {},
   "outputs": [],
   "source": [
    "df_2021.to_csv('startup_function2021.csv', index = False)"
   ]
  },
  {
   "attachments": {},
   "cell_type": "markdown",
   "metadata": {},
   "source": [
    "2.1  Null hypothesis: The location os a business doesn't affeact the amount of funding received from investors.\n",
    "Alternate hypothesis: The location of a business significantly affects the amount of funding issued by investors \n",
    "    2.1.1 To test this hypothesis we will examine the distribution of start_ups across cities and deduce which cities have the most highly funded start_ups "
   ]
  },
  {
   "attachments": {},
   "cell_type": "markdown",
   "metadata": {},
   "source": [
    "2.2 Formulated question for our analysis\n",
    "1.\tTo what extent do cities influence funding (amount, etc.)?\n",
    "2.\tWhich sector are preferred by investors for funding?\n",
    "3.\tAt which stage do start-ups get more funding from investors?\n",
    "4.\tWhat is the typical funding amount that startups receive in India?\n",
    "5.\tWhich type of investors invest the most money?\n"
   ]
  },
  {
   "attachments": {},
   "cell_type": "markdown",
   "metadata": {},
   "source": [
    "3.0 Data Praparation "
   ]
  },
  {
   "cell_type": "code",
   "execution_count": 23,
   "metadata": {},
   "outputs": [],
   "source": [
    "#Cleaning 2018_data \n",
    "#load the data \n",
    "df_2018 = pd.read_csv('startup_funding2018.csv')"
   ]
  },
  {
   "cell_type": "code",
   "execution_count": 24,
   "metadata": {},
   "outputs": [
    {
     "data": {
      "text/html": [
       "<div>\n",
       "<style scoped>\n",
       "    .dataframe tbody tr th:only-of-type {\n",
       "        vertical-align: middle;\n",
       "    }\n",
       "\n",
       "    .dataframe tbody tr th {\n",
       "        vertical-align: top;\n",
       "    }\n",
       "\n",
       "    .dataframe thead th {\n",
       "        text-align: right;\n",
       "    }\n",
       "</style>\n",
       "<table border=\"1\" class=\"dataframe\">\n",
       "  <thead>\n",
       "    <tr style=\"text-align: right;\">\n",
       "      <th></th>\n",
       "      <th>Company Name</th>\n",
       "      <th>Industry</th>\n",
       "      <th>Round/Series</th>\n",
       "      <th>Amount</th>\n",
       "      <th>Location</th>\n",
       "      <th>About Company</th>\n",
       "    </tr>\n",
       "  </thead>\n",
       "  <tbody>\n",
       "    <tr>\n",
       "      <th>0</th>\n",
       "      <td>TheCollegeFever</td>\n",
       "      <td>Brand Marketing, Event Promotion, Marketing, S...</td>\n",
       "      <td>Seed</td>\n",
       "      <td>250000</td>\n",
       "      <td>Bangalore, Karnataka, India</td>\n",
       "      <td>TheCollegeFever is a hub for fun, fiesta and f...</td>\n",
       "    </tr>\n",
       "    <tr>\n",
       "      <th>1</th>\n",
       "      <td>Happy Cow Dairy</td>\n",
       "      <td>Agriculture, Farming</td>\n",
       "      <td>Seed</td>\n",
       "      <td>₹40,000,000</td>\n",
       "      <td>Mumbai, Maharashtra, India</td>\n",
       "      <td>A startup which aggregates milk from dairy far...</td>\n",
       "    </tr>\n",
       "    <tr>\n",
       "      <th>2</th>\n",
       "      <td>MyLoanCare</td>\n",
       "      <td>Credit, Financial Services, Lending, Marketplace</td>\n",
       "      <td>Series A</td>\n",
       "      <td>₹65,000,000</td>\n",
       "      <td>Gurgaon, Haryana, India</td>\n",
       "      <td>Leading Online Loans Marketplace in India</td>\n",
       "    </tr>\n",
       "    <tr>\n",
       "      <th>3</th>\n",
       "      <td>PayMe India</td>\n",
       "      <td>Financial Services, FinTech</td>\n",
       "      <td>Angel</td>\n",
       "      <td>2000000</td>\n",
       "      <td>Noida, Uttar Pradesh, India</td>\n",
       "      <td>PayMe India is an innovative FinTech organizat...</td>\n",
       "    </tr>\n",
       "    <tr>\n",
       "      <th>4</th>\n",
       "      <td>Eunimart</td>\n",
       "      <td>E-Commerce Platforms, Retail, SaaS</td>\n",
       "      <td>Seed</td>\n",
       "      <td>—</td>\n",
       "      <td>Hyderabad, Andhra Pradesh, India</td>\n",
       "      <td>Eunimart is a one stop solution for merchants ...</td>\n",
       "    </tr>\n",
       "  </tbody>\n",
       "</table>\n",
       "</div>"
      ],
      "text/plain": [
       "      Company Name                                           Industry  \\\n",
       "0  TheCollegeFever  Brand Marketing, Event Promotion, Marketing, S...   \n",
       "1  Happy Cow Dairy                               Agriculture, Farming   \n",
       "2       MyLoanCare   Credit, Financial Services, Lending, Marketplace   \n",
       "3      PayMe India                        Financial Services, FinTech   \n",
       "4         Eunimart                 E-Commerce Platforms, Retail, SaaS   \n",
       "\n",
       "  Round/Series       Amount                          Location  \\\n",
       "0         Seed       250000       Bangalore, Karnataka, India   \n",
       "1         Seed  ₹40,000,000        Mumbai, Maharashtra, India   \n",
       "2     Series A  ₹65,000,000           Gurgaon, Haryana, India   \n",
       "3        Angel      2000000       Noida, Uttar Pradesh, India   \n",
       "4         Seed            —  Hyderabad, Andhra Pradesh, India   \n",
       "\n",
       "                                       About Company  \n",
       "0  TheCollegeFever is a hub for fun, fiesta and f...  \n",
       "1  A startup which aggregates milk from dairy far...  \n",
       "2          Leading Online Loans Marketplace in India  \n",
       "3  PayMe India is an innovative FinTech organizat...  \n",
       "4  Eunimart is a one stop solution for merchants ...  "
      ]
     },
     "execution_count": 24,
     "metadata": {},
     "output_type": "execute_result"
    }
   ],
   "source": [
    "df_2018.head(5)"
   ]
  },
  {
   "cell_type": "code",
   "execution_count": 25,
   "metadata": {},
   "outputs": [
    {
     "name": "stdout",
     "output_type": "stream",
     "text": [
      "<class 'pandas.core.frame.DataFrame'>\n",
      "RangeIndex: 526 entries, 0 to 525\n",
      "Data columns (total 6 columns):\n",
      " #   Column         Non-Null Count  Dtype \n",
      "---  ------         --------------  ----- \n",
      " 0   Company Name   526 non-null    object\n",
      " 1   Industry       526 non-null    object\n",
      " 2   Round/Series   526 non-null    object\n",
      " 3   Amount         526 non-null    object\n",
      " 4   Location       526 non-null    object\n",
      " 5   About Company  526 non-null    object\n",
      "dtypes: object(6)\n",
      "memory usage: 24.8+ KB\n"
     ]
    }
   ],
   "source": [
    "df_2018.info()"
   ]
  },
  {
   "cell_type": "code",
   "execution_count": 26,
   "metadata": {},
   "outputs": [
    {
     "data": {
      "text/plain": [
       "Company Name     0\n",
       "Industry         0\n",
       "Round/Series     0\n",
       "Amount           0\n",
       "Location         0\n",
       "About Company    0\n",
       "dtype: int64"
      ]
     },
     "execution_count": 26,
     "metadata": {},
     "output_type": "execute_result"
    }
   ],
   "source": [
    "df_2018.isnull().sum() "
   ]
  },
  {
   "cell_type": "code",
   "execution_count": 27,
   "metadata": {},
   "outputs": [
    {
     "data": {
      "text/plain": [
       "array(['Seed', 'Series A', 'Angel', 'Series B', 'Pre-Seed',\n",
       "       'Private Equity', 'Venture - Series Unknown', 'Grant',\n",
       "       'Debt Financing', 'Post-IPO Debt', 'Series H', 'Series C',\n",
       "       'Series E', 'Corporate Round', 'Undisclosed',\n",
       "       'https://docs.google.com/spreadsheets/d/1x9ziNeaz6auNChIHnMI8U6kS7knTr3byy_YBGfQaoUA/edit#gid=1861303593',\n",
       "       'Series D', 'Secondary Market', 'Post-IPO Equity',\n",
       "       'Non-equity Assistance', 'Funding Round'], dtype=object)"
      ]
     },
     "execution_count": 27,
     "metadata": {},
     "output_type": "execute_result"
    }
   ],
   "source": [
    "#checking the unique value of Round/series\n",
    "df_2018['Round/Series'].unique()"
   ]
  },
  {
   "cell_type": "code",
   "execution_count": 28,
   "metadata": {},
   "outputs": [
    {
     "data": {
      "text/html": [
       "<div>\n",
       "<style scoped>\n",
       "    .dataframe tbody tr th:only-of-type {\n",
       "        vertical-align: middle;\n",
       "    }\n",
       "\n",
       "    .dataframe tbody tr th {\n",
       "        vertical-align: top;\n",
       "    }\n",
       "\n",
       "    .dataframe thead th {\n",
       "        text-align: right;\n",
       "    }\n",
       "</style>\n",
       "<table border=\"1\" class=\"dataframe\">\n",
       "  <thead>\n",
       "    <tr style=\"text-align: right;\">\n",
       "      <th></th>\n",
       "      <th>Company Name</th>\n",
       "      <th>Industry</th>\n",
       "      <th>Round/Series</th>\n",
       "      <th>Amount</th>\n",
       "      <th>Location</th>\n",
       "      <th>About Company</th>\n",
       "    </tr>\n",
       "  </thead>\n",
       "  <tbody>\n",
       "    <tr>\n",
       "      <th>178</th>\n",
       "      <td>BuyForexOnline</td>\n",
       "      <td>Travel</td>\n",
       "      <td>https://docs.google.com/spreadsheets/d/1x9ziNe...</td>\n",
       "      <td>2000000</td>\n",
       "      <td>Bangalore, Karnataka, India</td>\n",
       "      <td>BuyForexOnline.com is India's first completely...</td>\n",
       "    </tr>\n",
       "  </tbody>\n",
       "</table>\n",
       "</div>"
      ],
      "text/plain": [
       "       Company Name Industry  \\\n",
       "178  BuyForexOnline   Travel   \n",
       "\n",
       "                                          Round/Series   Amount  \\\n",
       "178  https://docs.google.com/spreadsheets/d/1x9ziNe...  2000000   \n",
       "\n",
       "                        Location  \\\n",
       "178  Bangalore, Karnataka, India   \n",
       "\n",
       "                                         About Company  \n",
       "178  BuyForexOnline.com is India's first completely...  "
      ]
     },
     "execution_count": 28,
     "metadata": {},
     "output_type": "execute_result"
    }
   ],
   "source": [
    "df_2018[df_2018['Round/Series']=='https://docs.google.com/spreadsheets/d/1x9ziNeaz6auNChIHnMI8U6kS7knTr3byy_YBGfQaoUA/edit#gid=1861303593']"
   ]
  },
  {
   "cell_type": "code",
   "execution_count": 29,
   "metadata": {},
   "outputs": [],
   "source": [
    "#dropping the row 164\n",
    "df_2018=df_2018.drop(index=178)"
   ]
  },
  {
   "cell_type": "code",
   "execution_count": 30,
   "metadata": {},
   "outputs": [
    {
     "data": {
      "text/plain": [
       "array(['Bangalore, Karnataka, India', 'Mumbai, Maharashtra, India',\n",
       "       'Gurgaon, Haryana, India', 'Noida, Uttar Pradesh, India',\n",
       "       'Hyderabad, Andhra Pradesh, India', 'Bengaluru, Karnataka, India',\n",
       "       'Kalkaji, Delhi, India', 'Delhi, Delhi, India', 'India, Asia',\n",
       "       'Hubli, Karnataka, India', 'New Delhi, Delhi, India',\n",
       "       'Chennai, Tamil Nadu, India', 'Mohali, Punjab, India',\n",
       "       'Kolkata, West Bengal, India', 'Pune, Maharashtra, India',\n",
       "       'Jodhpur, Rajasthan, India', 'Kanpur, Uttar Pradesh, India',\n",
       "       'Ahmedabad, Gujarat, India', 'Azadpur, Delhi, India',\n",
       "       'Haryana, Haryana, India', 'Cochin, Kerala, India',\n",
       "       'Faridabad, Haryana, India', 'Jaipur, Rajasthan, India',\n",
       "       'Kota, Rajasthan, India', 'Anand, Gujarat, India',\n",
       "       'Bangalore City, Karnataka, India', 'Belgaum, Karnataka, India',\n",
       "       'Thane, Maharashtra, India', 'Margão, Goa, India',\n",
       "       'Indore, Madhya Pradesh, India', 'Alwar, Rajasthan, India',\n",
       "       'Kannur, Kerala, India', 'Trivandrum, Kerala, India',\n",
       "       'Ernakulam, Kerala, India', 'Kormangala, Karnataka, India',\n",
       "       'Uttar Pradesh, India, Asia', 'Andheri, Maharashtra, India',\n",
       "       'Mylapore, Tamil Nadu, India', 'Ghaziabad, Uttar Pradesh, India',\n",
       "       'Kochi, Kerala, India', 'Powai, Assam, India',\n",
       "       'Guntur, Andhra Pradesh, India', 'Kalpakkam, Tamil Nadu, India',\n",
       "       'Bhopal, Madhya Pradesh, India', 'Coimbatore, Tamil Nadu, India',\n",
       "       'Worli, Maharashtra, India', 'Alleppey, Kerala, India',\n",
       "       'Chandigarh, Chandigarh, India', 'Guindy, Tamil Nadu, India',\n",
       "       'Lucknow, Uttar Pradesh, India'], dtype=object)"
      ]
     },
     "execution_count": 30,
     "metadata": {},
     "output_type": "execute_result"
    }
   ],
   "source": [
    "#checking the unique value of Location\n",
    "df_2018['Location'].unique()"
   ]
  },
  {
   "cell_type": "code",
   "execution_count": 31,
   "metadata": {},
   "outputs": [],
   "source": [
    "#splitting the industry column using the comma\n",
    "df_2018['Location'] = df_2018['Location'].str.split(',').str[0]"
   ]
  },
  {
   "cell_type": "code",
   "execution_count": 32,
   "metadata": {},
   "outputs": [
    {
     "data": {
      "text/html": [
       "<div>\n",
       "<style scoped>\n",
       "    .dataframe tbody tr th:only-of-type {\n",
       "        vertical-align: middle;\n",
       "    }\n",
       "\n",
       "    .dataframe tbody tr th {\n",
       "        vertical-align: top;\n",
       "    }\n",
       "\n",
       "    .dataframe thead th {\n",
       "        text-align: right;\n",
       "    }\n",
       "</style>\n",
       "<table border=\"1\" class=\"dataframe\">\n",
       "  <thead>\n",
       "    <tr style=\"text-align: right;\">\n",
       "      <th></th>\n",
       "      <th>Company Name</th>\n",
       "      <th>Industry</th>\n",
       "      <th>Round/Series</th>\n",
       "      <th>Amount</th>\n",
       "      <th>Location</th>\n",
       "      <th>About Company</th>\n",
       "    </tr>\n",
       "  </thead>\n",
       "  <tbody>\n",
       "    <tr>\n",
       "      <th>0</th>\n",
       "      <td>TheCollegeFever</td>\n",
       "      <td>Brand Marketing, Event Promotion, Marketing, S...</td>\n",
       "      <td>Seed</td>\n",
       "      <td>250000</td>\n",
       "      <td>Bangalore</td>\n",
       "      <td>TheCollegeFever is a hub for fun, fiesta and f...</td>\n",
       "    </tr>\n",
       "    <tr>\n",
       "      <th>1</th>\n",
       "      <td>Happy Cow Dairy</td>\n",
       "      <td>Agriculture, Farming</td>\n",
       "      <td>Seed</td>\n",
       "      <td>₹40,000,000</td>\n",
       "      <td>Mumbai</td>\n",
       "      <td>A startup which aggregates milk from dairy far...</td>\n",
       "    </tr>\n",
       "    <tr>\n",
       "      <th>2</th>\n",
       "      <td>MyLoanCare</td>\n",
       "      <td>Credit, Financial Services, Lending, Marketplace</td>\n",
       "      <td>Series A</td>\n",
       "      <td>₹65,000,000</td>\n",
       "      <td>Gurgaon</td>\n",
       "      <td>Leading Online Loans Marketplace in India</td>\n",
       "    </tr>\n",
       "    <tr>\n",
       "      <th>3</th>\n",
       "      <td>PayMe India</td>\n",
       "      <td>Financial Services, FinTech</td>\n",
       "      <td>Angel</td>\n",
       "      <td>2000000</td>\n",
       "      <td>Noida</td>\n",
       "      <td>PayMe India is an innovative FinTech organizat...</td>\n",
       "    </tr>\n",
       "    <tr>\n",
       "      <th>4</th>\n",
       "      <td>Eunimart</td>\n",
       "      <td>E-Commerce Platforms, Retail, SaaS</td>\n",
       "      <td>Seed</td>\n",
       "      <td>—</td>\n",
       "      <td>Hyderabad</td>\n",
       "      <td>Eunimart is a one stop solution for merchants ...</td>\n",
       "    </tr>\n",
       "  </tbody>\n",
       "</table>\n",
       "</div>"
      ],
      "text/plain": [
       "      Company Name                                           Industry  \\\n",
       "0  TheCollegeFever  Brand Marketing, Event Promotion, Marketing, S...   \n",
       "1  Happy Cow Dairy                               Agriculture, Farming   \n",
       "2       MyLoanCare   Credit, Financial Services, Lending, Marketplace   \n",
       "3      PayMe India                        Financial Services, FinTech   \n",
       "4         Eunimart                 E-Commerce Platforms, Retail, SaaS   \n",
       "\n",
       "  Round/Series       Amount   Location  \\\n",
       "0         Seed       250000  Bangalore   \n",
       "1         Seed  ₹40,000,000     Mumbai   \n",
       "2     Series A  ₹65,000,000    Gurgaon   \n",
       "3        Angel      2000000      Noida   \n",
       "4         Seed            —  Hyderabad   \n",
       "\n",
       "                                       About Company  \n",
       "0  TheCollegeFever is a hub for fun, fiesta and f...  \n",
       "1  A startup which aggregates milk from dairy far...  \n",
       "2          Leading Online Loans Marketplace in India  \n",
       "3  PayMe India is an innovative FinTech organizat...  \n",
       "4  Eunimart is a one stop solution for merchants ...  "
      ]
     },
     "execution_count": 32,
     "metadata": {},
     "output_type": "execute_result"
    }
   ],
   "source": [
    "df_2018.head(5)"
   ]
  },
  {
   "cell_type": "code",
   "execution_count": 33,
   "metadata": {},
   "outputs": [
    {
     "data": {
      "text/plain": [
       "array(['250000', '₹40,000,000', '₹65,000,000', '2000000', '—', '1600000',\n",
       "       '₹16,000,000', '₹50,000,000', '₹100,000,000', '150000', '1100000',\n",
       "       '₹500,000', '6000000', '650000', '₹35,000,000', '₹64,000,000',\n",
       "       '₹20,000,000', '1000000', '5000000', '4000000', '₹30,000,000',\n",
       "       '2800000', '1700000', '1300000', '₹5,000,000', '₹12,500,000',\n",
       "       '₹15,000,000', '500000', '₹104,000,000', '₹45,000,000', '13400000',\n",
       "       '₹25,000,000', '₹26,400,000', '₹8,000,000', '₹60,000', '9000000',\n",
       "       '100000', '20000', '120000', '₹34,000,000', '₹342,000,000',\n",
       "       '$143,145', '₹600,000,000', '$742,000,000', '₹1,000,000,000',\n",
       "       '₹2,000,000,000', '$3,980,000', '$10,000', '₹100,000',\n",
       "       '₹250,000,000', '$1,000,000,000', '$7,000,000', '$35,000,000',\n",
       "       '₹550,000,000', '$28,500,000', '$2,000,000', '₹240,000,000',\n",
       "       '₹120,000,000', '$2,400,000', '$30,000,000', '₹2,500,000,000',\n",
       "       '$23,000,000', '$150,000', '$11,000,000', '₹44,000,000',\n",
       "       '$3,240,000', '₹60,000,000', '$540,000,000', '₹650,000,000',\n",
       "       '₹1,600,000,000', '$900,000', '$10,000,000', '$1,500,000',\n",
       "       '₹70,000,000', '$1,000,000', '$5,000,000', '$14,000,000',\n",
       "       '₹102,500,000', '$100,000,000', '₹1,200,000', '₹5,200,000,000',\n",
       "       '$800,000', '$1,041,000', '$100,000', '$15,000', '1400000',\n",
       "       '1200000', '2200000', '1800000', '3600000', '₹9,500,000', '300000',\n",
       "       '6830000', '200000', '₹150,000,000', '4300000', '364846', '400000',\n",
       "       '1500000', '₹7,000,000', '₹1,400,000', '₹10,000,000',\n",
       "       '₹22,500,000', '13200000', '50000', '₹140,200,000', '3000000',\n",
       "       '1250000', '180000', '₹19,200,000', '₹103,000,000', '4200000',\n",
       "       '175000', '1450000', '₹200,000', '4500000', '600000',\n",
       "       '₹16,600,000', '₹12,000,000', '15000000', '₹33,000,000', '125000',\n",
       "       '130000', '₹34,900,000', '₹72,000,000', '17200000', '₹32,000,000',\n",
       "       '3500000', '₹135,000,000', '12000000', '$40,000,000', '$1,100,000',\n",
       "       '$50,000,000', '₹1,540,000,000', '$3,000,000', '$6,000,000',\n",
       "       '₹140,000,000', '$41,900,000', '₹1,410,000,000', '$3,530,000',\n",
       "       '$200,000', '$3,300,000', '₹580,000,000', '₹36,000,000',\n",
       "       '₹340,000,000', '$210,000,000', '$37,680,000', '$250,000',\n",
       "       '$20,000', '₹510,000,000', '₹2,200,000,000', '22000000', '70000',\n",
       "       '10000000', '₹15,392,000,000', '₹20,000,000,000', '₹4,000,000,000',\n",
       "       '185000000', '65000000', '₹165,000,000', '700000', '30000000',\n",
       "       '₹210,000,000', '210000000', '₹2,029,600,000', '75000000',\n",
       "       '₹80,000,000', '1760000', '2700000', '₹280,000,000',\n",
       "       '₹800,000,000', '750000', '2500000', '80000000', '25000000',\n",
       "       '₹730,000,000', '₹400,000,000', '3700000', '5600000',\n",
       "       '₹260,000,000', '99230000', '70000000', '40000', '550000',\n",
       "       '50000000', '365000000', '₹8,750,000', '₹78,000,000', '28000000',\n",
       "       '₹264,000,000', '100000000', '₹1,130,000,000', '₹810,000,000',\n",
       "       '₹1,400,000,000', '14900000', '225000000', '7500', '35000000'],\n",
       "      dtype=object)"
      ]
     },
     "execution_count": 33,
     "metadata": {},
     "output_type": "execute_result"
    }
   ],
   "source": [
    "#cheacking the unique value of amount\n",
    "df_2018['Amount'].unique()"
   ]
  },
  {
   "cell_type": "code",
   "execution_count": 34,
   "metadata": {},
   "outputs": [],
   "source": [
    "# changing the repuss currency into dollors currency using the exchange rates\n",
    "\n",
    "for row in df_2018.index:\n",
    "\n",
    "    for column in df_2018.columns:\n",
    "\n",
    "        if '₹' in str(df_2018.loc[row, column]):\n",
    "\n",
    "            amount = df_2018.loc[row, column].replace('₹', '').replace(',', '')\n",
    "\n",
    "            df_2018.loc[row, column] = pd.to_numeric(amount, errors='coerce') * 0.146\n",
    "\n",
    "        elif '$' in str(df_2018.loc[row, column]):\n",
    "\n",
    "            df_2018.loc[row, column] = df_2018.loc[row, column].replace('$', '').replace(',', '')\n",
    "\n",
    "        elif \"—\" in str(df_2018.loc[row, column]):\n",
    "\n",
    "            df_2018.loc[row, column] = df_2018.loc[row, column].replace(\"—\", '')"
   ]
  },
  {
   "cell_type": "code",
   "execution_count": 35,
   "metadata": {},
   "outputs": [
    {
     "data": {
      "text/html": [
       "<div>\n",
       "<style scoped>\n",
       "    .dataframe tbody tr th:only-of-type {\n",
       "        vertical-align: middle;\n",
       "    }\n",
       "\n",
       "    .dataframe tbody tr th {\n",
       "        vertical-align: top;\n",
       "    }\n",
       "\n",
       "    .dataframe thead th {\n",
       "        text-align: right;\n",
       "    }\n",
       "</style>\n",
       "<table border=\"1\" class=\"dataframe\">\n",
       "  <thead>\n",
       "    <tr style=\"text-align: right;\">\n",
       "      <th></th>\n",
       "      <th>Company Name</th>\n",
       "      <th>Industry</th>\n",
       "      <th>Round/Series</th>\n",
       "      <th>Amount</th>\n",
       "      <th>Location</th>\n",
       "      <th>About Company</th>\n",
       "    </tr>\n",
       "  </thead>\n",
       "  <tbody>\n",
       "    <tr>\n",
       "      <th>0</th>\n",
       "      <td>TheCollegeFever</td>\n",
       "      <td>Brand Marketing, Event Promotion, Marketing, S...</td>\n",
       "      <td>Seed</td>\n",
       "      <td>250000</td>\n",
       "      <td>Bangalore</td>\n",
       "      <td>TheCollegeFever is a hub for fun, fiesta and f...</td>\n",
       "    </tr>\n",
       "    <tr>\n",
       "      <th>1</th>\n",
       "      <td>Happy Cow Dairy</td>\n",
       "      <td>Agriculture, Farming</td>\n",
       "      <td>Seed</td>\n",
       "      <td>5840000.0</td>\n",
       "      <td>Mumbai</td>\n",
       "      <td>A startup which aggregates milk from dairy far...</td>\n",
       "    </tr>\n",
       "    <tr>\n",
       "      <th>2</th>\n",
       "      <td>MyLoanCare</td>\n",
       "      <td>Credit, Financial Services, Lending, Marketplace</td>\n",
       "      <td>Series A</td>\n",
       "      <td>9490000.0</td>\n",
       "      <td>Gurgaon</td>\n",
       "      <td>Leading Online Loans Marketplace in India</td>\n",
       "    </tr>\n",
       "    <tr>\n",
       "      <th>3</th>\n",
       "      <td>PayMe India</td>\n",
       "      <td>Financial Services, FinTech</td>\n",
       "      <td>Angel</td>\n",
       "      <td>2000000</td>\n",
       "      <td>Noida</td>\n",
       "      <td>PayMe India is an innovative FinTech organizat...</td>\n",
       "    </tr>\n",
       "    <tr>\n",
       "      <th>4</th>\n",
       "      <td>Eunimart</td>\n",
       "      <td>E-Commerce Platforms, Retail, SaaS</td>\n",
       "      <td>Seed</td>\n",
       "      <td></td>\n",
       "      <td>Hyderabad</td>\n",
       "      <td>Eunimart is a one stop solution for merchants ...</td>\n",
       "    </tr>\n",
       "  </tbody>\n",
       "</table>\n",
       "</div>"
      ],
      "text/plain": [
       "      Company Name                                           Industry  \\\n",
       "0  TheCollegeFever  Brand Marketing, Event Promotion, Marketing, S...   \n",
       "1  Happy Cow Dairy                               Agriculture, Farming   \n",
       "2       MyLoanCare   Credit, Financial Services, Lending, Marketplace   \n",
       "3      PayMe India                        Financial Services, FinTech   \n",
       "4         Eunimart                 E-Commerce Platforms, Retail, SaaS   \n",
       "\n",
       "  Round/Series     Amount   Location  \\\n",
       "0         Seed     250000  Bangalore   \n",
       "1         Seed  5840000.0     Mumbai   \n",
       "2     Series A  9490000.0    Gurgaon   \n",
       "3        Angel    2000000      Noida   \n",
       "4         Seed             Hyderabad   \n",
       "\n",
       "                                       About Company  \n",
       "0  TheCollegeFever is a hub for fun, fiesta and f...  \n",
       "1  A startup which aggregates milk from dairy far...  \n",
       "2          Leading Online Loans Marketplace in India  \n",
       "3  PayMe India is an innovative FinTech organizat...  \n",
       "4  Eunimart is a one stop solution for merchants ...  "
      ]
     },
     "execution_count": 35,
     "metadata": {},
     "output_type": "execute_result"
    }
   ],
   "source": [
    "df_2018.head(5)"
   ]
  },
  {
   "cell_type": "code",
   "execution_count": 36,
   "metadata": {},
   "outputs": [
    {
     "data": {
      "text/plain": [
       "array(['250000', 5840000.0, 9490000.0, '2000000', '', '1600000',\n",
       "       2336000.0, 7300000.0, 14600000.0, '150000', '1100000', 73000.0,\n",
       "       '6000000', '650000', 5110000.0, 9344000.0, 2920000.0, '1000000',\n",
       "       '5000000', '4000000', 4380000.0, '2800000', '1700000', '1300000',\n",
       "       730000.0, 1825000.0, 2190000.0, '500000', 15183999.999999998,\n",
       "       6570000.0, '13400000', 3650000.0, 3854399.9999999995, 1168000.0,\n",
       "       8760.0, '9000000', '100000', '20000', '120000', 4964000.0,\n",
       "       49932000.0, '143145', 87600000.0, '742000000', 146000000.0,\n",
       "       292000000.0, '3980000', '10000', 14599.999999999998, 36500000.0,\n",
       "       '1000000000', '7000000', '35000000', 80300000.0, '28500000',\n",
       "       35040000.0, 17520000.0, '2400000', '30000000', 365000000.0,\n",
       "       '23000000', '11000000', 6424000.0, '3240000', 8760000.0,\n",
       "       '540000000', 94900000.0, 233600000.0, '900000', '10000000',\n",
       "       '1500000', 10220000.0, '14000000', 14964999.999999998, '100000000',\n",
       "       175200.0, 759200000.0, '800000', '1041000', '15000', '1400000',\n",
       "       '1200000', '2200000', '1800000', '3600000', 1387000.0, '300000',\n",
       "       '6830000', '200000', 21900000.0, '4300000', '364846', '400000',\n",
       "       1021999.9999999999, 204400.0, 1460000.0, 3285000.0, '13200000',\n",
       "       '50000', 20469200.0, '3000000', '1250000', '180000', 2803200.0,\n",
       "       15037999.999999998, '4200000', '175000', '1450000',\n",
       "       29199.999999999996, '4500000', '600000', 2423600.0, 1752000.0,\n",
       "       '15000000', 4818000.0, '125000', '130000', 5095400.0, 10512000.0,\n",
       "       '17200000', 4672000.0, '3500000', 19710000.0, '12000000',\n",
       "       '40000000', '50000000', 224840000.0, 20440000.0, '41900000',\n",
       "       205860000.0, '3530000', '3300000', 84680000.0, 5256000.0,\n",
       "       49640000.0, '210000000', '37680000', 74460000.0, 321200000.0,\n",
       "       '22000000', '70000', 2247232000.0, 2920000000.0, 584000000.0,\n",
       "       '185000000', '65000000', 24090000.0, '700000', 30659999.999999996,\n",
       "       296321600.0, '75000000', 11680000.0, '1760000', '2700000',\n",
       "       40880000.0, 116800000.0, '750000', '2500000', '80000000',\n",
       "       '25000000', 106580000.0, 58400000.0, '3700000', '5600000',\n",
       "       37960000.0, '99230000', '70000000', '40000', '550000', '365000000',\n",
       "       1277500.0, 11388000.0, '28000000', 38544000.0, 164980000.0,\n",
       "       118260000.0, 204400000.0, '14900000', '225000000', '7500'],\n",
       "      dtype=object)"
      ]
     },
     "execution_count": 36,
     "metadata": {},
     "output_type": "execute_result"
    }
   ],
   "source": [
    "df_2018['Amount'].unique()"
   ]
  },
  {
   "cell_type": "code",
   "execution_count": 37,
   "metadata": {},
   "outputs": [],
   "source": [
    "# replace commas and extract numbers to create a new column\n",
    "df_2018['Amount'] = df_2018['Amount'].str.replace(',', '').str.extract(r'(\\d+)').astype(float)\n"
   ]
  },
  {
   "cell_type": "code",
   "execution_count": 38,
   "metadata": {},
   "outputs": [],
   "source": [
    "# # fill null values with the mode in the Amount($) column\n",
    "from sklearn.impute import SimpleImputer\n",
    "imputer = SimpleImputer(strategy='most_frequent', missing_values=np.nan)\n",
    "imputer_18 = imputer.fit(df_2018[['Amount']])\n",
    "df_2018['Amount'] = imputer_18.transform(df_2018[['Amount']])"
   ]
  },
  {
   "cell_type": "code",
   "execution_count": 39,
   "metadata": {},
   "outputs": [
    {
     "data": {
      "text/plain": [
       "0"
      ]
     },
     "execution_count": 39,
     "metadata": {},
     "output_type": "execute_result"
    }
   ],
   "source": [
    "# confirm null value have been replaced\n",
    "df_2018['Amount'].isnull().sum()"
   ]
  },
  {
   "cell_type": "code",
   "execution_count": 40,
   "metadata": {},
   "outputs": [
    {
     "data": {
      "text/plain": [
       "Company Name     524\n",
       "Industry         405\n",
       "Round/Series      20\n",
       "Amount            98\n",
       "Location          50\n",
       "About Company    523\n",
       "dtype: int64"
      ]
     },
     "execution_count": 40,
     "metadata": {},
     "output_type": "execute_result"
    }
   ],
   "source": [
    "# Get the cardinality/number of unique values in each column\n",
    "df_2018.nunique()"
   ]
  },
  {
   "cell_type": "code",
   "execution_count": 41,
   "metadata": {},
   "outputs": [
    {
     "data": {
      "text/plain": [
       "array(['Brand Marketing, Event Promotion, Marketing, Sponsorship, Ticketing',\n",
       "       'Agriculture, Farming',\n",
       "       'Credit, Financial Services, Lending, Marketplace',\n",
       "       'Financial Services, FinTech',\n",
       "       'E-Commerce Platforms, Retail, SaaS',\n",
       "       'Cloud Infrastructure, PaaS, SaaS',\n",
       "       'Internet, Leisure, Marketplace', 'Market Research',\n",
       "       'Information Services, Information Technology', 'Mobile Payments',\n",
       "       'B2B, Shoes', 'Internet',\n",
       "       'Apps, Collaboration, Developer Platform, Enterprise Software, Messaging, Productivity Tools, Video Chat',\n",
       "       'Food Delivery', 'Industrial Automation',\n",
       "       'Automotive, Search Engine, Service Industry',\n",
       "       'Finance, Internet, Travel',\n",
       "       'Accounting, Business Information Systems, Business Travel, Finance, SaaS',\n",
       "       'Artificial Intelligence, Product Search, SaaS, Service Industry, Software',\n",
       "       'Internet of Things, Waste Management',\n",
       "       'Air Transportation, Freight Service, Logistics, Marine Transportation',\n",
       "       'Financial Services', 'Food and Beverage', 'Autonomous Vehicles',\n",
       "       'Enterprise Software, Health Care, Hospital, Parenting, Personal Health, SaaS',\n",
       "       'Agriculture, Analytics, Big Data, Farming',\n",
       "       'Logistics, Supply Chain Management',\n",
       "       'Financial Services, Lending',\n",
       "       'Automotive, Marketplace, Online Portals',\n",
       "       'Artificial Intelligence',\n",
       "       'Internet of Things, Telecommunications', 'Insurance',\n",
       "       'Information Technology, Logistics, Supply Chain Management',\n",
       "       'Blockchain, Developer Tools, Enterprise Software',\n",
       "       'Industrial Automation, Logistics, Supply Chain Management',\n",
       "       'Food and Beverage, Food Delivery, Snack Food', 'Education',\n",
       "       'E-Commerce, Fashion, Jewelry, Retail', 'Renewable Energy',\n",
       "       'E-Learning, Education',\n",
       "       'Clean Energy, CleanTech, Laundry and Dry-cleaning',\n",
       "       'E-Commerce, Fashion, Mobile',\n",
       "       'Apps, Messaging, Navigation, Public Safety', 'Transportation',\n",
       "       'Fitness, Health Care, Wellness',\n",
       "       'Artificial Intelligence, Machine Learning, SaaS, Virtual Assistant',\n",
       "       'Hospitality', 'Food and Beverage, Tea',\n",
       "       'Media and Entertainment, News, Outdoors',\n",
       "       'Broadcasting, Media and Entertainment, Music, Music Streaming, Video, Video Streaming',\n",
       "       'B2B, Information Services, Information Technology',\n",
       "       'EdTech, Education, Enterprise Software, Peer to Peer',\n",
       "       'Health Care, Medical', 'E-Commerce',\n",
       "       'Health Care, Hospital, Wellness', '', 'Sports',\n",
       "       'Big Data, Consumer Lending, FinTech',\n",
       "       'Cloud Computing, Computer, Semiconductor',\n",
       "       'Health Care, Medical, Pharmaceutical', 'Food Processing, Retail',\n",
       "       'Trading Platform', \"Consumer Goods, Lifestyle, Men's\", 'Wellness',\n",
       "       'Food and Beverage, Food Processing, Nutrition', 'Fashion',\n",
       "       'Automotive, Electric Vehicle, Energy Storage',\n",
       "       'Consulting, Retail, Social',\n",
       "       'Biotechnology, Life Science, Pharmaceutical, Product Research',\n",
       "       'Health Care',\n",
       "       'Credit, Financial Services, FinTech, Personal Finance',\n",
       "       'Communities, Coworking, Incubators',\n",
       "       'Consumer, Financial Services, FinTech',\n",
       "       'Consumer Applications, Information Services, Location Based Services, Virtual Assistant',\n",
       "       'Mobile, Mobile Apps, Personalization, Test and Measurement, Web Apps',\n",
       "       'Education, Financial Services, FinTech',\n",
       "       'Advertising, Consulting, Digital Marketing',\n",
       "       'Marketplace, Real Estate, Rental Property',\n",
       "       'E-Learning, Internet, Video Games',\n",
       "       'Artificial Intelligence, Cloud Computing, Video',\n",
       "       'Health Care, Information Technology', 'Aerospace',\n",
       "       'E-Commerce, Fashion, Lifestyle',\n",
       "       'Artificial Intelligence, Business Intelligence, Industrial Automation, Machine Learning',\n",
       "       'Home Decor, Home Improvement, Home Renovation, Home Services, Interior Design, Smart Home',\n",
       "       'EdTech, Education, Information Services, SaaS', 'Energy, Solar',\n",
       "       'B2B, Biometrics, Cyber Security, Fraud Detection, SaaS, Security',\n",
       "       'Artificial Intelligence, Social',\n",
       "       'Logistics, Transportation, Travel',\n",
       "       'Digital Marketing, SEM, SEO, Web Development',\n",
       "       'Health Care, Hospital, Medical', 'Finance, Financial Services',\n",
       "       'Food Delivery, Food Processing, Internet',\n",
       "       'E-Commerce, Food and Beverage, Internet',\n",
       "       'Fitness, Food and Beverage, Health Care, Nutrition',\n",
       "       'EdTech, Education, Knowledge Management',\n",
       "       'Apps, Beauty, Consumer, Retail',\n",
       "       'Creative Agency, Crowdfunding, EdTech, Health Care, Internet, Medical, Non Profit, Personal Health',\n",
       "       'Consumer Lending, Financial Services, FinTech, Insurance, Lending, Mobile Payments, Payments, Wealth Management',\n",
       "       'E-Learning, Education, Higher Education', 'Health Diagnostics',\n",
       "       'EdTech, Education', 'Financial Services, SaaS, Security',\n",
       "       'Banking, Finance, Financial Services, Non Profit',\n",
       "       'B2B, E-Commerce, Mobile',\n",
       "       'Automotive, Electric Vehicle, Renewable Energy', 'E-Learning',\n",
       "       'Embedded Systems, Health Care, Medical, Product Research',\n",
       "       'Apps, E-Commerce, Internet',\n",
       "       'Advertising, Human Resources, Marketing',\n",
       "       'Beauty, Fitness, Home Services, Internet',\n",
       "       'Health Care, Medical Device, Public Safety',\n",
       "       'Food Delivery, Online Portals, Restaurants',\n",
       "       'AgTech, B2B, Supply Chain Management',\n",
       "       'Credit Cards, Finance, Mobile Apps, Mobile Payments, Payments',\n",
       "       'Software',\n",
       "       'EdTech, Education, Higher Education, Secondary Education',\n",
       "       'Manufacturing, Retail', 'Manufacturing',\n",
       "       'Information Services, Information Technology, InsurTech',\n",
       "       'Consumer Lending, FinTech', 'Internet, Social Network, TV',\n",
       "       'Beauty, Health Care', 'Hospital', 'Events',\n",
       "       '3D Printing, Manufacturing, Product Design', 'Automotive',\n",
       "       'Automotive, Retail', 'Apps, Audio', 'Automotive, E-Commerce',\n",
       "       'Digital Entertainment, Fantasy Sports, Sports',\n",
       "       'E-Learning, EdTech, Education',\n",
       "       'Funding Platform, Incubators, Non Profit',\n",
       "       'Hospitality, Hotel, Leisure, Travel',\n",
       "       'Classifieds, Internet, Marketplace, Rental Property',\n",
       "       'Banking, E-Learning, Trading Platform',\n",
       "       'E-Commerce, Mobile, Retail',\n",
       "       'Artificial Intelligence, Information Technology',\n",
       "       'Enterprise Resource Planning (ERP), Information Services, Information Technology, Real Estate',\n",
       "       'Banking, Finance, Financial Services',\n",
       "       'Audio, Mobile, Tourism, Travel',\n",
       "       'Energy, Energy Storage, Infrastructure',\n",
       "       'Government, Information Technology, Software',\n",
       "       'Information Technology',\n",
       "       'Education, Information Technology, Internet, Mobile, Software',\n",
       "       'Consumer Lending, Financial Services, Lending, Personal Finance',\n",
       "       'Digital Media, Internet, Media and Entertainment, Online Portals, Social Media',\n",
       "       'Business Intelligence, Customer Service, Market Research, SaaS',\n",
       "       'Credit, Financial Services, FinTech, Lending',\n",
       "       'Children, Education, Parenting',\n",
       "       'Automotive, Battery, Energy, Energy Storage',\n",
       "       'E-Commerce, Mobile, Sharing Economy',\n",
       "       'Food Delivery, Organic, Organic Food', 'Mobile', 'Rental',\n",
       "       'Consumer', 'B2B, Farming, Marketplace', 'Wealth Management',\n",
       "       'Biotechnology', 'Education, Gaming, Training', 'Veterinary',\n",
       "       'Internet, Mobile, Social Entrepreneurship, Telecommunications, Wireless',\n",
       "       'Health Care, Hospital, Supply Chain Management',\n",
       "       'Tourism, Travel', 'Hospitality, Real Estate', 'Finance',\n",
       "       'Digital Media, EBooks, Publishing, Reading Apps',\n",
       "       'Consumer Electronics, Embedded Systems, Hardware, Smart Building, Software',\n",
       "       'Food and Beverage, Food Processing',\n",
       "       'Internet, Marketplace, Shopping',\n",
       "       'Analytics, Computer Vision, Enterprise Software, Machine Learning, Natural Language Processing, Speech Recognition',\n",
       "       'Facilities Support Services',\n",
       "       'Automotive, Electric Vehicle, Energy',\n",
       "       'Health Care, Health Diagnostics, Predictive Analytics',\n",
       "       'Cloud Computing, Computer, SaaS, Software',\n",
       "       'Fashion, Lifestyle, Retail', 'Medical', 'Music Streaming',\n",
       "       'Finance, Impact Investing, Internet',\n",
       "       'Internet, Social Entrepreneurship', 'Retail',\n",
       "       'Finance, Impact Investing, Mobile Apps',\n",
       "       'Cloud Computing, Computer, Software',\n",
       "       'Business Development, Market Research, Outsourcing',\n",
       "       'Health Care, Hospitality', 'Internet, Social News, Sports',\n",
       "       'Human Resources', 'Finance, Financial Services, FinTech',\n",
       "       'Customer Service, Software, Video, Video Streaming',\n",
       "       'E-Commerce, Food Processing', 'Training', 'Travel',\n",
       "       'Dietary Supplements, Food and Beverage, Health Care, Organic Food, Snack Food',\n",
       "       'Manufacturing, Oil and Gas, Robotics',\n",
       "       'Artificial Intelligence, Computer, Machine Learning',\n",
       "       'Collaboration, Communities, Coworking, Sharing Economy',\n",
       "       'Big Data, EdTech, Machine Learning', 'Nanotechnology',\n",
       "       'Analytics, Audio, Digital Media, Innovation Management, Internet Radio, Media and Entertainment',\n",
       "       'Financial Services, Lending, Peer to Peer',\n",
       "       'E-Commerce, Furniture, Home Decor, Interior Design, Internet',\n",
       "       'Digital Media', 'File Sharing, Personalization, Social Media',\n",
       "       'Home Decor, Interior Design',\n",
       "       'Health Care, Medical Device, Mobile Apps',\n",
       "       'E-Commerce, Facilities Support Services, Procurement, Supply Chain Management',\n",
       "       'Crowdfunding, Finance, Financial Services',\n",
       "       'Finance, Financial Services, Insurance',\n",
       "       'Children, Education, Online Portals', 'Software, Virtual Reality',\n",
       "       'B2B, Food and Beverage, Food Delivery',\n",
       "       'Catering, Food and Beverage, Food Delivery, Food Processing',\n",
       "       'Food and Beverage, Snack Food', 'Automotive, E-Commerce, Mobile',\n",
       "       'Computer, Digital Marketing, Facilities Support Services, Graphic Design, Internet, Mobile Apps, Social Media Marketing, Web Development',\n",
       "       'Android, Big Data, Blockchain, Cloud Computing, EdTech, Education, Information Technology, iOS, Training, Web Development',\n",
       "       'Analytics, CRM, Loyalty Programs, Machine Learning, Marketing Automation, Retail Technology, SaaS, Small and Medium Businesses',\n",
       "       'Delivery, Information Technology, Mobile Apps',\n",
       "       'Environmental Consulting, Renewable Energy',\n",
       "       'Big Data, Business Intelligence, Financial Services, FinTech, Personal Finance',\n",
       "       'Commercial Real Estate, Coworking, Office Administration, Real Estate',\n",
       "       'Food and Beverage, Food Processing, Organic Food, Snack Food',\n",
       "       'Apps, Health Care, Internet, Mobile Apps, Personal Health',\n",
       "       'Digital Media, Incubators, Social Entrepreneurship',\n",
       "       'Finance, Financial Services, Marketing',\n",
       "       'Biotechnology, Health Care, Life Science, Medical Device',\n",
       "       'Education, Human Resources', 'Consumer Electronics',\n",
       "       'Apps, Health Care, Hospital, Mobile Apps',\n",
       "       'Delivery Service, Logistics, Service Industry',\n",
       "       'Big Data, Data Visualization, Logistics, Software',\n",
       "       'Basketball, Cricket, Cycling, eSports, Fitness, Golf, Health Care, Hockey, Sports, Swimming, Table Tennis, Volley Ball',\n",
       "       'Media and Entertainment, News, Publishing', 'Consulting',\n",
       "       'Big Data, Financial Services, Machine Learning, Predictive Analytics',\n",
       "       'Agriculture, AgTech, Manufacturing',\n",
       "       'Digital Media, News, Publishing', 'Health Care, Hospital',\n",
       "       'B2B, E-Commerce, Enterprise',\n",
       "       'Fraud Detection, Information Services, Security',\n",
       "       'Agriculture, AgTech, Artificial Intelligence, Internet of Things, Machine Learning',\n",
       "       'Cryptocurrency, Trading Platform',\n",
       "       'Finance, FinTech, Mobile Payments', 'Wedding',\n",
       "       'E-Learning, EdTech, Education, Image Recognition, Machine Learning, STEM Education',\n",
       "       'Consumer Goods', 'Digital Entertainment',\n",
       "       'Crowdsourcing, Financial Services, Funding Platform, Venture Capital',\n",
       "       'Delivery, Drones, Geospatial, Robotics',\n",
       "       'Health Care, Information Technology, Management Information Systems',\n",
       "       'Farming',\n",
       "       'Business Travel, Hospitality, Hotel, Marketplace, Tourism, Travel Accommodations',\n",
       "       'Career Planning, Education, Higher Education, Service Industry',\n",
       "       'Medical Device', 'Alternative Medicine, Health Care',\n",
       "       'Internet, Software',\n",
       "       'Dental, Elder Care, Health Care, Home Health Care, Personal Health',\n",
       "       'Financial Services, Insurance, Private Social Networking',\n",
       "       'Consumer Electronics, E-Commerce, E-Commerce Platforms, Electronics, Shipping, Shopping',\n",
       "       'CleanTech', 'Advertising, Internet, Marketing',\n",
       "       'Human Resources, Security, Training',\n",
       "       'Consumer Lending, Finance, FinTech',\n",
       "       'Marketing, Social Media, Video', 'Banking', 'Food Processing',\n",
       "       'Apps', 'Marketing',\n",
       "       'Apps, B2B, Freight Service, Logistics, SaaS, Shipping, Supply Chain Management, Transportation',\n",
       "       'Digital Entertainment, Fantasy Sports, Gaming, Sports',\n",
       "       'Automotive, Last Mile Transportation, Peer to Peer, Ride Sharing',\n",
       "       'Commercial, E-Learning, Education',\n",
       "       'Continuing Education, EdTech, Education, Skill Assessment',\n",
       "       'Smart Cities, Telecommunications', 'Internet of Things, Robotics',\n",
       "       'Apps, Home Services, Information Services, Information Technology',\n",
       "       'Medical, Tourism', 'Career Planning, Education, Internet',\n",
       "       'Fashion, Graphic Design, Wearables',\n",
       "       'Communities, Leisure, Mobile Apps, Software',\n",
       "       'Automotive, Rental, Sharing Economy',\n",
       "       'Energy, Environmental Consulting, Renewable Energy, Solar',\n",
       "       'Information Technology, SaaS, Security',\n",
       "       'Crowdfunding, Financial Services, Internet',\n",
       "       'Customer Service, Information Technology, Internet, Sales Automation',\n",
       "       'Advertising, Artificial Intelligence, Digital Media, iOS, Location Based Services, News, Video, Video on Demand, Video Streaming',\n",
       "       'Credit Cards, Payments, Property Insurance, Property Management, Rental Property',\n",
       "       'Beauty, Cosmetics, Health Care, Service Industry',\n",
       "       'EdTech, Education, Mobile, Tutoring', 'Social Media, Sports',\n",
       "       'Biopharma', 'E-Commerce, E-Commerce Platforms, Retail',\n",
       "       'E-Commerce, Fashion, Shopping',\n",
       "       'Digital Entertainment, Mobile, PC Games',\n",
       "       'Finance, Financial Services, Small and Medium Businesses',\n",
       "       'Artificial Intelligence, Energy, Oil and Gas',\n",
       "       'Computer, FinTech, Risk Management, Software',\n",
       "       'Apps, Financial Services, FinTech',\n",
       "       \"Child Care, Health Care, Hospital, Medical, Women's\",\n",
       "       'Agriculture, Mobile',\n",
       "       'Finance, FinTech, Payments, Property Development, Rental',\n",
       "       'Information Services, Information Technology, Mobile, Software',\n",
       "       'Apps, Fitness, Health Care, mHealth',\n",
       "       'Food and Beverage, Food Delivery', 'Apps, Payments, Retail',\n",
       "       'Health Insurance, Insurance, Life Insurance',\n",
       "       'Rental, Taxi Service, Travel',\n",
       "       'E-Commerce, E-Commerce Platforms, Internet, Retail',\n",
       "       'Financial Services, Professional Services',\n",
       "       'Customer Service, Messaging, Mobile Apps, Personalization',\n",
       "       'Gaming, iOS, Sports',\n",
       "       'E-Commerce, E-Commerce Platforms, Internet, Mobile Apps, Social Media',\n",
       "       'Search Engine',\n",
       "       'Battery, Electric Vehicle, Energy, Renewable Energy, Transportation',\n",
       "       'Agriculture, Farmers Market, Farming',\n",
       "       'Artificial Intelligence, Drones, Navigation, Packaging Services, Robotics',\n",
       "       'Fitness, GreenTech, Internet of Things, Mobile Apps, Ride Sharing, Transportation',\n",
       "       'Mobile, Software, Travel', 'Cosmetics',\n",
       "       'Consulting, Cyber Security, Network Security',\n",
       "       'eSports, Gaming, Video Games', 'Fashion, Jewelry',\n",
       "       'B2B, Medical Device', 'Consumer Goods, Manufacturing',\n",
       "       'Biotechnology, Health Care, Wellness',\n",
       "       'Health Care, Hospital, Medical, Robotics',\n",
       "       'E-Commerce, Fitness, Health Care',\n",
       "       'Financial Services, Venture Capital', 'Accounting, Apps, FinTech',\n",
       "       'Apps, Mobile, Transportation', 'Reading Apps',\n",
       "       'Energy, Renewable Energy, Solar',\n",
       "       'Banking, Financial Services, FinTech', 'Apps, Education, Retail',\n",
       "       'Electric Vehicle',\n",
       "       'Automotive, Battery, Electric Vehicle, Manufacturing, Mechanical Design',\n",
       "       'Automotive, E-Commerce, Marketplace', 'Agriculture',\n",
       "       'Apps, Information Services, Information Technology',\n",
       "       'B2B, Marketplace', 'Packaging Services',\n",
       "       'Computer, Furniture, Software',\n",
       "       'Food Delivery, Hospitality, Reservations, Restaurants, Search Engine',\n",
       "       'Collaboration, Communities, Coworking, Real Estate',\n",
       "       'Accounting, Banking, Finance',\n",
       "       'Cloud Computing, Enterprise Software, Network Hardware, Network Security, SaaS',\n",
       "       'Information Services, Internet, Logistics, Supply Chain Management, Transportation',\n",
       "       'Automotive, E-Commerce, Information Services',\n",
       "       'Delivery, Logistics, Transportation',\n",
       "       'Automotive, E-Commerce Platforms, Marketplace',\n",
       "       'Last Mile Transportation, Railroad, Transportation, Travel',\n",
       "       'Cooking, E-Commerce, Food and Beverage, Food Delivery, Online Portals',\n",
       "       'FinTech, Mobile, Mobile Payments, Payments, Retail Technology',\n",
       "       'Online Games, Software',\n",
       "       'Online Portals, Property Management, Rental',\n",
       "       'E-Commerce, Food and Beverage, Tea',\n",
       "       'Music, Social Network, Video',\n",
       "       'Health Care, Pharmaceutical, Wellness',\n",
       "       'Delivery Service, Food and Beverage, Food Delivery',\n",
       "       'Hospitality, Information Technology, Travel Accommodations',\n",
       "       'Biotechnology, Diabetes, Health Care',\n",
       "       'Autonomous Vehicles, Last Mile Transportation, Recreational Vehicles, Rental',\n",
       "       'Finance, Financial Exchanges, Financial Services, Micro Lending',\n",
       "       'Analytics, Apps, Market Research',\n",
       "       'E-Commerce, E-Commerce Platforms, Furniture, Home Decor, Internet',\n",
       "       'Apps, Mobile, Mobile Apps, Software',\n",
       "       'News, Publishing, Social Media',\n",
       "       'Industrial, Industrial Automation',\n",
       "       'Internet, Mobile Apps, Social Network',\n",
       "       'Health Care, Health Diagnostics, Internet of Things, Life Science, Machine Learning, Medical, Medical Device',\n",
       "       'E-Commerce, Furniture, Interior Design', 'Apps, Events, News',\n",
       "       'Artificial Intelligence, Human Resources, Information Services, Information Technology',\n",
       "       'Logistics, Railroad, Transportation',\n",
       "       'Dating, Private Social Networking',\n",
       "       'Artificial Intelligence, Machine Learning, PaaS',\n",
       "       'Consumer, Furniture, Home Decor, Home Improvement',\n",
       "       'Apps, E-Commerce, Internet, Mobile, Ride Sharing, Transportation',\n",
       "       'Health Care, Health Insurance', 'Energy, Natural Resources',\n",
       "       'E-Commerce, Education, Health Care',\n",
       "       'Apps, Health Care, Pharmaceutical',\n",
       "       'Internet, Knowledge Management',\n",
       "       'Credit, Finance, FinTech, Lending, Sales Automation',\n",
       "       'Banking, Financial Services, Internet',\n",
       "       'E-Commerce, Health Care, Retail',\n",
       "       'Child Care, Information Technology',\n",
       "       'Financial Services, Micro Lending',\n",
       "       'E-Commerce, Retail, Shopping',\n",
       "       'Food and Beverage, Snack Food, Tea',\n",
       "       'Delivery Service, E-Commerce, Logistics',\n",
       "       'Fashion, Lifestyle, Rental', 'Fantasy Sports, Mobile, Sports',\n",
       "       'Beauty, Fashion, Wellness', 'Food and Beverage, Restaurants, Tea',\n",
       "       'Fitness, Sporting Goods, Sports',\n",
       "       'Food and Beverage, Food Processing, Manufacturing',\n",
       "       'E-Learning, Internet', 'Eyewear, Internet',\n",
       "       'Information Technology, Mobile, News, Operating Systems, Social Media, Social News',\n",
       "       'FinTech, Internet, Payments, Service Industry',\n",
       "       'B2B, Business Development, Internet, Marketplace',\n",
       "       'Food and Beverage, Food Delivery, Internet',\n",
       "       'Biotechnology, Health Care, Pharmaceutical'], dtype=object)"
      ]
     },
     "execution_count": 41,
     "metadata": {},
     "output_type": "execute_result"
    }
   ],
   "source": [
    "df_2018['Industry'].unique()"
   ]
  },
  {
   "cell_type": "code",
   "execution_count": 42,
   "metadata": {},
   "outputs": [],
   "source": [
    "\n",
    "#mapping the industry colunm \n",
    "mapping_dict = {\n",
    "    \"Brand Marketing, Event Promotion, Marketing, Sponsorship, Ticketing\":\"Media & Entertainment\",\n",
    "    \"Agriculture, Farming\" :\"Agriculture\",\n",
    "    \"Credit, Financial Services, Lending, Marketplace\": \"Finance\",\n",
    "    \"Financial Services, FinTech\":\"Finance\",\n",
    "    \"E-Commerce Platforms, Retail, SaaS\":\"E-commerce\",\n",
    "    \"Cloud Infrastructure, PaaS, SaaS\":\"Technology\",\n",
    "    \"Internet, Leisure, Marketplace', 'Market Research\":\"E-commerce\",\n",
    "    \"Information Services, Information Technology', 'Mobile Payments\" :\"Technology\",\n",
    "    \"B2B, Shoes, Internet\":\"Technology\",\n",
    "    \"Apps, Collaboration, Developer Platform, Enterprise Software, Messaging, Productivity Tools, Video Chat\": \"Technology\",\n",
    "    \"Food Delivery\": \"Transportation & Logistics\", \n",
    "    \"Industrial Automation\":\"Technology\",\n",
    "    \"Automotive, Search Engine, Service Industry\":\"Engineering\",\n",
    "    \"Finance, Internet, Travel\" :\"Technology\",\n",
    "    \"Accounting, Business Information Systems, Business Travel, Finance, SaaS\":\"Technology\",\n",
    "    \"Artificial Intelligence, Product Search, SaaS, Service Industry, Software\" : \"Technology\",\n",
    "    \"Internet of Things, Waste Management\": \"Technology\",\n",
    "    \"Air Transportation, Freight Service, Logistics, Marine Transportation\":\"Transportation & Logistics\",\n",
    "    \"Financial Services\":\"Finance\",\n",
    "    \"Food and Beverage\": \"Food & Beverage\",\n",
    "    \"Autonomous Vehicles\" : \"Transportation & Logistics\",\n",
    "    \"Enterprise Software, Health Care, Hospital, Parenting, Personal Health, SaaS\": \"Healthcare\",\n",
    "    \"Agriculture, Analytics, Big Data, Farming\":\"Agriculture\",\n",
    "    \"Logistics, Supply Chain Management\" :\"Transportation & Logistics\",\n",
    "    \"Financial Services, Lending\": \"Finance\",\n",
    "    \"Automotive, Marketplace, Online Portals\":\"Engineering\",\n",
    "    \"Artificial Intelligence\":\"Technology\",\n",
    "    \"Internet of Things, Telecommunications\":\"Technology\",\n",
    "    \"Insurance\": \"Finance\",\n",
    "    \"Information Technology, Logistics, Supply Chain Management\":\"Transportation & Logistics\",\n",
    "    \"Blockchain, Developer Tools, Enterprise Software\":\"Technology\",\n",
    "    \"Industrial Automation, Logistics, Supply Chain Management\":\"Transportation & Logistics\",\n",
    "    \"Food and Beverage, Food Delivery, Snack Food', 'Education\":\"Food & Beverages\",\n",
    "    \"E-Commerce, Fashion, Jewelry, Retail\":\"Retail\",\n",
    "    \"Renewable Energy\":\"Energy\",\n",
    "    \"E-Learning, Education\":\"Education\",\n",
    "    \"Clean Energy, CleanTech, Laundry and Dry-cleaning\":\"Services\",\n",
    "    \"E-Commerce, Fashion, Mobile\":\"E-commerce\",\n",
    "    \"Apps, Messaging, Navigation, Public Safety\":\"Transportation & Logistics\",\n",
    "    \"Transportation\":\"Transportation & Logistics\",\n",
    "    \"Fitness, Health Care, Wellness\": \"Healthcare\",\n",
    "    \"Artificial Intelligence, Machine Learning, SaaS, Virtual Assistant\":\"Technology\",\n",
    "    \"Hospitality\":\"Hospitality\",\n",
    "    \"Food and Beverage, Tea\":\"Food & Beverage\",\n",
    "    \"Media and Entertainment, News, Outdoors\":\"Media & Entertainment\",\n",
    "    \"Broadcasting, Media and Entertainment, Music, Music Streaming, Video, Video Streaming\":\"Media & Entertainment\",\n",
    "    \"B2B, Information Services, Information Technology\":\"Technology\",\n",
    "    \"EdTech, Education, Enterprise Software, Peer to Peer\":\"Education\",\n",
    "    \"Health Care, Medical\":\"Healthcare\",\n",
    "    \"E-Commerce\":\"E-commerce\",\n",
    "    \"Health Care, Hospital, Wellness\":\"Healthcare\",\n",
    "    \"Sports\":\"Sports\",\n",
    "    \"Big Data, Consumer Lending, FinTech\":\"Finance\",\n",
    "    \"Cloud Computing, Computer, Semiconductor\":\"Technology\",\n",
    "    \"Health Care, Medical, Pharmaceutical\":\"Healthcare\",\n",
    "    \"Food Processing, Retail\":\"Food & Beverage\",\n",
    "    \"Trading Platform\":\"E-commerce\",\n",
    "    \"Consumer Goods, Lifestyle, Men's\":\"Lifestyle\",\n",
    "    \"Wellness\":\"Lifestyle\",\n",
    "    \"Food and Beverage, Food Processing, Nutrition\":\"Food & Beverage\",\n",
    "    \"Fashion\":\"Lifestyle\",\n",
    "    \"Automotive, Electric Vehicle, Energy Storage\":\"Engineering\",\n",
    "    \"Consulting, Retail, Social\":\"Retail\",\n",
    "    \"Biotechnology, Life Science, Pharmaceutical, Product Research\":\"Healthcare\",\n",
    "    \"Health Care\":\"Healthcare\",\n",
    "    \"Credit, Financial Services, FinTech, Personal Finance\":\"Finance\",\n",
    "    \"Communities, Coworking, Incubators\":\"Services\",\n",
    "    \"Consumer, Financial Services, FinTech\":\"Finance\",\n",
    "    \"Consumer Applications, Information Services, Location Based Services, Virtual Assistant\":\"Technology\",\n",
    "    \"Mobile, Mobile Apps, Personalization, Test and Measurement, Web Apps\":\"Technology\",\n",
    "    \"Education, Financial Services, FinTech\":\"Finance\",\n",
    "    \"Advertising, Consulting, Digital Marketing\":\"E-commerce\",\n",
    "    \"Marketplace, Real Estate, Rental Property\":\"Real Estate\",\n",
    "    \"E-Learning, Internet, Video Games\":\"Education\",\n",
    "    \"Artificial Intelligence, Cloud Computing, Video\":\"Technology\",\n",
    "    \"Health Care, Information Technology\":\"Healthcare\",\n",
    "    \"Aerospace\": \"Engineering\",\n",
    "    \"E-Commerce, Fashion, Lifestyle\":\"Lifestyle\",\n",
    "    \"Artificial Intelligence, Business Intelligence, Industrial Automation, Machine Learning\":\"Technology\",\n",
    "    \"Home Decor, Home Improvement, Home Renovation, Home Services, Interior Design, Smart Home\":\"Real Estate\",\n",
    "    \"EdTech, Education, Information Services, SaaS\":\"Education\",\n",
    "    \"Energy, Solar\":\"Energy\",\n",
    "    \"B2B, Biometrics, Cyber Security, Fraud Detection, SaaS, Security\":\"Technology\",\n",
    "    \"Artificial Intelligence, Social\":\"Technology\",\n",
    "    \"Logistics, Transportation, Travel\":\"Transportation & Logistics\",\n",
    "    \"Digital Marketing, SEM, SEO, Web Development\":\"E-commerce\",\n",
    "    \"Health Care, Hospital, Medical\":\"Healthcare\",\n",
    "    \"Finance, Financial Services\":\"Finance\",\n",
    "    \"Food Delivery, Food Processing, Internet\":\"Transportation & Logistics\",\n",
    "    \"E-Commerce, Food and Beverage, Internet\":\"Food & Beverage\",\n",
    "    \"Fitness, Food and Beverage, Health Care, Nutrition\":\"Food & Beverage\",\n",
    "    \"EdTech, Education, Knowledge Management\":\"Education\",\n",
    "    \"Apps, Beauty, Consumer, Retail\":\"Lifestyle\",\n",
    "    \"Creative Agency, Crowdfunding, EdTech, Health Care, Internet, Medical, Non Profit, Personal Health\":\"Services\",\n",
    "    \"Consumer Lending, Financial Services, FinTech, Insurance, Lending, Mobile Payments, Payments, Wealth Management\":\"Finance\",\n",
    "    \"E-Learning, Education, Higher Education\":\"Education\",\n",
    "    \"Health Diagnostics\":\"Healthcare\",\n",
    "    \"EdTech, Education\":\"Education\",\n",
    "    \"Financial Services, SaaS, Security\":\"Technology\",\n",
    "    \"Banking, Finance, Financial Services, Non Profit\":\"Finance\",\n",
    "    \"B2B, E-Commerce, Mobile\":\"Technology\",\n",
    "    \"Automotive, Electric Vehicle, Renewable Energy\":\"Engineering\", \n",
    "    \"E-Learning\":\"Education\",\n",
    "    \"Embedded Systems, Health Care, Medical, Product Research\":\"Healthcare\",\n",
    "    \"Apps, E-Commerce, Internet\":\"E-commerce\",\n",
    "    \"Advertising, Human Resources, Marketing\":\"E-commerce\",\n",
    "    \"Beauty, Fitness, Home Services, Internet\":\"Lifestyle\",\n",
    "    \"Health Care, Medical Device, Public Safety\":\"Healthcare\",\n",
    "    \"Food Delivery, Online Portals, Restaurants\":\"Transportation & Logistics\",\n",
    "    \"AgTech, B2B, Supply Chain Management\":\"Agriculture\",\n",
    "    \"Credit Cards, Finance, Mobile Apps, Mobile Payments, Payments\":\"Finance\",\n",
    "    \"Software\":\"Technology\",\n",
    "    \"EdTech, Education, Higher Education, Secondary Education\":\"Education\",\n",
    "    \"Manufacturing, Retail\":\"Retail\",\n",
    "    \"Manufacturing\":\"Retail\",\n",
    "    \"Information Services, Information Technology, InsurTech\":\"Finance\",\n",
    "    \"Consumer Lending, FinTech\":\"Finance\",\n",
    "    \"Internet, Social Network, TV\":\"Media & Entertainment\",\n",
    "    \"Beauty, Health Care', 'Hospital\":\"Lifestyle\",\n",
    "    \"Hospital\":\"Healthcare\",\n",
    "    \"Events\":\"Hospitality\",\n",
    "    \"3D Printing, Manufacturing, Product Design\":\"Manufacturing\",\n",
    "    \"Automotive\":\"Engineering\",\n",
    "    \"Automotive, Retail\":\"Retail\",\n",
    "    \"Apps, Audio\":\"Media & Entertainment\",\n",
    "    \"Automotive, E-Commerce\":\"Engineering\",\n",
    "    \"Digital Entertainment, Fantasy Sports, Sports\":\"Media & Entertainment\",\n",
    "    \"E-Learning, EdTech, Education\":\"Education\",\n",
    "    \"Funding Platform, Incubators, Non Profit\":\"Services\",\n",
    "    \"Hospitality, Hotel, Leisure, Travel\":\"Hospitality\",\n",
    "    \"Classifieds, Internet, Marketplace, Rental Property\":\"Real Estate\",\n",
    "    \"Banking, E-Learning, Trading Platform\":\"Education\",\n",
    "    \"E-Commerce, Mobile, Retail\":\"Technology\",\n",
    "    \"Artificial Intelligence, Information Technology\":\"Technology\",\n",
    "    \"Enterprise Resource Planning (ERP), Information Services, Information Technology, Real Estate\":\"Real Estate\",\n",
    "    \"Banking, Finance, Financial Services\":\"Finance\",\n",
    "    \"Audio, Mobile, Tourism, Travel\":\"Transportation & Logistics\",\n",
    "    \"Energy, Energy Storage, Infrastructure\":\"Energy\",\n",
    "    \"Government, Information Technology, Software\":\"Technology\",\n",
    "    \"Information Technology\":\"Technology\",\n",
    "    \"Education, Information Technology, Internet, Mobile, Software\":\"Technology\",\n",
    "    \"Consumer Lending, Financial Services, Lending, Personal Finance\":\"Finance\",\n",
    "    \"Digital Media, Internet, Media and Entertainment, Online Portals, Social Media\":\"Media & Entertainment\",\n",
    "    \"Business Intelligence, Customer Service, Market Research, SaaS\":\"Services\",\n",
    "    \"Credit, Financial Services, FinTech, Lending\":\"Finance\",\n",
    "    \"Children, Education, Parenting\":\"Education\",\n",
    "    \"Automotive, Battery, Energy, Energy Storage\":\"Engineering\",\n",
    "    \"E-Commerce, Mobile, Sharing Economy\":\"E-commerce\",\n",
    "    \"Food Delivery, Organic, Organic Food\":\"Transportation & Logistics\", \n",
    "    \"Mobile\":\"Technology\", \n",
    "    \"Rental\":\"Real Estate\",\n",
    "    \"Consumer\":\"Services\", \n",
    "    \"B2B, Farming, Marketplace\":\"E-commerce\", \n",
    "    \"Wealth Management\":\"Finance\",\n",
    "    \"Biotechnology\":\"Healthcare\", \n",
    "    \"Education, Gaming, Training\":\"Education\", \n",
    "    \"Veterinary\":\"Healthcare\",\n",
    "    \"Internet, Mobile, Social Entrepreneurship, Telecommunications, Wireless\":\"Technology\",\n",
    "    \"Health Care, Hospital, Supply Chain Management\":\"Transportation & Logistics\",\n",
    "    \"Tourism, Travel\":\"Transportation & Logistics\", \n",
    "    \"Hospitality, Real Estate\":\"Real Estate\", \n",
    "    \"Finance\":\"Finance\",\n",
    "    \"Digital Media, EBooks, Publishing, Reading Apps\":\"Education\",\n",
    "    \"Consumer Electronics, Embedded Systems, Hardware, Smart Building, Software\":\"Technology\",\n",
    "    \"Food and Beverage, Food Processing\":\"Food & Beverage\",\n",
    "    \"Internet, Marketplace, Shopping\":\"E-commerce\",\n",
    "    \"Analytics, Computer Vision, Enterprise Software, Machine Learning, Natural Language Processing, Speech Recognition\":\"Technology\",\n",
    "    \"Facilities Support Services\":\"Services\",\n",
    "    \"Automotive, Electric Vehicle, Energy\":\"Engineering\",\n",
    "    \"Health Care, Health Diagnostics, Predictive Analytics\":\"Healthcare\",\n",
    "    \"Cloud Computing, Computer, SaaS, Software\":\"Technology\",\n",
    "    \"Fashion, Lifestyle, Retail\":\"Lifestyle\", \n",
    "    \"Medical\":\"Healthcare\", \n",
    "    \"Music Streaming\":\"Media & Entertainment\",\n",
    "    \"Finance, Impact Investing, Internet\":\"Finance\",\n",
    "    \"Internet, Social Entrepreneurship\":\"Technology\",\n",
    "    \"Retail\":\"Transportation & Logistics\",\n",
    "    \"Finance, Impact Investing, Mobile Apps\":\"Technology\",\n",
    "    \"Cloud Computing, Computer, Software\":\"Technology\",\n",
    "    \"Business Development, Market Research, Outsourcing\":\"E-commerce\",\n",
    "    \"Health Care, Hospitality\":\"Healthcare\", \n",
    "    \"Internet, Social News, Sports\":\"Media & Entertainment\",\n",
    "    \"Human Resources\":\"Human Resources\", \n",
    "    \"Finance, Financial Services, FinTech\":\"Finance\",\n",
    "    \"Customer Service, Software, Video, Video Streaming\":\"Technology\",\n",
    "    \"E-Commerce, Food Processing\":\"E-commerce\", \n",
    "    \"Training\":\"Media & Entertainment\", \n",
    "    \"Travel\":\"Transportation & Logistics\",\n",
    "    \"Dietary Supplements, Food and Beverage, Health Care, Organic Food, Snack Food\":\"Food & Beverage\",\n",
    "    \"Manufacturing, Oil and Gas, Robotics\":\"Technology\",\n",
    "    \"Artificial Intelligence, Computer, Machine Learning\":\"Technology\",\n",
    "    \"Collaboration, Communities, Coworking, Sharing Economy\":\"Real Estate\",   \n",
    "    \"Big Data, EdTech, Machine Learning\":\"Technology\", \n",
    "    \"Nanotechnology\":\"Technology\",\n",
    "    \"Analytics, Audio, Digital Media, Innovation Management, Internet Radio, Media and Entertainment\":\"Media & Entertainment\",\n",
    "    \"Financial Services, Lending, Peer to Peer\":\"Finance\",\n",
    "    \"E-Commerce, Furniture, Home Decor, Interior Design, Internet\":\"Real Estate\",\n",
    "    \"Digital Media\":\"Media & Entertainment\", \n",
    "    \"File Sharing, Personalization, Social Media\":\"Media & Entertainment\",\n",
    "    \"Home Decor, Interior Design\":\"Real Estate\",\n",
    "    \"Health Care, Medical Device, Mobile Apps\":\"Healthcare\",\n",
    "    \"E-Commerce, Facilities Support Services, Procurement, Supply Chain Management\":\"E-commerce\",\n",
    "    \"Crowdfunding, Finance, Financial Services\":\"Finance\",\n",
    "    \"Finance, Financial Services, Insurance\":\"Finance\",\n",
    "    \"Children, Education, Online Portals\":\"Education\", \n",
    "    \"Software, Virtual Reality\":\"Media & Entertainment\",\n",
    "    \"B2B, Food and Beverage, Food Delivery\":\"Food & Beverage\",\n",
    "    \"Catering, Food and Beverage, Food Delivery, Food Processing\":\"Food & Beverage\",\n",
    "    \"Food and Beverage, Snack Food\":\"Food & Beverage\", \n",
    "    \"Automotive, E-Commerce, Mobile\":\"Engineering\",\n",
    "    \"Computer, Digital Marketing, Facilities Support Services, Graphic Design, Internet, Mobile Apps, Social Media Marketing, Web Development\":\"Technology\",\n",
    "    \"Android, Big Data, Blockchain, Cloud Computing, EdTech, Education, Information Technology, iOS, Training, Web Development\":\"Education\",\n",
    "    \"Analytics, CRM, Loyalty Programs, Machine Learning, Marketing Automation, Retail Technology, SaaS, Small and Medium Businesses\":\"E-commerce\",\n",
    "    \"Delivery, Information Technology, Mobile Apps\":\"Technology\",\n",
    "    \"Environmental Consulting, Renewable Energy\":\"Energy\",\n",
    "    \"Big Data, Business Intelligence, Financial Services, FinTech, Personal Finance\":\"Finance\",\n",
    "    \"Commercial Real Estate, Coworking, Office Administration, Real Estate\":\"Real Estate\",\n",
    "    \"Food and Beverage, Food Processing, Organic Food, Snack Food\":\"Food & Beverage\",\n",
    "    \"Apps, Health Care, Internet, Mobile Apps, Personal Health\":\"Healthcare\",\n",
    "    \"Digital Media, Incubators, Social Entrepreneurship\":\"Services\",\n",
    "    \"Finance, Financial Services, Marketing\":\"Finance\",\n",
    "    \"Biotechnology, Health Care, Life Science, Medical Device\":\"Healthcare\",\n",
    "    \"Education, Human Resources\":\"Education\", \n",
    "    \"Consumer Electronics\":\"Technology\",\n",
    "    \"Apps, Health Care, Hospital, Mobile Apps\":\"Healthcare\",\n",
    "    \"Delivery Service, Logistics, Service Industry\":\"Transportation & Logistics\",\n",
    "    \"Big Data, Data Visualization, Logistics, Software\":\"Transportation & Logistics\",\n",
    "    \"Basketball, Cricket, Cycling, eSports, Fitness, Golf, Health Care, Hockey, Sports, Swimming, Table Tennis, Volley Ball\":\"Sports\",\n",
    "    \"Media and Entertainment, News, Publishing\":\"Media & Entertainment\", \n",
    "    \"Consulting\":\"Services\",\n",
    "    \"Big Data, Financial Services, Machine Learning, Predictive Analytics\":\"Finance\",\n",
    "    \"Agriculture, AgTech, Manufacturing\":\"Agriculture\",\n",
    "    \"Digital Media, News, Publishing\":\"Media & Entertainment\", \n",
    "    \"Health Care, Hospital\":\"Healthcare\",\n",
    "    \"B2B, E-Commerce, Enterprise\":\"E-commerce\",\n",
    "    \"Fraud Detection, Information Services, Security\":\"Technology\",\n",
    "    \"Agriculture, AgTech, Artificial Intelligence, Internet of Things, Machine Learning\":\"Agriculture\",\n",
    "    \"Cryptocurrency, Trading Platform\":\"Technology\",\n",
    "    \"Finance, FinTech, Mobile Payments\":\"Finance\", \n",
    "    \"Wedding\":\"Services\",\n",
    "    \"E-Learning, EdTech, Education, Image Recognition, Machine Learning, STEM Education\":\"Education\",\n",
    "    \"Consumer Goods\":\"E-commerce\", \n",
    "    \"Digital Entertainment\":\"Media & Entertainment\",\n",
    "    \"Crowdsourcing, Financial Services, Funding Platform, Venture Capital\":\"Finance\",\n",
    "    \"Delivery, Drones, Geospatial, Robotics\":\"Technology\",\n",
    "    \"Health Care, Information Technology, Management Information Systems\":\"Healthcare\",\n",
    "    \"Farming\":\"Agriculture\",\n",
    "    \"Business Travel, Hospitality, Hotel, Marketplace, Tourism, Travel Accommodations\":\"E-commerce\",\n",
    "    \"Career Planning, Education, Higher Education, Service Industry\":\"Education\",\n",
    "    \"Medical Device\":\"Healthcare\", \n",
    "    \"Alternative Medicine, Health Care\":\"Healthcare\",\n",
    "    \"Internet, Software\":\"Technology\",\n",
    "    \"Dental, Elder Care, Health Care, Home Health Care, Personal Health\":\"Healthcare\",\n",
    "    \"Financial Services, Insurance, Private Social Networking\":\"Finance\",\n",
    "    \"Consumer Electronics, E-Commerce, E-Commerce Platforms, Electronics, Shipping, Shopping\":\"E-commerce\",\n",
    "    \"CleanTech\":\"Services\", \n",
    "    \"Advertising, Internet, Marketing\":\"Media & Entertainment\",\n",
    "    \"Human Resources, Security, Training\":\"Human Resources\",\n",
    "    \"Consumer Lending, Finance, FinTech\":\"Finance\",\n",
    "    \"Marketing, Social Media, Video\":\"Media & Entertainment\", \n",
    "    \"Banking\":\"Finance\", \n",
    "    \"Food Processing\":\"Agriculture\",\n",
    "    \"Apps\":\"Technology\", \n",
    "    \"Marketing\":\"E-commerce\",\n",
    "    \"Apps, B2B, Freight Service, Logistics, SaaS, Shipping, Supply Chain Management, Transportation\":\"Transportation & Logistics\",\n",
    "    \"Digital Entertainment, Fantasy Sports, Gaming, Sports\":\"Sports\",\n",
    "    \"Automotive, Last Mile Transportation, Peer to Peer, Ride Sharing:\":\"Engineering\",\n",
    "    \"Commercial, E-Learning, Education\":\"Technology\",\n",
    "    \"Continuing Education, EdTech, Education, Skill Assessment\":\"Education\",\n",
    "    \"Smart Cities, Telecommunications\":\"Real Estate\", \n",
    "    \"Internet of Things, Robotics\":\"Technology\",\n",
    "    \"Apps, Home Services, Information Services, Information Technology\":\"E-commerce\",\n",
    "    \"Medical, Tourism\":\"Transportation & Logistics\", \n",
    "    \"Career Planning, Education, Internet\":\"Education\",\n",
    "    \"Fashion, Graphic Design, Wearables\":\"Real Estate\",\n",
    "    \"Communities, Leisure, Mobile Apps, Software\":\"Lifestyle\",\n",
    "    \"Automotive, Rental, Sharing Economy\":\"Engineering\",\n",
    "    \"Energy, Environmental Consulting, Renewable Energy, Solar\":\"Energy\",\n",
    "    \"Information Technology, SaaS, Security\":\"Technology\",\n",
    "    \"Crowdfunding, Financial Services, Internet\":\"Finance\",\n",
    "    \"Customer Service, Information Technology, Internet, Sales Automation\":\"Technology\",\n",
    "    \"Advertising, Artificial Intelligence, Digital Media, iOS, Location Based Services, News, Video, Video on Demand, Video Streaming\":\"Technology\",\n",
    "    \"Credit Cards, Payments, Property Insurance, Property Management, Rental Property\":\"Real Estate\",\n",
    "    \"Beauty, Cosmetics, Health Care, Service Industry\":\"Lifestyle\",\n",
    "    \"EdTech, Education, Mobile, Tutoring\":\"Education\", \n",
    "    \"Social Media, Sports\":\"Sports\",\n",
    "    \"Biopharma\":\"Healthcare\", \n",
    "    \"E-Commerce, E-Commerce Platforms, Retail\":\"E-commerce\",\n",
    "    \"E-Commerce, Fashion, Shopping\":\"E-commerce\",\n",
    "    \"Digital Entertainment, Mobile, PC Games\":\"Media & Entertainment\",\n",
    "    \"Finance, Financial Services, Small and Medium Businesses\":\"Finance\",\n",
    "    \"Artificial Intelligence, Energy, Oil and Gas\":\"Technology\",\n",
    "    \"Computer, FinTech, Risk Management, Software\":\"Technology\",\n",
    "    \"Apps, Financial Services, FinTech\":\"Finance\",\n",
    "    \"Child Care, Health Care, Hospital, Medical, Women's\":\"Healthcare\",\n",
    "    \"Agriculture, Mobile\":\"Agriculture\",\n",
    "    \"Finance, FinTech, Payments, Property Development, Rental\":\"Real Estate\",\n",
    "    \"Information Services, Information Technology, Mobile, Software\":\"Technology\",\n",
    "    \"Apps, Fitness, Health Care, mHealth\":\"Lifestyle\",\n",
    "    \"Food and Beverage, Food Delivery\":\"Food & Beverage\", \n",
    "    \"Apps, Payments, Retail\":\"E-commerce\",\n",
    "    \"Health Insurance, Insurance, Life Insurance\":\"Finance\",\n",
    "    \"Rental, Taxi Service, Travel\":\"Transportation & Logistics\",#mistake\n",
    "    \"E-Commerce, E-Commerce Platforms, Internet, Retail\":\"E-commerce\",\n",
    "    \"Financial Services, Professional Services\":\"Finance\",\n",
    "    \"Customer Service, Messaging, Mobile Apps, Personalization\":\"Services\",\n",
    "    \"Gaming, iOS, Sports\":\"Sports\",\n",
    "    \"E-Commerce, E-Commerce Platforms, Internet, Mobile Apps, Social Media\":\"E-commerce\",\n",
    "    \"Search Engine\":\"Technology\",\n",
    "    \"Battery, Electric Vehicle, Energy, Renewable Energy, Transportation\":\"Engineering\",\n",
    "    \"Agriculture, Farmers Market, Farming\":\"Agriculture\",\n",
    "    \"Artificial Intelligence, Drones, Navigation, Packaging Services, Robotics\":\"Technology\",\n",
    "    \"Fitness, GreenTech, Internet of Things, Mobile Apps, Ride Sharing, Transportation\":\"Lifestyle\",\n",
    "    \"Mobile, Software, Travel\":\"Transportation & Logistics\", \n",
    "    \"Cosmetics\":\"Lifestyle\",\n",
    "    \"Consulting, Cyber Security, Network Security\":\"Education\",\n",
    "    \"eSports, Gaming, Video Games\":\"Sports\", \n",
    "    \"Fashion, Jewelry\":\"Lifestyle\",\n",
    "    \"B2B, Medical Device\":\"Healthcare\", \n",
    "    \"Consumer Goods, Manufacturing\":\"Manufacturing\",\n",
    "    \"Biotechnology, Health Care, Wellness\":\"Healthcare\",\n",
    "    \"Health Care, Hospital, Medical, Robotics\":\"Healthcare\",\n",
    "    \"E-Commerce, Fitness, Health Care\":\"Healthcare\",\n",
    "    \"Financial Services, Venture Capital\":\"Finance\", \n",
    "    \"Accounting, Apps, FinTech\":\"Finance\",\n",
    "    \"Apps, Mobile, Transportation\":\"Transportation & Logistics\",\n",
    "    \"Reading Apps\":\"Education\",\n",
    "    \"Energy, Renewable Energy, Solar\":\"Energy\",\n",
    "    \"Banking, Financial Services, FinTech\":\"Finance\", \n",
    "    \"Apps, Education, Retail\":\"Education\",\n",
    "    \"Electric Vehicle\":\"Engineering\",\n",
    "    \"Automotive, Battery, Electric Vehicle, Manufacturing, Mechanical Design\":\"Engineering\",\n",
    "    \"Automotive, E-Commerce, Marketplace\":\"E-commerce\", \n",
    "    \"Agriculture\":\"Agriculture\",\n",
    "    \"Apps, Information Services, Information Technology\":\"Technology\",\n",
    "    \"B2B, Marketplace\":\"E-commerce\", \n",
    "    \"Packaging Services\":\"Manufacturing\",\n",
    "    \"Computer, Furniture, Software\":\"E-commerce\",\n",
    "    \"Food Delivery, Hospitality, Reservations, Restaurants, Search Engine\":\"Hospitality\",\n",
    "    \"Collaboration, Communities, Coworking, Real Estate\":\"Real Estate\",\n",
    "    \"Accounting, Banking, Finance\":\"Finance\",\n",
    "    \"Cloud Computing, Enterprise Software, Network Hardware, Network Security, SaaS\":\"Technology\",\n",
    "    \"Information Services, Internet, Logistics, Supply Chain Management, Transportation\":\"Transportation & Logistics\",\n",
    "    \"Automotive, E-Commerce, Information Services\":\"E-commerce\",\n",
    "    \"Delivery, Logistics, Transportation\":\"Transportation & Logistics\",\n",
    "    \"Automotive, E-Commerce Platforms, Marketplace\":\"E-commerce\",\n",
    "    \"Last Mile Transportation, Railroad, Transportation, Travel\":\"Transportation & Logistics\",\n",
    "    \"Cooking, E-Commerce, Food and Beverage, Food Delivery, Online Portals\":\"Food & Beverage\",\n",
    "    \"FinTech, Mobile, Mobile Payments, Payments, Retail Technology\":\"E-commerce\",\n",
    "    \"Online Games, Software\":\"Sports\",\n",
    "    \"Online Portals, Property Management, Rental\":\"Real Estate\",\n",
    "    \"E-Commerce, Food and Beverage, Tea\":\"Food & Beverage\",\n",
    "    \"Music, Social Network, Video\":\"Media & Entertainment\",\n",
    "    \"Health Care, Pharmaceutical, Wellness\":\"Healthcare\",\n",
    "    \"Delivery Service, Food and Beverage, Food Delivery\":\"Food & Beverage\",\n",
    "    \"Hospitality, Information Technology, Travel Accommodations\":\"Hospitality\",\n",
    "    \"Biotechnology, Diabetes, Health Care\":\"Healthcare\",\n",
    "    \"Autonomous Vehicles, Last Mile Transportation, Recreational Vehicles, Rental\":\"Transportation & Logistics\",\n",
    "    \"Finance, Financial Exchanges, Financial Services, Micro Lending\":\"Finance\",\n",
    "    \"Analytics, Apps, Market Research\":\"Technology\",\n",
    "    \"E-Commerce, E-Commerce Platforms, Furniture, Home Decor, Internet\":\"E-commerce\",\n",
    "    \"Apps, Mobile, Mobile Apps, Software\":\"Technology\",\n",
    "    \"News, Publishing, Social Media\":\"Media & Entertainment\",\n",
    "    \"Industrial, Industrial Automation\":\"Engineering\",\n",
    "    \"Internet, Mobile Apps, Social Network\":\"Media & Entertainment\",\n",
    "    \"Health Care, Health Diagnostics, Internet of Things, Life Science, Machine Learning, Medical, Medical Device\":\"Healthcare\",\n",
    "    \"E-Commerce, Furniture, Interior Design\":\"E-commerce\", \n",
    "    \"Apps, Events, News\":\"Media & Entertainment\",\n",
    "    \"Artificial Intelligence, Human Resources, Information Services, Information Technology\":\"Human Resources\",\n",
    "    \"Logistics, Railroad, Transportation\":\"Transportation & Logistics\",\n",
    "    \"Dating, Private Social Networking\":\"Lifestyle\",\n",
    "    \"Artificial Intelligence, Machine Learning, PaaS\":\"Technology\",\n",
    "    \"Consumer, Furniture, Home Decor, Home Improvement\":\"Real Estate\",\n",
    "    \"Apps, E-Commerce, Internet, Mobile, Ride Sharing, Transportation\":\"Transportation & Logistics\",\n",
    "    \"Health Care, Health Insurance\":\"Healthcare\", \n",
    "    \"Energy, Natural Resources\":\"Energy\",\n",
    "    \"E-Commerce, Education, Health Care\":\"Education\",\n",
    "    \"Apps, Health Care, Pharmaceutical\":\"Healthcare\",\n",
    "    \"Internet, Knowledge Management\":\"Technology\",\n",
    "    \"Credit, Finance, FinTech, Lending, Sales Automation\":\"Finance\",\n",
    "    \"Banking, Financial Services, Internet\":\"Finance\",\n",
    "    \"E-Commerce, Health Care, Retail\":\"E-commerce\",\n",
    "    \"Child Care, Information Technology\":\"Technology\",\n",
    "    \"Financial Services, Micro Lending\":\"Finance\",\n",
    "    \"E-Commerce, Retail, Shopping\":\"E-commerce\",\n",
    "    \"Food and Beverage, Snack Food, Tea\":\"Food & Beverage\",\n",
    "    \"Delivery Service, E-Commerce, Logistics\":\"Transportation & Logistics\",\n",
    "    \"Fashion, Lifestyle, Rental\":\"Lifestyle\", \n",
    "    \"Fantasy Sports, Mobile, Sports\":\"Sports\",\n",
    "    \"Beauty, Fashion, Wellness\":\"Lifestyle\", \n",
    "    \"Food and Beverage, Restaurants, Tea\":\"Food & Beverage\",\n",
    "    \"Fitness, Sporting Goods, Sports\":\"Manufacturing\",\n",
    "    \"Food and Beverage, Food Processing, Manufacturing\":\"Food & Beverage\",\n",
    "    \"E-Learning, Internet\":\"Education\", \n",
    "    \"Eyewear, Internet\":\"Technology\",\n",
    "    \"Information Technology, Mobile, News, Operating Systems, Social Media, Social News\":\"Education\",\n",
    "    \"FinTech, Internet, Payments, Service Industry\":\"Finance\",\n",
    "    \"B2B, Business Development, Internet, Marketplace\":\"E-commerce\",\n",
    "    \"Food and Beverage, Food Delivery, Internet\":\"Food & Beverage\",\n",
    "    \"Biotechnology, Health Care, Pharmaceutical\":\"Healthcare\",\n",
    "    \"Information Services, Information Technology\":\"Technology\",\n",
    "    \"Mobile Payments\":\"Services\",\n",
    "    \"Market Research\":\"Services\",\n",
    "    \"Food and Beverage, Food Delivery, Snack Food \":\"Food & Beverage\",\n",
    "    \"B2B, Shoes \":\"Manufacturing\",\n",
    "    \"Internet, Leisure, Marketplace\":\"Lifestyle\",\n",
    "    \"Beauty, Health Care\":\"Lifestyle\",\n",
    "    \"Automotive, Last Mile Transportation, Peer to Peer, Ride Sharing\":\"Transportation & Logistics\",\n",
    "    \"Food and Beverage, Food Delivery, Snack Food\":\"Food & Beverage\",\n",
    "    \"B2B, Shoes\":\"E-commerce\",\n",
    "    \"Internet\":\"Technology\",\n",
    "   \n",
    " \n",
    "    \n",
    "\n",
    "\n",
    "\n",
    "\n",
    "\n",
    "}"
   ]
  },
  {
   "cell_type": "code",
   "execution_count": 43,
   "metadata": {},
   "outputs": [],
   "source": [
    "#mapping the dictionary made to create Sectr with regax for the mapping to be done \n",
    "df_2018['Sector']= df_2018['Industry'].replace(mapping_dict,regex=False)"
   ]
  },
  {
   "cell_type": "code",
   "execution_count": 44,
   "metadata": {},
   "outputs": [],
   "source": [
    "#droping the industry column\n",
    "df_2018= df_2018.drop('Industry', axis=1)\n"
   ]
  },
  {
   "cell_type": "code",
   "execution_count": 45,
   "metadata": {},
   "outputs": [
    {
     "data": {
      "text/plain": [
       "0"
      ]
     },
     "execution_count": 45,
     "metadata": {},
     "output_type": "execute_result"
    }
   ],
   "source": [
    "# confirm null value \n",
    "df_2018['Sector'].isnull().sum()"
   ]
  },
  {
   "cell_type": "code",
   "execution_count": 46,
   "metadata": {},
   "outputs": [
    {
     "data": {
      "text/plain": [
       "Technology                    85\n",
       "Finance                       74\n",
       "Healthcare                    52\n",
       "E-commerce                    40\n",
       "Education                     40\n",
       "Transportation & Logistics    38\n",
       "                              30\n",
       "Media & Entertainment         26\n",
       "Food & Beverage               25\n",
       "Lifestyle                     19\n",
       "Engineering                   18\n",
       "Real Estate                   17\n",
       "Services                      16\n",
       "Agriculture                   11\n",
       "Sports                         9\n",
       "Energy                         7\n",
       "Retail                         5\n",
       "Hospitality                    5\n",
       "Manufacturing                  4\n",
       "Human Resources                4\n",
       "Name: Sector, dtype: int64"
      ]
     },
     "execution_count": 46,
     "metadata": {},
     "output_type": "execute_result"
    }
   ],
   "source": [
    "#count the occurrences of unique values in Sector column\n",
    "df_2018['Sector'].value_counts().sort_values(ascending=False)"
   ]
  },
  {
   "cell_type": "code",
   "execution_count": 47,
   "metadata": {},
   "outputs": [
    {
     "data": {
      "text/plain": [
       "0"
      ]
     },
     "execution_count": 47,
     "metadata": {},
     "output_type": "execute_result"
    }
   ],
   "source": [
    "df_2018['Sector'].isnull().sum()"
   ]
  },
  {
   "cell_type": "code",
   "execution_count": 48,
   "metadata": {},
   "outputs": [],
   "source": [
    "df_2018['Sector']= df_2018['Sector'].replace('',np.nan)"
   ]
  },
  {
   "cell_type": "code",
   "execution_count": 49,
   "metadata": {},
   "outputs": [
    {
     "data": {
      "text/plain": [
       "30"
      ]
     },
     "execution_count": 49,
     "metadata": {},
     "output_type": "execute_result"
    }
   ],
   "source": [
    "df_2018['Sector'].isnull().sum()"
   ]
  },
  {
   "cell_type": "code",
   "execution_count": 50,
   "metadata": {},
   "outputs": [],
   "source": [
    "df_2018['Sector']= df_2018['Sector'].fillna(df_2018['Sector'].mode().iloc[0])"
   ]
  },
  {
   "cell_type": "code",
   "execution_count": 51,
   "metadata": {},
   "outputs": [
    {
     "data": {
      "text/plain": [
       "0"
      ]
     },
     "execution_count": 51,
     "metadata": {},
     "output_type": "execute_result"
    }
   ],
   "source": [
    "df_2018['Sector'].isnull().sum()"
   ]
  },
  {
   "cell_type": "code",
   "execution_count": 52,
   "metadata": {},
   "outputs": [
    {
     "data": {
      "text/plain": [
       "array(['Media & Entertainment', 'Agriculture', 'Finance', 'E-commerce',\n",
       "       'Technology', 'Lifestyle', 'Services',\n",
       "       'Transportation & Logistics', 'Engineering', 'Food & Beverage',\n",
       "       'Healthcare', 'Education', 'Retail', 'Energy', 'Hospitality',\n",
       "       'Sports', 'Real Estate', 'Manufacturing', 'Human Resources'],\n",
       "      dtype=object)"
      ]
     },
     "execution_count": 52,
     "metadata": {},
     "output_type": "execute_result"
    }
   ],
   "source": [
    "df_2018.Sector.unique()"
   ]
  },
  {
   "cell_type": "code",
   "execution_count": 53,
   "metadata": {},
   "outputs": [
    {
     "data": {
      "text/plain": [
       "array(['Seed', 'Series A', 'Angel', 'Series B', 'Pre-Seed',\n",
       "       'Private Equity', 'Venture - Series Unknown', 'Grant',\n",
       "       'Debt Financing', 'Post-IPO Debt', 'Series H', 'Series C',\n",
       "       'Series E', 'Corporate Round', 'Undisclosed', 'Series D',\n",
       "       'Secondary Market', 'Post-IPO Equity', 'Non-equity Assistance',\n",
       "       'Funding Round'], dtype=object)"
      ]
     },
     "execution_count": 53,
     "metadata": {},
     "output_type": "execute_result"
    }
   ],
   "source": [
    "df_2018['Round/Series'].unique()"
   ]
  },
  {
   "cell_type": "code",
   "execution_count": 54,
   "metadata": {},
   "outputs": [],
   "source": [
    "#changing of column name of Round/series\n",
    "df_2018.rename(columns = { 'Round/Series':'Stage'}, inplace = True)"
   ]
  },
  {
   "cell_type": "code",
   "execution_count": 55,
   "metadata": {},
   "outputs": [
    {
     "data": {
      "text/plain": [
       "array(['Seed', 'Series A', 'Angel', 'Series B', 'Pre-Seed', 'Equity',\n",
       "       'Unknown Stage', 'Grant', 'Debt Financing', 'Later Stage',\n",
       "       'Series C'], dtype=object)"
      ]
     },
     "execution_count": 55,
     "metadata": {},
     "output_type": "execute_result"
    }
   ],
   "source": [
    "#Define a function for recategorization\n",
    "def recategorize(stage):\n",
    "    if stage in ['Angel Round']:\n",
    "        return 'Angel'\n",
    "    elif stage in ['Seed','Funding Round']:\n",
    "        return 'Seed'\n",
    "    elif stage in ['Pre-seed','Non-equity Assistance']:\n",
    "        return 'Pre-Seed'\n",
    "    elif stage in ['Series A',]:\n",
    "        return 'Series A'\n",
    "    elif stage in ['Series B',]:\n",
    "        return 'Series B'\n",
    "    elif stage in ['Series E','Series D','Series H','Corporate Round','Post-IPO Equity']:\n",
    "        return 'Later Stage'\n",
    "    elif stage in ['Debt Financing','Post-IPO Debt']:\n",
    "        return 'Debt Financing'\n",
    "    elif stage in ['Private Equity','Secondary Market']:\n",
    "        return 'Equity'\n",
    "    elif stage in ['unknown','Undisclosed','Venture - Series Unknown']:\n",
    "        return 'Unknown Stage'\n",
    "    else:\n",
    "        return stage\n",
    "    \n",
    "df_2018['Stage'] = df_2018['Stage'].apply(recategorize)\n",
    "\n",
    "df_2018['Stage'].unique()\n",
    "    \n"
   ]
  },
  {
   "cell_type": "code",
   "execution_count": 57,
   "metadata": {},
   "outputs": [],
   "source": [
    "##changing of column name \n",
    "df_2018.rename(columns = {'Company Name' :'Company/Brand', 'Sector' :'Sector', 'Stage':'Stage','Amount':'Amount($)','About Company':'What_it_does'}, inplace = True)"
   ]
  },
  {
   "cell_type": "code",
   "execution_count": 58,
   "metadata": {},
   "outputs": [
    {
     "name": "stdout",
     "output_type": "stream",
     "text": [
      "<class 'pandas.core.frame.DataFrame'>\n",
      "Int64Index: 525 entries, 0 to 525\n",
      "Data columns (total 6 columns):\n",
      " #   Column         Non-Null Count  Dtype  \n",
      "---  ------         --------------  -----  \n",
      " 0   Company/Brand  525 non-null    object \n",
      " 1   Stage          525 non-null    object \n",
      " 2   Amount($)      525 non-null    float64\n",
      " 3   Location       525 non-null    object \n",
      " 4   What_it_does   525 non-null    object \n",
      " 5   Sector         525 non-null    object \n",
      "dtypes: float64(1), object(5)\n",
      "memory usage: 44.9+ KB\n"
     ]
    }
   ],
   "source": [
    "df_2018.info()"
   ]
  },
  {
   "cell_type": "code",
   "execution_count": 59,
   "metadata": {},
   "outputs": [
    {
     "data": {
      "text/plain": [
       "1"
      ]
     },
     "execution_count": 59,
     "metadata": {},
     "output_type": "execute_result"
    }
   ],
   "source": [
    "# checking for duplicates\n",
    "df_2018.duplicated().sum()"
   ]
  },
  {
   "cell_type": "code",
   "execution_count": null,
   "metadata": {},
   "outputs": [
    {
     "data": {
      "text/html": [
       "<div>\n",
       "<style scoped>\n",
       "    .dataframe tbody tr th:only-of-type {\n",
       "        vertical-align: middle;\n",
       "    }\n",
       "\n",
       "    .dataframe tbody tr th {\n",
       "        vertical-align: top;\n",
       "    }\n",
       "\n",
       "    .dataframe thead th {\n",
       "        text-align: right;\n",
       "    }\n",
       "</style>\n",
       "<table border=\"1\" class=\"dataframe\">\n",
       "  <thead>\n",
       "    <tr style=\"text-align: right;\">\n",
       "      <th></th>\n",
       "      <th>Company/Brand</th>\n",
       "      <th>Stage</th>\n",
       "      <th>Amount($)</th>\n",
       "      <th>Location</th>\n",
       "      <th>What_it_does</th>\n",
       "      <th>Sector</th>\n",
       "    </tr>\n",
       "  </thead>\n",
       "  <tbody>\n",
       "    <tr>\n",
       "      <th>348</th>\n",
       "      <td>TheCollegeFever</td>\n",
       "      <td>Seed</td>\n",
       "      <td>250000.0</td>\n",
       "      <td>Bangalore</td>\n",
       "      <td>TheCollegeFever is a hub for fun, fiesta and f...</td>\n",
       "      <td>Media &amp; Entertainment</td>\n",
       "    </tr>\n",
       "  </tbody>\n",
       "</table>\n",
       "</div>"
      ],
      "text/plain": [
       "       Company/Brand Stage  Amount($)   Location  \\\n",
       "348  TheCollegeFever  Seed   250000.0  Bangalore   \n",
       "\n",
       "                                          What_it_does                 Sector  \n",
       "348  TheCollegeFever is a hub for fun, fiesta and f...  Media & Entertainment  "
      ]
     },
     "execution_count": 145,
     "metadata": {},
     "output_type": "execute_result"
    }
   ],
   "source": [
    "# lets have a look at rows with duplicates\n",
    "df_2018.loc[df_2018.duplicated()]"
   ]
  },
  {
   "cell_type": "code",
   "execution_count": null,
   "metadata": {},
   "outputs": [],
   "source": [
    "df_2018=df_2018.drop(index=348)"
   ]
  },
  {
   "cell_type": "code",
   "execution_count": null,
   "metadata": {},
   "outputs": [],
   "source": [
    "df_2018.to_csv('data_claning_2018.csv', index = False)"
   ]
  },
  {
   "cell_type": "code",
   "execution_count": null,
   "metadata": {},
   "outputs": [
    {
     "data": {
      "text/html": [
       "<div>\n",
       "<style scoped>\n",
       "    .dataframe tbody tr th:only-of-type {\n",
       "        vertical-align: middle;\n",
       "    }\n",
       "\n",
       "    .dataframe tbody tr th {\n",
       "        vertical-align: top;\n",
       "    }\n",
       "\n",
       "    .dataframe thead th {\n",
       "        text-align: right;\n",
       "    }\n",
       "</style>\n",
       "<table border=\"1\" class=\"dataframe\">\n",
       "  <thead>\n",
       "    <tr style=\"text-align: right;\">\n",
       "      <th></th>\n",
       "      <th>Company_Brand</th>\n",
       "      <th>Founded</th>\n",
       "      <th>HeadQuarter</th>\n",
       "      <th>Sector</th>\n",
       "      <th>What_it_does</th>\n",
       "      <th>Founders</th>\n",
       "      <th>Investor</th>\n",
       "      <th>Amount</th>\n",
       "      <th>Stage</th>\n",
       "    </tr>\n",
       "  </thead>\n",
       "  <tbody>\n",
       "    <tr>\n",
       "      <th>0</th>\n",
       "      <td>Unbox Robotics</td>\n",
       "      <td>2019.0</td>\n",
       "      <td>Bangalore</td>\n",
       "      <td>AI startup</td>\n",
       "      <td>Unbox Robotics builds on-demand AI-driven ware...</td>\n",
       "      <td>Pramod Ghadge, Shahid Memon</td>\n",
       "      <td>BEENEXT, Entrepreneur First</td>\n",
       "      <td>$1,200,000</td>\n",
       "      <td>Pre-series A</td>\n",
       "    </tr>\n",
       "    <tr>\n",
       "      <th>1</th>\n",
       "      <td>upGrad</td>\n",
       "      <td>2015.0</td>\n",
       "      <td>Mumbai</td>\n",
       "      <td>EdTech</td>\n",
       "      <td>UpGrad is an online higher education platform.</td>\n",
       "      <td>Mayank Kumar, Phalgun Kompalli, Ravijot Chugh,...</td>\n",
       "      <td>Unilazer Ventures, IIFL Asset Management</td>\n",
       "      <td>$120,000,000</td>\n",
       "      <td>None</td>\n",
       "    </tr>\n",
       "    <tr>\n",
       "      <th>2</th>\n",
       "      <td>Lead School</td>\n",
       "      <td>2012.0</td>\n",
       "      <td>Mumbai</td>\n",
       "      <td>EdTech</td>\n",
       "      <td>LEAD School offers technology based school tra...</td>\n",
       "      <td>Smita Deorah, Sumeet Mehta</td>\n",
       "      <td>GSV Ventures, Westbridge Capital</td>\n",
       "      <td>$30,000,000</td>\n",
       "      <td>Series D</td>\n",
       "    </tr>\n",
       "    <tr>\n",
       "      <th>3</th>\n",
       "      <td>Bizongo</td>\n",
       "      <td>2015.0</td>\n",
       "      <td>Mumbai</td>\n",
       "      <td>B2B E-commerce</td>\n",
       "      <td>Bizongo is a business-to-business online marke...</td>\n",
       "      <td>Aniket Deb, Ankit Tomar, Sachin Agrawal</td>\n",
       "      <td>CDC Group, IDG Capital</td>\n",
       "      <td>$51,000,000</td>\n",
       "      <td>Series C</td>\n",
       "    </tr>\n",
       "    <tr>\n",
       "      <th>4</th>\n",
       "      <td>FypMoney</td>\n",
       "      <td>2021.0</td>\n",
       "      <td>Gurugram</td>\n",
       "      <td>FinTech</td>\n",
       "      <td>FypMoney is Digital NEO Bank for Teenagers, em...</td>\n",
       "      <td>Kapil Banwari</td>\n",
       "      <td>Liberatha Kallat, Mukesh Yadav, Dinesh Nagpal</td>\n",
       "      <td>$2,000,000</td>\n",
       "      <td>Seed</td>\n",
       "    </tr>\n",
       "  </tbody>\n",
       "</table>\n",
       "</div>"
      ],
      "text/plain": [
       "    Company_Brand  Founded HeadQuarter          Sector  \\\n",
       "0  Unbox Robotics   2019.0   Bangalore      AI startup   \n",
       "1          upGrad   2015.0      Mumbai          EdTech   \n",
       "2     Lead School   2012.0      Mumbai          EdTech   \n",
       "3         Bizongo   2015.0      Mumbai  B2B E-commerce   \n",
       "4        FypMoney   2021.0    Gurugram         FinTech   \n",
       "\n",
       "                                        What_it_does  \\\n",
       "0  Unbox Robotics builds on-demand AI-driven ware...   \n",
       "1     UpGrad is an online higher education platform.   \n",
       "2  LEAD School offers technology based school tra...   \n",
       "3  Bizongo is a business-to-business online marke...   \n",
       "4  FypMoney is Digital NEO Bank for Teenagers, em...   \n",
       "\n",
       "                                            Founders  \\\n",
       "0                        Pramod Ghadge, Shahid Memon   \n",
       "1  Mayank Kumar, Phalgun Kompalli, Ravijot Chugh,...   \n",
       "2                         Smita Deorah, Sumeet Mehta   \n",
       "3            Aniket Deb, Ankit Tomar, Sachin Agrawal   \n",
       "4                                      Kapil Banwari   \n",
       "\n",
       "                                        Investor        Amount         Stage  \n",
       "0                    BEENEXT, Entrepreneur First    $1,200,000  Pre-series A  \n",
       "1       Unilazer Ventures, IIFL Asset Management  $120,000,000          None  \n",
       "2               GSV Ventures, Westbridge Capital   $30,000,000      Series D  \n",
       "3                         CDC Group, IDG Capital   $51,000,000      Series C  \n",
       "4  Liberatha Kallat, Mukesh Yadav, Dinesh Nagpal    $2,000,000          Seed  "
      ]
     },
     "execution_count": 148,
     "metadata": {},
     "output_type": "execute_result"
    }
   ],
   "source": [
    "#loading 2019 data\n",
    "df_2019= pd.read_csv('startup_funding2019.csv')\n",
    "df_2021.head(5)"
   ]
  },
  {
   "cell_type": "code",
   "execution_count": null,
   "metadata": {},
   "outputs": [
    {
     "name": "stdout",
     "output_type": "stream",
     "text": [
      "<class 'pandas.core.frame.DataFrame'>\n",
      "RangeIndex: 89 entries, 0 to 88\n",
      "Data columns (total 9 columns):\n",
      " #   Column         Non-Null Count  Dtype  \n",
      "---  ------         --------------  -----  \n",
      " 0   Company/Brand  89 non-null     object \n",
      " 1   Founded        60 non-null     float64\n",
      " 2   HeadQuarter    70 non-null     object \n",
      " 3   Sector         84 non-null     object \n",
      " 4   What it does   89 non-null     object \n",
      " 5   Founders       86 non-null     object \n",
      " 6   Investor       89 non-null     object \n",
      " 7   Amount($)      89 non-null     object \n",
      " 8   Stage          43 non-null     object \n",
      "dtypes: float64(1), object(8)\n",
      "memory usage: 6.4+ KB\n"
     ]
    }
   ],
   "source": [
    "#Preview of dataset summary information using info method.\n",
    "\n",
    "df_2019.info()"
   ]
  },
  {
   "cell_type": "code",
   "execution_count": null,
   "metadata": {},
   "outputs": [
    {
     "name": "stdout",
     "output_type": "stream",
     "text": [
      "Number of rows in 2019 dataset: 89\n",
      "Number of columns in 2019 dataset: 9\n"
     ]
    }
   ],
   "source": [
    "#View of number of rows and columns in 2019 dataset\n",
    "num_f_colmns = df_2019.shape[(1)]\n",
    "num_f_rows = df_2019.shape[(0)]\n",
    "\n",
    "print('Number of rows in 2019 dataset:',num_f_rows)\n",
    "print('Number of columns in 2019 dataset:',num_f_colmns)"
   ]
  },
  {
   "cell_type": "code",
   "execution_count": null,
   "metadata": {},
   "outputs": [
    {
     "data": {
      "text/html": [
       "<div>\n",
       "<style scoped>\n",
       "    .dataframe tbody tr th:only-of-type {\n",
       "        vertical-align: middle;\n",
       "    }\n",
       "\n",
       "    .dataframe tbody tr th {\n",
       "        vertical-align: top;\n",
       "    }\n",
       "\n",
       "    .dataframe thead th {\n",
       "        text-align: right;\n",
       "    }\n",
       "</style>\n",
       "<table border=\"1\" class=\"dataframe\">\n",
       "  <thead>\n",
       "    <tr style=\"text-align: right;\">\n",
       "      <th></th>\n",
       "      <th>Founded</th>\n",
       "    </tr>\n",
       "  </thead>\n",
       "  <tbody>\n",
       "    <tr>\n",
       "      <th>count</th>\n",
       "      <td>60.000000</td>\n",
       "    </tr>\n",
       "    <tr>\n",
       "      <th>mean</th>\n",
       "      <td>2014.533333</td>\n",
       "    </tr>\n",
       "    <tr>\n",
       "      <th>std</th>\n",
       "      <td>2.937003</td>\n",
       "    </tr>\n",
       "    <tr>\n",
       "      <th>min</th>\n",
       "      <td>2004.000000</td>\n",
       "    </tr>\n",
       "    <tr>\n",
       "      <th>25%</th>\n",
       "      <td>2013.000000</td>\n",
       "    </tr>\n",
       "    <tr>\n",
       "      <th>50%</th>\n",
       "      <td>2015.000000</td>\n",
       "    </tr>\n",
       "    <tr>\n",
       "      <th>75%</th>\n",
       "      <td>2016.250000</td>\n",
       "    </tr>\n",
       "    <tr>\n",
       "      <th>max</th>\n",
       "      <td>2019.000000</td>\n",
       "    </tr>\n",
       "  </tbody>\n",
       "</table>\n",
       "</div>"
      ],
      "text/plain": [
       "           Founded\n",
       "count    60.000000\n",
       "mean   2014.533333\n",
       "std       2.937003\n",
       "min    2004.000000\n",
       "25%    2013.000000\n",
       "50%    2015.000000\n",
       "75%    2016.250000\n",
       "max    2019.000000"
      ]
     },
     "execution_count": 66,
     "metadata": {},
     "output_type": "execute_result"
    }
   ],
   "source": [
    "# Preview of description summary of numerical columns using describe method\n",
    "\n",
    "df_2019.describe()"
   ]
  },
  {
   "cell_type": "code",
   "execution_count": null,
   "metadata": {},
   "outputs": [
    {
     "data": {
      "text/html": [
       "<div>\n",
       "<style scoped>\n",
       "    .dataframe tbody tr th:only-of-type {\n",
       "        vertical-align: middle;\n",
       "    }\n",
       "\n",
       "    .dataframe tbody tr th {\n",
       "        vertical-align: top;\n",
       "    }\n",
       "\n",
       "    .dataframe thead th {\n",
       "        text-align: right;\n",
       "    }\n",
       "</style>\n",
       "<table border=\"1\" class=\"dataframe\">\n",
       "  <thead>\n",
       "    <tr style=\"text-align: right;\">\n",
       "      <th></th>\n",
       "      <th>Company/Brand</th>\n",
       "      <th>HeadQuarter</th>\n",
       "      <th>Sector</th>\n",
       "      <th>What it does</th>\n",
       "      <th>Founders</th>\n",
       "      <th>Investor</th>\n",
       "      <th>Amount($)</th>\n",
       "      <th>Stage</th>\n",
       "    </tr>\n",
       "  </thead>\n",
       "  <tbody>\n",
       "    <tr>\n",
       "      <th>count</th>\n",
       "      <td>89</td>\n",
       "      <td>70</td>\n",
       "      <td>84</td>\n",
       "      <td>89</td>\n",
       "      <td>86</td>\n",
       "      <td>89</td>\n",
       "      <td>89</td>\n",
       "      <td>43</td>\n",
       "    </tr>\n",
       "    <tr>\n",
       "      <th>unique</th>\n",
       "      <td>87</td>\n",
       "      <td>17</td>\n",
       "      <td>52</td>\n",
       "      <td>88</td>\n",
       "      <td>85</td>\n",
       "      <td>86</td>\n",
       "      <td>50</td>\n",
       "      <td>15</td>\n",
       "    </tr>\n",
       "    <tr>\n",
       "      <th>top</th>\n",
       "      <td>Kratikal</td>\n",
       "      <td>Bangalore</td>\n",
       "      <td>Edtech</td>\n",
       "      <td>Online meat shop</td>\n",
       "      <td>Vivek Gupta, Abhay Hanjura</td>\n",
       "      <td>Undisclosed</td>\n",
       "      <td>Undisclosed</td>\n",
       "      <td>Series A</td>\n",
       "    </tr>\n",
       "    <tr>\n",
       "      <th>freq</th>\n",
       "      <td>2</td>\n",
       "      <td>21</td>\n",
       "      <td>7</td>\n",
       "      <td>2</td>\n",
       "      <td>2</td>\n",
       "      <td>3</td>\n",
       "      <td>12</td>\n",
       "      <td>10</td>\n",
       "    </tr>\n",
       "  </tbody>\n",
       "</table>\n",
       "</div>"
      ],
      "text/plain": [
       "       Company/Brand HeadQuarter  Sector      What it does  \\\n",
       "count             89          70      84                89   \n",
       "unique            87          17      52                88   \n",
       "top         Kratikal   Bangalore  Edtech  Online meat shop   \n",
       "freq               2          21       7                 2   \n",
       "\n",
       "                          Founders     Investor    Amount($)     Stage  \n",
       "count                           86           89           89        43  \n",
       "unique                          85           86           50        15  \n",
       "top     Vivek Gupta, Abhay Hanjura  Undisclosed  Undisclosed  Series A  \n",
       "freq                             2            3           12        10  "
      ]
     },
     "execution_count": 67,
     "metadata": {},
     "output_type": "execute_result"
    }
   ],
   "source": [
    "# Preview of description summary of categorical columns using describe method\n",
    "df_2019.describe(include=object)"
   ]
  },
  {
   "cell_type": "code",
   "execution_count": null,
   "metadata": {},
   "outputs": [
    {
     "name": "stdout",
     "output_type": "stream",
     "text": [
      "Count of duplicate values: 0\n"
     ]
    }
   ],
   "source": [
    "#Let us check for duplicates in our datas\n",
    "duplicate_vals = df_2019.duplicated().sum()\n",
    "\n",
    "#The 2019 dataset has no duplicate values\n",
    "\n",
    "print(\"Count of duplicate values:\",duplicate_vals)"
   ]
  },
  {
   "cell_type": "code",
   "execution_count": null,
   "metadata": {},
   "outputs": [
    {
     "data": {
      "text/plain": [
       "Company/Brand     0\n",
       "Founded          29\n",
       "HeadQuarter      19\n",
       "Sector            5\n",
       "What it does      0\n",
       "Founders          3\n",
       "Investor          0\n",
       "Amount($)         0\n",
       "Stage            46\n",
       "dtype: int64"
      ]
     },
     "execution_count": 69,
     "metadata": {},
     "output_type": "execute_result"
    }
   ],
   "source": [
    "#Check of number of missing values in our dataset.(i.e Total NAN values per column)\n",
    "missin_vals = df_2019.isnull().sum()\n",
    "\n",
    "#The 2019 dataset contains missing values\n",
    "\n",
    "missin_vals"
   ]
  },
  {
   "cell_type": "code",
   "execution_count": null,
   "metadata": {},
   "outputs": [
    {
     "data": {
      "text/plain": [
       "Company/Brand     0.000000\n",
       "Founded          32.584270\n",
       "HeadQuarter      21.348315\n",
       "Sector            5.617978\n",
       "What it does      0.000000\n",
       "Founders          3.370787\n",
       "Investor          0.000000\n",
       "Amount($)         0.000000\n",
       "Stage            51.685393\n",
       "dtype: float64"
      ]
     },
     "execution_count": 70,
     "metadata": {},
     "output_type": "execute_result"
    }
   ],
   "source": [
    "#conversion of missing value as percentage to enable comparison and inference\n",
    "#we get total percentage of missing data in each column\n",
    "#gives inference of whether to delete data or not\n",
    "\n",
    "missing_percent = (df_2019.isnull().sum()/len(df_2019)) * 100\n",
    "\n",
    "missing_percent"
   ]
  },
  {
   "cell_type": "code",
   "execution_count": null,
   "metadata": {},
   "outputs": [],
   "source": [
    "#Boolean filtering of percentage missing data greater than 0 in columns\n",
    "#only columns selected have missing percentage > 0\n",
    "\n",
    "def missing_percent(table):\n",
    "    missing_percent = (df_2019.isnull().sum()/len(df_2019)) * 100\n",
    "    missing_percent = missing_percent[missing_percent > 0].sort_values(ascending=False)\n",
    "    return missing_percent"
   ]
  },
  {
   "cell_type": "code",
   "execution_count": null,
   "metadata": {},
   "outputs": [
    {
     "data": {
      "text/plain": [
       "Stage          51.685393\n",
       "Founded        32.584270\n",
       "HeadQuarter    21.348315\n",
       "Sector          5.617978\n",
       "Founders        3.370787\n",
       "dtype: float64"
      ]
     },
     "execution_count": 72,
     "metadata": {},
     "output_type": "execute_result"
    }
   ],
   "source": [
    "# per_nan = percentage nan\n",
    "\n",
    "per_nan = missing_percent(df_2019)\n",
    "\n",
    "per_nan"
   ]
  },
  {
   "cell_type": "code",
   "execution_count": null,
   "metadata": {},
   "outputs": [
    {
     "data": {
      "image/png": "[encoded data removed]",
      "text/plain": [
       "<Figure size 900x600 with 1 Axes>"
      ]
     },
     "metadata": {},
     "output_type": "display_data"
    }
   ],
   "source": [
    "#Let us visualize to infer missing data for comprehensive understanding\n",
    "#NBper_nan is a series data that is indexed(with only one column)\n",
    "#NBseaborn and matplotlib are compatible, we'll us matplotlib's 'plt.xticks()' to do x-axis rotation \n",
    "\n",
    "plt.figure(figsize=(9, 6))\n",
    "sns.barplot(x=per_nan.index, y=per_nan)\n",
    "plt.xticks(rotation = 45)\n",
    "plt.title(\"Percentage Missing Values\");\n",
    "#plt.ylim(3, 21)\n",
    "#to get columns with missing data btwn 3 to 21 percentage, we use function 'plt.ylim()'"
   ]
  },
  {
   "cell_type": "code",
   "execution_count": null,
   "metadata": {},
   "outputs": [
    {
     "data": {
      "text/plain": [
       "array([  nan, 2014., 2004., 2013., 2010., 2018., 2019., 2017., 2011.,\n",
       "       2015., 2016., 2012., 2008.])"
      ]
     },
     "execution_count": 74,
     "metadata": {},
     "output_type": "execute_result"
    }
   ],
   "source": [
    "#let us clean column named 'founded' \n",
    "#we will fill in missing values with the median value\n",
    "elements = df_2019[\"Founded\"].unique()\n",
    "elements"
   ]
  },
  {
   "cell_type": "code",
   "execution_count": null,
   "metadata": {},
   "outputs": [
    {
     "name": "stdout",
     "output_type": "stream",
     "text": [
      "Count of missing values in Founded column: 29\n"
     ]
    }
   ],
   "source": [
    "#Count of missing values in column 'founded'\n",
    "\n",
    "missn_vals = df_2019[\"Founded\"].isna().sum()\n",
    "missn_vals \n",
    "print(\"Count of missing values in Founded column:\",missn_vals)"
   ]
  },
  {
   "cell_type": "code",
   "execution_count": null,
   "metadata": {},
   "outputs": [
    {
     "data": {
      "text/plain": [
       "2015.0"
      ]
     },
     "execution_count": 76,
     "metadata": {},
     "output_type": "execute_result"
    }
   ],
   "source": [
    "#Convert the column to numeric, coercing non-numeric values to NaN:\n",
    "#pd.to_numeric() converts values to float\n",
    "\n",
    "df_2019[\"Founded\"] = pd.to_numeric(df_2019[\"Founded\"], errors='coerce')\n",
    "\n",
    "#Calculate the median of the column, ignoring the NaN values:\n",
    "median_value = df_2019[\"Founded\"].median(skipna=True)\n",
    "\n",
    "median_value"
   ]
  },
  {
   "cell_type": "code",
   "execution_count": null,
   "metadata": {},
   "outputs": [],
   "source": [
    "#Replace the NaN values with the calculated median:\n",
    "df_2019[\"Founded\"].fillna(median_value, inplace=True)"
   ]
  },
  {
   "cell_type": "code",
   "execution_count": null,
   "metadata": {},
   "outputs": [
    {
     "data": {
      "text/plain": [
       "False"
      ]
     },
     "execution_count": 78,
     "metadata": {},
     "output_type": "execute_result"
    }
   ],
   "source": [
    "#Any missing values?\n",
    "#confirm whether there are any NAN values (missing_values)\n",
    "df_2019[\"Founded\"].isna().values.any()"
   ]
  },
  {
   "cell_type": "code",
   "execution_count": null,
   "metadata": {},
   "outputs": [
    {
     "data": {
      "text/plain": [
       "array([nan, 'Mumbai', 'Chennai', 'Telangana', 'Pune', 'Bangalore',\n",
       "       'Noida', 'Delhi', 'Ahmedabad', 'Gurugram', 'Haryana', 'Chandigarh',\n",
       "       'Jaipur', 'New Delhi', 'Surat', 'Uttar pradesh', 'Hyderabad',\n",
       "       'Rajasthan'], dtype=object)"
      ]
     },
     "execution_count": 79,
     "metadata": {},
     "output_type": "execute_result"
    }
   ],
   "source": [
    "#we will clean column 'Headquarter'\n",
    "#We will fill up missing values with the mode(most occuring instance)\n",
    "\n",
    "#Let us use unique() method to examine the unique values:\n",
    "df_2019['HeadQuarter'].unique()"
   ]
  },
  {
   "cell_type": "code",
   "execution_count": null,
   "metadata": {},
   "outputs": [
    {
     "data": {
      "text/plain": [
       "0           NaN\n",
       "1        Mumbai\n",
       "2        Mumbai\n",
       "3       Chennai\n",
       "4     Telangana\n",
       "        ...    \n",
       "84       Mumbai\n",
       "85     Gurugram\n",
       "86        Delhi\n",
       "87        Delhi\n",
       "88    Rajasthan\n",
       "Name: HeadQuarter, Length: 89, dtype: object"
      ]
     },
     "execution_count": 80,
     "metadata": {},
     "output_type": "execute_result"
    }
   ],
   "source": [
    "#Check on data\n",
    "df_2019['HeadQuarter']"
   ]
  },
  {
   "cell_type": "code",
   "execution_count": null,
   "metadata": {},
   "outputs": [
    {
     "data": {
      "text/plain": [
       "'Bangalore'"
      ]
     },
     "execution_count": 81,
     "metadata": {},
     "output_type": "execute_result"
    }
   ],
   "source": [
    "#Calculate the mode of the column:\n",
    "#The iloc indexer is used to retrieve the first value from the mode result.\n",
    "#The mode() function returns a pandas Series object that contains the mode(s) of the column.\n",
    "\n",
    "mode_value = df_2019[\"HeadQuarter\"].mode().iloc[0]\n",
    "\n",
    "mode_value"
   ]
  },
  {
   "cell_type": "code",
   "execution_count": null,
   "metadata": {},
   "outputs": [],
   "source": [
    "#Replace the missing values with the mode:\n",
    "df_2019[\"HeadQuarter\"].fillna(mode_value, inplace=True)"
   ]
  },
  {
   "cell_type": "code",
   "execution_count": null,
   "metadata": {},
   "outputs": [
    {
     "data": {
      "text/plain": [
       "False"
      ]
     },
     "execution_count": 83,
     "metadata": {},
     "output_type": "execute_result"
    }
   ],
   "source": [
    "#Any missing values?\n",
    "#Let us confirm whether there are any NAN values after changes\n",
    "df_2019[\"HeadQuarter\"].isna().values.any()"
   ]
  },
  {
   "cell_type": "code",
   "execution_count": null,
   "metadata": {},
   "outputs": [
    {
     "name": "stdout",
     "output_type": "stream",
     "text": [
      "['Ecommerce' 'Edtech' 'Interior design' 'AgriTech' 'Technology' 'SaaS'\n",
      " 'AI & Tech' 'E-commerce' 'E-commerce & AR' 'Fintech' 'HR tech'\n",
      " 'Food tech' 'Health' 'Healthcare' 'Safety tech' 'Pharmaceutical'\n",
      " 'Insurance technology' 'AI' 'Foodtech' 'Food' 'IoT' 'E-marketplace'\n",
      " 'Robotics & AI' 'Logistics' 'Travel' 'Manufacturing' 'Food & Nutrition'\n",
      " 'Social Media' nan 'E-Sports' 'Cosmetics' 'B2B' 'Jewellery'\n",
      " 'B2B Supply Chain' 'Games' 'Food & tech' 'Accomodation' 'Automotive tech'\n",
      " 'Legal tech' 'Mutual Funds' 'Cybersecurity' 'Automobile' 'Sports'\n",
      " 'Healthtech' 'Yoga & wellness' 'Virtual Banking' 'Transportation'\n",
      " 'Transport & Rentals' 'Marketing & Customer loyalty' 'Infratech'\n",
      " 'Hospitality' 'Automobile & Technology' 'Banking']\n"
     ]
    }
   ],
   "source": [
    "#Let us clean column 'sector' \n",
    "#Column has inconsistencies and some elements needs to be renamed to have consistent format\n",
    "#Let us use unique() method to examine the unique values:\n",
    "print(df_2019[\"Sector\"].unique())"
   ]
  },
  {
   "cell_type": "code",
   "execution_count": null,
   "metadata": {},
   "outputs": [
    {
     "data": {
      "text/plain": [
       "Edtech                          7\n",
       "Fintech                         5\n",
       "AgriTech                        4\n",
       "Technology                      4\n",
       "SaaS                            4\n",
       "Automobile                      3\n",
       "E-commerce                      3\n",
       "Logistics                       3\n",
       "IoT                             2\n",
       "E-marketplace                   2\n",
       "AI                              2\n",
       "Automotive tech                 2\n",
       "Accomodation                    2\n",
       "Foodtech                        2\n",
       "Food                            2\n",
       "Pharmaceutical                  1\n",
       "Interior design                 1\n",
       "AI & Tech                       1\n",
       "E-commerce & AR                 1\n",
       "HR tech                         1\n",
       "Food tech                       1\n",
       "Health                          1\n",
       "Healthcare                      1\n",
       "E-Sports                        1\n",
       "B2B                             1\n",
       "Insurance technology            1\n",
       "Robotics & AI                   1\n",
       "Travel                          1\n",
       "Manufacturing                   1\n",
       "Social Media                    1\n",
       "Jewellery                       1\n",
       "Cosmetics                       1\n",
       "Safety tech                     1\n",
       "Transport & Rentals             1\n",
       "Food & Nutrition                1\n",
       "Games                           1\n",
       "Ecommerce                       1\n",
       "Cybersecurity                   1\n",
       "Mutual Funds                    1\n",
       "Food & tech                     1\n",
       "Legal tech                      1\n",
       "Sports                          1\n",
       "B2B Supply Chain                1\n",
       "Healthtech                      1\n",
       "Yoga & wellness                 1\n",
       "Virtual Banking                 1\n",
       "Transportation                  1\n",
       "Marketing & Customer loyalty    1\n",
       "Infratech                       1\n",
       "Hospitality                     1\n",
       "Automobile & Technology         1\n",
       "Banking                         1\n",
       "Name: Sector, dtype: int64"
      ]
     },
     "execution_count": 85,
     "metadata": {},
     "output_type": "execute_result"
    }
   ],
   "source": [
    "#Check of counts of each category in the column\n",
    "df_2019[\"Sector\"].value_counts().sort_values(ascending=False)"
   ]
  },
  {
   "cell_type": "code",
   "execution_count": null,
   "metadata": {},
   "outputs": [],
   "source": [
    "#Creation of a function to attain consistency in names of elements\n",
    "\n",
    "from fuzzywuzzy import fuzz\n",
    "\n",
    "def rename_similar_names(data, Sector):\n",
    "    # Create a copy of the dataframe to avoid modifying the original data\n",
    "    dff = data.copy()\n",
    "\n",
    "     # Convert values in the specified column to strings\n",
    "    dff[Sector] = dff[Sector].astype(str)\n",
    "\n",
    "    # Iterate over each unique value in the specified column\n",
    "    for value in dff[Sector].unique():\n",
    "        similar_names = [name for name in dff[Sector].unique() if fuzz.ratio(value, name) >= 75]\n",
    "        # Identify similar names with a similarity ratio of at least 80\n",
    "        \n",
    "        if len(similar_names) > 1:\n",
    "            # If there are multiple similar names, choose a consistent name for all of them\n",
    "            consistent_name = min(similar_names, key=len)  # You can change the selection criteria as per your preference\n",
    "            \n",
    "            # Replace the similar names with the consistent name\n",
    "            dff[Sector].replace(similar_names, consistent_name, inplace=True)\n",
    "\n",
    "    return dff"
   ]
  },
  {
   "cell_type": "code",
   "execution_count": null,
   "metadata": {},
   "outputs": [
    {
     "name": "stdout",
     "output_type": "stream",
     "text": [
      "['Ecommerce' 'Edtech' 'Interior design' 'AgriTech' 'Technology' 'SaaS'\n",
      " 'AI & Tech' 'Fintech' 'HR tech' 'Foodtech' 'Health' 'Safety tech'\n",
      " 'Pharmaceutical' 'Insurance technology' 'AI' 'Food' 'IoT' 'E-marketplace'\n",
      " 'Robotics & AI' 'Logistics' 'Travel' 'Manufacturing' 'Food & Nutrition'\n",
      " 'Social Media' 'nan' 'Sports' 'Cosmetics' 'B2B' 'Jewellery'\n",
      " 'B2B Supply Chain' 'Games' 'Accomodation' 'Automotive tech' 'Legal tech'\n",
      " 'Mutual Funds' 'Cybersecurity' 'Automobile' 'Yoga & wellness'\n",
      " 'Virtual Banking' 'Transportation' 'Transport & Rentals'\n",
      " 'Marketing & Customer loyalty' 'Infratech' 'Hospitality'\n",
      " 'Automobile & Technology' 'Banking']\n"
     ]
    }
   ],
   "source": [
    "# Rename similar names in the 'Sector' column\n",
    "df_cleaned = rename_similar_names(df_2019, \"Sector\")\n",
    "\n",
    "#check of unique elements after renaming our columns\n",
    "print(df_cleaned[\"Sector\"].unique())"
   ]
  },
  {
   "cell_type": "code",
   "execution_count": null,
   "metadata": {},
   "outputs": [
    {
     "data": {
      "text/plain": [
       "Edtech                          7\n",
       "Fintech                         5\n",
       "nan                             5\n",
       "Ecommerce                       5\n",
       "AgriTech                        4\n",
       "Technology                      4\n",
       "SaaS                            4\n",
       "Foodtech                        4\n",
       "Health                          3\n",
       "Automobile                      3\n",
       "Logistics                       3\n",
       "E-marketplace                   2\n",
       "Accomodation                    2\n",
       "AI                              2\n",
       "Food                            2\n",
       "Sports                          2\n",
       "Automotive tech                 2\n",
       "IoT                             2\n",
       "Jewellery                       1\n",
       "Interior design                 1\n",
       "AI & Tech                       1\n",
       "HR tech                         1\n",
       "Safety tech                     1\n",
       "Pharmaceutical                  1\n",
       "Insurance technology            1\n",
       "Robotics & AI                   1\n",
       "Travel                          1\n",
       "Manufacturing                   1\n",
       "Food & Nutrition                1\n",
       "Cosmetics                       1\n",
       "B2B                             1\n",
       "Cybersecurity                   1\n",
       "B2B Supply Chain                1\n",
       "Social Media                    1\n",
       "Automobile & Technology         1\n",
       "Legal tech                      1\n",
       "Mutual Funds                    1\n",
       "Hospitality                     1\n",
       "Infratech                       1\n",
       "Marketing & Customer loyalty    1\n",
       "Transport & Rentals             1\n",
       "Yoga & wellness                 1\n",
       "Transportation                  1\n",
       "Virtual Banking                 1\n",
       "Games                           1\n",
       "Banking                         1\n",
       "Name: Sector, dtype: int64"
      ]
     },
     "execution_count": 88,
     "metadata": {},
     "output_type": "execute_result"
    }
   ],
   "source": [
    "# Count of unique elements in column after renaming columns\n",
    "df_cleaned[\"Sector\"].value_counts().sort_values(ascending=False)"
   ]
  },
  {
   "cell_type": "code",
   "execution_count": null,
   "metadata": {},
   "outputs": [
    {
     "data": {
      "text/plain": [
       "'Edtech'"
      ]
     },
     "execution_count": 89,
     "metadata": {},
     "output_type": "execute_result"
    }
   ],
   "source": [
    "#Calculate mode of the column\n",
    "mode_value = df_cleaned[\"Sector\"].mode().iloc[0]\n",
    "\n",
    "mode_value"
   ]
  },
  {
   "cell_type": "code",
   "execution_count": null,
   "metadata": {},
   "outputs": [
    {
     "data": {
      "text/html": [
       "<div>\n",
       "<style scoped>\n",
       "    .dataframe tbody tr th:only-of-type {\n",
       "        vertical-align: middle;\n",
       "    }\n",
       "\n",
       "    .dataframe tbody tr th {\n",
       "        vertical-align: top;\n",
       "    }\n",
       "\n",
       "    .dataframe thead th {\n",
       "        text-align: right;\n",
       "    }\n",
       "</style>\n",
       "<table border=\"1\" class=\"dataframe\">\n",
       "  <thead>\n",
       "    <tr style=\"text-align: right;\">\n",
       "      <th></th>\n",
       "      <th>Company/Brand</th>\n",
       "      <th>Founded</th>\n",
       "      <th>HeadQuarter</th>\n",
       "      <th>Sector</th>\n",
       "      <th>What it does</th>\n",
       "      <th>Founders</th>\n",
       "      <th>Investor</th>\n",
       "      <th>Amount($)</th>\n",
       "      <th>Stage</th>\n",
       "    </tr>\n",
       "  </thead>\n",
       "  <tbody>\n",
       "    <tr>\n",
       "      <th>39</th>\n",
       "      <td>Lil’ Goodness and sCool meal</td>\n",
       "      <td>2015.0</td>\n",
       "      <td>Bangalore</td>\n",
       "      <td>Food &amp; Nutrition</td>\n",
       "      <td>It empowers moms to provide the best of foods ...</td>\n",
       "      <td>NaN</td>\n",
       "      <td>Sajan Pillai, Muthu Krishnan,</td>\n",
       "      <td>$400,000</td>\n",
       "      <td>NaN</td>\n",
       "    </tr>\n",
       "    <tr>\n",
       "      <th>41</th>\n",
       "      <td>VMate</td>\n",
       "      <td>2015.0</td>\n",
       "      <td>Bangalore</td>\n",
       "      <td>nan</td>\n",
       "      <td>A short video platform</td>\n",
       "      <td>NaN</td>\n",
       "      <td>Alibaba</td>\n",
       "      <td>$100,000,000</td>\n",
       "      <td>NaN</td>\n",
       "    </tr>\n",
       "    <tr>\n",
       "      <th>71</th>\n",
       "      <td>Smart Institute</td>\n",
       "      <td>2015.0</td>\n",
       "      <td>Surat</td>\n",
       "      <td>Edtech</td>\n",
       "      <td>A platform to learn online</td>\n",
       "      <td>NaN</td>\n",
       "      <td>HNI investors</td>\n",
       "      <td>$1,500,000</td>\n",
       "      <td>NaN</td>\n",
       "    </tr>\n",
       "  </tbody>\n",
       "</table>\n",
       "</div>"
      ],
      "text/plain": [
       "                   Company/Brand  Founded HeadQuarter            Sector  \\\n",
       "39  Lil’ Goodness and sCool meal   2015.0   Bangalore  Food & Nutrition   \n",
       "41                         VMate   2015.0   Bangalore               nan   \n",
       "71               Smart Institute   2015.0       Surat            Edtech   \n",
       "\n",
       "                                         What it does Founders  \\\n",
       "39  It empowers moms to provide the best of foods ...      NaN   \n",
       "41                             A short video platform      NaN   \n",
       "71                         A platform to learn online      NaN   \n",
       "\n",
       "                         Investor     Amount($) Stage  \n",
       "39  Sajan Pillai, Muthu Krishnan,      $400,000   NaN  \n",
       "41                        Alibaba  $100,000,000   NaN  \n",
       "71                  HNI investors    $1,500,000   NaN  "
      ]
     },
     "execution_count": 90,
     "metadata": {},
     "output_type": "execute_result"
    }
   ],
   "source": [
    "#Let us clean 'Founders' column\n",
    "\n",
    "# View NaN values in 'Founders'\n",
    "nan_val = df_cleaned[df_cleaned[\"Founders\"].isna()]\n",
    "nan_val"
   ]
  },
  {
   "cell_type": "code",
   "execution_count": null,
   "metadata": {},
   "outputs": [
    {
     "data": {
      "text/plain": [
       "False"
      ]
     },
     "execution_count": 91,
     "metadata": {},
     "output_type": "execute_result"
    }
   ],
   "source": [
    "# Replace missing values with \"Unknown\" in the 'Founders' column\n",
    "df_cleaned['Founders'] = df_cleaned['Founders'].fillna(\"Unknown\")\n",
    "\n",
    "#Any missing values?\n",
    "#Let us confirm whether there are any NAN values after changes\n",
    "\n",
    "df_cleaned[\"Founders\"].isna().values.any()"
   ]
  },
  {
   "cell_type": "code",
   "execution_count": null,
   "metadata": {},
   "outputs": [
    {
     "data": {
      "text/plain": [
       "array([nan, 'Series C', 'Fresh funding', 'Series D', 'Pre series A',\n",
       "       'Series A', 'Series G', 'Series B', 'Post series A',\n",
       "       'Seed funding', 'Seed fund', 'Series E', 'Series F', 'Series B+',\n",
       "       'Seed round', 'Pre-series A'], dtype=object)"
      ]
     },
     "execution_count": 92,
     "metadata": {},
     "output_type": "execute_result"
    }
   ],
   "source": [
    "#Let us clean 'stage' colum\n",
    "#Column has inconsistencies\n",
    "\n",
    "df_cleaned['Stage'].unique()"
   ]
  },
  {
   "cell_type": "code",
   "execution_count": null,
   "metadata": {},
   "outputs": [
    {
     "name": "stdout",
     "output_type": "stream",
     "text": [
      "Count of missing values in stage column: 46\n"
     ]
    }
   ],
   "source": [
    "#Count of missing values in column 'Stage'\n",
    "\n",
    "missn_vals = df_cleaned[\"Stage\"].isna().sum()\n",
    "missn_vals \n",
    "\n",
    "print(\"Count of missing values in stage column:\",missn_vals)"
   ]
  },
  {
   "cell_type": "code",
   "execution_count": null,
   "metadata": {},
   "outputs": [],
   "source": [
    "#Replace the NaN values with 'Unknown':\n",
    "df_cleaned[\"Stage\"].fillna(\"Unknown\", inplace=True)"
   ]
  },
  {
   "cell_type": "code",
   "execution_count": null,
   "metadata": {},
   "outputs": [
    {
     "data": {
      "text/plain": [
       "False"
      ]
     },
     "execution_count": 95,
     "metadata": {},
     "output_type": "execute_result"
    }
   ],
   "source": [
    "#Any missing values?\n",
    "#confirm whether there are any NAN values (missing_values)\n",
    "df_cleaned[\"Stage\"].isna().values.any()"
   ]
  },
  {
   "cell_type": "code",
   "execution_count": null,
   "metadata": {},
   "outputs": [
    {
     "data": {
      "text/plain": [
       "Unknown          46\n",
       "Series A         10\n",
       "Pre series A      8\n",
       "Series B          8\n",
       "Series D          4\n",
       "Series C          3\n",
       "Fresh funding     1\n",
       "Series G          1\n",
       "Post series A     1\n",
       "Seed funding      1\n",
       "Seed fund         1\n",
       "Series E          1\n",
       "Series F          1\n",
       "Series B+         1\n",
       "Seed round        1\n",
       "Pre-series A      1\n",
       "Name: Stage, dtype: int64"
      ]
     },
     "execution_count": 96,
     "metadata": {},
     "output_type": "execute_result"
    }
   ],
   "source": [
    "#A look at categorical column 'stage' value distribution.\n",
    "\n",
    "df_cleaned[\"Stage\"].value_counts()"
   ]
  },
  {
   "cell_type": "code",
   "execution_count": null,
   "metadata": {},
   "outputs": [
    {
     "data": {
      "text/plain": [
       "Unknown          46\n",
       "Series A         10\n",
       "Pre series A      9\n",
       "Series B          8\n",
       "Series D          4\n",
       "Series C          3\n",
       "Seed              2\n",
       "Fresh funding     1\n",
       "Series G          1\n",
       "Post series A     1\n",
       "Series E          1\n",
       "Series F          1\n",
       "Series B+         1\n",
       "Seed round        1\n",
       "Name: Stage, dtype: int64"
      ]
     },
     "execution_count": 97,
     "metadata": {},
     "output_type": "execute_result"
    }
   ],
   "source": [
    "#Renaming category variables for consistency\n",
    "df_cleaned[\"Stage\"] = df_cleaned[\"Stage\"].replace({\"Pre-series A\":\"Pre series A\"})\n",
    "df_cleaned[\"Stage\"] = df_cleaned[\"Stage\"].replace({\"Seed fund\":\"Seed\"})\n",
    "df_cleaned[\"Stage\"] = df_cleaned[\"Stage\"].replace({\"Seed funding\":\"Seed\"})\n",
    "\n",
    "df_cleaned[\"Stage\"].value_counts()"
   ]
  },
  {
   "cell_type": "code",
   "execution_count": null,
   "metadata": {},
   "outputs": [
    {
     "data": {
      "text/plain": [
       "array(['$6,300,000', '$150,000,000', '$28,000,000', '$30,000,000',\n",
       "       '$6,000,000', 'Undisclosed', '$1,000,000', '$20,000,000',\n",
       "       '$275,000,000', '$22,000,000', '$5,000,000', '$140,500',\n",
       "       '$540,000,000', '$15,000,000', '$182,700', '$12,000,000',\n",
       "       '$11,000,000', '$15,500,000', '$1,500,000', '$5,500,000',\n",
       "       '$2,500,000', '$140,000', '$230,000,000', '$49,400,000',\n",
       "       '$32,000,000', '$26,000,000', '$150,000', '$400,000', '$2,000,000',\n",
       "       '$100,000,000', '$8,000,000', '$100,000', '$50,000,000',\n",
       "       '$120,000,000', '$4,000,000', '$6,800,000', '$36,000,000',\n",
       "       '$5,700,000', '$25,000,000', '$600,000', '$70,000,000',\n",
       "       '$60,000,000', '$220,000', '$2,800,000', '$2,100,000',\n",
       "       '$7,000,000', '$311,000,000', '$4,800,000', '$693,000,000',\n",
       "       '$33,000,000'], dtype=object)"
      ]
     },
     "execution_count": 98,
     "metadata": {},
     "output_type": "execute_result"
    }
   ],
   "source": [
    "df_2019['Amount($)'].unique()"
   ]
  },
  {
   "cell_type": "code",
   "execution_count": null,
   "metadata": {},
   "outputs": [
    {
     "data": {
      "text/plain": [
       "0       $6,300,000\n",
       "1     $150,000,000\n",
       "2      $28,000,000\n",
       "3      $30,000,000\n",
       "4       $6,000,000\n",
       "          ...     \n",
       "84     $20,000,000\n",
       "85    $693,000,000\n",
       "86      $5,000,000\n",
       "87     $50,000,000\n",
       "88     $33,000,000\n",
       "Name: Amount($), Length: 89, dtype: object"
      ]
     },
     "execution_count": 99,
     "metadata": {},
     "output_type": "execute_result"
    }
   ],
   "source": [
    "df_2019['Amount($)']"
   ]
  },
  {
   "cell_type": "code",
   "execution_count": null,
   "metadata": {},
   "outputs": [
    {
     "data": {
      "text/html": [
       "<div>\n",
       "<style scoped>\n",
       "    .dataframe tbody tr th:only-of-type {\n",
       "        vertical-align: middle;\n",
       "    }\n",
       "\n",
       "    .dataframe tbody tr th {\n",
       "        vertical-align: top;\n",
       "    }\n",
       "\n",
       "    .dataframe thead th {\n",
       "        text-align: right;\n",
       "    }\n",
       "</style>\n",
       "<table border=\"1\" class=\"dataframe\">\n",
       "  <thead>\n",
       "    <tr style=\"text-align: right;\">\n",
       "      <th></th>\n",
       "      <th>Company/Brand</th>\n",
       "      <th>Founded</th>\n",
       "      <th>HeadQuarter</th>\n",
       "      <th>Sector</th>\n",
       "      <th>What it does</th>\n",
       "      <th>Founders</th>\n",
       "      <th>Investor</th>\n",
       "      <th>Amount($)</th>\n",
       "      <th>Stage</th>\n",
       "    </tr>\n",
       "  </thead>\n",
       "  <tbody>\n",
       "    <tr>\n",
       "      <th>0</th>\n",
       "      <td>Bombay Shaving</td>\n",
       "      <td>2015.0</td>\n",
       "      <td>Bangalore</td>\n",
       "      <td>Ecommerce</td>\n",
       "      <td>Provides a range of male grooming products</td>\n",
       "      <td>Shantanu Deshpande</td>\n",
       "      <td>Sixth Sense Ventures</td>\n",
       "      <td>$6,300,000</td>\n",
       "      <td>NaN</td>\n",
       "    </tr>\n",
       "    <tr>\n",
       "      <th>1</th>\n",
       "      <td>Ruangguru</td>\n",
       "      <td>2014.0</td>\n",
       "      <td>Mumbai</td>\n",
       "      <td>Edtech</td>\n",
       "      <td>A learning platform that provides topic-based ...</td>\n",
       "      <td>Adamas Belva Syah Devara, Iman Usman.</td>\n",
       "      <td>General Atlantic</td>\n",
       "      <td>$150,000,000</td>\n",
       "      <td>Series C</td>\n",
       "    </tr>\n",
       "    <tr>\n",
       "      <th>2</th>\n",
       "      <td>Eduisfun</td>\n",
       "      <td>2015.0</td>\n",
       "      <td>Mumbai</td>\n",
       "      <td>Edtech</td>\n",
       "      <td>It aims to make learning fun via games.</td>\n",
       "      <td>Jatin Solanki</td>\n",
       "      <td>Deepak Parekh, Amitabh Bachchan, Piyush Pandey</td>\n",
       "      <td>$28,000,000</td>\n",
       "      <td>Fresh funding</td>\n",
       "    </tr>\n",
       "    <tr>\n",
       "      <th>3</th>\n",
       "      <td>HomeLane</td>\n",
       "      <td>2014.0</td>\n",
       "      <td>Chennai</td>\n",
       "      <td>Interior design</td>\n",
       "      <td>Provides interior designing solutions</td>\n",
       "      <td>Srikanth Iyer, Rama Harinath</td>\n",
       "      <td>Evolvence India Fund (EIF), Pidilite Group, FJ...</td>\n",
       "      <td>$30,000,000</td>\n",
       "      <td>Series D</td>\n",
       "    </tr>\n",
       "    <tr>\n",
       "      <th>4</th>\n",
       "      <td>Nu Genes</td>\n",
       "      <td>2004.0</td>\n",
       "      <td>Telangana</td>\n",
       "      <td>AgriTech</td>\n",
       "      <td>It is a seed company engaged in production, pr...</td>\n",
       "      <td>Narayana Reddy Punyala</td>\n",
       "      <td>Innovation in Food and Agriculture (IFA)</td>\n",
       "      <td>$6,000,000</td>\n",
       "      <td>NaN</td>\n",
       "    </tr>\n",
       "  </tbody>\n",
       "</table>\n",
       "</div>"
      ],
      "text/plain": [
       "    Company/Brand  Founded HeadQuarter           Sector  \\\n",
       "0  Bombay Shaving   2015.0   Bangalore        Ecommerce   \n",
       "1       Ruangguru   2014.0      Mumbai           Edtech   \n",
       "2        Eduisfun   2015.0      Mumbai           Edtech   \n",
       "3        HomeLane   2014.0     Chennai  Interior design   \n",
       "4        Nu Genes   2004.0   Telangana         AgriTech   \n",
       "\n",
       "                                        What it does  \\\n",
       "0         Provides a range of male grooming products   \n",
       "1  A learning platform that provides topic-based ...   \n",
       "2            It aims to make learning fun via games.   \n",
       "3              Provides interior designing solutions   \n",
       "4  It is a seed company engaged in production, pr...   \n",
       "\n",
       "                                Founders  \\\n",
       "0                     Shantanu Deshpande   \n",
       "1  Adamas Belva Syah Devara, Iman Usman.   \n",
       "2                          Jatin Solanki   \n",
       "3           Srikanth Iyer, Rama Harinath   \n",
       "4                 Narayana Reddy Punyala   \n",
       "\n",
       "                                            Investor     Amount($)  \\\n",
       "0                               Sixth Sense Ventures    $6,300,000   \n",
       "1                                   General Atlantic  $150,000,000   \n",
       "2     Deepak Parekh, Amitabh Bachchan, Piyush Pandey   $28,000,000   \n",
       "3  Evolvence India Fund (EIF), Pidilite Group, FJ...   $30,000,000   \n",
       "4           Innovation in Food and Agriculture (IFA)    $6,000,000   \n",
       "\n",
       "           Stage  \n",
       "0            NaN  \n",
       "1       Series C  \n",
       "2  Fresh funding  \n",
       "3       Series D  \n",
       "4            NaN  "
      ]
     },
     "execution_count": 100,
     "metadata": {},
     "output_type": "execute_result"
    }
   ],
   "source": [
    "df_2019.head(5)"
   ]
  },
  {
   "cell_type": "code",
   "execution_count": null,
   "metadata": {},
   "outputs": [
    {
     "data": {
      "text/plain": [
       "0      6300000\n",
       "1    150000000\n",
       "2     28000000\n",
       "3     30000000\n",
       "4      6000000\n",
       "Name: Amount($), dtype: object"
      ]
     },
     "execution_count": 101,
     "metadata": {},
     "output_type": "execute_result"
    }
   ],
   "source": [
    "\n",
    "\n",
    "#Handing inconsistencies in 'Amount' column\n",
    "\n",
    "# Remove dollar sign, and convert the \"amount\" column from integer to float\n",
    "\n",
    "df_2019['Amount($)'] = df_2019['Amount($)'].str.replace('[$,]', '', regex=True)\n",
    "#Replace \"undisclosed\" with NaN\n",
    "\n",
    "df_2019['Amount($)'] = df_2019['Amount($)'].replace('Undisclosed', np.nan)\n",
    "\n",
    "\n",
    "\n",
    "\n",
    "#Preview of modified 'Amount' column\n",
    "\n",
    "\n",
    "\n",
    "\n",
    "df_2019['Amount($)'].head()\n",
    "\n",
    "\n",
    "\n"
   ]
  },
  {
   "cell_type": "code",
   "execution_count": null,
   "metadata": {},
   "outputs": [
    {
     "data": {
      "text/plain": [
       "0       6300000.0\n",
       "1     150000000.0\n",
       "2      28000000.0\n",
       "3      30000000.0\n",
       "4       6000000.0\n",
       "         ...     \n",
       "84     20000000.0\n",
       "85    693000000.0\n",
       "86      5000000.0\n",
       "87     50000000.0\n",
       "88     33000000.0\n",
       "Name: Amount($), Length: 89, dtype: float64"
      ]
     },
     "execution_count": 102,
     "metadata": {},
     "output_type": "execute_result"
    }
   ],
   "source": [
    "#changing object into float \n",
    "df_2019['Amount($)'].astype('float64')"
   ]
  },
  {
   "cell_type": "code",
   "execution_count": null,
   "metadata": {},
   "outputs": [
    {
     "data": {
      "text/plain": [
       "12"
      ]
     },
     "execution_count": 103,
     "metadata": {},
     "output_type": "execute_result"
    }
   ],
   "source": [
    "#count of null value in the Amount column \n",
    "df_2019['Amount($)'].isnull().sum()"
   ]
  },
  {
   "cell_type": "code",
   "execution_count": null,
   "metadata": {},
   "outputs": [
    {
     "data": {
      "text/plain": [
       "6000000.0"
      ]
     },
     "execution_count": 104,
     "metadata": {},
     "output_type": "execute_result"
    }
   ],
   "source": [
    "#Convert the column to numeric, coercing non-numeric values to NaN:\n",
    "\n",
    "#pd.to_numeric() converts values to float\n",
    "\n",
    "\n",
    "\n",
    "\n",
    "df_2019[\"Amount($)\"] = pd.to_numeric(df_2019[\"Amount($)\"], errors='coerce')\n",
    "\n",
    "\n",
    "\n",
    "\n",
    "#Calculate the median of the column, ignoring the NaN values:\n",
    "\n",
    "median_value = df_2019[\"Amount($)\"].median(skipna=True)\n",
    "\n",
    "\n",
    "\n",
    "\n",
    "median_value"
   ]
  },
  {
   "cell_type": "code",
   "execution_count": null,
   "metadata": {},
   "outputs": [
    {
     "name": "stdout",
     "output_type": "stream",
     "text": [
      "Count of non-NA elements in Amount column: 77\n"
     ]
    }
   ],
   "source": [
    "#let us confirm count of Non-NA elements in column the 'amount'\n",
    "\n",
    "#DataFrame.count() method returns count of non-Non-NA/null entries\n",
    "\n",
    "\n",
    "\n",
    "\n",
    "Non_NA = df_2019[\"Amount($)\"].count()\n",
    "\n",
    "\n",
    "\n",
    "\n",
    "print(\"Count of non-NA elements in Amount column:\",Non_NA)"
   ]
  },
  {
   "cell_type": "code",
   "execution_count": null,
   "metadata": {},
   "outputs": [],
   "source": [
    "#Replace the NaN values with the calculated median:\n",
    "\n",
    "df_2019[\"Amount($)\"].fillna(median_value, inplace=True)"
   ]
  },
  {
   "cell_type": "code",
   "execution_count": null,
   "metadata": {},
   "outputs": [
    {
     "data": {
      "text/plain": [
       "False"
      ]
     },
     "execution_count": 107,
     "metadata": {},
     "output_type": "execute_result"
    }
   ],
   "source": [
    "#confirm whether there are any NAN values (missing_values)\n",
    "\n",
    "df_2019[\"Amount($)\"].isna().values.any()"
   ]
  },
  {
   "cell_type": "code",
   "execution_count": null,
   "metadata": {},
   "outputs": [
    {
     "data": {
      "text/html": [
       "<div>\n",
       "<style scoped>\n",
       "    .dataframe tbody tr th:only-of-type {\n",
       "        vertical-align: middle;\n",
       "    }\n",
       "\n",
       "    .dataframe tbody tr th {\n",
       "        vertical-align: top;\n",
       "    }\n",
       "\n",
       "    .dataframe thead th {\n",
       "        text-align: right;\n",
       "    }\n",
       "</style>\n",
       "<table border=\"1\" class=\"dataframe\">\n",
       "  <thead>\n",
       "    <tr style=\"text-align: right;\">\n",
       "      <th></th>\n",
       "      <th>Company/Brand</th>\n",
       "      <th>Founded</th>\n",
       "      <th>HeadQuarter</th>\n",
       "      <th>Sector</th>\n",
       "      <th>What it does</th>\n",
       "      <th>Founders</th>\n",
       "      <th>Investor</th>\n",
       "      <th>Amount($)</th>\n",
       "      <th>Stage</th>\n",
       "    </tr>\n",
       "  </thead>\n",
       "  <tbody>\n",
       "    <tr>\n",
       "      <th>0</th>\n",
       "      <td>Bombay Shaving</td>\n",
       "      <td>2015.0</td>\n",
       "      <td>Bangalore</td>\n",
       "      <td>Ecommerce</td>\n",
       "      <td>Provides a range of male grooming products</td>\n",
       "      <td>Shantanu Deshpande</td>\n",
       "      <td>Sixth Sense Ventures</td>\n",
       "      <td>6300000.0</td>\n",
       "      <td>NaN</td>\n",
       "    </tr>\n",
       "    <tr>\n",
       "      <th>1</th>\n",
       "      <td>Ruangguru</td>\n",
       "      <td>2014.0</td>\n",
       "      <td>Mumbai</td>\n",
       "      <td>Edtech</td>\n",
       "      <td>A learning platform that provides topic-based ...</td>\n",
       "      <td>Adamas Belva Syah Devara, Iman Usman.</td>\n",
       "      <td>General Atlantic</td>\n",
       "      <td>150000000.0</td>\n",
       "      <td>Series C</td>\n",
       "    </tr>\n",
       "    <tr>\n",
       "      <th>2</th>\n",
       "      <td>Eduisfun</td>\n",
       "      <td>2015.0</td>\n",
       "      <td>Mumbai</td>\n",
       "      <td>Edtech</td>\n",
       "      <td>It aims to make learning fun via games.</td>\n",
       "      <td>Jatin Solanki</td>\n",
       "      <td>Deepak Parekh, Amitabh Bachchan, Piyush Pandey</td>\n",
       "      <td>28000000.0</td>\n",
       "      <td>Fresh funding</td>\n",
       "    </tr>\n",
       "  </tbody>\n",
       "</table>\n",
       "</div>"
      ],
      "text/plain": [
       "    Company/Brand  Founded HeadQuarter     Sector  \\\n",
       "0  Bombay Shaving   2015.0   Bangalore  Ecommerce   \n",
       "1       Ruangguru   2014.0      Mumbai     Edtech   \n",
       "2        Eduisfun   2015.0      Mumbai     Edtech   \n",
       "\n",
       "                                        What it does  \\\n",
       "0         Provides a range of male grooming products   \n",
       "1  A learning platform that provides topic-based ...   \n",
       "2            It aims to make learning fun via games.   \n",
       "\n",
       "                                Founders  \\\n",
       "0                     Shantanu Deshpande   \n",
       "1  Adamas Belva Syah Devara, Iman Usman.   \n",
       "2                          Jatin Solanki   \n",
       "\n",
       "                                         Investor    Amount($)          Stage  \n",
       "0                            Sixth Sense Ventures    6300000.0            NaN  \n",
       "1                                General Atlantic  150000000.0       Series C  \n",
       "2  Deepak Parekh, Amitabh Bachchan, Piyush Pandey   28000000.0  Fresh funding  "
      ]
     },
     "execution_count": 108,
     "metadata": {},
     "output_type": "execute_result"
    }
   ],
   "source": [
    "df_2019.head(3)"
   ]
  },
  {
   "cell_type": "code",
   "execution_count": null,
   "metadata": {},
   "outputs": [],
   "source": [
    "df_2019.to_csv('data_claning_2019.csv', index = False)"
   ]
  },
  {
   "cell_type": "code",
   "execution_count": null,
   "metadata": {},
   "outputs": [
    {
     "data": {
      "text/html": [
       "<div>\n",
       "<style scoped>\n",
       "    .dataframe tbody tr th:only-of-type {\n",
       "        vertical-align: middle;\n",
       "    }\n",
       "\n",
       "    .dataframe tbody tr th {\n",
       "        vertical-align: top;\n",
       "    }\n",
       "\n",
       "    .dataframe thead th {\n",
       "        text-align: right;\n",
       "    }\n",
       "</style>\n",
       "<table border=\"1\" class=\"dataframe\">\n",
       "  <thead>\n",
       "    <tr style=\"text-align: right;\">\n",
       "      <th></th>\n",
       "      <th>Company_Brand</th>\n",
       "      <th>Founded</th>\n",
       "      <th>HeadQuarter</th>\n",
       "      <th>Sector</th>\n",
       "      <th>What_it_does</th>\n",
       "      <th>Founders</th>\n",
       "      <th>Investor</th>\n",
       "      <th>Amount</th>\n",
       "      <th>Stage</th>\n",
       "      <th>column10</th>\n",
       "    </tr>\n",
       "  </thead>\n",
       "  <tbody>\n",
       "    <tr>\n",
       "      <th>0</th>\n",
       "      <td>Aqgromalin</td>\n",
       "      <td>2019.0</td>\n",
       "      <td>Chennai</td>\n",
       "      <td>AgriTech</td>\n",
       "      <td>Cultivating Ideas for Profit</td>\n",
       "      <td>Prasanna Manogaran, Bharani C L</td>\n",
       "      <td>Angel investors</td>\n",
       "      <td>200000.0</td>\n",
       "      <td>NaN</td>\n",
       "      <td>NaN</td>\n",
       "    </tr>\n",
       "    <tr>\n",
       "      <th>1</th>\n",
       "      <td>Krayonnz</td>\n",
       "      <td>2019.0</td>\n",
       "      <td>Bangalore</td>\n",
       "      <td>EdTech</td>\n",
       "      <td>An academy-guardian-scholar centric ecosystem ...</td>\n",
       "      <td>Saurabh Dixit, Gurudutt Upadhyay</td>\n",
       "      <td>GSF Accelerator</td>\n",
       "      <td>100000.0</td>\n",
       "      <td>Pre-seed</td>\n",
       "      <td>NaN</td>\n",
       "    </tr>\n",
       "    <tr>\n",
       "      <th>2</th>\n",
       "      <td>PadCare Labs</td>\n",
       "      <td>2018.0</td>\n",
       "      <td>Pune</td>\n",
       "      <td>Hygiene management</td>\n",
       "      <td>Converting bio-hazardous waste to harmless waste</td>\n",
       "      <td>Ajinkya Dhariya</td>\n",
       "      <td>Venture Center</td>\n",
       "      <td>NaN</td>\n",
       "      <td>Pre-seed</td>\n",
       "      <td>NaN</td>\n",
       "    </tr>\n",
       "    <tr>\n",
       "      <th>3</th>\n",
       "      <td>NCOME</td>\n",
       "      <td>2020.0</td>\n",
       "      <td>New Delhi</td>\n",
       "      <td>Escrow</td>\n",
       "      <td>Escrow-as-a-service platform</td>\n",
       "      <td>Ritesh Tiwari</td>\n",
       "      <td>Venture Catalysts, PointOne Capital</td>\n",
       "      <td>400000.0</td>\n",
       "      <td>NaN</td>\n",
       "      <td>NaN</td>\n",
       "    </tr>\n",
       "    <tr>\n",
       "      <th>4</th>\n",
       "      <td>Gramophone</td>\n",
       "      <td>2016.0</td>\n",
       "      <td>Indore</td>\n",
       "      <td>AgriTech</td>\n",
       "      <td>Gramophone is an AgTech platform enabling acce...</td>\n",
       "      <td>Ashish Rajan Singh, Harshit Gupta, Nishant Mah...</td>\n",
       "      <td>Siana Capital Management, Info Edge</td>\n",
       "      <td>340000.0</td>\n",
       "      <td>NaN</td>\n",
       "      <td>NaN</td>\n",
       "    </tr>\n",
       "  </tbody>\n",
       "</table>\n",
       "</div>"
      ],
      "text/plain": [
       "  Company_Brand  Founded HeadQuarter              Sector  \\\n",
       "0    Aqgromalin   2019.0     Chennai            AgriTech   \n",
       "1      Krayonnz   2019.0   Bangalore              EdTech   \n",
       "2  PadCare Labs   2018.0        Pune  Hygiene management   \n",
       "3         NCOME   2020.0   New Delhi              Escrow   \n",
       "4    Gramophone   2016.0      Indore            AgriTech   \n",
       "\n",
       "                                        What_it_does  \\\n",
       "0                       Cultivating Ideas for Profit   \n",
       "1  An academy-guardian-scholar centric ecosystem ...   \n",
       "2   Converting bio-hazardous waste to harmless waste   \n",
       "3                       Escrow-as-a-service platform   \n",
       "4  Gramophone is an AgTech platform enabling acce...   \n",
       "\n",
       "                                            Founders  \\\n",
       "0                    Prasanna Manogaran, Bharani C L   \n",
       "1                   Saurabh Dixit, Gurudutt Upadhyay   \n",
       "2                                    Ajinkya Dhariya   \n",
       "3                                      Ritesh Tiwari   \n",
       "4  Ashish Rajan Singh, Harshit Gupta, Nishant Mah...   \n",
       "\n",
       "                              Investor    Amount     Stage column10  \n",
       "0                      Angel investors  200000.0       NaN      NaN  \n",
       "1                      GSF Accelerator  100000.0  Pre-seed      NaN  \n",
       "2                       Venture Center       NaN  Pre-seed      NaN  \n",
       "3  Venture Catalysts, PointOne Capital  400000.0       NaN      NaN  \n",
       "4  Siana Capital Management, Info Edge  340000.0       NaN      NaN  "
      ]
     },
     "execution_count": 110,
     "metadata": {},
     "output_type": "execute_result"
    }
   ],
   "source": [
    "#loading 2020 data\n",
    "df_2020= pd.read_csv('startup_function2020.csv')\n",
    "df_2020.head(5)"
   ]
  },
  {
   "cell_type": "code",
   "execution_count": null,
   "metadata": {},
   "outputs": [
    {
     "name": "stdout",
     "output_type": "stream",
     "text": [
      "<class 'pandas.core.frame.DataFrame'>\n",
      "RangeIndex: 1055 entries, 0 to 1054\n",
      "Data columns (total 10 columns):\n",
      " #   Column         Non-Null Count  Dtype  \n",
      "---  ------         --------------  -----  \n",
      " 0   Company_Brand  1055 non-null   object \n",
      " 1   Founded        842 non-null    float64\n",
      " 2   HeadQuarter    961 non-null    object \n",
      " 3   Sector         1042 non-null   object \n",
      " 4   What_it_does   1055 non-null   object \n",
      " 5   Founders       1043 non-null   object \n",
      " 6   Investor       1017 non-null   object \n",
      " 7   Amount         801 non-null    float64\n",
      " 8   Stage          591 non-null    object \n",
      " 9   column10       2 non-null      object \n",
      "dtypes: float64(2), object(8)\n",
      "memory usage: 82.5+ KB\n"
     ]
    }
   ],
   "source": [
    "df_2020.info()"
   ]
  },
  {
   "cell_type": "code",
   "execution_count": null,
   "metadata": {},
   "outputs": [
    {
     "name": "stdout",
     "output_type": "stream",
     "text": [
      "<class 'pandas.core.frame.DataFrame'>\n",
      "RangeIndex: 1055 entries, 0 to 1054\n",
      "Data columns (total 9 columns):\n",
      " #   Column         Non-Null Count  Dtype  \n",
      "---  ------         --------------  -----  \n",
      " 0   Company_Brand  1055 non-null   object \n",
      " 1   Founded        842 non-null    float64\n",
      " 2   HeadQuarter    961 non-null    object \n",
      " 3   Sector         1042 non-null   object \n",
      " 4   What_it_does   1055 non-null   object \n",
      " 5   Founders       1043 non-null   object \n",
      " 6   Investor       1017 non-null   object \n",
      " 7   Amount         801 non-null    float64\n",
      " 8   Stage          591 non-null    object \n",
      "dtypes: float64(2), object(7)\n",
      "memory usage: 74.3+ KB\n"
     ]
    }
   ],
   "source": [
    "# drop 'column10' from the dataset\n",
    "df_2020=df_2020.drop('column10', axis=1)\n",
    "df_2020.info()"
   ]
  },
  {
   "cell_type": "code",
   "execution_count": null,
   "metadata": {},
   "outputs": [
    {
     "data": {
      "text/plain": [
       "count     842.000000\n",
       "mean     2015.363420\n",
       "std         4.097909\n",
       "min      1973.000000\n",
       "25%      2014.000000\n",
       "50%      2016.000000\n",
       "75%      2018.000000\n",
       "max      2020.000000\n",
       "Name: Founded, dtype: float64"
      ]
     },
     "execution_count": 113,
     "metadata": {},
     "output_type": "execute_result"
    }
   ],
   "source": [
    "df_2020['Founded'].describe()"
   ]
  },
  {
   "cell_type": "code",
   "execution_count": null,
   "metadata": {},
   "outputs": [],
   "source": [
    "imputer=SimpleImputer(strategy='median')"
   ]
  },
  {
   "cell_type": "code",
   "execution_count": null,
   "metadata": {},
   "outputs": [
    {
     "data": {
      "text/plain": [
       "array([[2019.],\n",
       "       [2019.],\n",
       "       [2018.],\n",
       "       ...,\n",
       "       [2012.],\n",
       "       [2015.],\n",
       "       [2017.]])"
      ]
     },
     "execution_count": 115,
     "metadata": {},
     "output_type": "execute_result"
    }
   ],
   "source": [
    "imputer.fit_transform(df_2020[['Founded']])"
   ]
  },
  {
   "cell_type": "code",
   "execution_count": null,
   "metadata": {},
   "outputs": [
    {
     "data": {
      "text/plain": [
       "Company_Brand      0\n",
       "Founded            0\n",
       "HeadQuarter       94\n",
       "Sector            13\n",
       "What_it_does       0\n",
       "Founders          12\n",
       "Investor          38\n",
       "Amount           254\n",
       "Stage            464\n",
       "dtype: int64"
      ]
     },
     "execution_count": 116,
     "metadata": {},
     "output_type": "execute_result"
    }
   ],
   "source": [
    "median_value=df_2020['Founded'].median()\n",
    "df_2020['Founded'].fillna(median_value, inplace=True)\n",
    "df_2020.isnull().sum()"
   ]
  },
  {
   "cell_type": "code",
   "execution_count": null,
   "metadata": {},
   "outputs": [
    {
     "name": "stdout",
     "output_type": "stream",
     "text": [
      "int32\n"
     ]
    }
   ],
   "source": [
    "# convert 'Founded' data type from float to integer\n",
    "#check to confirm data type\n",
    "\n",
    "df_2020['Founded']=df_2020['Founded'].astype(int)\n",
    "\n",
    "column_dtype=df_2020['Founded'].dtype\n",
    "print(column_dtype)"
   ]
  },
  {
   "cell_type": "code",
   "execution_count": null,
   "metadata": {},
   "outputs": [
    {
     "data": {
      "text/plain": [
       "array([2019, 2018, 2020, 2016, 2008, 2015, 2017, 2014, 1998, 2007, 2011,\n",
       "       1982, 2013, 2009, 2012, 1995, 2010, 2006, 1978, 1999, 1994, 2005,\n",
       "       1973, 2002, 2004, 2001])"
      ]
     },
     "execution_count": 118,
     "metadata": {},
     "output_type": "execute_result"
    }
   ],
   "source": [
    "#check unique characters in 'Founded'\n",
    "df_2020['Founded'].unique()"
   ]
  },
  {
   "cell_type": "code",
   "execution_count": null,
   "metadata": {},
   "outputs": [
    {
     "data": {
      "text/plain": [
       "array(['Chennai', 'Bangalore', 'Pune', 'New Delhi', 'Indore', 'Hyderabad',\n",
       "       'Gurgaon', 'Belgaum', 'Noida', 'Mumbai', 'Andheri', 'Jaipur',\n",
       "       'Ahmedabad', 'Kolkata', 'Tirunelveli, Tamilnadu', 'Thane', nan,\n",
       "       'Singapore', 'Gurugram', 'Gujarat', 'Haryana', 'Kerala', 'Jodhpur',\n",
       "       'Jaipur, Rajastan', 'Delhi', 'Frisco, Texas, United States',\n",
       "       'California', 'Dhingsara, Haryana', 'New York, United States',\n",
       "       'Patna', 'San Francisco, California, United States',\n",
       "       'San Francisco, United States', 'San Ramon, California',\n",
       "       'Paris, Ile-de-France, France', 'Plano, Texas, United States',\n",
       "       'Sydney', 'San Francisco Bay Area, Silicon Valley, West Coast',\n",
       "       'Bangaldesh', 'London, England, United Kingdom',\n",
       "       'Sydney, New South Wales, Australia', 'Milano, Lombardia, Italy',\n",
       "       'Palmwoods, Queensland, Australia', 'France',\n",
       "       'San Francisco Bay Area, West Coast, Western US',\n",
       "       'Trivandrum, Kerala, India', 'Cochin', 'Samastipur, Bihar',\n",
       "       'Irvine, California, United States', 'Tumkur, Karnataka',\n",
       "       'Newcastle Upon Tyne, Newcastle upon Tyne, United Kingdom',\n",
       "       'Shanghai, China', 'Jiaxing, Zhejiang, China', 'Rajastan', 'Kochi',\n",
       "       'Ludhiana', 'Dehradun', 'San Franciscao', 'San Francisco',\n",
       "       'Tangerang, Jawa Barat, Indonesia', 'Berlin', 'Seattle', 'Riyadh',\n",
       "       'Seoul', 'New York', 'Bangkok', 'Kanpur', 'Chandigarh', 'Warangal',\n",
       "       'Hyderebad', 'Odisha', 'Bihar', 'Goa', 'Tamil Nadu',\n",
       "       'Uttar Pradesh', 'Bhopal', 'Banglore', 'Coimbatore', 'Bengaluru'],\n",
       "      dtype=object)"
      ]
     },
     "execution_count": 119,
     "metadata": {},
     "output_type": "execute_result"
    }
   ],
   "source": [
    "#check unique characters in 'HeadQuarter'\n",
    "df_2020['HeadQuarter'].unique()"
   ]
  },
  {
   "cell_type": "code",
   "execution_count": null,
   "metadata": {},
   "outputs": [
    {
     "data": {
      "text/plain": [
       "77"
      ]
     },
     "execution_count": 120,
     "metadata": {},
     "output_type": "execute_result"
    }
   ],
   "source": [
    "unique_chars_count=df_2020['HeadQuarter'].nunique()\n",
    "unique_chars_count"
   ]
  },
  {
   "cell_type": "code",
   "execution_count": null,
   "metadata": {},
   "outputs": [],
   "source": [
    "#maintain first word before comma in the HeadQuarter column\n",
    "df_2020[\"HeadQuarter\"]=df_2020['HeadQuarter'].apply(str)\n",
    "df_2020['HeadQuarter']=df_2020['HeadQuarter'].str.split(',').str[0]\n",
    "df_2020['HeadQuarter']=df_2020['HeadQuarter'].replace(\"'\",\"\",regex=True)"
   ]
  },
  {
   "cell_type": "code",
   "execution_count": null,
   "metadata": {},
   "outputs": [
    {
     "data": {
      "text/plain": [
       "array(['Chennai', 'Bangalore', 'Pune', 'New Delhi', 'Indore', 'Hyderabad',\n",
       "       'Gurgaon', 'Belgaum', 'Noida', 'Mumbai', 'Andheri', 'Jaipur',\n",
       "       'Ahmedabad', 'Kolkata', 'Tirunelveli', 'Thane', 'nan', 'Singapore',\n",
       "       'Gurugram', 'Gujarat', 'Haryana', 'Kerala', 'Jodhpur', 'Delhi',\n",
       "       'Frisco', 'California', 'Dhingsara', 'New York', 'Patna',\n",
       "       'San Francisco', 'San Ramon', 'Paris', 'Plano', 'Sydney',\n",
       "       'San Francisco Bay Area', 'Bangaldesh', 'London', 'Milano',\n",
       "       'Palmwoods', 'France', 'Trivandrum', 'Cochin', 'Samastipur',\n",
       "       'Irvine', 'Tumkur', 'Newcastle Upon Tyne', 'Shanghai', 'Jiaxing',\n",
       "       'Rajastan', 'Kochi', 'Ludhiana', 'Dehradun', 'San Franciscao',\n",
       "       'Tangerang', 'Berlin', 'Seattle', 'Riyadh', 'Seoul', 'Bangkok',\n",
       "       'Kanpur', 'Chandigarh', 'Warangal', 'Hyderebad', 'Odisha', 'Bihar',\n",
       "       'Goa', 'Tamil Nadu', 'Uttar Pradesh', 'Bhopal', 'Banglore',\n",
       "       'Coimbatore', 'Bengaluru'], dtype=object)"
      ]
     },
     "execution_count": 122,
     "metadata": {},
     "output_type": "execute_result"
    }
   ],
   "source": [
    "df_2020['HeadQuarter'].unique()"
   ]
  },
  {
   "cell_type": "code",
   "execution_count": null,
   "metadata": {},
   "outputs": [
    {
     "data": {
      "text/plain": [
       "72"
      ]
     },
     "execution_count": 123,
     "metadata": {},
     "output_type": "execute_result"
    }
   ],
   "source": [
    "unique_chars_count=df_2020['HeadQuarter'].nunique()\n",
    "unique_chars_count"
   ]
  },
  {
   "cell_type": "code",
   "execution_count": null,
   "metadata": {},
   "outputs": [
    {
     "data": {
      "text/plain": [
       "array(['Chennai', 'Bangalore', 'Pune', 'New Delhi', 'Indore', 'Hyderabad',\n",
       "       'Gurgaon', 'Belgaum', 'Noida', 'Mumbai', 'Andheri', 'Jaipur',\n",
       "       'Ahmedabad', 'Kolkata', 'Tirunelveli', 'Thane', 'nan', 'Singapore',\n",
       "       'Gurugram', 'Gujarat', 'Haryana', 'Kerala', 'Jodhpur', 'Delhi',\n",
       "       'Frisco', 'California', 'Dhingsara', 'New York', 'Patna',\n",
       "       'San Francisco', 'San Ramon', 'Paris', 'Plano', 'Sydney',\n",
       "       'Bangaldesh', 'London', 'Milano', 'Palmwoods', 'France',\n",
       "       'Trivandrum', 'Cochin', 'Samastipur', 'Irvine', 'Tumkur',\n",
       "       'Newcastle', 'Shanghai', 'Jiaxing', 'Rajastan', 'Kochi',\n",
       "       'Ludhiana', 'Dehradun', 'Tangerang', 'Berlin', 'Seattle', 'Riyadh',\n",
       "       'Seoul', 'Bangkok', 'Kanpur', 'Chandigarh', 'Warangal',\n",
       "       'Hyderebad', 'Odisha', 'Bihar', 'Goa', 'Tamil Nadu',\n",
       "       'Uttar Pradesh', 'Bhopal', 'Coimbatore'], dtype=object)"
      ]
     },
     "execution_count": 124,
     "metadata": {},
     "output_type": "execute_result"
    }
   ],
   "source": [
    "#rename similar cities and country names\n",
    "#replace specific values in column 'HeadQuarter'\n",
    "\n",
    "df_2020['HeadQuarter']=df_2020['HeadQuarter'].replace({'Bengaluru':'Bangalore', 'San Francisco Bay Area':'San Francisco','Banglore':'Bangalore','San Franciscao':'San Francisco','Newcastle Upon Tyne':'Newcastle'})\n",
    "df_2020['HeadQuarter'].unique()"
   ]
  },
  {
   "cell_type": "code",
   "execution_count": null,
   "metadata": {},
   "outputs": [
    {
     "data": {
      "text/plain": [
       "0"
      ]
     },
     "execution_count": 125,
     "metadata": {},
     "output_type": "execute_result"
    }
   ],
   "source": [
    "#Fill in missing data with mode\n",
    "mode_HeadQuarter=df_2020['HeadQuarter'].mode()\n",
    "df_2020['HeadQuarter'].fillna(mode_HeadQuarter, inplace=True)\n",
    "df_2020['HeadQuarter'].isnull().sum()"
   ]
  },
  {
   "cell_type": "code",
   "execution_count": null,
   "metadata": {},
   "outputs": [
    {
     "data": {
      "text/plain": [
       "array(['Chennai', 'Bangalore', 'Pune', 'New Delhi', 'Indore', 'Hyderabad',\n",
       "       'Gurgaon', 'Belgaum', 'Noida', 'Mumbai', 'Andheri', 'Jaipur',\n",
       "       'Ahmedabad', 'Kolkata', 'Tirunelveli', 'Thane', 'nan', 'Singapore',\n",
       "       'Gurugram', 'Gujarat', 'Haryana', 'Kerala', 'Jodhpur', 'Delhi',\n",
       "       'Frisco', 'California', 'Dhingsara', 'New York', 'Patna', 'Paris',\n",
       "       'Texas', 'Sydney', 'Bangladesh', 'London', 'Milano', 'Palmwoods',\n",
       "       'France', 'Trivandrum', 'Cochin', 'Bihar', 'Tumkur', 'Newcastle',\n",
       "       'Shanghai', 'Jiaxing', 'Rajasthan', 'Kochi', 'Punjabi', 'Dehradun',\n",
       "       'Tangerang', 'Berlin', 'Seattle', 'Riyadh', 'Seoul', 'Bangkok',\n",
       "       'Kanpur', 'Chandigarh', 'Warangal', 'Odisha', 'Goa', 'Tamil Nadu',\n",
       "       'Uttar Pradesh', 'Bhopal'], dtype=object)"
      ]
     },
     "execution_count": 126,
     "metadata": {},
     "output_type": "execute_result"
    }
   ],
   "source": [
    "df_2020['HeadQuarter']=df_2020['HeadQuarter'].replace({'Coimbatore':'Tamil Nadu', 'Hyderebad':'Hyderabad','Ludhiana':'Punjabi','Rajastan':'Rajasthan','Irvine':'California','Samastipur':'Bihar','Bangaldesh':'Bangladesh','Plano':'Texas','San Ramon':'California','San Francisco':'California'})\n",
    "df_2020['HeadQuarter'].unique()"
   ]
  },
  {
   "cell_type": "code",
   "execution_count": null,
   "metadata": {},
   "outputs": [
    {
     "data": {
      "text/plain": [
       "62"
      ]
     },
     "execution_count": 127,
     "metadata": {},
     "output_type": "execute_result"
    }
   ],
   "source": [
    "unique_chars_count=df_2020['HeadQuarter'].nunique()\n",
    "unique_chars_count"
   ]
  },
  {
   "cell_type": "code",
   "execution_count": null,
   "metadata": {},
   "outputs": [
    {
     "data": {
      "text/plain": [
       "0         NaN\n",
       "1    Pre-seed\n",
       "2    Pre-seed\n",
       "3         NaN\n",
       "4         NaN\n",
       "Name: Stage, dtype: object"
      ]
     },
     "execution_count": 128,
     "metadata": {},
     "output_type": "execute_result"
    }
   ],
   "source": [
    "df_2020['Stage'].head()"
   ]
  },
  {
   "cell_type": "code",
   "execution_count": null,
   "metadata": {},
   "outputs": [
    {
     "data": {
      "text/plain": [
       "0"
      ]
     },
     "execution_count": 129,
     "metadata": {},
     "output_type": "execute_result"
    }
   ],
   "source": [
    "#fill empty data in stage with unknown\n",
    "df_2020['Stage'].fillna('unknown', inplace=True)\n",
    "df_2020['Stage'].isnull().sum()"
   ]
  },
  {
   "cell_type": "code",
   "execution_count": null,
   "metadata": {},
   "outputs": [
    {
     "data": {
      "text/plain": [
       "0"
      ]
     },
     "execution_count": 130,
     "metadata": {},
     "output_type": "execute_result"
    }
   ],
   "source": [
    "#Fill missing data in 'Founders' column with 'unknown'\n",
    "df_2020['Founders'].fillna('unknown', inplace=True)\n",
    "df_2020['Founders'].isnull().sum()"
   ]
  },
  {
   "cell_type": "code",
   "execution_count": null,
   "metadata": {},
   "outputs": [
    {
     "data": {
      "text/plain": [
       "array(['Prasanna Manogaran, Bharani C L',\n",
       "       'Saurabh Dixit, Gurudutt Upadhyay', 'Ajinkya Dhariya',\n",
       "       'Ritesh Tiwari',\n",
       "       'Ashish Rajan Singh, Harshit Gupta, Nishant Mahatre, Tauseef Khan',\n",
       "       'Rubal Chib, Dr Srishti Batra', 'Ajay Sakhamuri',\n",
       "       'Shawrya Mehrotra', 'Amar Prabhu, Ashwin Soni, Sumit Maniyar',\n",
       "       'Aditya Shirole, Sahil Sharma', 'Meghana Narayan',\n",
       "       'Arjun Kumar, Arun Kumar, Sidharth Gurjar', 'Gayatri Jolly',\n",
       "       'Ankur Jain', 'Akil Sethuraman, Anup Gopinath, Rachna Rao',\n",
       "       'Deepinder Goyal, Gaurav Gupta, Pankaj Chaddah',\n",
       "       'Miran Junaidi, Saurabh Ghanekar, Sourav Sanyal',\n",
       "       'Gautam Kapoor, Saahil Goel, Vishesh Khurana', 'Amrish Rau',\n",
       "       'Prashant Agarwal', 'Parth Chadha, Rahul Singh',\n",
       "       'Vikrant Varshney', 'Sujit Bangar',\n",
       "       'Annanya Sarthak, Gurpreet Singh, Praveen Sah', 'Karanpal Singh',\n",
       "       'Neeraj Khandelwal, Sumit Gupta', 'Naveen Tewari',\n",
       "       'Virendra Gupta', 'Priyam Saraswat',\n",
       "       'Kapil Bharati, Mohit Tandon, Sahil Barua, Suraj Saharan',\n",
       "       'Chattanathan Devarajan, Prasanna Rao, Anand Chandra',\n",
       "       'Ankit Kaushik, Gaurav Mangla, Rhitiman Majumder',\n",
       "       'Burzin Engineer, Rahul Chari, Sameer Nigam', 'Nirmal Shah',\n",
       "       'Chetan Indap, Sunny Sharma, Deepanti Kavi', 'Suhail Narain',\n",
       "       'Ronak Sarda', 'Vinayak, Kshitij Abhishek, Apoorv Sadana',\n",
       "       'Ankit Garg, Chaitanya Ramalingegowda', 'Dr Prashant Soma',\n",
       "       'Tikam Jain', 'Sundeep Mohindru', 'Shivakumar Ganesan',\n",
       "       'Adarsh Kumar, Rupesh Mishra', 'Mihir Jha', 'Shivanand N',\n",
       "       'Anand Dalmia, Ramganesh Iyer, Subramanya S.V., Subramanya Venkat',\n",
       "       'Anoop Gautam', 'Raunak Bhinge', 'Ajay Tiwari, Sainadh Duvvuru',\n",
       "       'Mayank Kale, Ryan Singh',\n",
       "       'Anurag Meena, Nikunj Malpani, Pratik Lodha',\n",
       "       'Satya Chakravarthy, Pranjal Mehta',\n",
       "       'Divyanshu Damani, Mohammad Hasan',\n",
       "       'Charak Almast, Aastha Almast, Mani Dev Gyawali',\n",
       "       'Bipin Singh, Upasana Taku', 'Sumit Sanjay Singare',\n",
       "       'Monnappa Bayavanda, Prashant Reddy, Ravindra M.K, Ravindra M.K., Shesh Paplikar, Shesh Paplikar, Sridhar Venkataraman',\n",
       "       'Deepak Garg, Gazal Kalra', 'KSHITIJ Puri, Shalabh Singhal',\n",
       "       'Vivek Iyer', 'Manjunatha T N, Shilpa Gopalaiah', 'Layak Singh',\n",
       "       'Puneet Singh Jaggi, Sanjay Bhasin, Ram Menon', 'Nandini Sankar',\n",
       "       'Tanmai Paul, Varun Saxena',\n",
       "       'Abhas Saroha, Oliver Jones, Oliver Jones', 'Shan Kadavil',\n",
       "       'Shivam Varshney, Alok Chawla', 'Manoj Meena, Sibabrata Das',\n",
       "       'Sankar Bora, Sourjyendu Medda, Vineet Rao',\n",
       "       'Anugrah Shrivastava, Rohan Gupta, Vasanth Kamath', 'Manan Khurma',\n",
       "       'Soham Thacker, Valay Patel, Varun Gajjar', 'Kalyan Sivasailam',\n",
       "       'Harsh Rajat, Richa Joshi',\n",
       "       'Biplab Chakraborty, Sandipan Chattopadhyay, Sandipan Mandal, Tapan Barman',\n",
       "       'Palani Rajan', 'Karthik Jayaraman, Sanjay Dasari',\n",
       "       'Aaditya Sharda, Souvik Sengupta', 'Sanjeev Bikhchandani',\n",
       "       'Neha Kant, Pankaj Vermani', 'Satyam Baranwal, Vivek Prakash',\n",
       "       'Kunal Shah', 'Brahmanad, Ramakrishna Nishtala',\n",
       "       'Nitesh Agrawal, Om Prakash', 'Rohit Pande, Shikhar Sachan',\n",
       "       'Prabhat Sahu', 'Ankit Ratan, Ankur Pandey, Arpit Ratan',\n",
       "       'Amit Shrivastava, Sumeet Verma', 'Bhavik Rathod, Tripti Ahuja',\n",
       "       'Vikas Chawla, Abhay Parnerkar, Satyajit Ram', 'Rahul Veerwal',\n",
       "       'Sai Srinivas Kiran G, Shubham Malhotra', 'Sonu Sood',\n",
       "       'NAVEED AHAMED, SYED SAQQA ABBAS', 'Darshan Shah, Soniya Kundnani',\n",
       "       'Akash Sinha, Reeju Datta',\n",
       "       'Anand Agrawal, Mayank Khera, Rishabh Goel',\n",
       "       'Devashish Fuloria, Tusheet Shrivastava, Ankita Thakur',\n",
       "       'Chakradhar Gade, Nitin Kaushal', 'Chirdeep Shetty',\n",
       "       'Mehul Agrawal, Ruchit Agarwal, Vikram Chopra', 'unknown',\n",
       "       'Divij Bajaj',\n",
       "       'Advaith Vishwanath, Ankit Agrawal, Jerin Venad, Rushabh Shah, Sankalp Kelshikar, Subhash Sundaravadivelu',\n",
       "       'Pushpak Dagade, Jimmit Patel and Suraj Bathija', 'Rajith Nair',\n",
       "       'Amit, Rohit Sadhu, and Vikas Ranga',\n",
       "       'Dhruv Agrawal, Himanshu Gupta, Soham Chokshi', 'Rushabh Mehta',\n",
       "       'Rohin Y, PV Ramana', 'Nikhil Aggarwal, Vivek Gulati',\n",
       "       'Gaurav Munjal, Hemesh Singh, Roman Saini, Sachin Gupta',\n",
       "       'Arpit Mittal, Anshul Gupta', 'Abhishek Poddar, Saurabh Arora',\n",
       "       'Shashank Vaishnav, Vinay Singhal, Parveen Singhal',\n",
       "       'Falguni Nayar', 'Snehanshu Gandhi, Gaurav Shrishrimal',\n",
       "       'Rohit Sen, Nupur Gupta', 'Aditya Sharma, Jayesh Hans',\n",
       "       'Byju Raveendran, Divya Gokulnath', 'Anurag Saboo, Gaurav Pushkar',\n",
       "       'Govind Balachandran, Zakir Wahab, Piyush Arora',\n",
       "       'Gowtham Sundaresan, Azan Barodawala', 'Nikhil Bohra',\n",
       "       'Sharmin Ali, Sutanshu Raj', 'Yogesh, Mitesh Gangar',\n",
       "       'Aditya Sengupta, Akash Gehani, Harshad Sharma, Sampad Swain',\n",
       "       'Anand Prabhudesai, Dhirendra Mahyavanshi, Kunal Shah',\n",
       "       'Dhruv Madhok, Dhruv Bhasin', 'Cheolwon Lee, Jay Yi, Martin Lee',\n",
       "       'Dhruv Dewan, Krishi Fagwani', 'Lakshay Jain', 'Nived Narayanan',\n",
       "       'Sandeep Patel', 'Tanmaya Jain', 'Ashwin Lal',\n",
       "       'Khushnud Khan, Rishi Raj Rathore',\n",
       "       'Deepak Diwakar, Krishna Depura, Mohit Garg, Nishant Mungali',\n",
       "       'Deepak Malhotra, Rajan Bajaj',\n",
       "       'Kashif Mohammad, Aravind Maddireddy', 'Ashish Rawat',\n",
       "       'Shrishti, Prithika', 'Ishpreet Gandhi', 'Ankur Bansal',\n",
       "       'Kiran Mazumdar-Shaw',\n",
       "       'Abhishek Doshi, Anupama Panchal, Shashwat Bhatt, Yash Shah',\n",
       "       'Amitava Saha, Supam Maheshwari', 'Amit Kumar, Gunjeet Singh',\n",
       "       'Ashraf Biran, Gulshan Bakhtiani, Mohan Chavan',\n",
       "       'Param Singh, Aashna Singh, Abhijeet Mittal, Jitesh Arora',\n",
       "       'Gunjan Kejriwal, Utsav Tiwary',\n",
       "       'Vinamra Pandiya, Mayank Gupta, Joji George',\n",
       "       'Pallav Pandey, Ankur Pandey, Siddharth Singh', 'Anup Kumar',\n",
       "       'Punweet Singh, Shuchir Suri', 'Sujay Santra',\n",
       "       'Mikhil Raj, Shubhadit Sharma, Ishaan Preet Singh',\n",
       "       'Mukesh Ambani', 'Saurabh Uttam, Ravi Singhal',\n",
       "       'Arun Vinayak, Swapnil Jain, Tarun Mehta',\n",
       "       'Sriram Kannan, Surajit Das', 'Rakesh Malhotra', 'Anjana Reddy',\n",
       "       'Vivek Bhutyani',\n",
       "       'Abhishek Negi, Aditya Singh, Pankaj Pandey, Uttam Kumar',\n",
       "       'Gireesh Rajendran, Ashish Lachhwani, Apu Sivadas, Rakesh Kumar and Alok Joshi',\n",
       "       'Kartikey Hariyani, Pavan Bakeri', 'Kavish Gadia, Nikhil Saraf',\n",
       "       'David Stavens, Mike Sokolsky, Sebastian Thrun',\n",
       "       'Abhijit Patil, Abhishek Tomar, Pankaj Raut',\n",
       "       'Ajay Nain, Prateek Chaturvedi', 'Abhishek Kabra, Aman Gour',\n",
       "       'Altaf Saiyed, Saloni Anand',\n",
       "       'Anurag Mehrotra, Krishnakant Thakur, Mohammed Bhol, Gautam Singh',\n",
       "       'Shivank Agarwal, Anish Khandelwal', 'Sahil Jatana',\n",
       "       'Ajay Kumar, Murari Singh', 'Jatin Solanki',\n",
       "       'Adit Jain, Anand Prajapati, Mayank Goyal',\n",
       "       'HS Srinivasan, Krishnan Rajan, E.V. Shunmugam',\n",
       "       'Saurabh Gupta, Siddharth Swarnkar',\n",
       "       'Arun Mallavarapu, Prasanth Madavana',\n",
       "       'Adarsh Manpuria, Vaibhav Aggarwal', 'Chandrakanta, Rajendra Lora',\n",
       "       'Abhishek Kothari, Deepak Jain, Manish Lunia, Ritesh Jain',\n",
       "       'Nilay Pandey, Saurav Singh, Vivek Kumar',\n",
       "       'Siddharth Dialani, Sai Gole', 'Nirav Choksi',\n",
       "       'Rohan Dedhia, Vaibhav Saraf, Hrishabh Sanghvi',\n",
       "       'Mohit Sahney, Sunita Sahney',\n",
       "       'Mihir, Payoj Jain, Divyansh Bordia, Anshuman Kumar',\n",
       "       'Sachin Chhabra, Nidhi Ramachandran', 'Nilay Mehrotra',\n",
       "       'Aneesh Mathur', 'Aanan Khurma, Aditya Seth, Ripunjay Chachan',\n",
       "       'Ashish Jhina, Karthik Venkateswaran',\n",
       "       'Paavan Nanda, Saumya Singh Rathore',\n",
       "       'Tarun Sharma, Vikas Lachhwani', 'Rohan Nayak',\n",
       "       'Sagar Bhalotia, Anish Basu Roy', 'Advitiya Sharma, Gaurav Lahoti',\n",
       "       'Sunoor Kaul,',\n",
       "       'Amit Srivastava, Bhavik Vasa, Sachin Tagra, Sachin Tagra',\n",
       "       'Saurabh Tandan, Pravin Agarwala', 'Talha Shaikh',\n",
       "       'Harsh Vakharia, Pankit Chheda, Sanket Shah',\n",
       "       'Mayank Agarwal, Vaibhav Jain', 'Atul Monga', 'Meena Sankaran',\n",
       "       'Kasuhik Mukherjee, Vineeta Singh', 'Gomathi S, Dr Balaji Sampath',\n",
       "       'Guru Sankararaman, Jay Vijayan', 'David guerin',\n",
       "       'Amit mandahar, Chaitali roy', 'Anjan Panneer Selvam',\n",
       "       'Narayan Subramaniam, Niraj Rajmohan',\n",
       "       'Akshay Saini, Rahul Saini, Pranav Chabhadia',\n",
       "       'Ranodeep Saha, Vijay Kumar', 'Charles Creighton', 'Siraj Dhanani',\n",
       "       'Chris Sampson, Marcel Herz, Martin Karafilis',\n",
       "       'Deepak Anchala, Rahul Bhattacharya, Ranjana TN', 'Manish Kaul',\n",
       "       'Priya Goel Sheth, Harsh Jain',\n",
       "       'Abhishek Verma, Harshit Mittal, Kumar Kushang, Nitin Prakash',\n",
       "       'Pankaj Sharma',\n",
       "       'Afeef Zaman, Ataur Rahim Chowdhury, Siffat Sarwar',\n",
       "       'M R Srinivas', 'Subhash Choudhary, Suumit Shah',\n",
       "       'Nikhil Jain, Nittin Mittal, Sumit Chhazed',\n",
       "       'Sat Tomer, Yukti Gill', 'Arun Sreyas, Gautham Maheswaran',\n",
       "       'Dinesh Godara',\n",
       "       'Aayushi Khandelwal, Akhil Kansal, Kuldeep Parewa',\n",
       "       'Amit Dutta, Ashok Mittal',\n",
       "       'Abhay Jeet Gupta, Parveen Kataria, Udbhav Rai, Vineet Sharma, Vishal Mishra',\n",
       "       'Supratik Ghatak', 'Surender Gounder', 'Gaurav Baid',\n",
       "       'Denis Sverdlov', 'Angus McDonald, Chris Bayley',\n",
       "       \"Andrea Boeri, Braghin Francesco, Giovanni Capellari, Luca D'Alessandro, Stefano Caverni\",\n",
       "       'Tushar Bhargava, Anshul Gupta',\n",
       "       'Alex Kostecki, Erich Nussbaumer, Nico Simko', 'Arjun Balaji',\n",
       "       'Chintan Raikar, Prashant Iyengar, Sneh Vaswani',\n",
       "       'Harshil Mathur, Shashank Kumar',\n",
       "       'Ashutosh Vikram, Kartheeswaran K K, Sharath Loganathan, Thiru Nagarajan, Thirukumaran Nagarajan, Vasu Devan',\n",
       "       'Binod Kumar Homagai, Sagar Daryani, Shah Miftaur Rahman',\n",
       "       'Anirudh Singla, Rishabh Shekhar',\n",
       "       'Anuj Srivastava, Ramakant Sharma, Shagufta Anurag',\n",
       "       'HariPrasath M., Rupam Das',\n",
       "       'Alessandro Traverso, Birger Lie, Harald Jellum, Matteo Berlucchi',\n",
       "       'Jean Pierre Nozieres', 'Amit Sinha, Ashok Prasad',\n",
       "       'Kuljit Chadha, Subramanian Viswanathan', 'Nitin Gupta',\n",
       "       'Hirak Joshi, Aalesh Avlani',\n",
       "       'KP Saravanan, Krish Subramanian, Rajaraman Santhanam, Thiyagarajan T',\n",
       "       'Ashwini Purohit, MS Chouhan',\n",
       "       'Arun George, Nikhil NP, Rashid Bin Abdulla, Vimal Govind MK',\n",
       "       'Maya Lakshman', 'Kishor Kumar Jha, Praveen Kumar',\n",
       "       'Sandeep Kondaji, Vishnuprasada Bhat, Anand Bellan Raman',\n",
       "       'Nagmanjunath Shivakumar, Savio Sebastian', 'Anurag Bist',\n",
       "       'Abhinand Kaseti, Harish B V, Sathvik Vishwanath, Sunny Ray',\n",
       "       'Andrew Linfoot, Ayush Jaiswal', 'Ram N Kumar', 'Vaibhav Anant',\n",
       "       'Kabandi Saika, Manik Mehta', 'Vinayak Seth',\n",
       "       'Kadam Jeet Jain, Rahul Chaudhary, Sidharth Gupta',\n",
       "       'Mainak, Sreekrishna', 'Azhar Iqubal', 'CA Abhinit Singh',\n",
       "       'Bharat Gupta, Pritesh Kumar',\n",
       "       'Simar Kohli, Tharun Kumar, Praseed KK',\n",
       "       'Ariel Assaraf, Guy Kroupp, Lior Redlus, Yoni Farin',\n",
       "       'Johnson Fernandes, Ravneet Kaur', 'Yi Zhang', 'Anu Meena',\n",
       "       'Ashwin Srivastava, Hardik Somani', 'Lu Zhao', 'Amit Gainda',\n",
       "       'Rahul Gupta, Swati Gupta', 'Rahul Anand',\n",
       "       'Harsimarbir (Harsh) Singh',\n",
       "       'Dinesh Pratap, Lokendra Ranawat, Vikas Baheti, Virendra Ranawat',\n",
       "       'Ruchi Deepak, Varun Dua', 'Pradeep PS',\n",
       "       'Balaji Viswanathan, Bharat Kumar, Mahalakshmi Radhakrishnan',\n",
       "       'Lovepreet Mann, Nikhil Kumar, Parul Jain',\n",
       "       'Suhail Chandhok, Arvind Sivdas, Dhanya Param',\n",
       "       'Benoit Dageville, Bob Muglia, Marcin Zukowski, Thierry Cruanes',\n",
       "       'Santosh Kataria, Ankit Kimtee, Vivek Jain',\n",
       "       'Bhaswat Agarwal, Bikash Dash, Mukul Rustagi, Vatsal Rustagi',\n",
       "       'Saif Dhorajiwala, Vikas saluguti, Vivek Subramanian',\n",
       "       'Binny Bansal, Sachin Bansal',\n",
       "       'Aniket Deshpande, Gaurav Kumar, Irfan Mohammed, Soumendra Ghosh, Vineet Sukumar',\n",
       "       'Ankit Agrawal', 'Afsal Salu, Fayaz Bin Abdu, Soudabi',\n",
       "       'Byju Raveendran', 'Krishna Kumar, Saroja Yeramilli',\n",
       "       'Dhirubhai Ambani',\n",
       "       'Parampara Capital, Venkat Vallabhaneni, Jatin Desai',\n",
       "       'Tuhin Bhowmick', 'Deepshikha Kumar', 'Suhas raikar',\n",
       "       'Bhavit Sheth, Harsh Jain', 'Govind Balachandran', 'Rajan Navani',\n",
       "       'Arun Kumar Sureban', 'Gaurav Parchani',\n",
       "       'Jaydeep Barman, Kallol Banerjee', 'Varun Sheth, Kunal Kapoor',\n",
       "       'R. Baskar Babu', 'Gaurav Munjal, ?Roman Saini?',\n",
       "       'Lodha, Priyanka Rathore', 'Pranav Pai, Siddarth Pai',\n",
       "       'Deepthi Ravula', 'Deepinder Goyal, Pankaj Chaddah',\n",
       "       'Abhishek Satish, Adarsh Warrier', 'Pawan Agarwal',\n",
       "       'Rohtash Mal CMD, Adwitiya', 'Shankar Prasad',\n",
       "       'Vijay Anand Bhagavatula',\n",
       "       'Ananda Prakash Verma, Shailendra Tiwari',\n",
       "       'Saswat Sahu, Rishi Raj',\n",
       "       'Adhil Shetty, Arjun Shetty, Rati Shetty', 'Pratik Shah',\n",
       "       'Nikhilesh Mishra, Puneet Jain',\n",
       "       'Ranjit Punja, R Sudarshan, Gowri Mukherjee', 'Vidur Maheswari',\n",
       "       'Ishan Sharma, Rishikesh Kumar', 'Shubham Gupta, Suresh Singh',\n",
       "       'Sachin Ravi, Raghav Chakravarthy', 'Mihir Mohan Mishra',\n",
       "       'Ashwin Kumar, Shoaib Mohammed',\n",
       "       'Damien Toledo, Jim Bugwadia, Ritesh Patel', 'Anmol Singh Jaggi',\n",
       "       'Dhruv Sawhney, Vivek Sahi, Sunny Bagla',\n",
       "       'Apurv Agrawal, Kanika Jain, Rishabh Ladha, Vikas Gulati',\n",
       "       'Debi Prasad Baral, Naveesh Reddy, Rohit Gajbhiye, Sunit Gajbhiye',\n",
       "       'Amit Sethi, Mandeep Manocha, Nakul Kumar', 'Deepak MV',\n",
       "       'Shailendra Dhakad, Rupika Taneja',\n",
       "       'Aanand Srinivas, Avinash Anand, Shankar Ram A',\n",
       "       'Ashish Munjal, Piyush Nangru',\n",
       "       'Anand Prabhu Subramanian, Vijay Gabale',\n",
       "       'Vaibhav Kapoor, Pulkit Kapoor', 'Anil Kumar',\n",
       "       'Dr Milind Choudhari, Dr Prasad Bhagat, and Dr Anupama',\n",
       "       'Mario Suntanu', 'Manoj Pillai', 'Somdutta Singh', 'Rahul Darda',\n",
       "       'Nishant Patel', 'Erez Galonska, Guy Galonska, Osnat Michaeli',\n",
       "       'Vijay Narasiman', 'Shrirang Tambe', 'Shirish Deodhar',\n",
       "       'Harish Mamtani', 'Shubham Malhotra, Sai Srinivas',\n",
       "       'Iyad Aldalooj, Majid Aldalooj, Mohammed Ibrahim', 'Kunal Mahipal',\n",
       "       'Bharath Rao',\n",
       "       'Abhishek Mishra, Kush Agarwal, Lav Agarwal, Stella Hu',\n",
       "       'Kunal Kishore Sinha, Sagar Pushp', 'Sreevathsa Prabhakar',\n",
       "       'Ankush Sachdeva, Bhanu Pratap Singh, Bhanu Singh, Farid Ahsan',\n",
       "       'Ashray Malhotra, Nisheeth Lahoti, Shivam Mangla',\n",
       "       'Saroja Yeramilli, R Krishnakumar',\n",
       "       'Chandranshu Sinha, Kartik Sheth', 'Shah, Abhay Bhat',\n",
       "       'Ajay Kadyan, Kumar Mayank', 'Tarun Lawadia, Sameer Kalra',\n",
       "       'Kabir Bose', 'Malika Datt Sadani, Mohit Sadaani', 'Ji Cheol Ryu',\n",
       "       'Anurag Sinha, Rupesh Kumar, Vibhav Hathi',\n",
       "       'Jitendra Chouksey, Sonal Singh, Jyoti Dabas, Bala Krishna Reddy, Rohit Chattopadhyay.',\n",
       "       'Akash Deep Singhal, Akshaya Singhal, Devashish Saxena, Gauri Dehnkar',\n",
       "       'Rohan Bhargava, Swati Bhargava',\n",
       "       'Nishant Chandra, Siddharth Maheshwari',\n",
       "       'Lalit Mangal, Manoj Singh, Vinay Kumar Jasti',\n",
       "       'Akash Singh, Sharath Keshava Narayana, Swapnil Jain',\n",
       "       'Bhupinder Singh', 'Zishaan Hayath, Hemanth Goteti',\n",
       "       'Vinay Sanghi', 'Sumeet Mehta, Smita Deorah', 'Sahil Sheth',\n",
       "       'Nirmit Parikh', 'Amit Rathore',\n",
       "       'Kabeer Biswas, Ankur Agarwal, Dalvir Suri, Mukund Jha',\n",
       "       'Ranjan Kumar', 'Anuj Srivastava, Ramakant Sharma',\n",
       "       'Swarup Mavanoor, Rahul Sankhe', 'Saurabh Pandey, Akshay Dubey',\n",
       "       'Vivek Rajkumar',\n",
       "       'Sonal Dandotia, Shantanu S, Virendra Chouhan, Vaibhav Tiwari',\n",
       "       'Rama Harinath, Srikanth Iyer', 'Darpan Sanghvi', 'Kajal Ilmi',\n",
       "       'Arunprasad Durairaj, Vijaybabu Gandhi, Shreenidhi Srirangam',\n",
       "       'Madhusudanan R, Prabhu R',\n",
       "       'Dr. R. Shivaraman, Praveen Dwarakanath', 'Arun Prakash',\n",
       "       'Anmol Singh Jaggi, Punit K Goyal',\n",
       "       'Nakul Kukar, Paras Kaushal, Supratim Naskar',\n",
       "       'Sai Srinivas Kiran Garimella, Shubham Malhotra',\n",
       "       'Kishan Vasani, Sai Sreenivas Kodur', 'Amit Dhakad, Hiral Jain',\n",
       "       'Lalit Keshre, Harsh Jain, Neeraj Singh, Ishan Bansal',\n",
       "       'Dr Mallesh Bommanahal, Varzavand Batliwala',\n",
       "       'Pratik Agarwal, Raj Desai, Varsha Bhambhani', 'Amit Agrawal',\n",
       "       'Karthi Mariappan', 'Tanmai Gopal, Rajoshi Ghosh',\n",
       "       'Ravi Ravulaparthi, Lakshman Gupta, Vamsee Mohan', 'Cindy Kua',\n",
       "       'Yashash Agarwal, Gaurav Agarwal', 'Ankit Agarwal',\n",
       "       'Vaishali Kulkarni, Arjun Singh Bajwa',\n",
       "       'Ananth Narayanan, T-ushar Kumar', 'Ashok Hariharan, Vineet Jawa',\n",
       "       'Charlie, Jay, Martin', 'Samarth Agrawal, Rohit Narang',\n",
       "       'Manoj Gupta, Monica Gupta',\n",
       "       'Arpita Kapoor, Mohit Rangaraju, Shilp Gupta',\n",
       "       'Pankaj Chaddah, Staff Pooja Khanna', 'Ishan Sharma, Rishikesh',\n",
       "       'Chaitanya Kalipatnapu, Ashwin Damera', 'Shobhit Bhatnagar',\n",
       "       'Abhishek Goyal, Neha Singh', 'Abhishek Agarwal',\n",
       "       'Pramod Ravindra', 'Saurabh Singh, Rahul Jain, Nagender Sangra',\n",
       "       'Amit Singh, Deepanshu Malviya', 'Aniket Shinde, Hardik Gondaliya',\n",
       "       'Sarvesh Shashi',\n",
       "       'Siddharth Das, Dr Rahul Dave, Dr Pavlos Protopapas',\n",
       "       'Nakerikanti Harish', 'Peter Barcak',\n",
       "       'Arpit Rajpurohit, Jayesh Rajpurohit',\n",
       "       'Amit Bhardwaj, Nikhil Hegde.',\n",
       "       'Srinivas Madhavam, Srikanth Rajashekhar, Rahul Mehta',\n",
       "       'Sonakshi Nathani, Ashutosh Singla', 'Omer Basith',\n",
       "       'Devansh Jain Nawal, Ackshay Jain', 'Snehil Khanor',\n",
       "       'Nimish Goel, Nevaid Aggarwal, Devender Bindal',\n",
       "       'Ankush Aggarwal, Tushar Mehndiratta', 'Manuraj Jain, Surajit Raj',\n",
       "       'Kunaal Dudeja, Nalin Saluja, Archit Jayaswal',\n",
       "       'Manish Shara, Yash Desai', 'Gaurav Singh', 'Varun Khanna',\n",
       "       'Inderveer Singh', 'Sumeet Yashpal Mehta, Smita Deorah',\n",
       "       'Pulkit Agrawal, Prashant Sachan, Arun Lodhi, Bimal Kartheek Rebba, Nirav Sheth',\n",
       "       'Utham Gowda',\n",
       "       'Mihir Gupta, Payoj Jain, Divyansh Bordia, Anshuman Kumar',\n",
       "       'Kshitij Khandelwal, Awais Ahmed', 'Dhruv Bhushan',\n",
       "       'Rajesh Bernard, Vijay Krishna, Prateek Mehta',\n",
       "       'Ravish Agrawal, Swatantra Kumar, Siddharth Srivastav',\n",
       "       'Sanjeev Nair', 'Smriti Tomar', 'Anurag Sinha',\n",
       "       'Prateek Shukla, Nrupul Dev, Yogesh Bhat',\n",
       "       'Shivank Agarwal, Anish Khandelwal.',\n",
       "       'Prerna Kalra, Vidya Bhushan',\n",
       "       'DVL Padma Priya, Rakesh Kamal, Tarun Nirwan',\n",
       "       'Public banks, Private lenders',\n",
       "       'Kiran Ramakrishna, Subhajit Mukherjee',\n",
       "       'Pranjal Kacholia, Divyansh Mathur', 'Rishab Mehta',\n",
       "       'Sateesh Nukala, SachinNandwana', 'Vineet Toshniwala',\n",
       "       'Srikanth Iyer, Rama Harinath', 'Sandipan Mitra, Uttam Kumar',\n",
       "       'Ananthakrishnan Gopal, Ashok Balasundaram, Sriram P H',\n",
       "       'Varun Chopra, Raheel Shah', 'Kshitj Puri, Shalabh Singhal',\n",
       "       'Rushabh Sheth, Bikram Dahl',\n",
       "       'Abhinav Ayan, Anirban Jyoti Chakravorty, Soumyaranjan Harichandan',\n",
       "       'Biswatma Nayak, Siddharth Gautam', 'Varun Saxena',\n",
       "       'Rajit Bhattacharya, Aisik Paul, Ankit Das',\n",
       "       'Adit Chhabra, Tapan Dixit,Tanay Dixit.',\n",
       "       'Viijender Reddy, Manas Ranjan Hota', 'Tanmaya Jain, Varun Puri',\n",
       "       'Anand Singh, Ankit Vaish', 'Vittal Ramakrishna',\n",
       "       'Jaydeep Barman, Kallol Bannerjee',\n",
       "       'Manish Jethani, Sourabh Agarwal',\n",
       "       'Kapil Mathrani, Rohan Bhatt, Poojan Thakkar', 'Sumit Ghosh',\n",
       "       'Ankush Sachdeva, Bhanu Pratap Singh, Farid Ahsan', 'Dhruvin Shah',\n",
       "       'Dr. Sachin Bhavsar', 'Sumeet Kapur, Ankur Bhatia, Aanchal Kapur',\n",
       "       'Prasanna Kumar, Mahesh Bhat, Rajasekhar, Amith S Mali',\n",
       "       'Karan Khairajani, Surojit Roy', 'Sachin Bhatia, Atit Jain',\n",
       "       'Zishaan Hayath',\n",
       "       'Archana Elapavuluri, Namandeep Bhatia, Siddharth Panjwani',\n",
       "       'K.L.N Sai Prasanth, Yathindra Ajay K.A, K. Prathyusha',\n",
       "       'Vivek Tiwari', 'Bijay Gautam, Souniya Khurana',\n",
       "       'Saif Dhorajiwala', 'Mohammed Hisamuddin', 'Deepak Grover',\n",
       "       'Sudeep Singh', 'Ragini Das, Anand Sinha',\n",
       "       'Tarun Mehta, Swapnil Jain',\n",
       "       'Chirag Mittal, Parag Modi, Anirudh Syal',\n",
       "       'Praneeth Kumar, Shobhit Jain, Mrudhukar Batchu, Kiran Naik',\n",
       "       'Suman Maram, Sudheer Maram',\n",
       "       'Siddharth Vij, Siddharth Rastogi, Shubham Agarwal, Chaitanya Rathi',\n",
       "       'Ashwin Ajila', 'Meghna Saraogi, Akhil Tolani',\n",
       "       'Silky Singh, Alkheya Boora Rpsey', 'Mugdha Pradhan',\n",
       "       'Saurabh Saxena, Pulkit Jain, Anand Prakash, Vamsi Krishna',\n",
       "       'Anshoo Sharma, Brij Bhushan', 'Gaurav Baheti, Sumit Mendiratta',\n",
       "       'Hitesh Ahuja', 'Rathinamurthy R, Sridher Jeyachandran',\n",
       "       'Gotama Gowda', 'Ashish C', 'Nikhil Hegde, Amit Bhardwaj',\n",
       "       'Saurabh Saxena',\n",
       "       'Prateek Garg, Vishva Sharma, Rahul Gupta, Rishabh Nagpal, Ratan Sethi',\n",
       "       'Chaitanya Nallan, Sangram Simha, Veerendra Shivhare',\n",
       "       'Sahil Sharma, Aditya Shirole', 'Manish Tewari',\n",
       "       'Vidur Maheshwari', 'Ashni Sheth, Varun Sheth', 'Vikram Chopra',\n",
       "       'RajanNavani', 'Rushi Shenghani', 'Sanchit Garg, Sanjeev Dadhich',\n",
       "       'Abhilasha, Kshitij Purwar',\n",
       "       'Anuj Bhuria, Himanshu Kumar, Himanshu Meena', 'Rohit Taneja',\n",
       "       'Akhil Sikri, Nikhil Sikri, Sneha Choudhry', 'Ajaitha Shah',\n",
       "       'Sreeshankar S Nair, Romeo P Jerard',\n",
       "       'Vikram Jetley, Sanjay Sharma',\n",
       "       'Neeraj Kakkar, James Nutall, Suhas Misra, Neeraj Biyani',\n",
       "       'Ganesh Raju', 'Anuj Krishnan', 'Ooshma Garg',\n",
       "       'Rohit Grover, Pradeep Thangappan', 'Devang Shah, Gaurang Shah',\n",
       "       'Devesh Trivedi, Sanchit',\n",
       "       'Praveen Dwarkanath, Dr. Shivaraman Ramaswamy',\n",
       "       'Vijay Babu Gandhi, Shreenidhi Srirangam, Arunprasad Durairaj',\n",
       "       'Amrit Acharya, Srinath Ramakkrushnan, Vishal Chaudhary',\n",
       "       'Pavan Adipuram',\n",
       "       'Bhagaban Behera, Sriharsha Shetty, Nakul Kelkar', 'Swapnil Sahu',\n",
       "       'Aniruddh Singh, Riyaz Khan, Sagar Sheth', 'Mayank Yadav',\n",
       "       'Rajat Jadhav, Rahul Krishnan, Harsh Singh, Mohit Yadav',\n",
       "       'Amit Nanwani', 'Shivani Poddar, Tanvi Malik', 'Rajan Bajaj',\n",
       "       'Abhas Saroha, Oliver Jones', 'Aarti Gill, Mihir Gadani',\n",
       "       'Dhruv Agrawal, Faith Jiwakhan',\n",
       "       'Vemuri, Deepak Sharma, Pranay Gupta, Varun Chawla', 'Amit Gupta',\n",
       "       'Anant Goel', 'Hormazd Charna, Manoj Mishra',\n",
       "       'Amit Bhasin, Kushal Karwa, Nitin Rana, Rishabh Karwa',\n",
       "       'Srikumar Misra', 'Prasad Akella',\n",
       "       'Aditya Singhal, Nishant Sinha, Bahul Arora',\n",
       "       'Abhijit Roy, Samir Pratihar',\n",
       "       'Runal Dahiwade, Nityanand Prabhutendolkar, Miraj C. Vora',\n",
       "       'Arjun Ahluwalia, Adriel Maniego', 'Yash Vyas',\n",
       "       'Pushkar Singh, Sudarshan Ravi, Ankit Parasher',\n",
       "       'Niraj Raka, Poonam Gugale, Piyush Raka',\n",
       "       'Pranav Chopra, Neeraj Kumar', 'Dr Janani Venkatraman',\n",
       "       'Ravi Nishant',\n",
       "       'Rohan Mirchandani, Ganesh Krishnamurthy, Rahul Jain,Uday Thakkar.',\n",
       "       'Rajeev Agrawal', 'Babu Sivadasan',\n",
       "       'Abhijit Kane, Abhinav Asthana, Ankit Sobti',\n",
       "       'Raghav Arora, Lalit Kumar Aggarwal',\n",
       "       'Karthick Jayraman, Sanjay Dasari',\n",
       "       'Dr Gopichand Katragadda, Ganesh Suryanarayanan, Aditi Olemann.',\n",
       "       'Dr Binita Shrivastava Tunga, Dr Rashbehari Tunga',\n",
       "       'Shubhendra Vikram, Ankit Kumar', 'Ashish Gupta',\n",
       "       'Raghuraj Sunder Raju, Prasad Basavaraj, Sandeep Gudibanda',\n",
       "       'Shailesh Gupta, Mukul Shah', 'Nitesh Salvi',\n",
       "       'Purav Shah, Sandesh Reddy', 'Prashant Jain, Varun Khurana',\n",
       "       'Aswani Chaitanya',\n",
       "       'Lokendra Ranawat, Dinesh Pratap Singh, Virendra Ranawat, Vikas Baheti',\n",
       "       'Adhil Shetty, Arjun Shetty, Rati Shetty,', 'Geetansh Bamania',\n",
       "       'Rishabh Goel, Anand Agrawal, Mayank Khera',\n",
       "       'Kinner N Sacchdev, Rakhi Wadhwa', 'Karan Shaha, Vikas Chandrawat',\n",
       "       'Akshay Pai', 'Satyen Kothari, Beenext, Asuka Holding',\n",
       "       'Naresh Rao, Nikhil Rajmohan, Harinath Chakravarthy, Pravin Sethuraman',\n",
       "       'Indrajeet Roy', 'Bhavish Aggarwal', 'Amit Ramani',\n",
       "       'Kabeer Biswas,  Mukund Jha, Dalvir Suri, Ankur Aggarwal',\n",
       "       'Abhinav Agarwal, Anand Bakode',\n",
       "       'Dr Ruchir Mehra, Harsh Bansal, Richeek Arya',\n",
       "       'Mithun Srivatsa, Nikhil Shivaprasad',\n",
       "       'Vinayak Srivastav, Saket Dandotia, Alok Patil', 'Jatin Singh',\n",
       "       'Sumit Gupta, Neeraj Khandelwal', 'Lalit Menghani', 'Saurav Kumar',\n",
       "       'Suvendu Prusty, Sorabh Bhandari, Chiranth Patil.',\n",
       "       'Sandeep Vohra', 'Anurba Nath',\n",
       "       'Gowri Mukherjee, Ranjit Punja, Rajasundaram Sudarshan',\n",
       "       'Mohammed Riaz', 'Hrishikesh Datar', 'Ravish Naresh',\n",
       "       'Harshvardhan Lunia, Mukul Sachan',\n",
       "       'Akash Deep Singhal, Akshaya Singhal', 'Uttam Kumar',\n",
       "       'Ashwini Purohit', 'Pritesh Asher',\n",
       "       'Amit Kharat, Ajit Patil, Aniruddha Pant',\n",
       "       'Krishnan, Shane Bilsborough', 'Abhisheka Kumar, Malkit Didyala',\n",
       "       'Kartikey Hariyani',\n",
       "       'Milan Sharma, Nishant Mishra, Himani Shah, Devendra Chandani',\n",
       "       'Ajay Agrawal', 'Venkatesh Rangachari, Vipul Gupta',\n",
       "       'Naman Sarawagi, Mohit Jain', 'Saahil Goel',\n",
       "       'Sanjay Kumar, Deepti Prasad', 'Satish Kannan',\n",
       "       'Sumit Sinha,\\xa0\\xa0Mukesh Bansal', 'Arjun Deshpande',\n",
       "       'Prajit Nanu', 'Raman Khanduja, Sanjay Nazareth', 'Rajesh Yabaji',\n",
       "       'Gupta, Akshay Deshraj, Manoj Sarda',\n",
       "       'Avinash BR, Gururaj Rao, Arvind Murali, Santhosh Narasipura',\n",
       "       'Steve Hardgrave',\n",
       "       'Prashanth Kuppur, Deepak Kalhan, Saurabh Kukreti, Richpal Gora',\n",
       "       'Amit Naik, Kewal Vargante', 'Piyush, Dipesh Agarwal',\n",
       "       'Suraj Saste', 'Dr Subhash Narayanan',\n",
       "       'Ranjeet Pratap Singh, Sankaranarayanan Devarajan, Sahradayi Modi, Rahul Ranjan, Prashant Gupta',\n",
       "       'Vishal Jindal', 'Nishith Chasmawala, Amit Sharma', 'Rajat Gupta',\n",
       "       'Harsh Bansal', 'Darshan Shah', 'Nitin Agrawal, Garima Agrawal',\n",
       "       'Archin Shah, Abhilash Sonwane, Ritesh Gandhi',\n",
       "       'Mukul Rustagi, Bhaswat Agarwal', 'Tushar Kumar, Prashant Singh',\n",
       "       'Ishan Gupta, Aarti Gupta',\n",
       "       'Gagan Vermani, Divyanshu Sachdev, Gyan Prakash Tiwari',\n",
       "       'Amit Sharma, Apoorva Jois', 'Vivek Gupta, Jatin Solanki',\n",
       "       'Romesh Khaddar, Shikha Chaudhry, Sumedh Chaudhry',\n",
       "       'Raghavendra Prasad', 'Tarun Dhamija, Kartik Bansal',\n",
       "       'Jitendra Chouksey', 'Suresh Bavisetti, Paarth Dhar',\n",
       "       'Arindam Ghosh, U R Bhatt', 'Sagar Yarnalkar',\n",
       "       'SP Balamurugan, Arun Prakash, Sri Devi',\n",
       "       'Raghuram Talluri, Tanmoy Karmakar, Rakib Ahmed',\n",
       "       'Venkatesh Sundar, Nandini Tandon',\n",
       "       'Shivashish Chatterjee, Yuvraja Singh',\n",
       "       'Rohin Parkar, Malcolm Dsouza', 'Mittal',\n",
       "       'Nukul Upadhye, Mahesh Jakhotia, Jitender Bedwal, Daya Rai, Nikhil Tripathi',\n",
       "       'Anand Anandkumar', 'Manas Ranjan Hota, Vijender Reddy',\n",
       "       'Madhusudanan R, Muthukumar and Prabhu',\n",
       "       'Vetrivel Palani, Paneerselvam', 'Megha Wadhwa, Karnesh Mahendru',\n",
       "       'Karanvir Singh, Utkarsh Bagri, Vikram Shekhawat, Deepak Choudhary',\n",
       "       'Amit Kumar Agarwal, Akhil Gupta, Saurabh Garg',\n",
       "       'Amit Raj, Anshul Gupta', 'Gaurav Hinduja, Sashank Rishyasringa',\n",
       "       'Mayank Kukreja, Anish Khadiya', 'Ashish Bhandari',\n",
       "       'Jen Horonjeff', 'Samarth Kholkar, Sandeep Mukherjee',\n",
       "       'Raghavendra Kumar Ravinutala',\n",
       "       'Vinayak Shrivastav, Saket Dandotia, Alok Patil',\n",
       "       'Sahil Kini, Nikhil Kumar', 'Abhishek Shah',\n",
       "       'Rishabh Jain, Aditi Sinha',\n",
       "       'Gaurav Srivastava, Gautam Kumar, Kushal Nahata',\n",
       "       'Pranav Goel, Uttam Digga', 'Rohit Paranjpe',\n",
       "       'Abhinay Choudhari, Hari Menon, Vipul Parekh, VS Sudhakar',\n",
       "       'Jitendra Gupta',\n",
       "       'Shrikrishna Bharambe, Shripad Nadkarni, Varun Khanna, Abhijit Berde',\n",
       "       'Vineet Shetty, Anushka Shetty', 'Malhi, Siddhant Saurabh',\n",
       "       'Shashank Kumar', 'Nandan Reddy, Sriharsha Majety, Rahul Jaimini',\n",
       "       'Saurabh Pandey, Mahadevan Narayanamoni', 'Deepinder Goyal',\n",
       "       'Karan Bhardwaj', 'Vimal Kumar', 'Tapojit Debnath, Nirman Dave',\n",
       "       'Pratyush Halen, Anuraag Agrawal',\n",
       "       'Prashant Border, Saurya Prakash Sinha', 'Ajith Mohan Karimpana',\n",
       "       'Suneel Kumar, Gaurav Tomar, Sucharita Redd',\n",
       "       'Anshul Bhagi, Sandeep Bhagi', 'Sam Santhosh',\n",
       "       'Kishor Jha, Praveen Kumar',\n",
       "       'Deepak Bhuvneshwari Uniyal, Shilpa Arora, Shailesh Kumar, Sanjay Aggarwal',\n",
       "       'Subhash Narayanan', 'Mukesh Bansal, Ankit Nagori',\n",
       "       'Tapesh Goyal, Rajesh Vaidhyanathan', 'Preet Arjun Singh',\n",
       "       'Sneha Roy', 'Dilip Kumar, Selvan Thamarai, Deepti Nair',\n",
       "       'Monica Gupta. Manoj Gupta',\n",
       "       'Anubhav Jain, Ankit Singh, Jawaid Iqbal',\n",
       "       'Rishi Malhotra, Akhil Gupta', 'Sumit Gupta',\n",
       "       'Sagar Modi, Advaith Vishwanath', 'Adarsh Anand, Amit Tiwari',\n",
       "       'Rajan Sharma', 'Prabhdeep Singh', 'Mihir Mohan mishra',\n",
       "       'Jaideep Gupta',\n",
       "       'Ezhilarasan Natarajan, Sabapathy Arumugam, Krishnakumar Narayanan, Thiruvalluvar NB',\n",
       "       'Gaurav Kumar, Vineet Sukumar', 'Srinath Ravichandran',\n",
       "       'George Mitra, Rajan Pathak',\n",
       "       'Amit Chandel, Rohit Garg, Vinay Kumar, Jayant Upadhyay',\n",
       "       'Pranesh Chaudhary, Sushant Sachan', 'Abhinav Jain, Aditya Gupta',\n",
       "       'Sridhar Joshi, Prashant Kulkarni',\n",
       "       'Maneet Gohil, Sanchit Govil, Albin Jose',\n",
       "       'Govind Agrawal, Arti Agrawal', 'Arshi Khan',\n",
       "       'Ankit Jain, Anand Shah', 'Pankaj Singh', 'Kush Taneja',\n",
       "       'Pramod Ghadge', 'Pei-fu Hsieh, Amit Jangir',\n",
       "       'Lalit Mangal, Vinay Jaasti, Manoj Singh', 'Rajesh',\n",
       "       'Rohan Mirchandani', 'Lathika Pai', 'Sriram Subramanian',\n",
       "       'Vidushi Kajaria, Aayush Goenka',\n",
       "       'Sudarshan Lodha, Priyanka Rathore',\n",
       "       'Sreeraman Vaidyanathan, Surga Thilakan', 'Prasanna Rao',\n",
       "       'Vaibhav Singh, Arnav Kumar',\n",
       "       'Ajai Thandi, Arman Sood, Ashwajeet Singh',\n",
       "       'Charit Bhograj, Zainul Charbiwala, Udayan Dasgupta, Abhinav Gujjar',\n",
       "       'Ajit Panda', 'Vivekananda Hallekere, Anil Giri Raju, Arun Agni',\n",
       "       'Taran Chhabra, Amar Preet Singh',\n",
       "       'Vipul Sharma, Rajat Kumar, Sachin Arora, Mohit Goel',\n",
       "       'Bhatia, Sneha Shah', 'Li Yong, Shushant Srivastava',\n",
       "       'Niraj Singh, Mohit Gupta, Ramanshu Mahuar',\n",
       "       'Pallavi Agarwal, Pankaj Parwanda', 'Ashutosh Sharma',\n",
       "       'Anand Ayyadurai, Padmanabhan Balakrishnan, Sanchit Mittal',\n",
       "       'Saurabh Singh', 'Prashant Warier, Pooja Rao', 'Gokul Shrinivas',\n",
       "       'Supriya Paul, Shobhit Banga', 'Ringaile Noq',\n",
       "       'Manish Rathi, Kapil Raizada, Sachin Saxena',\n",
       "       'Pankaj Raut, Abhishek Tomar, Abhijit Patil',\n",
       "       'Anirudh Singla and Rishabh Shekhar', 'Radha Basu',\n",
       "       'Ashneer Grover', 'Sanket Shah',\n",
       "       'Varun Mayya, Shashank Udupa, Abhinav Arora', 'Anubhav Sharma',\n",
       "       'Madhan Mohan , Akash Chelvam', 'Archit Agarwal, Harry Sehrawat',\n",
       "       'Vinay Kothari', 'Khadim Batti, Vara Kumar',\n",
       "       'Gaurav Munjal, Roman Saini, Hemesh Singh',\n",
       "       'Rajan Dang, Anushree Srivastava', 'Kabeer Biswas', 'Kamesh Goyal',\n",
       "       'Shailesh Gupta, Mukul Shah, Danish Chopra',\n",
       "       'Tithi Tewari, Gautam Tewari', 'Samarth Agrawal',\n",
       "       'Aniruddha Sharma, Prateek Bumb', 'Mahipal',\n",
       "       'Vishal Khatter, Dheeraj Khatter, Dipak Varshney',\n",
       "       'Maneesh Dhooper, Kunal Malik',\n",
       "       'Ajith Nayar, Umesh, Mahesh Subramanian', 'Amit Bagaria',\n",
       "       'Chinmoy Mishra, Gaurav Vij, and Abhishek Verma',\n",
       "       'Vijeet Pandey, Vikas Rishishwar', 'Yogesh Thore', 'Ritesh Kumar',\n",
       "       'Vijay Shekhar Sharma', 'Nicky Goulimis',\n",
       "       'Singla, Kannu Mittal, Dhawal Parate',\n",
       "       'Jayesh Rajpurohit, Arpit Rajpurohit', 'Abhishek Mohan',\n",
       "       'Raviteja Dodda, Yashwanth Kumar', 'Rustagi, Bhaswat Agarwal',\n",
       "       'Nitin Saluja, Raghav Verma', 'Apurv Patel',\n",
       "       'Shamik Guha, Sayan Tapadar, Muhammad Bilal Shakil, Anirban Datta Gupta',\n",
       "       'Ambareesh Murty, Ashish Shah', 'Supam Maheshwari, Amitava Saha',\n",
       "       'Karthick Jayraman and Sanjay Dasari', 'Kunal Patil',\n",
       "       'AR Rahman, Shekhar Kapur', 'Narain Karthikeyan.',\n",
       "       'Jitendra Emmani', 'Kapil Gupta', 'Shailaz Nag',\n",
       "       'Lal Chand Bisu, Vikas Goyal, Vinod Kumar Meena',\n",
       "       'Nikhil Banerjee', 'Sachin Chopra', 'Rakesh Sharma',\n",
       "       'Katie Russel and Daniel Wiegand',\n",
       "       'Vineet Sharma, Abhay Jeet Gupta, Udbhav Rai, Parveen Kataria, Vishal Misra',\n",
       "       'Aditi Avasthi', 'Mohammed Hisamuddin, Rahul Ramesh', 'Akash Deep',\n",
       "       'Tarun Khanna', 'Prashant Tandon, Gaurav Agarwal, Vikas Chauhan',\n",
       "       'Akaash Shankar', 'Tanushri Nagori, Aditya Shankar',\n",
       "       'Sandeep Bommireddi, Sravanth Gajula',\n",
       "       'Aditya Agarwalla, Sanjay Agarwalla', 'Vikash Jha',\n",
       "       'Guna Kakulapati, Rama Rajanna, Charu Sharma', 'Amit Bansal',\n",
       "       'Abhimanyu Saxena', 'Bala Parthasarathy, Anuj Kacker, Kunal Varma',\n",
       "       'Rohit Manghnani, Amit K Jaiswal, Iccha Manghnani',\n",
       "       'Ashish Kashyap', 'Sachin Agarwal, Aniket Deb, Ankit Tomar',\n",
       "       'Oren Kaniel, Reshef Mann', 'Bhavik Vasa',\n",
       "       'Navratn Singh, Kamal Pandey',\n",
       "       'Lokvir Kapoor, Rajul Garg, Tarun Upaday', 'Sharmin Ali',\n",
       "       'Neeraj Singh, Alok Arora', 'Dhruvil Sanghvi, Manisha Raisinghani',\n",
       "       'Shikhar Veer Singh, Nidhi Singh',\n",
       "       'Sarvesh Shrivastava, Ved Prakash Khatri, Amit Kapoor',\n",
       "       'Vivekananda Hallekere, Anil Giri Raju,Arun Agni', 'Amit Lakhotia',\n",
       "       'Abhay Rangan', 'Prithwi Dasgupta, Arnab Chatterjee', 'Trivedi',\n",
       "       'Snigdha Manchanda, Vikas Kumar, Aishwarya Malhi',\n",
       "       'Greg Moran, David Back',\n",
       "       'Suneel Kumar, Sucharita Reddy, Gaurav Tomar, Akhilesh Nigam,',\n",
       "       'Shailendra Singh, Deepinder Dhingra, Pavan Palety',\n",
       "       'Asheesh Chanda, Vineeth Narasimhan',\n",
       "       'Balaji Viswanathan, Be Limitless Inc., Zingfin.com, NalandaU',\n",
       "       'Kumar Mayank, Ajay Kadyan', 'Anish Agarwal, Anant Jain',\n",
       "       'Nirav Patil', 'Bhavesh Shah, Manav Shah', 'Abhishek Emmanuel',\n",
       "       'Mahe Bayireddi', 'Kavita Dhillon', 'Sousthav Chakrabarty',\n",
       "       'Kartikeya Goel', 'Soham Thacker, Varun Gajjar', 'Arka Dhar',\n",
       "       'Divya Agarwal, Ketika Kapoor', 'Deepanshu Arora, Parita Parekh',\n",
       "       'Thirukumaran Nagarajan, Sharath Loganathan, Sachin Jose, Kartheeswaran KK, Vasudevan Chinnathambi',\n",
       "       'Akash Sharma, Abhishek Agarwal',\n",
       "       'Mahesh Gogineni, Varun MS, Manan Maheshwari', 'Amal PS',\n",
       "       'Anurakt Jain, Ishita Verma', 'Rajiv Mukherjee', 'Bharat Sethi',\n",
       "       'Neeraj Kumar', 'Pramath Raj Sinha', 'Gaurav Munjal', 'Leo Mavely',\n",
       "       'Mr. Subhashis Kar', 'Amit Narang',\n",
       "       'Praveen Agrawal, Yadvendar Champawat, Manoj Munna, Abhishek Sagar, Ashutosh Kumar, Narendra Agrawal',\n",
       "       'Tanvi Malik, Shivani Poddar.', 'Neer Sharma',\n",
       "       'Ghazal Alagh, Varun Alagh', 'Siddharth Gadia', 'Sashi Narahari',\n",
       "       'Jahabar Sadique, Balaji Sadagopan',\n",
       "       'Sonal Khandelwal, Vaibhav Tiwari', 'Kanav Sachdeva',\n",
       "       'Kumar Varma', 'Vishvajit Sonagara',\n",
       "       'Santosh Shinde, Sanjay Borkar', 'Himanshu Jain, Pulkit Jain',\n",
       "       'Vikram Kankaria, Priyanka Kankaria', 'Akshay Chaturvedi',\n",
       "       'Sujith Narayanan, Sumit Gwalani', 'Manish Taneja, Rahul Dash',\n",
       "       'Jayakrishnan, Abhijeet Manohar'], dtype=object)"
      ]
     },
     "execution_count": 131,
     "metadata": {},
     "output_type": "execute_result"
    }
   ],
   "source": [
    "df_2020['Founders'].unique()"
   ]
  },
  {
   "cell_type": "code",
   "execution_count": null,
   "metadata": {},
   "outputs": [
    {
     "data": {
      "text/plain": [
       "0"
      ]
     },
     "execution_count": 132,
     "metadata": {},
     "output_type": "execute_result"
    }
   ],
   "source": [
    "df_2020['Investor'].fillna('unknown', inplace=True)\n",
    "df_2020['Investor'].isnull().sum()"
   ]
  },
  {
   "cell_type": "code",
   "execution_count": null,
   "metadata": {},
   "outputs": [
    {
     "data": {
      "text/plain": [
       "0"
      ]
     },
     "execution_count": 133,
     "metadata": {},
     "output_type": "execute_result"
    }
   ],
   "source": [
    "#Fill in missing data with median\n",
    "median_Amount=df_2020['Amount'].median()\n",
    "df_2020['Amount'].fillna(median_Amount, inplace=True)\n",
    "df_2020['Amount'].isnull().sum()"
   ]
  },
  {
   "cell_type": "code",
   "execution_count": null,
   "metadata": {},
   "outputs": [
    {
     "data": {
      "text/plain": [
       "array(['AgriTech', 'EdTech', 'Hygiene management', 'Escrow',\n",
       "       'Networking platform', 'FinTech', 'Crowdsourcing',\n",
       "       'Food & Bevarages', 'HealthTech', 'Fashion startup',\n",
       "       'Food Industry', 'Food Delivery', 'Virtual auditing startup',\n",
       "       'E-commerce', 'Gaming', 'Work fulfillment', 'AI startup',\n",
       "       'Telecommunication', 'Logistics', 'Tech Startup', 'Sports',\n",
       "       'Retail', 'Medtech', 'Tyre management', 'Cloud company',\n",
       "       'Software company', 'Venture capitalist', 'Renewable player',\n",
       "       'IoT startup', 'SaaS startup', 'Aero company', 'Marketing company',\n",
       "       'Retail startup', 'Co-working Startup', 'Finance company',\n",
       "       'Tech company', 'Solar Monitoring Company',\n",
       "       'Video sharing platform', 'Gaming startup',\n",
       "       'Video streaming platform', 'Consumer appliances',\n",
       "       'Blockchain startup', 'Conversational AI platform', 'Real Estate',\n",
       "       'SaaS platform', 'AI platform', 'Fusion beverages', 'HR Tech',\n",
       "       'Job portal', 'Hospitality', 'Digital Media', 'Dairy startup',\n",
       "       'Content management', 'Spacetech', 'Transportation',\n",
       "       'Trading platform', 'AI Company', 'Photonics startup',\n",
       "       'Entertainment', 'Cosmetics', 'Scanning app', 'Skincare startup',\n",
       "       'Food and Beverages', 'Biotechnology company', 'FoodTech',\n",
       "       'Proptech', 'CleanTech', 'Fitness startup', 'Healthcare',\n",
       "       'PaaS startup', 'Beverages', 'Social Media', 'Automobiles',\n",
       "       'Deeptech', 'EV startup', 'AR/VR startup', 'Recruitment startup',\n",
       "       'QSR startup', 'Video platform', 'Edtech', 'Fertility tech',\n",
       "       'Luxury car startup', 'FM', 'Food', 'Nutrition sector',\n",
       "       'Tech platform', 'Video', 'Retail Tech', 'HeathTech',\n",
       "       'Sles and marketing', 'LegalTech', 'Car Service',\n",
       "       'Bike marketplace', 'Agri tech', 'Reatil startup', 'AR platform',\n",
       "       'Consumer Goods', 'Content marketplace', 'Interior Design',\n",
       "       'Rental space', 'Soil-Tech', 'Ayurveda tech',\n",
       "       'Packaging solution startup', 'Cleantech', 'Sanitation solutions',\n",
       "       'HealthCare', 'Home Design', 'InsureTech', 'AI Startup',\n",
       "       'Solar solution', 'Jewellery startup',\n",
       "       'Multinational conglomerate company', 'Deeptech startup',\n",
       "       'Social Network', 'Publication', 'Tech', 'Fashion', 'Finance',\n",
       "       'Venture capital', 'Entreprenurship', 'Food devlivery',\n",
       "       'Warehouse', 'Online financial service', 'Eyeglasses',\n",
       "       'Battery design', 'Online credit management startup', 'Beverage',\n",
       "       'TravelTech', 'Agriculture', 'Startup laboratory',\n",
       "       'Personal care startup', 'Customer service company',\n",
       "       'SaaS\\xa0\\xa0startup', 'Marketing startup', 'Service industry',\n",
       "       'Social media', 'AI', 'Jewellery', 'AR startup', 'HR Tech startup',\n",
       "       'Automotive Startup', 'Food Startup', 'EdTech Startup',\n",
       "       'Car Trade', 'EdtTech', 'Manufacturing', 'AI Platform',\n",
       "       'Automation', 'Solar SaaS', 'WL & RAC protection',\n",
       "       'Social commerce', 'Home interior services', 'Agritech startup',\n",
       "       'API platform', 'Deep Tech', 'Electricity', 'Automotive company',\n",
       "       'FMCG', 'Insurance Tech', 'Video personalization',\n",
       "       'Software Company', 'Biomaterial startup', 'Health', 'IT',\n",
       "       'Craft Beer', 'Healthtech', 'Education', 'Investment',\n",
       "       'Linguistic Spiritual', 'Construction', 'Battery manufacturer',\n",
       "       'Nano Distribution Network', 'AI health', 'Dating app', 'Media',\n",
       "       'Fintech', 'Healthcare/Edtech', 'Social Commerce',\n",
       "       'Agritech/Commerce', 'Mobility tech', 'Social e-commerce',\n",
       "       'Food & Logistics', 'SpaceTech', 'Nutrition Tech', 'HR', 'IoT',\n",
       "       nan, 'Agritech', 'Interior design', 'Foodtech', 'AR/VR',\n",
       "       'Appliance', 'HR tech', 'Food tech', 'Mental Health', 'Ecommerce',\n",
       "       'Solar Solution', 'SaaS', 'Automobile', 'B2B marketplace',\n",
       "       'Fashion Tech', 'Nutrition tech', 'Health & Wellness',\n",
       "       'Cloud Kitchen', 'IoT/Automobile', 'Eye Wear', 'Digital tech',\n",
       "       'Data Intelligence', 'Co-living', 'Food & Beverages', 'Automotive',\n",
       "       'B2B', 'Defense tech', 'Marketplace', 'Construction tech',\n",
       "       'Nutrition', 'Coworking', 'Micro-mobiity', 'Auto-tech', 'Beauty',\n",
       "       'Robotics', 'Yoga & wellness', 'Logitech', 'Med Tech',\n",
       "       'Life sciences', 'Retail Aggregator', 'Deep Tech AI', 'Biotech',\n",
       "       'Blockchain', 'HrTech', 'Mobility/Transport', 'Travel', 'Rental',\n",
       "       'AI & Debt', 'SaaS/Edtech', 'Transport', 'Co-working', 'Insurtech',\n",
       "       'Cryptocurrency', 'Automotive tech', 'Legal', 'Fitness', 'EV',\n",
       "       'Supply chain, Agritech', 'Pharma', 'Insurance technology',\n",
       "       'Foodtech & Logistics', 'Housing', 'Pharmaceutical',\n",
       "       'Data Analytics', 'Investment Tech', 'Financial Services',\n",
       "       'Biopharma', 'Dairy', 'Beauty & wellness', 'Travel & SaaS',\n",
       "       'Tourism & EV', 'Media Tech', 'Location Analytics', 'E store',\n",
       "       'Data Science', 'Insurance', 'Health and Fitness', 'Technology',\n",
       "       'Interior & decor', 'eMobility', 'Automation tech',\n",
       "       'Media & Networking', 'E-market', 'AI & Data science',\n",
       "       'Travel tech', 'Automotive and Rentals', 'E-tail', 'Accomodation',\n",
       "       'AI & Media', 'Machine Learning', 'Content Marktplace',\n",
       "       'Visual Media', 'Hygiene', 'VR & SaaS', 'Sales & Services',\n",
       "       'AI & Deep learning', 'Housing & Rentals', 'Estore', 'Marketing',\n",
       "       'E tailor', 'E-mobility', 'Ad-tech', 'Neo-banking',\n",
       "       'Transport Automation', 'Techonology', 'Transport & Rentals',\n",
       "       'AI Robotics', 'Preschool Daycare', 'Food diet', 'B2B Agritech',\n",
       "       'E-connect', 'Tech hub', 'Consultancy', 'Pharmacy', 'Deisgning',\n",
       "       'Taxation', 'Automobile Technology'], dtype=object)"
      ]
     },
     "execution_count": 134,
     "metadata": {},
     "output_type": "execute_result"
    }
   ],
   "source": [
    "df_2020['Sector'].unique()"
   ]
  },
  {
   "cell_type": "code",
   "execution_count": null,
   "metadata": {},
   "outputs": [
    {
     "data": {
      "text/plain": [
       "13"
      ]
     },
     "execution_count": 135,
     "metadata": {},
     "output_type": "execute_result"
    }
   ],
   "source": [
    "df_2020['Sector'].isnull().sum()"
   ]
  },
  {
   "cell_type": "code",
   "execution_count": null,
   "metadata": {},
   "outputs": [],
   "source": [
    "df_2020_columns=df_2020[['Sector','What_it_does']]"
   ]
  },
  {
   "cell_type": "code",
   "execution_count": null,
   "metadata": {},
   "outputs": [
    {
     "data": {
      "text/html": [
       "<div>\n",
       "<style scoped>\n",
       "    .dataframe tbody tr th:only-of-type {\n",
       "        vertical-align: middle;\n",
       "    }\n",
       "\n",
       "    .dataframe tbody tr th {\n",
       "        vertical-align: top;\n",
       "    }\n",
       "\n",
       "    .dataframe thead th {\n",
       "        text-align: right;\n",
       "    }\n",
       "</style>\n",
       "<table border=\"1\" class=\"dataframe\">\n",
       "  <thead>\n",
       "    <tr style=\"text-align: right;\">\n",
       "      <th></th>\n",
       "      <th>Sector</th>\n",
       "      <th>What_it_does</th>\n",
       "    </tr>\n",
       "  </thead>\n",
       "  <tbody>\n",
       "    <tr>\n",
       "      <th>0</th>\n",
       "      <td>False</td>\n",
       "      <td>False</td>\n",
       "    </tr>\n",
       "    <tr>\n",
       "      <th>1</th>\n",
       "      <td>False</td>\n",
       "      <td>False</td>\n",
       "    </tr>\n",
       "    <tr>\n",
       "      <th>2</th>\n",
       "      <td>False</td>\n",
       "      <td>False</td>\n",
       "    </tr>\n",
       "    <tr>\n",
       "      <th>3</th>\n",
       "      <td>False</td>\n",
       "      <td>False</td>\n",
       "    </tr>\n",
       "    <tr>\n",
       "      <th>4</th>\n",
       "      <td>False</td>\n",
       "      <td>False</td>\n",
       "    </tr>\n",
       "    <tr>\n",
       "      <th>...</th>\n",
       "      <td>...</td>\n",
       "      <td>...</td>\n",
       "    </tr>\n",
       "    <tr>\n",
       "      <th>1050</th>\n",
       "      <td>False</td>\n",
       "      <td>False</td>\n",
       "    </tr>\n",
       "    <tr>\n",
       "      <th>1051</th>\n",
       "      <td>False</td>\n",
       "      <td>False</td>\n",
       "    </tr>\n",
       "    <tr>\n",
       "      <th>1052</th>\n",
       "      <td>False</td>\n",
       "      <td>False</td>\n",
       "    </tr>\n",
       "    <tr>\n",
       "      <th>1053</th>\n",
       "      <td>False</td>\n",
       "      <td>False</td>\n",
       "    </tr>\n",
       "    <tr>\n",
       "      <th>1054</th>\n",
       "      <td>False</td>\n",
       "      <td>False</td>\n",
       "    </tr>\n",
       "  </tbody>\n",
       "</table>\n",
       "<p>1055 rows × 2 columns</p>\n",
       "</div>"
      ],
      "text/plain": [
       "      Sector  What_it_does\n",
       "0      False         False\n",
       "1      False         False\n",
       "2      False         False\n",
       "3      False         False\n",
       "4      False         False\n",
       "...      ...           ...\n",
       "1050   False         False\n",
       "1051   False         False\n",
       "1052   False         False\n",
       "1053   False         False\n",
       "1054   False         False\n",
       "\n",
       "[1055 rows x 2 columns]"
      ]
     },
     "execution_count": 137,
     "metadata": {},
     "output_type": "execute_result"
    }
   ],
   "source": [
    "df_2020_columns.isnull()"
   ]
  },
  {
   "cell_type": "code",
   "execution_count": null,
   "metadata": {},
   "outputs": [],
   "source": [
    "empty_values= df_2020[df_2020['Sector'].isnull()]"
   ]
  },
  {
   "cell_type": "code",
   "execution_count": null,
   "metadata": {},
   "outputs": [
    {
     "data": {
      "text/html": [
       "<div>\n",
       "<style scoped>\n",
       "    .dataframe tbody tr th:only-of-type {\n",
       "        vertical-align: middle;\n",
       "    }\n",
       "\n",
       "    .dataframe tbody tr th {\n",
       "        vertical-align: top;\n",
       "    }\n",
       "\n",
       "    .dataframe thead th {\n",
       "        text-align: right;\n",
       "    }\n",
       "</style>\n",
       "<table border=\"1\" class=\"dataframe\">\n",
       "  <thead>\n",
       "    <tr style=\"text-align: right;\">\n",
       "      <th></th>\n",
       "      <th>Company_Brand</th>\n",
       "      <th>Founded</th>\n",
       "      <th>HeadQuarter</th>\n",
       "      <th>Sector</th>\n",
       "      <th>What_it_does</th>\n",
       "      <th>Founders</th>\n",
       "      <th>Investor</th>\n",
       "      <th>Amount</th>\n",
       "      <th>Stage</th>\n",
       "    </tr>\n",
       "  </thead>\n",
       "  <tbody>\n",
       "    <tr>\n",
       "      <th>518</th>\n",
       "      <td>Text Mercato</td>\n",
       "      <td>2015</td>\n",
       "      <td>Bangalore</td>\n",
       "      <td>NaN</td>\n",
       "      <td>Cataloguing startup that serves ecommerce plat...</td>\n",
       "      <td>Kiran Ramakrishna, Subhajit Mukherjee</td>\n",
       "      <td>1Crowd</td>\n",
       "      <td>649600.0</td>\n",
       "      <td>Series A</td>\n",
       "    </tr>\n",
       "    <tr>\n",
       "      <th>569</th>\n",
       "      <td>Magicpin</td>\n",
       "      <td>2015</td>\n",
       "      <td>Gurugram</td>\n",
       "      <td>NaN</td>\n",
       "      <td>It is a local discovery, rewards, and commerce...</td>\n",
       "      <td>Anshoo Sharma, Brij Bhushan</td>\n",
       "      <td>Samsung Venture Investment Corporation</td>\n",
       "      <td>7000000.0</td>\n",
       "      <td>Series D</td>\n",
       "    </tr>\n",
       "    <tr>\n",
       "      <th>687</th>\n",
       "      <td>Leap Club</td>\n",
       "      <td>2016</td>\n",
       "      <td>Gurugram</td>\n",
       "      <td>NaN</td>\n",
       "      <td>Community led professional network for women</td>\n",
       "      <td>Ragini Das, Anand Sinha</td>\n",
       "      <td>Whiteboard Capital, FirstCheque, Artha India V...</td>\n",
       "      <td>340000.0</td>\n",
       "      <td>Pre seed round</td>\n",
       "    </tr>\n",
       "    <tr>\n",
       "      <th>699</th>\n",
       "      <td>Juicy Chemistry</td>\n",
       "      <td>2014</td>\n",
       "      <td>nan</td>\n",
       "      <td>NaN</td>\n",
       "      <td>It focuses on organic based skincare products</td>\n",
       "      <td>Pritesh Asher</td>\n",
       "      <td>Akya Ventures</td>\n",
       "      <td>650000.0</td>\n",
       "      <td>Series A</td>\n",
       "    </tr>\n",
       "    <tr>\n",
       "      <th>707</th>\n",
       "      <td>Magicpin</td>\n",
       "      <td>2015</td>\n",
       "      <td>Gurugram</td>\n",
       "      <td>NaN</td>\n",
       "      <td>It is a local discovery, rewards, and commerce...</td>\n",
       "      <td>Anshoo Sharma, Brij Bhushan</td>\n",
       "      <td>Lightspeed Venture Partners</td>\n",
       "      <td>3879000.0</td>\n",
       "      <td>unknown</td>\n",
       "    </tr>\n",
       "    <tr>\n",
       "      <th>732</th>\n",
       "      <td>Servify</td>\n",
       "      <td>2016</td>\n",
       "      <td>Mumbai</td>\n",
       "      <td>NaN</td>\n",
       "      <td>It is a technology company which serves as a p...</td>\n",
       "      <td>Sreevathsa Prabhakar</td>\n",
       "      <td>Barkawi</td>\n",
       "      <td>250000.0</td>\n",
       "      <td>unknown</td>\n",
       "    </tr>\n",
       "    <tr>\n",
       "      <th>746</th>\n",
       "      <td>Wagonfly</td>\n",
       "      <td>2018</td>\n",
       "      <td>Bangalore</td>\n",
       "      <td>NaN</td>\n",
       "      <td>Contactless shopping and delivery experience b...</td>\n",
       "      <td>Raghavendra Prasad</td>\n",
       "      <td>Investment Trust of India</td>\n",
       "      <td>500000.0</td>\n",
       "      <td>unknown</td>\n",
       "    </tr>\n",
       "    <tr>\n",
       "      <th>763</th>\n",
       "      <td>DrinkPrime</td>\n",
       "      <td>2016</td>\n",
       "      <td>Bangalore</td>\n",
       "      <td>NaN</td>\n",
       "      <td>Water purifier subscription service</td>\n",
       "      <td>Manas Ranjan Hota, Vijender Reddy</td>\n",
       "      <td>Abhishek Goyal, Bharat Jaisinghani, FirstCheque</td>\n",
       "      <td>3000000.0</td>\n",
       "      <td>Seed Round</td>\n",
       "    </tr>\n",
       "    <tr>\n",
       "      <th>809</th>\n",
       "      <td>Kitchens Centre</td>\n",
       "      <td>2019</td>\n",
       "      <td>Delhi</td>\n",
       "      <td>NaN</td>\n",
       "      <td>Offers solutions to cloud kitchens by providin...</td>\n",
       "      <td>Lakshay Jain</td>\n",
       "      <td>AngelList India</td>\n",
       "      <td>500000.0</td>\n",
       "      <td>Seed Round</td>\n",
       "    </tr>\n",
       "    <tr>\n",
       "      <th>918</th>\n",
       "      <td>Innoviti</td>\n",
       "      <td>2016</td>\n",
       "      <td>Bangalore</td>\n",
       "      <td>NaN</td>\n",
       "      <td>Digital payments solutions company</td>\n",
       "      <td>Rajeev Agrawal</td>\n",
       "      <td>FMO</td>\n",
       "      <td>5000000.0</td>\n",
       "      <td>unknown</td>\n",
       "    </tr>\n",
       "    <tr>\n",
       "      <th>926</th>\n",
       "      <td>Brick&amp;Bolt</td>\n",
       "      <td>2018</td>\n",
       "      <td>Bangalore</td>\n",
       "      <td>NaN</td>\n",
       "      <td>Operates in the residential construction space</td>\n",
       "      <td>Jayesh Rajpurohit, Arpit Rajpurohit</td>\n",
       "      <td>Surge</td>\n",
       "      <td>1500000.0</td>\n",
       "      <td>Pre series A</td>\n",
       "    </tr>\n",
       "    <tr>\n",
       "      <th>1012</th>\n",
       "      <td>Toddle</td>\n",
       "      <td>2016</td>\n",
       "      <td>Bangalore</td>\n",
       "      <td>NaN</td>\n",
       "      <td>Collaboration and productivity platform for te...</td>\n",
       "      <td>Deepanshu Arora, Parita Parekh</td>\n",
       "      <td>Matrix Partners India</td>\n",
       "      <td>3000000.0</td>\n",
       "      <td>unknown</td>\n",
       "    </tr>\n",
       "    <tr>\n",
       "      <th>1031</th>\n",
       "      <td>HaikuJAM</td>\n",
       "      <td>2016</td>\n",
       "      <td>nan</td>\n",
       "      <td>NaN</td>\n",
       "      <td>Creative writing mobile platform</td>\n",
       "      <td>Neer Sharma</td>\n",
       "      <td>Lightbox. Social Capital, Dunce Capital</td>\n",
       "      <td>3400000.0</td>\n",
       "      <td>unknown</td>\n",
       "    </tr>\n",
       "  </tbody>\n",
       "</table>\n",
       "</div>"
      ],
      "text/plain": [
       "        Company_Brand  Founded HeadQuarter Sector  \\\n",
       "518      Text Mercato     2015   Bangalore    NaN   \n",
       "569          Magicpin     2015    Gurugram    NaN   \n",
       "687         Leap Club     2016    Gurugram    NaN   \n",
       "699   Juicy Chemistry     2014         nan    NaN   \n",
       "707          Magicpin     2015    Gurugram    NaN   \n",
       "732           Servify     2016      Mumbai    NaN   \n",
       "746          Wagonfly     2018   Bangalore    NaN   \n",
       "763        DrinkPrime     2016   Bangalore    NaN   \n",
       "809   Kitchens Centre     2019       Delhi    NaN   \n",
       "918          Innoviti     2016   Bangalore    NaN   \n",
       "926        Brick&Bolt     2018   Bangalore    NaN   \n",
       "1012           Toddle     2016   Bangalore    NaN   \n",
       "1031         HaikuJAM     2016         nan    NaN   \n",
       "\n",
       "                                           What_it_does  \\\n",
       "518   Cataloguing startup that serves ecommerce plat...   \n",
       "569   It is a local discovery, rewards, and commerce...   \n",
       "687        Community led professional network for women   \n",
       "699       It focuses on organic based skincare products   \n",
       "707   It is a local discovery, rewards, and commerce...   \n",
       "732   It is a technology company which serves as a p...   \n",
       "746   Contactless shopping and delivery experience b...   \n",
       "763                 Water purifier subscription service   \n",
       "809   Offers solutions to cloud kitchens by providin...   \n",
       "918                  Digital payments solutions company   \n",
       "926      Operates in the residential construction space   \n",
       "1012  Collaboration and productivity platform for te...   \n",
       "1031                   Creative writing mobile platform   \n",
       "\n",
       "                                   Founders  \\\n",
       "518   Kiran Ramakrishna, Subhajit Mukherjee   \n",
       "569             Anshoo Sharma, Brij Bhushan   \n",
       "687                 Ragini Das, Anand Sinha   \n",
       "699                           Pritesh Asher   \n",
       "707             Anshoo Sharma, Brij Bhushan   \n",
       "732                    Sreevathsa Prabhakar   \n",
       "746                      Raghavendra Prasad   \n",
       "763       Manas Ranjan Hota, Vijender Reddy   \n",
       "809                            Lakshay Jain   \n",
       "918                          Rajeev Agrawal   \n",
       "926     Jayesh Rajpurohit, Arpit Rajpurohit   \n",
       "1012         Deepanshu Arora, Parita Parekh   \n",
       "1031                            Neer Sharma   \n",
       "\n",
       "                                               Investor     Amount  \\\n",
       "518                                              1Crowd   649600.0   \n",
       "569              Samsung Venture Investment Corporation  7000000.0   \n",
       "687   Whiteboard Capital, FirstCheque, Artha India V...   340000.0   \n",
       "699                                       Akya Ventures   650000.0   \n",
       "707                         Lightspeed Venture Partners  3879000.0   \n",
       "732                                             Barkawi   250000.0   \n",
       "746                           Investment Trust of India   500000.0   \n",
       "763     Abhishek Goyal, Bharat Jaisinghani, FirstCheque  3000000.0   \n",
       "809                                     AngelList India   500000.0   \n",
       "918                                                 FMO  5000000.0   \n",
       "926                                               Surge  1500000.0   \n",
       "1012                              Matrix Partners India  3000000.0   \n",
       "1031            Lightbox. Social Capital, Dunce Capital  3400000.0   \n",
       "\n",
       "               Stage  \n",
       "518         Series A  \n",
       "569         Series D  \n",
       "687   Pre seed round  \n",
       "699         Series A  \n",
       "707          unknown  \n",
       "732          unknown  \n",
       "746          unknown  \n",
       "763       Seed Round  \n",
       "809       Seed Round  \n",
       "918          unknown  \n",
       "926     Pre series A  \n",
       "1012         unknown  \n",
       "1031         unknown  "
      ]
     },
     "execution_count": 139,
     "metadata": {},
     "output_type": "execute_result"
    }
   ],
   "source": [
    "empty_values"
   ]
  },
  {
   "cell_type": "code",
   "execution_count": null,
   "metadata": {},
   "outputs": [],
   "source": [
    "mode_Sector=df_2020['Sector'].mode()\n",
    "df_2020['Sector'].fillna(mode_Sector, inplace=True)"
   ]
  },
  {
   "cell_type": "code",
   "execution_count": null,
   "metadata": {},
   "outputs": [
    {
     "data": {
      "text/plain": [
       "13"
      ]
     },
     "execution_count": 141,
     "metadata": {},
     "output_type": "execute_result"
    }
   ],
   "source": [
    "df_2020['Sector'].isnull().sum()"
   ]
  },
  {
   "cell_type": "code",
   "execution_count": null,
   "metadata": {},
   "outputs": [
    {
     "data": {
      "text/html": [
       "<div>\n",
       "<style scoped>\n",
       "    .dataframe tbody tr th:only-of-type {\n",
       "        vertical-align: middle;\n",
       "    }\n",
       "\n",
       "    .dataframe tbody tr th {\n",
       "        vertical-align: top;\n",
       "    }\n",
       "\n",
       "    .dataframe thead th {\n",
       "        text-align: right;\n",
       "    }\n",
       "</style>\n",
       "<table border=\"1\" class=\"dataframe\">\n",
       "  <thead>\n",
       "    <tr style=\"text-align: right;\">\n",
       "      <th></th>\n",
       "      <th>Company_Brand</th>\n",
       "      <th>Founded</th>\n",
       "      <th>HeadQuarter</th>\n",
       "      <th>Sector</th>\n",
       "      <th>What_it_does</th>\n",
       "      <th>Founders</th>\n",
       "      <th>Investor</th>\n",
       "      <th>Amount</th>\n",
       "      <th>Stage</th>\n",
       "    </tr>\n",
       "  </thead>\n",
       "  <tbody>\n",
       "    <tr>\n",
       "      <th>0</th>\n",
       "      <td>Unbox Robotics</td>\n",
       "      <td>2019.0</td>\n",
       "      <td>Bangalore</td>\n",
       "      <td>AI startup</td>\n",
       "      <td>Unbox Robotics builds on-demand AI-driven ware...</td>\n",
       "      <td>Pramod Ghadge, Shahid Memon</td>\n",
       "      <td>BEENEXT, Entrepreneur First</td>\n",
       "      <td>$1,200,000</td>\n",
       "      <td>Pre-series A</td>\n",
       "    </tr>\n",
       "    <tr>\n",
       "      <th>1</th>\n",
       "      <td>upGrad</td>\n",
       "      <td>2015.0</td>\n",
       "      <td>Mumbai</td>\n",
       "      <td>EdTech</td>\n",
       "      <td>UpGrad is an online higher education platform.</td>\n",
       "      <td>Mayank Kumar, Phalgun Kompalli, Ravijot Chugh,...</td>\n",
       "      <td>Unilazer Ventures, IIFL Asset Management</td>\n",
       "      <td>$120,000,000</td>\n",
       "      <td>NaN</td>\n",
       "    </tr>\n",
       "    <tr>\n",
       "      <th>2</th>\n",
       "      <td>Lead School</td>\n",
       "      <td>2012.0</td>\n",
       "      <td>Mumbai</td>\n",
       "      <td>EdTech</td>\n",
       "      <td>LEAD School offers technology based school tra...</td>\n",
       "      <td>Smita Deorah, Sumeet Mehta</td>\n",
       "      <td>GSV Ventures, Westbridge Capital</td>\n",
       "      <td>$30,000,000</td>\n",
       "      <td>Series D</td>\n",
       "    </tr>\n",
       "    <tr>\n",
       "      <th>3</th>\n",
       "      <td>Bizongo</td>\n",
       "      <td>2015.0</td>\n",
       "      <td>Mumbai</td>\n",
       "      <td>B2B E-commerce</td>\n",
       "      <td>Bizongo is a business-to-business online marke...</td>\n",
       "      <td>Aniket Deb, Ankit Tomar, Sachin Agrawal</td>\n",
       "      <td>CDC Group, IDG Capital</td>\n",
       "      <td>$51,000,000</td>\n",
       "      <td>Series C</td>\n",
       "    </tr>\n",
       "    <tr>\n",
       "      <th>4</th>\n",
       "      <td>FypMoney</td>\n",
       "      <td>2021.0</td>\n",
       "      <td>Gurugram</td>\n",
       "      <td>FinTech</td>\n",
       "      <td>FypMoney is Digital NEO Bank for Teenagers, em...</td>\n",
       "      <td>Kapil Banwari</td>\n",
       "      <td>Liberatha Kallat, Mukesh Yadav, Dinesh Nagpal</td>\n",
       "      <td>$2,000,000</td>\n",
       "      <td>Seed</td>\n",
       "    </tr>\n",
       "  </tbody>\n",
       "</table>\n",
       "</div>"
      ],
      "text/plain": [
       "    Company_Brand  Founded HeadQuarter          Sector  \\\n",
       "0  Unbox Robotics   2019.0   Bangalore      AI startup   \n",
       "1          upGrad   2015.0      Mumbai          EdTech   \n",
       "2     Lead School   2012.0      Mumbai          EdTech   \n",
       "3         Bizongo   2015.0      Mumbai  B2B E-commerce   \n",
       "4        FypMoney   2021.0    Gurugram         FinTech   \n",
       "\n",
       "                                        What_it_does  \\\n",
       "0  Unbox Robotics builds on-demand AI-driven ware...   \n",
       "1     UpGrad is an online higher education platform.   \n",
       "2  LEAD School offers technology based school tra...   \n",
       "3  Bizongo is a business-to-business online marke...   \n",
       "4  FypMoney is Digital NEO Bank for Teenagers, em...   \n",
       "\n",
       "                                            Founders  \\\n",
       "0                        Pramod Ghadge, Shahid Memon   \n",
       "1  Mayank Kumar, Phalgun Kompalli, Ravijot Chugh,...   \n",
       "2                         Smita Deorah, Sumeet Mehta   \n",
       "3            Aniket Deb, Ankit Tomar, Sachin Agrawal   \n",
       "4                                      Kapil Banwari   \n",
       "\n",
       "                                        Investor        Amount         Stage  \n",
       "0                    BEENEXT, Entrepreneur First    $1,200,000  Pre-series A  \n",
       "1       Unilazer Ventures, IIFL Asset Management  $120,000,000           NaN  \n",
       "2               GSV Ventures, Westbridge Capital   $30,000,000      Series D  \n",
       "3                         CDC Group, IDG Capital   $51,000,000      Series C  \n",
       "4  Liberatha Kallat, Mukesh Yadav, Dinesh Nagpal    $2,000,000          Seed  "
      ]
     },
     "execution_count": 142,
     "metadata": {},
     "output_type": "execute_result"
    }
   ],
   "source": [
    "#loading 2021 data\n",
    "df_2021= pd.read_csv('startup_function2021.csv')\n",
    "df_2021.head(5)"
   ]
  },
  {
   "cell_type": "code",
   "execution_count": null,
   "metadata": {},
   "outputs": [
    {
     "data": {
      "text/plain": [
       "(1209, 9)"
      ]
     },
     "execution_count": 143,
     "metadata": {},
     "output_type": "execute_result"
    }
   ],
   "source": [
    "# # Get the dimensions of the DataFrame\n",
    "df_2021.shape"
   ]
  },
  {
   "cell_type": "code",
   "execution_count": null,
   "metadata": {},
   "outputs": [
    {
     "data": {
      "text/html": [
       "<div>\n",
       "<style scoped>\n",
       "    .dataframe tbody tr th:only-of-type {\n",
       "        vertical-align: middle;\n",
       "    }\n",
       "\n",
       "    .dataframe tbody tr th {\n",
       "        vertical-align: top;\n",
       "    }\n",
       "\n",
       "    .dataframe thead th {\n",
       "        text-align: right;\n",
       "    }\n",
       "</style>\n",
       "<table border=\"1\" class=\"dataframe\">\n",
       "  <thead>\n",
       "    <tr style=\"text-align: right;\">\n",
       "      <th></th>\n",
       "      <th>Founded</th>\n",
       "    </tr>\n",
       "  </thead>\n",
       "  <tbody>\n",
       "    <tr>\n",
       "      <th>count</th>\n",
       "      <td>1208.000000</td>\n",
       "    </tr>\n",
       "    <tr>\n",
       "      <th>mean</th>\n",
       "      <td>2016.655629</td>\n",
       "    </tr>\n",
       "    <tr>\n",
       "      <th>std</th>\n",
       "      <td>4.517364</td>\n",
       "    </tr>\n",
       "    <tr>\n",
       "      <th>min</th>\n",
       "      <td>1963.000000</td>\n",
       "    </tr>\n",
       "    <tr>\n",
       "      <th>25%</th>\n",
       "      <td>2015.000000</td>\n",
       "    </tr>\n",
       "    <tr>\n",
       "      <th>50%</th>\n",
       "      <td>2018.000000</td>\n",
       "    </tr>\n",
       "    <tr>\n",
       "      <th>75%</th>\n",
       "      <td>2020.000000</td>\n",
       "    </tr>\n",
       "    <tr>\n",
       "      <th>max</th>\n",
       "      <td>2021.000000</td>\n",
       "    </tr>\n",
       "  </tbody>\n",
       "</table>\n",
       "</div>"
      ],
      "text/plain": [
       "           Founded\n",
       "count  1208.000000\n",
       "mean   2016.655629\n",
       "std       4.517364\n",
       "min    1963.000000\n",
       "25%    2015.000000\n",
       "50%    2018.000000\n",
       "75%    2020.000000\n",
       "max    2021.000000"
      ]
     },
     "execution_count": 144,
     "metadata": {},
     "output_type": "execute_result"
    }
   ],
   "source": [
    "# # Generate descriptive statistics\n",
    "df_2021.describe()"
   ]
  },
  {
   "cell_type": "code",
   "execution_count": null,
   "metadata": {},
   "outputs": [
    {
     "data": {
      "text/plain": [
       "Company_Brand    1033\n",
       "Founded            30\n",
       "HeadQuarter        70\n",
       "Sector            254\n",
       "What_it_does     1143\n",
       "Founders         1095\n",
       "Investor          937\n",
       "Amount            278\n",
       "Stage              31\n",
       "dtype: int64"
      ]
     },
     "execution_count": 145,
     "metadata": {},
     "output_type": "execute_result"
    }
   ],
   "source": [
    "# Get the cardinality/number of unique values in each column\n",
    "df_2021.nunique()"
   ]
  },
  {
   "cell_type": "code",
   "execution_count": null,
   "metadata": {},
   "outputs": [
    {
     "data": {
      "text/plain": [
       "Company_Brand     object\n",
       "Founded          float64\n",
       "HeadQuarter       object\n",
       "Sector            object\n",
       "What_it_does      object\n",
       "Founders          object\n",
       "Investor          object\n",
       "Amount            object\n",
       "Stage             object\n",
       "dtype: object"
      ]
     },
     "execution_count": 146,
     "metadata": {},
     "output_type": "execute_result"
    }
   ],
   "source": [
    "# Get the data types of each column\n",
    "df_2021.dtypes"
   ]
  },
  {
   "cell_type": "code",
   "execution_count": null,
   "metadata": {},
   "outputs": [
    {
     "data": {
      "text/plain": [
       "Company_Brand      0\n",
       "Founded            1\n",
       "HeadQuarter        1\n",
       "Sector             0\n",
       "What_it_does       0\n",
       "Founders           4\n",
       "Investor          62\n",
       "Amount             3\n",
       "Stage            428\n",
       "dtype: int64"
      ]
     },
     "execution_count": 147,
     "metadata": {},
     "output_type": "execute_result"
    }
   ],
   "source": [
    "# Get the missing values of each column\n",
    "df_2021.isna().sum()"
   ]
  },
  {
   "cell_type": "code",
   "execution_count": null,
   "metadata": {},
   "outputs": [
    {
     "data": {
      "text/plain": [
       "Stage            35.401158\n",
       "Investor          5.128205\n",
       "Founders          0.330852\n",
       "Amount            0.248139\n",
       "Founded           0.082713\n",
       "HeadQuarter       0.082713\n",
       "Company_Brand     0.000000\n",
       "Sector            0.000000\n",
       "What_it_does      0.000000\n",
       "dtype: float64"
      ]
     },
     "execution_count": 148,
     "metadata": {},
     "output_type": "execute_result"
    }
   ],
   "source": [
    "# calculate the percentage of missing values in each column and sort them in descending order\n",
    "df_2021.isna().mean().sort_values(ascending=False)*100"
   ]
  },
  {
   "cell_type": "code",
   "execution_count": null,
   "metadata": {},
   "outputs": [
    {
     "data": {
      "text/plain": [
       "Index(['Company_Brand', 'Founded', 'HeadQuarter', 'Sector', 'What_it_does',\n",
       "       'Founders', 'Investor', 'Amount($)', 'Stage'],\n",
       "      dtype='object')"
      ]
     },
     "execution_count": 149,
     "metadata": {},
     "output_type": "execute_result"
    }
   ],
   "source": [
    "# rename company/brand and Amount columns\n",
    "data2021=df_2021.rename(columns={'Company/Brand':'Company_Brand','Amount':'Amount($)'})\n",
    "data2021.columns"
   ]
  },
  {
   "cell_type": "code",
   "execution_count": null,
   "metadata": {},
   "outputs": [
    {
     "data": {
      "text/plain": [
       "BharatPe            8\n",
       "BYJU'S              4\n",
       "CoinSwitch Kuber    3\n",
       "Delhivery           3\n",
       "Slice               3\n",
       "                   ..\n",
       "MYFITNESS           1\n",
       "I am Love           1\n",
       "Gumlet              1\n",
       "Eloelo              1\n",
       "WeRize              1\n",
       "Name: Company_Brand, Length: 1033, dtype: int64"
      ]
     },
     "execution_count": 150,
     "metadata": {},
     "output_type": "execute_result"
    }
   ],
   "source": [
    "# count the occurrences of unique values in Company_brand column\n",
    "data2021['Company_Brand'].value_counts()"
   ]
  },
  {
   "cell_type": "code",
   "execution_count": null,
   "metadata": {},
   "outputs": [
    {
     "data": {
      "text/plain": [
       "2020.0    237\n",
       "2019.0    177\n",
       "2018.0    143\n",
       "2015.0    129\n",
       "2016.0    118\n",
       "2017.0    112\n",
       "2021.0     76\n",
       "2014.0     57\n",
       "2011.0     34\n",
       "2012.0     31\n",
       "2013.0     22\n",
       "2008.0     15\n",
       "2010.0     14\n",
       "2009.0      9\n",
       "2007.0      6\n",
       "2000.0      6\n",
       "2006.0      3\n",
       "2002.0      2\n",
       "1994.0      2\n",
       "1989.0      2\n",
       "1999.0      2\n",
       "1998.0      2\n",
       "2004.0      2\n",
       "1993.0      1\n",
       "1978.0      1\n",
       "2003.0      1\n",
       "1991.0      1\n",
       "1984.0      1\n",
       "2005.0      1\n",
       "1963.0      1\n",
       "Name: Founded, dtype: int64"
      ]
     },
     "execution_count": 151,
     "metadata": {},
     "output_type": "execute_result"
    }
   ],
   "source": [
    "# count the occurrences of unique values in Founded column\n",
    "data2021['Founded'].value_counts()"
   ]
  },
  {
   "cell_type": "code",
   "execution_count": null,
   "metadata": {},
   "outputs": [],
   "source": [
    "# remove the floats in founded year\n",
    "# Replace non-finite values with median\n",
    "data2021['Founded'] = data2021['Founded'].fillna(data2021['Founded'].median())\n",
    "\n",
    "# Convert the 'Founded' column to an integer data type\n",
    "data2021['Founded'] = data2021['Founded'].astype(int)"
   ]
  },
  {
   "cell_type": "code",
   "execution_count": null,
   "metadata": {},
   "outputs": [
    {
     "data": {
      "text/plain": [
       "2020    237\n",
       "2019    177\n",
       "2018    144\n",
       "2015    129\n",
       "2016    118\n",
       "2017    112\n",
       "2021     76\n",
       "2014     57\n",
       "2011     34\n",
       "2012     31\n",
       "2013     22\n",
       "2008     15\n",
       "2010     14\n",
       "2009      9\n",
       "2007      6\n",
       "2000      6\n",
       "2006      3\n",
       "2002      2\n",
       "1994      2\n",
       "1989      2\n",
       "1999      2\n",
       "1998      2\n",
       "2004      2\n",
       "1993      1\n",
       "1978      1\n",
       "2003      1\n",
       "1991      1\n",
       "1984      1\n",
       "2005      1\n",
       "1963      1\n",
       "Name: Founded, dtype: int64"
      ]
     },
     "execution_count": 153,
     "metadata": {},
     "output_type": "execute_result"
    }
   ],
   "source": [
    "data2021['Founded'].value_counts()"
   ]
  },
  {
   "cell_type": "code",
   "execution_count": null,
   "metadata": {},
   "outputs": [
    {
     "data": {
      "text/plain": [
       "Bangalore      426\n",
       "Mumbai         203\n",
       "Gurugram       155\n",
       "New Delhi      144\n",
       "Pune            47\n",
       "              ... \n",
       "Roorkee          1\n",
       "Ambernath        1\n",
       "Panchkula        1\n",
       "Andheri          1\n",
       "Gandhinagar      1\n",
       "Name: HeadQuarter, Length: 70, dtype: int64"
      ]
     },
     "execution_count": 154,
     "metadata": {},
     "output_type": "execute_result"
    }
   ],
   "source": [
    "# count the occurrences of unique values in Headquarter column\n",
    "data2021['HeadQuarter'].value_counts()"
   ]
  },
  {
   "cell_type": "code",
   "execution_count": null,
   "metadata": {},
   "outputs": [],
   "source": [
    "# a few entries do not appear to be cities. extract the first part of each value\n",
    "# in the 'HeadQuarter' column before the comma\n",
    "# Split values in 'HeadQuarter' column by comma\n",
    "data2021['HeadQuarter'] = data2021['HeadQuarter'].str.split(',').str[0]"
   ]
  },
  {
   "cell_type": "code",
   "execution_count": null,
   "metadata": {},
   "outputs": [],
   "source": [
    "# Replace non headquarter values with NaN in a column\n",
    "data2021['HeadQuarter'] = data2021['HeadQuarter'].replace(['Pharmaceuticals\\t#REF!', 'Food & Beverages', 'Computer Games','Online Media\\t#REF!','Information Technology & Services'])"
   ]
  },
  {
   "cell_type": "code",
   "execution_count": null,
   "metadata": {},
   "outputs": [
    {
     "data": {
      "text/plain": [
       "Bangalore      426\n",
       "Mumbai         203\n",
       "Gurugram       155\n",
       "New Delhi      144\n",
       "Pune            47\n",
       "              ... \n",
       "Roorkee          1\n",
       "Ambernath        1\n",
       "Panchkula        1\n",
       "Andheri          1\n",
       "Gandhinagar      1\n",
       "Name: HeadQuarter, Length: 70, dtype: int64"
      ]
     },
     "execution_count": 157,
     "metadata": {},
     "output_type": "execute_result"
    }
   ],
   "source": [
    "df_2021['HeadQuarter'].value_counts()"
   ]
  },
  {
   "cell_type": "code",
   "execution_count": null,
   "metadata": {},
   "outputs": [],
   "source": [
    "# remove special characters\n",
    "df_2021['HeadQuarter'] = df_2021['HeadQuarter'].str.replace('[\\,#,!,]','')"
   ]
  },
  {
   "cell_type": "code",
   "execution_count": null,
   "metadata": {},
   "outputs": [
    {
     "data": {
      "text/plain": [
       "FinTech                          122\n",
       "EdTech                           102\n",
       "Financial Services                61\n",
       "E-commerce                        37\n",
       "Food & Beverages                  37\n",
       "                                ... \n",
       "Business Supplies & Equipment      1\n",
       "D2C jewellery                      1\n",
       "Oil & Energy                       1\n",
       "EV                                 1\n",
       "Staffing & Recruiting              1\n",
       "Name: Sector, Length: 254, dtype: int64"
      ]
     },
     "execution_count": 159,
     "metadata": {},
     "output_type": "execute_result"
    }
   ],
   "source": [
    "# count the occurrences of unique values in Sector column\n",
    "df_2021['Sector'].value_counts().sort_values(ascending=False)"
   ]
  },
  {
   "cell_type": "code",
   "execution_count": null,
   "metadata": {},
   "outputs": [
    {
     "name": "stdout",
     "output_type": "stream",
     "text": [
      "FinTech                   122\n",
      "EdTech                    102\n",
      "Financial Services         61\n",
      "E-commerce                 37\n",
      "Food & Beverages           37\n",
      "                         ... \n",
      "Manufacturing startup       1\n",
      "Cryptocurrency              1\n",
      "Vehicle repair startup      1\n",
      "Advisory firm               1\n",
      "Staffing & Recruiting       1\n",
      "Name: Sector, Length: 254, dtype: int64\n"
     ]
    }
   ],
   "source": [
    "# there are inconsistencies in the sector column\n",
    "# create a function to merge values based on name similarity to improve consistency\n",
    "def merge_values_by_name_similarity(df, column_name, pattern, consistent_name):\n",
    "    df.loc[df[column_name].str.contains(pattern, case=False), column_name] = consistent_name\n",
    "    return df\n",
    "\n",
    "# Define the patterns and consistent names\n",
    "patterns = ['care', 'Information', 'food']\n",
    "consistent_names = ['Healthcare', 'Information Technology & Services', 'Food & Beverages']\n",
    "\n",
    "# Apply the function for each pattern and consistent name\n",
    "for pattern, consistent_name in zip(patterns, consistent_names):\n",
    "    data2021 = merge_values_by_name_similarity(data2021, 'Sector', pattern, consistent_name)\n",
    "\n",
    "# Display the updated column\n",
    "print(df_2021['Sector'].value_counts())"
   ]
  },
  {
   "cell_type": "code",
   "execution_count": null,
   "metadata": {},
   "outputs": [
    {
     "data": {
      "text/plain": [
       "1000000.0      85\n",
       "2000000.0      60\n",
       "3000000.0      48\n",
       "10000000.0     43\n",
       "5000000.0      41\n",
       "               ..\n",
       "265000.0        1\n",
       "111000000.0     1\n",
       "10000.0         1\n",
       "130000.0        1\n",
       "55000000.0      1\n",
       "Name: Amount($), Length: 197, dtype: int64"
      ]
     },
     "execution_count": 161,
     "metadata": {},
     "output_type": "execute_result"
    }
   ],
   "source": [
    "# there are inconsistencies in the amount column\n",
    "# remove special characters($ sign)\n",
    "data2021['Amount($)'] = data2021['Amount($)'].str.replace('[$,,]','', regex=True)\n",
    "# remove any non-digit characters from the 'Amount($)' column\n",
    "data2021['Amount($)'] = data2021['Amount($)'].str.replace(r'\\D+','', regex=True)\n",
    "# convert empty space to nan\n",
    "data2021['Amount($)'] = data2021['Amount($)'].replace('',np.nan)\n",
    "# convert column to numeric\n",
    "data2021[\"Amount($)\"] = pd.to_numeric(data2021[\"Amount($)\"], errors='coerce')\n",
    "data2021['Amount($)'].value_counts()"
   ]
  },
  {
   "cell_type": "code",
   "execution_count": null,
   "metadata": {},
   "outputs": [
    {
     "data": {
      "text/plain": [
       "Seed             246\n",
       "Pre-series A     157\n",
       "Series A         126\n",
       "Series B          49\n",
       "Pre-seed          47\n",
       "Series C          45\n",
       "Debt              27\n",
       "Series D          21\n",
       "Series E          18\n",
       "Pre-series B      10\n",
       "Series F           6\n",
       "Pre-series A1      4\n",
       "$1200000           2\n",
       "Bridge             2\n",
       "Series G           2\n",
       "Series H           2\n",
       "$300000            2\n",
       "Pre-series         2\n",
       "Series A+          1\n",
       "Series F2          1\n",
       "Series B3          1\n",
       "PE                 1\n",
       "Series F1          1\n",
       "Seed+              1\n",
       "Early seed         1\n",
       "Series D1          1\n",
       "$6000000           1\n",
       "$1000000           1\n",
       "Seies A            1\n",
       "Series A2          1\n",
       "Series I           1\n",
       "Name: Stage, dtype: int64"
      ]
     },
     "execution_count": 162,
     "metadata": {},
     "output_type": "execute_result"
    }
   ],
   "source": [
    "# count the occurrences of unique values in Stage column\n",
    "data2021['Stage'].value_counts().sort_values(ascending=False)"
   ]
  },
  {
   "cell_type": "code",
   "execution_count": null,
   "metadata": {},
   "outputs": [
    {
     "data": {
      "text/plain": [
       "Unknown         434\n",
       "Seed            246\n",
       "Pre-series A    161\n",
       "Series A        127\n",
       "Series B         50\n",
       "Pre-seed         47\n",
       "Series C         45\n",
       "Debt             27\n",
       "Series D         22\n",
       "Series E         18\n",
       "Pre-series B     10\n",
       "Series F          8\n",
       "Series G          2\n",
       "Pre-series        2\n",
       "Series H          2\n",
       "Bridge            2\n",
       "Series A+         1\n",
       "PE                1\n",
       "Early seed        1\n",
       "Seies A           1\n",
       "Seed+             1\n",
       "Series I          1\n",
       "Name: Stage, dtype: int64"
      ]
     },
     "execution_count": 163,
     "metadata": {},
     "output_type": "execute_result"
    }
   ],
   "source": [
    "# the stage has inconsistencies\n",
    "# remove special characters($ sign)\n",
    "data2021['Stage'] = data2021['Stage'].str.replace('$','', regex=True)\n",
    "# remove any digit characters from the 'Stage' column\n",
    "data2021['Stage'] = data2021['Stage'].str.replace(r'\\d+','', regex=True)\n",
    "# replace empty spaces with np.nan\n",
    "data2021['Stage'] = data2021['Stage'].replace('', np.nan)\n",
    "# replace nan with 'unknown'\n",
    "data2021['Stage'] = data2021['Stage'].replace(np.nan, 'Unknown')\n",
    "\n",
    "data2021['Stage'].value_counts()"
   ]
  },
  {
   "cell_type": "code",
   "execution_count": null,
   "metadata": {},
   "outputs": [
    {
     "data": {
      "text/plain": [
       "Ashneer Grover, Shashvat Nakrani                        7\n",
       "Byju Raveendran, Divya Gokulnath                        5\n",
       "Bhavish Aggarwal                                        4\n",
       "Ritesh Agarwal                                          4\n",
       "Ashish Singhal, Govind Soni, Vimal Sagar Tiwari         3\n",
       "                                                       ..\n",
       "Adarsh Anand, Amit Tiwari                               1\n",
       "Madhav Krishna                                          1\n",
       "Sai Srinivas Kiran GV, Shubh Malhotra                   1\n",
       "O.P. Godara, Vivek Pathak, Kapil Arya, Sharad Bansal    1\n",
       "Vishal Chopra, Himanshu Gupta                           1\n",
       "Name: Founders, Length: 1095, dtype: int64"
      ]
     },
     "execution_count": 164,
     "metadata": {},
     "output_type": "execute_result"
    }
   ],
   "source": [
    "# count the occurrences of unique values in Founders column\n",
    "data2021['Founders'].value_counts().sort_values(ascending=False)"
   ]
  },
  {
   "cell_type": "code",
   "execution_count": null,
   "metadata": {},
   "outputs": [
    {
     "data": {
      "text/html": [
       "<div>\n",
       "<style scoped>\n",
       "    .dataframe tbody tr th:only-of-type {\n",
       "        vertical-align: middle;\n",
       "    }\n",
       "\n",
       "    .dataframe tbody tr th {\n",
       "        vertical-align: top;\n",
       "    }\n",
       "\n",
       "    .dataframe thead th {\n",
       "        text-align: right;\n",
       "    }\n",
       "</style>\n",
       "<table border=\"1\" class=\"dataframe\">\n",
       "  <thead>\n",
       "    <tr style=\"text-align: right;\">\n",
       "      <th></th>\n",
       "      <th>Company_Brand</th>\n",
       "      <th>Founded</th>\n",
       "      <th>HeadQuarter</th>\n",
       "      <th>Sector</th>\n",
       "      <th>What_it_does</th>\n",
       "      <th>Founders</th>\n",
       "      <th>Investor</th>\n",
       "      <th>Amount($)</th>\n",
       "      <th>Stage</th>\n",
       "    </tr>\n",
       "  </thead>\n",
       "  <tbody>\n",
       "    <tr>\n",
       "      <th>274</th>\n",
       "      <td>ByteLearn</td>\n",
       "      <td>2021</td>\n",
       "      <td>Noida</td>\n",
       "      <td>E-learning</td>\n",
       "      <td>AI powered teaching assistant for 100 Mn teach...</td>\n",
       "      <td>NaN</td>\n",
       "      <td>Aditya Singhal, Nishant Sinha</td>\n",
       "      <td>9500000.0</td>\n",
       "      <td>Seed</td>\n",
       "    </tr>\n",
       "    <tr>\n",
       "      <th>558</th>\n",
       "      <td>The Sleep Company</td>\n",
       "      <td>2019</td>\n",
       "      <td>Mumbai</td>\n",
       "      <td>Consumer Goods</td>\n",
       "      <td>Patent Pending sleep technology developed by a...</td>\n",
       "      <td>NaN</td>\n",
       "      <td>Fireside Ventures</td>\n",
       "      <td>1000000.0</td>\n",
       "      <td>Pre-series A</td>\n",
       "    </tr>\n",
       "    <tr>\n",
       "      <th>1095</th>\n",
       "      <td>PredictiVu</td>\n",
       "      <td>2020</td>\n",
       "      <td>Gurugram</td>\n",
       "      <td>Management Consulting</td>\n",
       "      <td>PredictiVu's AI-enabled dashboard integrated w...</td>\n",
       "      <td>NaN</td>\n",
       "      <td>Kunal Sarkar</td>\n",
       "      <td>1500000.0</td>\n",
       "      <td>Pre-seed</td>\n",
       "    </tr>\n",
       "    <tr>\n",
       "      <th>1187</th>\n",
       "      <td>NeuroPixel.AI</td>\n",
       "      <td>2020</td>\n",
       "      <td>Bangalore</td>\n",
       "      <td>Deeptech</td>\n",
       "      <td>NeuroPixel.AI Labs is a deep tech start-up tha...</td>\n",
       "      <td>NaN</td>\n",
       "      <td>Arvind Venugopal Nair, Amritendu Mukherjee</td>\n",
       "      <td>800000.0</td>\n",
       "      <td>Seed</td>\n",
       "    </tr>\n",
       "  </tbody>\n",
       "</table>\n",
       "</div>"
      ],
      "text/plain": [
       "          Company_Brand  Founded HeadQuarter                 Sector  \\\n",
       "274           ByteLearn     2021       Noida             E-learning   \n",
       "558   The Sleep Company     2019      Mumbai         Consumer Goods   \n",
       "1095         PredictiVu     2020    Gurugram  Management Consulting   \n",
       "1187      NeuroPixel.AI     2020   Bangalore               Deeptech   \n",
       "\n",
       "                                           What_it_does Founders  \\\n",
       "274   AI powered teaching assistant for 100 Mn teach...      NaN   \n",
       "558   Patent Pending sleep technology developed by a...      NaN   \n",
       "1095  PredictiVu's AI-enabled dashboard integrated w...      NaN   \n",
       "1187  NeuroPixel.AI Labs is a deep tech start-up tha...      NaN   \n",
       "\n",
       "                                        Investor  Amount($)         Stage  \n",
       "274                Aditya Singhal, Nishant Sinha  9500000.0          Seed  \n",
       "558                            Fireside Ventures  1000000.0  Pre-series A  \n",
       "1095                                Kunal Sarkar  1500000.0      Pre-seed  \n",
       "1187  Arvind Venugopal Nair, Amritendu Mukherjee   800000.0          Seed  "
      ]
     },
     "execution_count": 165,
     "metadata": {},
     "output_type": "execute_result"
    }
   ],
   "source": [
    "missing_rows=data2021[data2021['Founders'].isnull()]\n",
    "missing_rows"
   ]
  },
  {
   "cell_type": "code",
   "execution_count": null,
   "metadata": {},
   "outputs": [
    {
     "data": {
      "text/plain": [
       "Inflection Point Ventures                   24\n",
       "Venture Catalysts                           11\n",
       "Tiger Global                                11\n",
       "Elevation Capital                            7\n",
       "Titan Capital                                6\n",
       "                                            ..\n",
       "Omidyar Network India, Chiratae Ventures     1\n",
       "Elevation Capital, Accel India               1\n",
       "Legatum Capital                              1\n",
       "1000000\\t#REF!                               1\n",
       "3one4 Capital, Kalaari Capital               1\n",
       "Name: Investor, Length: 937, dtype: int64"
      ]
     },
     "execution_count": 166,
     "metadata": {},
     "output_type": "execute_result"
    }
   ],
   "source": [
    "# count the occurrences of unique values in Investor column\n",
    "data2021['Investor'].value_counts().sort_values(ascending=False)"
   ]
  },
  {
   "cell_type": "code",
   "execution_count": null,
   "metadata": {},
   "outputs": [
    {
     "data": {
      "text/plain": [
       "Company_Brand      0\n",
       "Founded            0\n",
       "HeadQuarter        1\n",
       "Sector             0\n",
       "What_it_does       0\n",
       "Founders           4\n",
       "Investor          62\n",
       "Amount($)        153\n",
       "Stage              0\n",
       "dtype: int64"
      ]
     },
     "execution_count": 167,
     "metadata": {},
     "output_type": "execute_result"
    }
   ],
   "source": [
    "# check missing values\n",
    "data2021.isna().sum()"
   ]
  },
  {
   "cell_type": "code",
   "execution_count": null,
   "metadata": {},
   "outputs": [
    {
     "data": {
      "text/plain": [
       "Index(['Company_Brand', 'HeadQuarter', 'Sector', 'What_it_does', 'Founders',\n",
       "       'Investor', 'Stage'],\n",
       "      dtype='object')"
      ]
     },
     "execution_count": 168,
     "metadata": {},
     "output_type": "execute_result"
    }
   ],
   "source": [
    "#select object variables\n",
    "obj=data2021.select_dtypes(include='object')\n",
    "obj.columns"
   ]
  },
  {
   "cell_type": "code",
   "execution_count": null,
   "metadata": {},
   "outputs": [],
   "source": [
    "obj= ['Founders','HeadQuarter','Investor']"
   ]
  },
  {
   "cell_type": "code",
   "execution_count": null,
   "metadata": {},
   "outputs": [],
   "source": [
    "# use mode to impute missing value in object columns\n",
    "data2021[obj]=data2021[obj].fillna(data2021[obj].mode().iloc[0])"
   ]
  },
  {
   "cell_type": "code",
   "execution_count": null,
   "metadata": {},
   "outputs": [
    {
     "data": {
      "text/plain": [
       "Index(['Founded', 'Amount($)'], dtype='object')"
      ]
     },
     "execution_count": 171,
     "metadata": {},
     "output_type": "execute_result"
    }
   ],
   "source": [
    "# select num columns\n",
    "num=data2021.select_dtypes(exclude='object')\n",
    "num.columns"
   ]
  },
  {
   "cell_type": "code",
   "execution_count": null,
   "metadata": {},
   "outputs": [],
   "source": [
    "num=['Amount($)']"
   ]
  },
  {
   "cell_type": "code",
   "execution_count": null,
   "metadata": {},
   "outputs": [],
   "source": [
    "# use median to impute numerical columns ignoring the Nan values to calculate the median\n",
    "data2021[num]=data2021[num].fillna(data2021[num].median(skipna=True))"
   ]
  },
  {
   "cell_type": "code",
   "execution_count": null,
   "metadata": {},
   "outputs": [
    {
     "data": {
      "text/plain": [
       "Company_Brand    0\n",
       "Founded          0\n",
       "HeadQuarter      0\n",
       "Sector           0\n",
       "What_it_does     0\n",
       "Founders         0\n",
       "Investor         0\n",
       "Amount($)        0\n",
       "Stage            0\n",
       "dtype: int64"
      ]
     },
     "execution_count": 174,
     "metadata": {},
     "output_type": "execute_result"
    }
   ],
   "source": [
    "data2021.isnull().sum()"
   ]
  },
  {
   "cell_type": "code",
   "execution_count": null,
   "metadata": {},
   "outputs": [
    {
     "data": {
      "text/plain": [
       "19"
      ]
     },
     "execution_count": 175,
     "metadata": {},
     "output_type": "execute_result"
    }
   ],
   "source": [
    "# checking for duplicates\n",
    "data2021.duplicated().sum()"
   ]
  },
  {
   "cell_type": "code",
   "execution_count": null,
   "metadata": {},
   "outputs": [
    {
     "data": {
      "text/html": [
       "<div>\n",
       "<style scoped>\n",
       "    .dataframe tbody tr th:only-of-type {\n",
       "        vertical-align: middle;\n",
       "    }\n",
       "\n",
       "    .dataframe tbody tr th {\n",
       "        vertical-align: top;\n",
       "    }\n",
       "\n",
       "    .dataframe thead th {\n",
       "        text-align: right;\n",
       "    }\n",
       "</style>\n",
       "<table border=\"1\" class=\"dataframe\">\n",
       "  <thead>\n",
       "    <tr style=\"text-align: right;\">\n",
       "      <th></th>\n",
       "      <th>Company_Brand</th>\n",
       "      <th>Founded</th>\n",
       "      <th>HeadQuarter</th>\n",
       "      <th>Sector</th>\n",
       "      <th>What_it_does</th>\n",
       "      <th>Founders</th>\n",
       "      <th>Investor</th>\n",
       "      <th>Amount($)</th>\n",
       "      <th>Stage</th>\n",
       "    </tr>\n",
       "  </thead>\n",
       "  <tbody>\n",
       "    <tr>\n",
       "      <th>107</th>\n",
       "      <td>Curefoods</td>\n",
       "      <td>2020</td>\n",
       "      <td>Bangalore</td>\n",
       "      <td>Food &amp; Beverages</td>\n",
       "      <td>Healthy &amp; nutritious foods and cold pressed ju...</td>\n",
       "      <td>Ankit Nagori</td>\n",
       "      <td>Iron Pillar, Nordstar, Binny Bansal</td>\n",
       "      <td>13000000.0</td>\n",
       "      <td>Unknown</td>\n",
       "    </tr>\n",
       "    <tr>\n",
       "      <th>109</th>\n",
       "      <td>Bewakoof</td>\n",
       "      <td>2012</td>\n",
       "      <td>Mumbai</td>\n",
       "      <td>Apparel &amp; Fashion</td>\n",
       "      <td>Bewakoof is a lifestyle fashion brand that mak...</td>\n",
       "      <td>Prabhkiran Singh</td>\n",
       "      <td>InvestCorp</td>\n",
       "      <td>8000000.0</td>\n",
       "      <td>Unknown</td>\n",
       "    </tr>\n",
       "    <tr>\n",
       "      <th>111</th>\n",
       "      <td>FanPlay</td>\n",
       "      <td>2020</td>\n",
       "      <td>New Delhi</td>\n",
       "      <td>Computer Games</td>\n",
       "      <td>A real money game app specializing in trivia g...</td>\n",
       "      <td>YC W21</td>\n",
       "      <td>Pritesh Kumar, Bharat Gupta</td>\n",
       "      <td>3500000.0</td>\n",
       "      <td>Unknown</td>\n",
       "    </tr>\n",
       "    <tr>\n",
       "      <th>117</th>\n",
       "      <td>Advantage Club</td>\n",
       "      <td>2014</td>\n",
       "      <td>Mumbai</td>\n",
       "      <td>HRTech</td>\n",
       "      <td>Advantage Club is India's largest employee eng...</td>\n",
       "      <td>Sourabh Deorah, Smiti Bhatt Deorah</td>\n",
       "      <td>Y Combinator, Broom Ventures, Kunal Shah</td>\n",
       "      <td>1700000.0</td>\n",
       "      <td>Unknown</td>\n",
       "    </tr>\n",
       "    <tr>\n",
       "      <th>119</th>\n",
       "      <td>Ruptok</td>\n",
       "      <td>2020</td>\n",
       "      <td>New Delhi</td>\n",
       "      <td>FinTech</td>\n",
       "      <td>Ruptok fintech Pvt. Ltd. is an online gold loa...</td>\n",
       "      <td>Ankur Gupta</td>\n",
       "      <td>Eclear Leasing</td>\n",
       "      <td>1000000.0</td>\n",
       "      <td>Unknown</td>\n",
       "    </tr>\n",
       "    <tr>\n",
       "      <th>243</th>\n",
       "      <td>Trinkerr</td>\n",
       "      <td>2021</td>\n",
       "      <td>Bangalore</td>\n",
       "      <td>Capital Markets</td>\n",
       "      <td>Trinkerr is India's first social trading platf...</td>\n",
       "      <td>Manvendra Singh, Gaurav Agarwal</td>\n",
       "      <td>Accel India</td>\n",
       "      <td>6600000.0</td>\n",
       "      <td>Series A</td>\n",
       "    </tr>\n",
       "    <tr>\n",
       "      <th>244</th>\n",
       "      <td>Zorro</td>\n",
       "      <td>2021</td>\n",
       "      <td>Gurugram</td>\n",
       "      <td>Social network</td>\n",
       "      <td>Pseudonymous social network platform</td>\n",
       "      <td>Jasveer Singh, Abhishek Asthana, Deepak Kumar</td>\n",
       "      <td>Vijay Shekhar Sharma, Ritesh Agarwal, Ankiti Bose</td>\n",
       "      <td>32000000.0</td>\n",
       "      <td>Seed</td>\n",
       "    </tr>\n",
       "    <tr>\n",
       "      <th>245</th>\n",
       "      <td>Ultraviolette</td>\n",
       "      <td>2021</td>\n",
       "      <td>Bangalore</td>\n",
       "      <td>Automotive</td>\n",
       "      <td>Create and Inspire the future of sustainable u...</td>\n",
       "      <td>Subramaniam Narayan, Niraj Rajmohan</td>\n",
       "      <td>TVS Motor, Zoho</td>\n",
       "      <td>150000000.0</td>\n",
       "      <td>Series C</td>\n",
       "    </tr>\n",
       "    <tr>\n",
       "      <th>246</th>\n",
       "      <td>NephroPlus</td>\n",
       "      <td>2009</td>\n",
       "      <td>Hyderabad</td>\n",
       "      <td>Healthcare</td>\n",
       "      <td>A vision and passion of redefining healthcare ...</td>\n",
       "      <td>Vikram Vuppala</td>\n",
       "      <td>IIFL Asset Management</td>\n",
       "      <td>24000000.0</td>\n",
       "      <td>Series E</td>\n",
       "    </tr>\n",
       "    <tr>\n",
       "      <th>247</th>\n",
       "      <td>Unremot</td>\n",
       "      <td>2020</td>\n",
       "      <td>Bangalore</td>\n",
       "      <td>Information Technology &amp; Services</td>\n",
       "      <td>Unremot is a personal office for consultants!</td>\n",
       "      <td>Shiju Radhakrishnan</td>\n",
       "      <td>Inflection Point Ventures</td>\n",
       "      <td>700000.0</td>\n",
       "      <td>Seed</td>\n",
       "    </tr>\n",
       "    <tr>\n",
       "      <th>248</th>\n",
       "      <td>FanAnywhere</td>\n",
       "      <td>2021</td>\n",
       "      <td>Bangalore</td>\n",
       "      <td>Financial Services</td>\n",
       "      <td>Celebrity NFT platform</td>\n",
       "      <td>Varun Chaudhary, Amit Kumar</td>\n",
       "      <td>Oasis Capital, Scorpio VC, DeltaHub Capital</td>\n",
       "      <td>3500000.0</td>\n",
       "      <td>Seed</td>\n",
       "    </tr>\n",
       "    <tr>\n",
       "      <th>249</th>\n",
       "      <td>PingoLearn</td>\n",
       "      <td>2021</td>\n",
       "      <td>Pune</td>\n",
       "      <td>E-learning</td>\n",
       "      <td>PingoLearn offers language learning courses wi...</td>\n",
       "      <td>Mohit Menghani, Shubham Maheshwari</td>\n",
       "      <td>Titan Capital, Haresh Chawla, AngelList Syndicate</td>\n",
       "      <td>200000.0</td>\n",
       "      <td>Unknown</td>\n",
       "    </tr>\n",
       "    <tr>\n",
       "      <th>250</th>\n",
       "      <td>Spry</td>\n",
       "      <td>2021</td>\n",
       "      <td>Mumbai</td>\n",
       "      <td>Music</td>\n",
       "      <td>THE BEST ROYALTY-FREE MUSIC TO CREATE TRENDING...</td>\n",
       "      <td>Gaurav Dagaonkar, Meghna Mittal</td>\n",
       "      <td>9Unicorns, Ashneer Grover</td>\n",
       "      <td>1500000.0</td>\n",
       "      <td>Seed</td>\n",
       "    </tr>\n",
       "    <tr>\n",
       "      <th>251</th>\n",
       "      <td>Enmovil</td>\n",
       "      <td>2015</td>\n",
       "      <td>Hyderabad</td>\n",
       "      <td>Information Technology &amp; Services</td>\n",
       "      <td>Enmovil delivers a Business Intelligence Platf...</td>\n",
       "      <td>Ravi Bulusu, Nanda Kishore, Venkat Moganty</td>\n",
       "      <td>Anicut Angel Fund</td>\n",
       "      <td>1300000.0</td>\n",
       "      <td>Pre-series A</td>\n",
       "    </tr>\n",
       "    <tr>\n",
       "      <th>252</th>\n",
       "      <td>ASQI Advisors</td>\n",
       "      <td>2019</td>\n",
       "      <td>Mumbai</td>\n",
       "      <td>Financial Services</td>\n",
       "      <td>Bringing Blockchain technology intro mainstrea...</td>\n",
       "      <td>Swapnil Pawar</td>\n",
       "      <td>Founders Room Capital</td>\n",
       "      <td>1000000.0</td>\n",
       "      <td>Pre-series A</td>\n",
       "    </tr>\n",
       "    <tr>\n",
       "      <th>253</th>\n",
       "      <td>Insurance Samadhan</td>\n",
       "      <td>2018</td>\n",
       "      <td>New Delhi</td>\n",
       "      <td>Insurance</td>\n",
       "      <td>The insurance industry will help in representa...</td>\n",
       "      <td>Deepak Bhuvenshwari Uniyal</td>\n",
       "      <td>9Unicorns, ZNL</td>\n",
       "      <td>725000.0</td>\n",
       "      <td>Pre-series A</td>\n",
       "    </tr>\n",
       "    <tr>\n",
       "      <th>254</th>\n",
       "      <td>Evenflow Brands</td>\n",
       "      <td>2020</td>\n",
       "      <td>Mumbai</td>\n",
       "      <td>Consumer Goods</td>\n",
       "      <td>Identify and partner with the upcoming eCommer...</td>\n",
       "      <td>Utsav Agarwal, Pulkit Chhabra</td>\n",
       "      <td>Inflection Point Ventures</td>\n",
       "      <td>500000.0</td>\n",
       "      <td>Unknown</td>\n",
       "    </tr>\n",
       "    <tr>\n",
       "      <th>255</th>\n",
       "      <td>MasterChow</td>\n",
       "      <td>2020</td>\n",
       "      <td>Mumbai</td>\n",
       "      <td>Hauz Khas</td>\n",
       "      <td>A ready-to-cook Asian cuisine brand</td>\n",
       "      <td>Vidur Kataria, Sidhanth Madan</td>\n",
       "      <td>WEH Ventures</td>\n",
       "      <td>461000.0</td>\n",
       "      <td>Seed</td>\n",
       "    </tr>\n",
       "    <tr>\n",
       "      <th>256</th>\n",
       "      <td>Fullife Healthcare</td>\n",
       "      <td>2009</td>\n",
       "      <td>Mumbai</td>\n",
       "      <td>Healthcare</td>\n",
       "      <td>Varun Khanna</td>\n",
       "      <td>Morgan Stanley Private Equity Asia</td>\n",
       "      <td>$22000000</td>\n",
       "      <td>3500000.0</td>\n",
       "      <td>Unknown</td>\n",
       "    </tr>\n",
       "  </tbody>\n",
       "</table>\n",
       "</div>"
      ],
      "text/plain": [
       "          Company_Brand  Founded HeadQuarter  \\\n",
       "107           Curefoods     2020   Bangalore   \n",
       "109            Bewakoof     2012      Mumbai   \n",
       "111             FanPlay     2020   New Delhi   \n",
       "117      Advantage Club     2014      Mumbai   \n",
       "119              Ruptok     2020   New Delhi   \n",
       "243            Trinkerr     2021   Bangalore   \n",
       "244               Zorro     2021    Gurugram   \n",
       "245       Ultraviolette     2021   Bangalore   \n",
       "246          NephroPlus     2009   Hyderabad   \n",
       "247             Unremot     2020   Bangalore   \n",
       "248         FanAnywhere     2021   Bangalore   \n",
       "249          PingoLearn     2021        Pune   \n",
       "250                Spry     2021      Mumbai   \n",
       "251             Enmovil     2015   Hyderabad   \n",
       "252       ASQI Advisors     2019      Mumbai   \n",
       "253  Insurance Samadhan     2018   New Delhi   \n",
       "254     Evenflow Brands     2020      Mumbai   \n",
       "255          MasterChow     2020      Mumbai   \n",
       "256  Fullife Healthcare     2009      Mumbai   \n",
       "\n",
       "                                Sector  \\\n",
       "107                   Food & Beverages   \n",
       "109                  Apparel & Fashion   \n",
       "111                     Computer Games   \n",
       "117                             HRTech   \n",
       "119                            FinTech   \n",
       "243                    Capital Markets   \n",
       "244                     Social network   \n",
       "245                         Automotive   \n",
       "246                         Healthcare   \n",
       "247  Information Technology & Services   \n",
       "248                 Financial Services   \n",
       "249                         E-learning   \n",
       "250                              Music   \n",
       "251  Information Technology & Services   \n",
       "252                 Financial Services   \n",
       "253                          Insurance   \n",
       "254                     Consumer Goods   \n",
       "255                          Hauz Khas   \n",
       "256                         Healthcare   \n",
       "\n",
       "                                          What_it_does  \\\n",
       "107  Healthy & nutritious foods and cold pressed ju...   \n",
       "109  Bewakoof is a lifestyle fashion brand that mak...   \n",
       "111  A real money game app specializing in trivia g...   \n",
       "117  Advantage Club is India's largest employee eng...   \n",
       "119  Ruptok fintech Pvt. Ltd. is an online gold loa...   \n",
       "243  Trinkerr is India's first social trading platf...   \n",
       "244               Pseudonymous social network platform   \n",
       "245  Create and Inspire the future of sustainable u...   \n",
       "246  A vision and passion of redefining healthcare ...   \n",
       "247      Unremot is a personal office for consultants!   \n",
       "248                             Celebrity NFT platform   \n",
       "249  PingoLearn offers language learning courses wi...   \n",
       "250  THE BEST ROYALTY-FREE MUSIC TO CREATE TRENDING...   \n",
       "251  Enmovil delivers a Business Intelligence Platf...   \n",
       "252  Bringing Blockchain technology intro mainstrea...   \n",
       "253  The insurance industry will help in representa...   \n",
       "254  Identify and partner with the upcoming eCommer...   \n",
       "255                A ready-to-cook Asian cuisine brand   \n",
       "256                                       Varun Khanna   \n",
       "\n",
       "                                          Founders  \\\n",
       "107                                   Ankit Nagori   \n",
       "109                               Prabhkiran Singh   \n",
       "111                                         YC W21   \n",
       "117             Sourabh Deorah, Smiti Bhatt Deorah   \n",
       "119                                    Ankur Gupta   \n",
       "243                Manvendra Singh, Gaurav Agarwal   \n",
       "244  Jasveer Singh, Abhishek Asthana, Deepak Kumar   \n",
       "245            Subramaniam Narayan, Niraj Rajmohan   \n",
       "246                                 Vikram Vuppala   \n",
       "247                            Shiju Radhakrishnan   \n",
       "248                    Varun Chaudhary, Amit Kumar   \n",
       "249             Mohit Menghani, Shubham Maheshwari   \n",
       "250                Gaurav Dagaonkar, Meghna Mittal   \n",
       "251     Ravi Bulusu, Nanda Kishore, Venkat Moganty   \n",
       "252                                  Swapnil Pawar   \n",
       "253                     Deepak Bhuvenshwari Uniyal   \n",
       "254                  Utsav Agarwal, Pulkit Chhabra   \n",
       "255                  Vidur Kataria, Sidhanth Madan   \n",
       "256             Morgan Stanley Private Equity Asia   \n",
       "\n",
       "                                              Investor    Amount($)  \\\n",
       "107                Iron Pillar, Nordstar, Binny Bansal   13000000.0   \n",
       "109                                         InvestCorp    8000000.0   \n",
       "111                        Pritesh Kumar, Bharat Gupta    3500000.0   \n",
       "117           Y Combinator, Broom Ventures, Kunal Shah    1700000.0   \n",
       "119                                     Eclear Leasing    1000000.0   \n",
       "243                                        Accel India    6600000.0   \n",
       "244  Vijay Shekhar Sharma, Ritesh Agarwal, Ankiti Bose   32000000.0   \n",
       "245                                    TVS Motor, Zoho  150000000.0   \n",
       "246                              IIFL Asset Management   24000000.0   \n",
       "247                          Inflection Point Ventures     700000.0   \n",
       "248        Oasis Capital, Scorpio VC, DeltaHub Capital    3500000.0   \n",
       "249  Titan Capital, Haresh Chawla, AngelList Syndicate     200000.0   \n",
       "250                          9Unicorns, Ashneer Grover    1500000.0   \n",
       "251                                  Anicut Angel Fund    1300000.0   \n",
       "252                              Founders Room Capital    1000000.0   \n",
       "253                                     9Unicorns, ZNL     725000.0   \n",
       "254                          Inflection Point Ventures     500000.0   \n",
       "255                                       WEH Ventures     461000.0   \n",
       "256                                          $22000000    3500000.0   \n",
       "\n",
       "            Stage  \n",
       "107       Unknown  \n",
       "109       Unknown  \n",
       "111       Unknown  \n",
       "117       Unknown  \n",
       "119       Unknown  \n",
       "243      Series A  \n",
       "244          Seed  \n",
       "245      Series C  \n",
       "246      Series E  \n",
       "247          Seed  \n",
       "248          Seed  \n",
       "249       Unknown  \n",
       "250          Seed  \n",
       "251  Pre-series A  \n",
       "252  Pre-series A  \n",
       "253  Pre-series A  \n",
       "254       Unknown  \n",
       "255          Seed  \n",
       "256       Unknown  "
      ]
     },
     "execution_count": 176,
     "metadata": {},
     "output_type": "execute_result"
    }
   ],
   "source": [
    "# lets have a look at rows with duplicates\n",
    "data2021.loc[data2021.duplicated()]"
   ]
  },
  {
   "cell_type": "code",
   "execution_count": null,
   "metadata": {},
   "outputs": [
    {
     "data": {
      "text/html": [
       "<div>\n",
       "<style scoped>\n",
       "    .dataframe tbody tr th:only-of-type {\n",
       "        vertical-align: middle;\n",
       "    }\n",
       "\n",
       "    .dataframe tbody tr th {\n",
       "        vertical-align: top;\n",
       "    }\n",
       "\n",
       "    .dataframe thead th {\n",
       "        text-align: right;\n",
       "    }\n",
       "</style>\n",
       "<table border=\"1\" class=\"dataframe\">\n",
       "  <thead>\n",
       "    <tr style=\"text-align: right;\">\n",
       "      <th></th>\n",
       "      <th>Company_Brand</th>\n",
       "      <th>Founded</th>\n",
       "      <th>HeadQuarter</th>\n",
       "      <th>Sector</th>\n",
       "      <th>What_it_does</th>\n",
       "      <th>Founders</th>\n",
       "      <th>Investor</th>\n",
       "      <th>Amount($)</th>\n",
       "      <th>Stage</th>\n",
       "    </tr>\n",
       "  </thead>\n",
       "  <tbody>\n",
       "    <tr>\n",
       "      <th>94</th>\n",
       "      <td>Curefoods</td>\n",
       "      <td>2020</td>\n",
       "      <td>Bangalore</td>\n",
       "      <td>Food &amp; Beverages</td>\n",
       "      <td>Healthy &amp; nutritious foods and cold pressed ju...</td>\n",
       "      <td>Ankit Nagori</td>\n",
       "      <td>Iron Pillar, Nordstar, Binny Bansal</td>\n",
       "      <td>13000000.0</td>\n",
       "      <td>Unknown</td>\n",
       "    </tr>\n",
       "    <tr>\n",
       "      <th>107</th>\n",
       "      <td>Curefoods</td>\n",
       "      <td>2020</td>\n",
       "      <td>Bangalore</td>\n",
       "      <td>Food &amp; Beverages</td>\n",
       "      <td>Healthy &amp; nutritious foods and cold pressed ju...</td>\n",
       "      <td>Ankit Nagori</td>\n",
       "      <td>Iron Pillar, Nordstar, Binny Bansal</td>\n",
       "      <td>13000000.0</td>\n",
       "      <td>Unknown</td>\n",
       "    </tr>\n",
       "  </tbody>\n",
       "</table>\n",
       "</div>"
      ],
      "text/plain": [
       "    Company_Brand  Founded HeadQuarter            Sector  \\\n",
       "94      Curefoods     2020   Bangalore  Food & Beverages   \n",
       "107     Curefoods     2020   Bangalore  Food & Beverages   \n",
       "\n",
       "                                          What_it_does      Founders  \\\n",
       "94   Healthy & nutritious foods and cold pressed ju...  Ankit Nagori   \n",
       "107  Healthy & nutritious foods and cold pressed ju...  Ankit Nagori   \n",
       "\n",
       "                                Investor   Amount($)    Stage  \n",
       "94   Iron Pillar, Nordstar, Binny Bansal  13000000.0  Unknown  \n",
       "107  Iron Pillar, Nordstar, Binny Bansal  13000000.0  Unknown  "
      ]
     },
     "execution_count": 177,
     "metadata": {},
     "output_type": "execute_result"
    }
   ],
   "source": [
    "# checking an example of a duplicate\n",
    "data2021.query('Company_Brand ==\"Curefoods\"')"
   ]
  },
  {
   "cell_type": "code",
   "execution_count": null,
   "metadata": {},
   "outputs": [
    {
     "data": {
      "text/html": [
       "<div>\n",
       "<style scoped>\n",
       "    .dataframe tbody tr th:only-of-type {\n",
       "        vertical-align: middle;\n",
       "    }\n",
       "\n",
       "    .dataframe tbody tr th {\n",
       "        vertical-align: top;\n",
       "    }\n",
       "\n",
       "    .dataframe thead th {\n",
       "        text-align: right;\n",
       "    }\n",
       "</style>\n",
       "<table border=\"1\" class=\"dataframe\">\n",
       "  <thead>\n",
       "    <tr style=\"text-align: right;\">\n",
       "      <th></th>\n",
       "      <th>Company_Brand</th>\n",
       "      <th>Founded</th>\n",
       "      <th>HeadQuarter</th>\n",
       "      <th>Sector</th>\n",
       "      <th>What_it_does</th>\n",
       "      <th>Founders</th>\n",
       "      <th>Investor</th>\n",
       "      <th>Amount($)</th>\n",
       "      <th>Stage</th>\n",
       "    </tr>\n",
       "  </thead>\n",
       "  <tbody>\n",
       "    <tr>\n",
       "      <th>242</th>\n",
       "      <td>Fullife Healthcare</td>\n",
       "      <td>2009</td>\n",
       "      <td>Mumbai</td>\n",
       "      <td>Healthcare</td>\n",
       "      <td>Varun Khanna</td>\n",
       "      <td>Morgan Stanley Private Equity Asia</td>\n",
       "      <td>$22000000</td>\n",
       "      <td>3500000.0</td>\n",
       "      <td>Unknown</td>\n",
       "    </tr>\n",
       "    <tr>\n",
       "      <th>256</th>\n",
       "      <td>Fullife Healthcare</td>\n",
       "      <td>2009</td>\n",
       "      <td>Mumbai</td>\n",
       "      <td>Healthcare</td>\n",
       "      <td>Varun Khanna</td>\n",
       "      <td>Morgan Stanley Private Equity Asia</td>\n",
       "      <td>$22000000</td>\n",
       "      <td>3500000.0</td>\n",
       "      <td>Unknown</td>\n",
       "    </tr>\n",
       "  </tbody>\n",
       "</table>\n",
       "</div>"
      ],
      "text/plain": [
       "          Company_Brand  Founded HeadQuarter      Sector  What_it_does  \\\n",
       "242  Fullife Healthcare     2009      Mumbai  Healthcare  Varun Khanna   \n",
       "256  Fullife Healthcare     2009      Mumbai  Healthcare  Varun Khanna   \n",
       "\n",
       "                               Founders   Investor  Amount($)    Stage  \n",
       "242  Morgan Stanley Private Equity Asia  $22000000  3500000.0  Unknown  \n",
       "256  Morgan Stanley Private Equity Asia  $22000000  3500000.0  Unknown  "
      ]
     },
     "execution_count": 178,
     "metadata": {},
     "output_type": "execute_result"
    }
   ],
   "source": [
    "\n",
    "# checking another example of a duplicate\n",
    "data2021.query('Company_Brand ==\"Fullife Healthcare\"')"
   ]
  },
  {
   "cell_type": "code",
   "execution_count": null,
   "metadata": {},
   "outputs": [],
   "source": [
    "# rows without duplicates\n",
    "# remove duplicate rows based on the specified subset of columns\n",
    "data2021=data2021.loc[~data2021.duplicated(subset=['Company_Brand','Founded','Founders','Investor','Amount($)'])].reset_index(drop=True).copy()"
   ]
  },
  {
   "cell_type": "code",
   "execution_count": null,
   "metadata": {},
   "outputs": [
    {
     "data": {
      "text/plain": [
       "(1180, 9)"
      ]
     },
     "execution_count": 180,
     "metadata": {},
     "output_type": "execute_result"
    }
   ],
   "source": [
    "# unique rows and columns\n",
    "data2021.shape"
   ]
  },
  {
   "cell_type": "code",
   "execution_count": null,
   "metadata": {},
   "outputs": [],
   "source": [
    "# Save the data as a CSV file\n",
    "df_2021.to_csv('data_cleaning_2021.csv', index = False)"
   ]
  }
 ],
 "metadata": {
  "kernelspec": {
   "display_name": "base",
   "language": "python",
   "name": "python3"
  },
  "language_info": {
   "codemirror_mode": {
    "name": "ipython",
    "version": 3
   },
   "file_extension": ".py",
   "mimetype": "text/x-python",
   "name": "python",
   "nbconvert_exporter": "python",
   "pygments_lexer": "ipython3",
   "version": "3.10.9"
  },
  "orig_nbformat": 4
 },
 "nbformat": 4,
 "nbformat_minor": 2
}
