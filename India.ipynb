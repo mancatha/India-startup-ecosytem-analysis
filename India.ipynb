{
 "cells": [
  {
   "attachments": {},
   "cell_type": "markdown",
   "metadata": {},
   "source": [
    "1.0 Business understanding \n",
    "    1.1 Analysis of the India Start_up ecosystem based on funding from 2018-2021\n",
    "\n",
    "    1.1.2 Project Description \n",
    "    This project focuses on the funding received by start_ups in India from 2018-2021. Our objective is to analyse the data and help management make informed decision in terms of where to situate in India and possible funding we can attract\n"
   ]
  },
  {
   "attachments": {},
   "cell_type": "markdown",
   "metadata": {},
   "source": [
    "2.0 Data Preparation "
   ]
  },
  {
   "cell_type": "code",
   "execution_count": 163,
   "metadata": {},
   "outputs": [
    {
     "name": "stdout",
     "output_type": "stream",
     "text": [
      "Requirement already satisfied: matplotlib in c:\\users\\benedicta mankata\\appdata\\local\\programs\\python\\python311\\lib\\site-packages (3.7.2)\n",
      "Requirement already satisfied: contourpy>=1.0.1 in c:\\users\\benedicta mankata\\appdata\\local\\programs\\python\\python311\\lib\\site-packages (from matplotlib) (1.1.0)\n",
      "Requirement already satisfied: cycler>=0.10 in c:\\users\\benedicta mankata\\appdata\\local\\programs\\python\\python311\\lib\\site-packages (from matplotlib) (0.11.0)\n",
      "Requirement already satisfied: fonttools>=4.22.0 in c:\\users\\benedicta mankata\\appdata\\local\\programs\\python\\python311\\lib\\site-packages (from matplotlib) (4.40.0)\n",
      "Requirement already satisfied: kiwisolver>=1.0.1 in c:\\users\\benedicta mankata\\appdata\\local\\programs\\python\\python311\\lib\\site-packages (from matplotlib) (1.4.4)\n",
      "Requirement already satisfied: numpy>=1.20 in c:\\users\\benedicta mankata\\appdata\\local\\programs\\python\\python311\\lib\\site-packages (from matplotlib) (1.25.0)\n",
      "Requirement already satisfied: packaging>=20.0 in c:\\users\\benedicta mankata\\appdata\\local\\programs\\python\\python311\\lib\\site-packages (from matplotlib) (23.1)\n",
      "Requirement already satisfied: pillow>=6.2.0 in c:\\users\\benedicta mankata\\appdata\\local\\programs\\python\\python311\\lib\\site-packages (from matplotlib) (10.0.0)\n",
      "Requirement already satisfied: pyparsing<3.1,>=2.3.1 in c:\\users\\benedicta mankata\\appdata\\local\\programs\\python\\python311\\lib\\site-packages (from matplotlib) (3.0.9)\n",
      "Requirement already satisfied: python-dateutil>=2.7 in c:\\users\\benedicta mankata\\appdata\\local\\programs\\python\\python311\\lib\\site-packages (from matplotlib) (2.8.2)\n",
      "Requirement already satisfied: six>=1.5 in c:\\users\\benedicta mankata\\appdata\\local\\programs\\python\\python311\\lib\\site-packages (from python-dateutil>=2.7->matplotlib) (1.16.0)\n",
      "Note: you may need to restart the kernel to use updated packages.\n"
     ]
    }
   ],
   "source": [
    "pip install matplotlib\n"
   ]
  },
  {
   "cell_type": "code",
   "execution_count": 164,
   "metadata": {},
   "outputs": [
    {
     "name": "stdout",
     "output_type": "stream",
     "text": [
      "Requirement already satisfied: seaborn in c:\\users\\benedicta mankata\\appdata\\local\\programs\\python\\python311\\lib\\site-packages (0.12.2)\n",
      "Requirement already satisfied: numpy!=1.24.0,>=1.17 in c:\\users\\benedicta mankata\\appdata\\local\\programs\\python\\python311\\lib\\site-packages (from seaborn) (1.25.0)\n",
      "Requirement already satisfied: pandas>=0.25 in c:\\users\\benedicta mankata\\appdata\\local\\programs\\python\\python311\\lib\\site-packages (from seaborn) (2.0.2)\n",
      "Requirement already satisfied: matplotlib!=3.6.1,>=3.1 in c:\\users\\benedicta mankata\\appdata\\local\\programs\\python\\python311\\lib\\site-packages (from seaborn) (3.7.2)\n",
      "Requirement already satisfied: contourpy>=1.0.1 in c:\\users\\benedicta mankata\\appdata\\local\\programs\\python\\python311\\lib\\site-packages (from matplotlib!=3.6.1,>=3.1->seaborn) (1.1.0)\n",
      "Requirement already satisfied: cycler>=0.10 in c:\\users\\benedicta mankata\\appdata\\local\\programs\\python\\python311\\lib\\site-packages (from matplotlib!=3.6.1,>=3.1->seaborn) (0.11.0)\n",
      "Requirement already satisfied: fonttools>=4.22.0 in c:\\users\\benedicta mankata\\appdata\\local\\programs\\python\\python311\\lib\\site-packages (from matplotlib!=3.6.1,>=3.1->seaborn) (4.40.0)\n",
      "Requirement already satisfied: kiwisolver>=1.0.1 in c:\\users\\benedicta mankata\\appdata\\local\\programs\\python\\python311\\lib\\site-packages (from matplotlib!=3.6.1,>=3.1->seaborn) (1.4.4)\n",
      "Requirement already satisfied: packaging>=20.0 in c:\\users\\benedicta mankata\\appdata\\local\\programs\\python\\python311\\lib\\site-packages (from matplotlib!=3.6.1,>=3.1->seaborn) (23.1)\n",
      "Requirement already satisfied: pillow>=6.2.0 in c:\\users\\benedicta mankata\\appdata\\local\\programs\\python\\python311\\lib\\site-packages (from matplotlib!=3.6.1,>=3.1->seaborn) (10.0.0)\n",
      "Requirement already satisfied: pyparsing<3.1,>=2.3.1 in c:\\users\\benedicta mankata\\appdata\\local\\programs\\python\\python311\\lib\\site-packages (from matplotlib!=3.6.1,>=3.1->seaborn) (3.0.9)\n",
      "Requirement already satisfied: python-dateutil>=2.7 in c:\\users\\benedicta mankata\\appdata\\local\\programs\\python\\python311\\lib\\site-packages (from matplotlib!=3.6.1,>=3.1->seaborn) (2.8.2)\n",
      "Requirement already satisfied: pytz>=2020.1 in c:\\users\\benedicta mankata\\appdata\\local\\programs\\python\\python311\\lib\\site-packages (from pandas>=0.25->seaborn) (2023.3)\n",
      "Requirement already satisfied: tzdata>=2022.1 in c:\\users\\benedicta mankata\\appdata\\local\\programs\\python\\python311\\lib\\site-packages (from pandas>=0.25->seaborn) (2023.3)\n",
      "Requirement already satisfied: six>=1.5 in c:\\users\\benedicta mankata\\appdata\\local\\programs\\python\\python311\\lib\\site-packages (from python-dateutil>=2.7->matplotlib!=3.6.1,>=3.1->seaborn) (1.16.0)\n",
      "Note: you may need to restart the kernel to use updated packages.\n"
     ]
    }
   ],
   "source": [
    "pip install seaborn"
   ]
  },
  {
   "cell_type": "code",
   "execution_count": 165,
   "metadata": {},
   "outputs": [],
   "source": [
    "import pyodbc #just installed with pip\n",
    "from dotenv import dotenv_values #import the dotenv_values function from the dotenv package\n",
    "import pandas as pd\n",
    "import warnings \n",
    "import numpy as np\n",
    "import matplotlib.pyplot as plt \n",
    "import seaborn as sns\n",
    "\n",
    "warnings.filterwarnings('ignore')"
   ]
  },
  {
   "cell_type": "code",
   "execution_count": 166,
   "metadata": {},
   "outputs": [],
   "source": [
    "# Load environment variables from .env file into a dictionary\n",
    "environment_variables = dotenv_values('.env')\n",
    "database = environment_variables.get(\"DATABASE\")\n",
    "server = environment_variables.get(\"SERVER\")\n",
    "username = environment_variables.get(\"USERNAME\")\n",
    "password = environment_variables.get(\"PASSWORD\")\n",
    "\n",
    "\n",
    "connection_string = f\"DRIVER={{SQL Server}};SERVER={server};DATABASE={database};UID={username};PWD={password}\""
   ]
  },
  {
   "cell_type": "code",
   "execution_count": 167,
   "metadata": {},
   "outputs": [],
   "source": [
    "# Use the connect method of the pyodbc library and pass in the connection string.\n",
    "# This will connect to the server and might take a few seconds to be complete. \n",
    "# Check your internet connection if it takes more time than necessary\n",
    "\n",
    "connection = pyodbc.connect(connection_string)"
   ]
  },
  {
   "cell_type": "code",
   "execution_count": 168,
   "metadata": {},
   "outputs": [],
   "source": [
    "# Now the sql query to get the data is what what you see below. \n",
    "# Note that you will not have permissions to insert delete or update this database table. \n",
    "\n",
    "query2020 = \"select * from dbo.LP1_startup_funding2020\"\n",
    "\n",
    "\n",
    "\n",
    "\n",
    "df_2020 = pd.read_sql(query2020, connection)"
   ]
  },
  {
   "cell_type": "code",
   "execution_count": 169,
   "metadata": {},
   "outputs": [
    {
     "data": {
      "text/html": [
       "<div>\n",
       "<style scoped>\n",
       "    .dataframe tbody tr th:only-of-type {\n",
       "        vertical-align: middle;\n",
       "    }\n",
       "\n",
       "    .dataframe tbody tr th {\n",
       "        vertical-align: top;\n",
       "    }\n",
       "\n",
       "    .dataframe thead th {\n",
       "        text-align: right;\n",
       "    }\n",
       "</style>\n",
       "<table border=\"1\" class=\"dataframe\">\n",
       "  <thead>\n",
       "    <tr style=\"text-align: right;\">\n",
       "      <th></th>\n",
       "      <th>Company_Brand</th>\n",
       "      <th>Founded</th>\n",
       "      <th>HeadQuarter</th>\n",
       "      <th>Sector</th>\n",
       "      <th>What_it_does</th>\n",
       "      <th>Founders</th>\n",
       "      <th>Investor</th>\n",
       "      <th>Amount</th>\n",
       "      <th>Stage</th>\n",
       "      <th>column10</th>\n",
       "    </tr>\n",
       "  </thead>\n",
       "  <tbody>\n",
       "    <tr>\n",
       "      <th>0</th>\n",
       "      <td>Aqgromalin</td>\n",
       "      <td>2019.0</td>\n",
       "      <td>Chennai</td>\n",
       "      <td>AgriTech</td>\n",
       "      <td>Cultivating Ideas for Profit</td>\n",
       "      <td>Prasanna Manogaran, Bharani C L</td>\n",
       "      <td>Angel investors</td>\n",
       "      <td>200000.0</td>\n",
       "      <td>None</td>\n",
       "      <td>None</td>\n",
       "    </tr>\n",
       "    <tr>\n",
       "      <th>1</th>\n",
       "      <td>Krayonnz</td>\n",
       "      <td>2019.0</td>\n",
       "      <td>Bangalore</td>\n",
       "      <td>EdTech</td>\n",
       "      <td>An academy-guardian-scholar centric ecosystem ...</td>\n",
       "      <td>Saurabh Dixit, Gurudutt Upadhyay</td>\n",
       "      <td>GSF Accelerator</td>\n",
       "      <td>100000.0</td>\n",
       "      <td>Pre-seed</td>\n",
       "      <td>None</td>\n",
       "    </tr>\n",
       "    <tr>\n",
       "      <th>2</th>\n",
       "      <td>PadCare Labs</td>\n",
       "      <td>2018.0</td>\n",
       "      <td>Pune</td>\n",
       "      <td>Hygiene management</td>\n",
       "      <td>Converting bio-hazardous waste to harmless waste</td>\n",
       "      <td>Ajinkya Dhariya</td>\n",
       "      <td>Venture Center</td>\n",
       "      <td>NaN</td>\n",
       "      <td>Pre-seed</td>\n",
       "      <td>None</td>\n",
       "    </tr>\n",
       "    <tr>\n",
       "      <th>3</th>\n",
       "      <td>NCOME</td>\n",
       "      <td>2020.0</td>\n",
       "      <td>New Delhi</td>\n",
       "      <td>Escrow</td>\n",
       "      <td>Escrow-as-a-service platform</td>\n",
       "      <td>Ritesh Tiwari</td>\n",
       "      <td>Venture Catalysts, PointOne Capital</td>\n",
       "      <td>400000.0</td>\n",
       "      <td>None</td>\n",
       "      <td>None</td>\n",
       "    </tr>\n",
       "    <tr>\n",
       "      <th>4</th>\n",
       "      <td>Gramophone</td>\n",
       "      <td>2016.0</td>\n",
       "      <td>Indore</td>\n",
       "      <td>AgriTech</td>\n",
       "      <td>Gramophone is an AgTech platform enabling acce...</td>\n",
       "      <td>Ashish Rajan Singh, Harshit Gupta, Nishant Mah...</td>\n",
       "      <td>Siana Capital Management, Info Edge</td>\n",
       "      <td>340000.0</td>\n",
       "      <td>None</td>\n",
       "      <td>None</td>\n",
       "    </tr>\n",
       "    <tr>\n",
       "      <th>5</th>\n",
       "      <td>qZense</td>\n",
       "      <td>2019.0</td>\n",
       "      <td>Bangalore</td>\n",
       "      <td>AgriTech</td>\n",
       "      <td>qZense Labs is building the next-generation Io...</td>\n",
       "      <td>Rubal Chib, Dr Srishti Batra</td>\n",
       "      <td>Venture Catalysts, 9Unicorns Accelerator Fund</td>\n",
       "      <td>600000.0</td>\n",
       "      <td>Seed</td>\n",
       "      <td>None</td>\n",
       "    </tr>\n",
       "    <tr>\n",
       "      <th>6</th>\n",
       "      <td>MyClassboard</td>\n",
       "      <td>2008.0</td>\n",
       "      <td>Hyderabad</td>\n",
       "      <td>EdTech</td>\n",
       "      <td>MyClassboard is a full-fledged School / Colleg...</td>\n",
       "      <td>Ajay Sakhamuri</td>\n",
       "      <td>ICICI Bank.</td>\n",
       "      <td>600000.0</td>\n",
       "      <td>Pre-series A</td>\n",
       "      <td>None</td>\n",
       "    </tr>\n",
       "    <tr>\n",
       "      <th>7</th>\n",
       "      <td>Metvy</td>\n",
       "      <td>2018.0</td>\n",
       "      <td>Gurgaon</td>\n",
       "      <td>Networking platform</td>\n",
       "      <td>AI driven networking platform for individuals ...</td>\n",
       "      <td>Shawrya Mehrotra</td>\n",
       "      <td>HostelFund</td>\n",
       "      <td>NaN</td>\n",
       "      <td>Pre-series</td>\n",
       "      <td>None</td>\n",
       "    </tr>\n",
       "    <tr>\n",
       "      <th>8</th>\n",
       "      <td>Rupeek</td>\n",
       "      <td>2015.0</td>\n",
       "      <td>Bangalore</td>\n",
       "      <td>FinTech</td>\n",
       "      <td>Rupeek is an online lending platform that spec...</td>\n",
       "      <td>Amar Prabhu, Ashwin Soni, Sumit Maniyar</td>\n",
       "      <td>KB Investment, Bertelsmann India Investments</td>\n",
       "      <td>45000000.0</td>\n",
       "      <td>Series C</td>\n",
       "      <td>None</td>\n",
       "    </tr>\n",
       "    <tr>\n",
       "      <th>9</th>\n",
       "      <td>Gig India</td>\n",
       "      <td>2017.0</td>\n",
       "      <td>Pune</td>\n",
       "      <td>Crowdsourcing</td>\n",
       "      <td>GigIndia is a marketplace that provides on-dem...</td>\n",
       "      <td>Aditya Shirole, Sahil Sharma</td>\n",
       "      <td>Shantanu Deshpande, Subramaniam Ramadorai</td>\n",
       "      <td>1000000.0</td>\n",
       "      <td>Pre-series A</td>\n",
       "      <td>None</td>\n",
       "    </tr>\n",
       "  </tbody>\n",
       "</table>\n",
       "</div>"
      ],
      "text/plain": [
       "  Company_Brand  Founded HeadQuarter               Sector  \\\n",
       "0    Aqgromalin   2019.0     Chennai             AgriTech   \n",
       "1      Krayonnz   2019.0   Bangalore               EdTech   \n",
       "2  PadCare Labs   2018.0        Pune   Hygiene management   \n",
       "3         NCOME   2020.0   New Delhi               Escrow   \n",
       "4    Gramophone   2016.0      Indore             AgriTech   \n",
       "5        qZense   2019.0   Bangalore             AgriTech   \n",
       "6  MyClassboard   2008.0   Hyderabad               EdTech   \n",
       "7         Metvy   2018.0     Gurgaon  Networking platform   \n",
       "8        Rupeek   2015.0   Bangalore              FinTech   \n",
       "9     Gig India   2017.0        Pune        Crowdsourcing   \n",
       "\n",
       "                                        What_it_does  \\\n",
       "0                       Cultivating Ideas for Profit   \n",
       "1  An academy-guardian-scholar centric ecosystem ...   \n",
       "2   Converting bio-hazardous waste to harmless waste   \n",
       "3                       Escrow-as-a-service platform   \n",
       "4  Gramophone is an AgTech platform enabling acce...   \n",
       "5  qZense Labs is building the next-generation Io...   \n",
       "6  MyClassboard is a full-fledged School / Colleg...   \n",
       "7  AI driven networking platform for individuals ...   \n",
       "8  Rupeek is an online lending platform that spec...   \n",
       "9  GigIndia is a marketplace that provides on-dem...   \n",
       "\n",
       "                                            Founders  \\\n",
       "0                    Prasanna Manogaran, Bharani C L   \n",
       "1                   Saurabh Dixit, Gurudutt Upadhyay   \n",
       "2                                    Ajinkya Dhariya   \n",
       "3                                      Ritesh Tiwari   \n",
       "4  Ashish Rajan Singh, Harshit Gupta, Nishant Mah...   \n",
       "5                       Rubal Chib, Dr Srishti Batra   \n",
       "6                                     Ajay Sakhamuri   \n",
       "7                                   Shawrya Mehrotra   \n",
       "8            Amar Prabhu, Ashwin Soni, Sumit Maniyar   \n",
       "9                       Aditya Shirole, Sahil Sharma   \n",
       "\n",
       "                                        Investor      Amount         Stage  \\\n",
       "0                                Angel investors    200000.0          None   \n",
       "1                                GSF Accelerator    100000.0      Pre-seed   \n",
       "2                                 Venture Center         NaN      Pre-seed   \n",
       "3            Venture Catalysts, PointOne Capital    400000.0          None   \n",
       "4            Siana Capital Management, Info Edge    340000.0          None   \n",
       "5  Venture Catalysts, 9Unicorns Accelerator Fund    600000.0          Seed   \n",
       "6                                    ICICI Bank.    600000.0  Pre-series A   \n",
       "7                                     HostelFund         NaN    Pre-series   \n",
       "8   KB Investment, Bertelsmann India Investments  45000000.0      Series C   \n",
       "9      Shantanu Deshpande, Subramaniam Ramadorai   1000000.0  Pre-series A   \n",
       "\n",
       "  column10  \n",
       "0     None  \n",
       "1     None  \n",
       "2     None  \n",
       "3     None  \n",
       "4     None  \n",
       "5     None  \n",
       "6     None  \n",
       "7     None  \n",
       "8     None  \n",
       "9     None  "
      ]
     },
     "execution_count": 169,
     "metadata": {},
     "output_type": "execute_result"
    }
   ],
   "source": [
    "df_2020.head(10)"
   ]
  },
  {
   "cell_type": "code",
   "execution_count": 170,
   "metadata": {},
   "outputs": [],
   "source": [
    "query2021 = \"select * from dbo.LP1_startup_funding2021\"\n",
    "\n",
    "\n",
    "\n",
    "\n",
    "df_2021 = pd.read_sql(query2021, connection)"
   ]
  },
  {
   "cell_type": "code",
   "execution_count": 171,
   "metadata": {},
   "outputs": [
    {
     "data": {
      "text/html": [
       "<div>\n",
       "<style scoped>\n",
       "    .dataframe tbody tr th:only-of-type {\n",
       "        vertical-align: middle;\n",
       "    }\n",
       "\n",
       "    .dataframe tbody tr th {\n",
       "        vertical-align: top;\n",
       "    }\n",
       "\n",
       "    .dataframe thead th {\n",
       "        text-align: right;\n",
       "    }\n",
       "</style>\n",
       "<table border=\"1\" class=\"dataframe\">\n",
       "  <thead>\n",
       "    <tr style=\"text-align: right;\">\n",
       "      <th></th>\n",
       "      <th>Company_Brand</th>\n",
       "      <th>Founded</th>\n",
       "      <th>HeadQuarter</th>\n",
       "      <th>Sector</th>\n",
       "      <th>What_it_does</th>\n",
       "      <th>Founders</th>\n",
       "      <th>Investor</th>\n",
       "      <th>Amount</th>\n",
       "      <th>Stage</th>\n",
       "    </tr>\n",
       "  </thead>\n",
       "  <tbody>\n",
       "    <tr>\n",
       "      <th>0</th>\n",
       "      <td>Unbox Robotics</td>\n",
       "      <td>2019.0</td>\n",
       "      <td>Bangalore</td>\n",
       "      <td>AI startup</td>\n",
       "      <td>Unbox Robotics builds on-demand AI-driven ware...</td>\n",
       "      <td>Pramod Ghadge, Shahid Memon</td>\n",
       "      <td>BEENEXT, Entrepreneur First</td>\n",
       "      <td>$1,200,000</td>\n",
       "      <td>Pre-series A</td>\n",
       "    </tr>\n",
       "    <tr>\n",
       "      <th>1</th>\n",
       "      <td>upGrad</td>\n",
       "      <td>2015.0</td>\n",
       "      <td>Mumbai</td>\n",
       "      <td>EdTech</td>\n",
       "      <td>UpGrad is an online higher education platform.</td>\n",
       "      <td>Mayank Kumar, Phalgun Kompalli, Ravijot Chugh,...</td>\n",
       "      <td>Unilazer Ventures, IIFL Asset Management</td>\n",
       "      <td>$120,000,000</td>\n",
       "      <td>None</td>\n",
       "    </tr>\n",
       "    <tr>\n",
       "      <th>2</th>\n",
       "      <td>Lead School</td>\n",
       "      <td>2012.0</td>\n",
       "      <td>Mumbai</td>\n",
       "      <td>EdTech</td>\n",
       "      <td>LEAD School offers technology based school tra...</td>\n",
       "      <td>Smita Deorah, Sumeet Mehta</td>\n",
       "      <td>GSV Ventures, Westbridge Capital</td>\n",
       "      <td>$30,000,000</td>\n",
       "      <td>Series D</td>\n",
       "    </tr>\n",
       "    <tr>\n",
       "      <th>3</th>\n",
       "      <td>Bizongo</td>\n",
       "      <td>2015.0</td>\n",
       "      <td>Mumbai</td>\n",
       "      <td>B2B E-commerce</td>\n",
       "      <td>Bizongo is a business-to-business online marke...</td>\n",
       "      <td>Aniket Deb, Ankit Tomar, Sachin Agrawal</td>\n",
       "      <td>CDC Group, IDG Capital</td>\n",
       "      <td>$51,000,000</td>\n",
       "      <td>Series C</td>\n",
       "    </tr>\n",
       "    <tr>\n",
       "      <th>4</th>\n",
       "      <td>FypMoney</td>\n",
       "      <td>2021.0</td>\n",
       "      <td>Gurugram</td>\n",
       "      <td>FinTech</td>\n",
       "      <td>FypMoney is Digital NEO Bank for Teenagers, em...</td>\n",
       "      <td>Kapil Banwari</td>\n",
       "      <td>Liberatha Kallat, Mukesh Yadav, Dinesh Nagpal</td>\n",
       "      <td>$2,000,000</td>\n",
       "      <td>Seed</td>\n",
       "    </tr>\n",
       "  </tbody>\n",
       "</table>\n",
       "</div>"
      ],
      "text/plain": [
       "    Company_Brand  Founded HeadQuarter          Sector  \\\n",
       "0  Unbox Robotics   2019.0   Bangalore      AI startup   \n",
       "1          upGrad   2015.0      Mumbai          EdTech   \n",
       "2     Lead School   2012.0      Mumbai          EdTech   \n",
       "3         Bizongo   2015.0      Mumbai  B2B E-commerce   \n",
       "4        FypMoney   2021.0    Gurugram         FinTech   \n",
       "\n",
       "                                        What_it_does  \\\n",
       "0  Unbox Robotics builds on-demand AI-driven ware...   \n",
       "1     UpGrad is an online higher education platform.   \n",
       "2  LEAD School offers technology based school tra...   \n",
       "3  Bizongo is a business-to-business online marke...   \n",
       "4  FypMoney is Digital NEO Bank for Teenagers, em...   \n",
       "\n",
       "                                            Founders  \\\n",
       "0                        Pramod Ghadge, Shahid Memon   \n",
       "1  Mayank Kumar, Phalgun Kompalli, Ravijot Chugh,...   \n",
       "2                         Smita Deorah, Sumeet Mehta   \n",
       "3            Aniket Deb, Ankit Tomar, Sachin Agrawal   \n",
       "4                                      Kapil Banwari   \n",
       "\n",
       "                                        Investor        Amount         Stage  \n",
       "0                    BEENEXT, Entrepreneur First    $1,200,000  Pre-series A  \n",
       "1       Unilazer Ventures, IIFL Asset Management  $120,000,000          None  \n",
       "2               GSV Ventures, Westbridge Capital   $30,000,000      Series D  \n",
       "3                         CDC Group, IDG Capital   $51,000,000      Series C  \n",
       "4  Liberatha Kallat, Mukesh Yadav, Dinesh Nagpal    $2,000,000          Seed  "
      ]
     },
     "execution_count": 171,
     "metadata": {},
     "output_type": "execute_result"
    }
   ],
   "source": [
    "df_2021.head()"
   ]
  },
  {
   "cell_type": "code",
   "execution_count": 172,
   "metadata": {},
   "outputs": [],
   "source": [
    "df_2018 = pd.read_csv(\"startup_funding2018.csv\")\n"
   ]
  },
  {
   "cell_type": "code",
   "execution_count": 173,
   "metadata": {},
   "outputs": [
    {
     "data": {
      "text/html": [
       "<div>\n",
       "<style scoped>\n",
       "    .dataframe tbody tr th:only-of-type {\n",
       "        vertical-align: middle;\n",
       "    }\n",
       "\n",
       "    .dataframe tbody tr th {\n",
       "        vertical-align: top;\n",
       "    }\n",
       "\n",
       "    .dataframe thead th {\n",
       "        text-align: right;\n",
       "    }\n",
       "</style>\n",
       "<table border=\"1\" class=\"dataframe\">\n",
       "  <thead>\n",
       "    <tr style=\"text-align: right;\">\n",
       "      <th></th>\n",
       "      <th>Company Name</th>\n",
       "      <th>Industry</th>\n",
       "      <th>Round/Series</th>\n",
       "      <th>Amount</th>\n",
       "      <th>Location</th>\n",
       "      <th>About Company</th>\n",
       "    </tr>\n",
       "  </thead>\n",
       "  <tbody>\n",
       "    <tr>\n",
       "      <th>0</th>\n",
       "      <td>TheCollegeFever</td>\n",
       "      <td>Brand Marketing, Event Promotion, Marketing, S...</td>\n",
       "      <td>Seed</td>\n",
       "      <td>250000</td>\n",
       "      <td>Bangalore, Karnataka, India</td>\n",
       "      <td>TheCollegeFever is a hub for fun, fiesta and f...</td>\n",
       "    </tr>\n",
       "    <tr>\n",
       "      <th>1</th>\n",
       "      <td>Happy Cow Dairy</td>\n",
       "      <td>Agriculture, Farming</td>\n",
       "      <td>Seed</td>\n",
       "      <td>₹40,000,000</td>\n",
       "      <td>Mumbai, Maharashtra, India</td>\n",
       "      <td>A startup which aggregates milk from dairy far...</td>\n",
       "    </tr>\n",
       "    <tr>\n",
       "      <th>2</th>\n",
       "      <td>MyLoanCare</td>\n",
       "      <td>Credit, Financial Services, Lending, Marketplace</td>\n",
       "      <td>Series A</td>\n",
       "      <td>₹65,000,000</td>\n",
       "      <td>Gurgaon, Haryana, India</td>\n",
       "      <td>Leading Online Loans Marketplace in India</td>\n",
       "    </tr>\n",
       "    <tr>\n",
       "      <th>3</th>\n",
       "      <td>PayMe India</td>\n",
       "      <td>Financial Services, FinTech</td>\n",
       "      <td>Angel</td>\n",
       "      <td>2000000</td>\n",
       "      <td>Noida, Uttar Pradesh, India</td>\n",
       "      <td>PayMe India is an innovative FinTech organizat...</td>\n",
       "    </tr>\n",
       "    <tr>\n",
       "      <th>4</th>\n",
       "      <td>Eunimart</td>\n",
       "      <td>E-Commerce Platforms, Retail, SaaS</td>\n",
       "      <td>Seed</td>\n",
       "      <td>—</td>\n",
       "      <td>Hyderabad, Andhra Pradesh, India</td>\n",
       "      <td>Eunimart is a one stop solution for merchants ...</td>\n",
       "    </tr>\n",
       "  </tbody>\n",
       "</table>\n",
       "</div>"
      ],
      "text/plain": [
       "      Company Name                                           Industry  \\\n",
       "0  TheCollegeFever  Brand Marketing, Event Promotion, Marketing, S...   \n",
       "1  Happy Cow Dairy                               Agriculture, Farming   \n",
       "2       MyLoanCare   Credit, Financial Services, Lending, Marketplace   \n",
       "3      PayMe India                        Financial Services, FinTech   \n",
       "4         Eunimart                 E-Commerce Platforms, Retail, SaaS   \n",
       "\n",
       "  Round/Series       Amount                          Location  \\\n",
       "0         Seed       250000       Bangalore, Karnataka, India   \n",
       "1         Seed  ₹40,000,000        Mumbai, Maharashtra, India   \n",
       "2     Series A  ₹65,000,000           Gurgaon, Haryana, India   \n",
       "3        Angel      2000000       Noida, Uttar Pradesh, India   \n",
       "4         Seed            —  Hyderabad, Andhra Pradesh, India   \n",
       "\n",
       "                                       About Company  \n",
       "0  TheCollegeFever is a hub for fun, fiesta and f...  \n",
       "1  A startup which aggregates milk from dairy far...  \n",
       "2          Leading Online Loans Marketplace in India  \n",
       "3  PayMe India is an innovative FinTech organizat...  \n",
       "4  Eunimart is a one stop solution for merchants ...  "
      ]
     },
     "execution_count": 173,
     "metadata": {},
     "output_type": "execute_result"
    }
   ],
   "source": [
    "df_2018.head()"
   ]
  },
  {
   "cell_type": "code",
   "execution_count": 174,
   "metadata": {},
   "outputs": [],
   "source": [
    "df_2019 = pd.read_csv(\"startup_funding2019.csv\")\n"
   ]
  },
  {
   "cell_type": "code",
   "execution_count": 175,
   "metadata": {},
   "outputs": [
    {
     "data": {
      "text/html": [
       "<div>\n",
       "<style scoped>\n",
       "    .dataframe tbody tr th:only-of-type {\n",
       "        vertical-align: middle;\n",
       "    }\n",
       "\n",
       "    .dataframe tbody tr th {\n",
       "        vertical-align: top;\n",
       "    }\n",
       "\n",
       "    .dataframe thead th {\n",
       "        text-align: right;\n",
       "    }\n",
       "</style>\n",
       "<table border=\"1\" class=\"dataframe\">\n",
       "  <thead>\n",
       "    <tr style=\"text-align: right;\">\n",
       "      <th></th>\n",
       "      <th>Company/Brand</th>\n",
       "      <th>Founded</th>\n",
       "      <th>HeadQuarter</th>\n",
       "      <th>Sector</th>\n",
       "      <th>What it does</th>\n",
       "      <th>Founders</th>\n",
       "      <th>Investor</th>\n",
       "      <th>Amount($)</th>\n",
       "      <th>Stage</th>\n",
       "    </tr>\n",
       "  </thead>\n",
       "  <tbody>\n",
       "    <tr>\n",
       "      <th>0</th>\n",
       "      <td>Bombay Shaving</td>\n",
       "      <td>NaN</td>\n",
       "      <td>NaN</td>\n",
       "      <td>Ecommerce</td>\n",
       "      <td>Provides a range of male grooming products</td>\n",
       "      <td>Shantanu Deshpande</td>\n",
       "      <td>Sixth Sense Ventures</td>\n",
       "      <td>$6,300,000</td>\n",
       "      <td>NaN</td>\n",
       "    </tr>\n",
       "    <tr>\n",
       "      <th>1</th>\n",
       "      <td>Ruangguru</td>\n",
       "      <td>2014.0</td>\n",
       "      <td>Mumbai</td>\n",
       "      <td>Edtech</td>\n",
       "      <td>A learning platform that provides topic-based ...</td>\n",
       "      <td>Adamas Belva Syah Devara, Iman Usman.</td>\n",
       "      <td>General Atlantic</td>\n",
       "      <td>$150,000,000</td>\n",
       "      <td>Series C</td>\n",
       "    </tr>\n",
       "    <tr>\n",
       "      <th>2</th>\n",
       "      <td>Eduisfun</td>\n",
       "      <td>NaN</td>\n",
       "      <td>Mumbai</td>\n",
       "      <td>Edtech</td>\n",
       "      <td>It aims to make learning fun via games.</td>\n",
       "      <td>Jatin Solanki</td>\n",
       "      <td>Deepak Parekh, Amitabh Bachchan, Piyush Pandey</td>\n",
       "      <td>$28,000,000</td>\n",
       "      <td>Fresh funding</td>\n",
       "    </tr>\n",
       "    <tr>\n",
       "      <th>3</th>\n",
       "      <td>HomeLane</td>\n",
       "      <td>2014.0</td>\n",
       "      <td>Chennai</td>\n",
       "      <td>Interior design</td>\n",
       "      <td>Provides interior designing solutions</td>\n",
       "      <td>Srikanth Iyer, Rama Harinath</td>\n",
       "      <td>Evolvence India Fund (EIF), Pidilite Group, FJ...</td>\n",
       "      <td>$30,000,000</td>\n",
       "      <td>Series D</td>\n",
       "    </tr>\n",
       "    <tr>\n",
       "      <th>4</th>\n",
       "      <td>Nu Genes</td>\n",
       "      <td>2004.0</td>\n",
       "      <td>Telangana</td>\n",
       "      <td>AgriTech</td>\n",
       "      <td>It is a seed company engaged in production, pr...</td>\n",
       "      <td>Narayana Reddy Punyala</td>\n",
       "      <td>Innovation in Food and Agriculture (IFA)</td>\n",
       "      <td>$6,000,000</td>\n",
       "      <td>NaN</td>\n",
       "    </tr>\n",
       "  </tbody>\n",
       "</table>\n",
       "</div>"
      ],
      "text/plain": [
       "    Company/Brand  Founded HeadQuarter           Sector  \\\n",
       "0  Bombay Shaving      NaN         NaN        Ecommerce   \n",
       "1       Ruangguru   2014.0      Mumbai           Edtech   \n",
       "2        Eduisfun      NaN      Mumbai           Edtech   \n",
       "3        HomeLane   2014.0     Chennai  Interior design   \n",
       "4        Nu Genes   2004.0   Telangana         AgriTech   \n",
       "\n",
       "                                        What it does  \\\n",
       "0         Provides a range of male grooming products   \n",
       "1  A learning platform that provides topic-based ...   \n",
       "2            It aims to make learning fun via games.   \n",
       "3              Provides interior designing solutions   \n",
       "4  It is a seed company engaged in production, pr...   \n",
       "\n",
       "                                Founders  \\\n",
       "0                     Shantanu Deshpande   \n",
       "1  Adamas Belva Syah Devara, Iman Usman.   \n",
       "2                          Jatin Solanki   \n",
       "3           Srikanth Iyer, Rama Harinath   \n",
       "4                 Narayana Reddy Punyala   \n",
       "\n",
       "                                            Investor     Amount($)  \\\n",
       "0                               Sixth Sense Ventures    $6,300,000   \n",
       "1                                   General Atlantic  $150,000,000   \n",
       "2     Deepak Parekh, Amitabh Bachchan, Piyush Pandey   $28,000,000   \n",
       "3  Evolvence India Fund (EIF), Pidilite Group, FJ...   $30,000,000   \n",
       "4           Innovation in Food and Agriculture (IFA)    $6,000,000   \n",
       "\n",
       "           Stage  \n",
       "0            NaN  \n",
       "1       Series C  \n",
       "2  Fresh funding  \n",
       "3       Series D  \n",
       "4            NaN  "
      ]
     },
     "execution_count": 175,
     "metadata": {},
     "output_type": "execute_result"
    }
   ],
   "source": [
    "df_2019.head()"
   ]
  },
  {
   "cell_type": "code",
   "execution_count": 176,
   "metadata": {},
   "outputs": [
    {
     "data": {
      "text/plain": [
       "((1055, 10), (1209, 9), (526, 6), (89, 9))"
      ]
     },
     "execution_count": 176,
     "metadata": {},
     "output_type": "execute_result"
    }
   ],
   "source": [
    "df_2020.shape, df_2021.shape, df_2018.shape, df_2019.shape"
   ]
  },
  {
   "cell_type": "code",
   "execution_count": 177,
   "metadata": {},
   "outputs": [
    {
     "name": "stdout",
     "output_type": "stream",
     "text": [
      "<class 'pandas.core.frame.DataFrame'>\n",
      "RangeIndex: 1055 entries, 0 to 1054\n",
      "Data columns (total 10 columns):\n",
      " #   Column         Non-Null Count  Dtype  \n",
      "---  ------         --------------  -----  \n",
      " 0   Company_Brand  1055 non-null   object \n",
      " 1   Founded        842 non-null    float64\n",
      " 2   HeadQuarter    961 non-null    object \n",
      " 3   Sector         1042 non-null   object \n",
      " 4   What_it_does   1055 non-null   object \n",
      " 5   Founders       1043 non-null   object \n",
      " 6   Investor       1017 non-null   object \n",
      " 7   Amount         801 non-null    float64\n",
      " 8   Stage          591 non-null    object \n",
      " 9   column10       2 non-null      object \n",
      "dtypes: float64(2), object(8)\n",
      "memory usage: 82.6+ KB\n"
     ]
    }
   ],
   "source": [
    "df_2020.info() "
   ]
  },
  {
   "cell_type": "code",
   "execution_count": 178,
   "metadata": {},
   "outputs": [
    {
     "name": "stdout",
     "output_type": "stream",
     "text": [
      "<class 'pandas.core.frame.DataFrame'>\n",
      "RangeIndex: 1209 entries, 0 to 1208\n",
      "Data columns (total 9 columns):\n",
      " #   Column         Non-Null Count  Dtype  \n",
      "---  ------         --------------  -----  \n",
      " 0   Company_Brand  1209 non-null   object \n",
      " 1   Founded        1208 non-null   float64\n",
      " 2   HeadQuarter    1208 non-null   object \n",
      " 3   Sector         1209 non-null   object \n",
      " 4   What_it_does   1209 non-null   object \n",
      " 5   Founders       1205 non-null   object \n",
      " 6   Investor       1147 non-null   object \n",
      " 7   Amount         1206 non-null   object \n",
      " 8   Stage          781 non-null    object \n",
      "dtypes: float64(1), object(8)\n",
      "memory usage: 85.1+ KB\n"
     ]
    }
   ],
   "source": [
    "df_2021.info()"
   ]
  },
  {
   "cell_type": "code",
   "execution_count": 179,
   "metadata": {},
   "outputs": [
    {
     "name": "stdout",
     "output_type": "stream",
     "text": [
      "<class 'pandas.core.frame.DataFrame'>\n",
      "RangeIndex: 526 entries, 0 to 525\n",
      "Data columns (total 6 columns):\n",
      " #   Column         Non-Null Count  Dtype \n",
      "---  ------         --------------  ----- \n",
      " 0   Company Name   526 non-null    object\n",
      " 1   Industry       526 non-null    object\n",
      " 2   Round/Series   526 non-null    object\n",
      " 3   Amount         526 non-null    object\n",
      " 4   Location       526 non-null    object\n",
      " 5   About Company  526 non-null    object\n",
      "dtypes: object(6)\n",
      "memory usage: 24.8+ KB\n"
     ]
    }
   ],
   "source": [
    "df_2018.info()"
   ]
  },
  {
   "cell_type": "code",
   "execution_count": 180,
   "metadata": {},
   "outputs": [
    {
     "name": "stdout",
     "output_type": "stream",
     "text": [
      "<class 'pandas.core.frame.DataFrame'>\n",
      "RangeIndex: 89 entries, 0 to 88\n",
      "Data columns (total 9 columns):\n",
      " #   Column         Non-Null Count  Dtype  \n",
      "---  ------         --------------  -----  \n",
      " 0   Company/Brand  89 non-null     object \n",
      " 1   Founded        60 non-null     float64\n",
      " 2   HeadQuarter    70 non-null     object \n",
      " 3   Sector         84 non-null     object \n",
      " 4   What it does   89 non-null     object \n",
      " 5   Founders       86 non-null     object \n",
      " 6   Investor       89 non-null     object \n",
      " 7   Amount($)      89 non-null     object \n",
      " 8   Stage          43 non-null     object \n",
      "dtypes: float64(1), object(8)\n",
      "memory usage: 6.4+ KB\n"
     ]
    }
   ],
   "source": [
    "df_2019.info()"
   ]
  },
  {
   "cell_type": "code",
   "execution_count": 181,
   "metadata": {},
   "outputs": [],
   "source": [
    "df_2020.to_csv('startup_function2020.csv', index = False)"
   ]
  },
  {
   "cell_type": "code",
   "execution_count": 182,
   "metadata": {},
   "outputs": [],
   "source": [
    "df_2021.to_csv('startup_function2021.csv', index = False)"
   ]
  },
  {
   "attachments": {},
   "cell_type": "markdown",
   "metadata": {},
   "source": [
    "2.1  Null hypothesis: The location os a business doesn't affeact the amount of funding received from investors.\n",
    "Alternate hypothesis: The location of a business significantly affects the amount of funding issued by investors \n",
    "    2.1.1 To test this hypothesis we will examine the distribution of start_ups across cities and deduce which cities have the most highly funded start_ups "
   ]
  },
  {
   "attachments": {},
   "cell_type": "markdown",
   "metadata": {},
   "source": [
    "2.2 The formulated question for our analysis\n",
    "1. To what extend do cities influence funding?\n",
    "2. which industries are preferred by investors for funding?\n",
    "3. What is the typical funding amount the startups receive in India?\n",
    "4. How does the type of industry affect how the startup is funded?\n",
    "5. Average number of fund received each year by the companies?\n"
   ]
  },
  {
   "attachments": {},
   "cell_type": "markdown",
   "metadata": {},
   "source": [
    "3.0 Data Praparation "
   ]
  },
  {
   "cell_type": "code",
   "execution_count": 183,
   "metadata": {},
   "outputs": [],
   "source": [
    "#Cleaning 2018_data \n",
    "#load the data \n",
    "df_2018 = pd.read_csv('startup_funding2018.csv')"
   ]
  },
  {
   "cell_type": "code",
   "execution_count": 184,
   "metadata": {},
   "outputs": [
    {
     "data": {
      "text/html": [
       "<div>\n",
       "<style scoped>\n",
       "    .dataframe tbody tr th:only-of-type {\n",
       "        vertical-align: middle;\n",
       "    }\n",
       "\n",
       "    .dataframe tbody tr th {\n",
       "        vertical-align: top;\n",
       "    }\n",
       "\n",
       "    .dataframe thead th {\n",
       "        text-align: right;\n",
       "    }\n",
       "</style>\n",
       "<table border=\"1\" class=\"dataframe\">\n",
       "  <thead>\n",
       "    <tr style=\"text-align: right;\">\n",
       "      <th></th>\n",
       "      <th>Company Name</th>\n",
       "      <th>Industry</th>\n",
       "      <th>Round/Series</th>\n",
       "      <th>Amount</th>\n",
       "      <th>Location</th>\n",
       "      <th>About Company</th>\n",
       "    </tr>\n",
       "  </thead>\n",
       "  <tbody>\n",
       "    <tr>\n",
       "      <th>0</th>\n",
       "      <td>TheCollegeFever</td>\n",
       "      <td>Brand Marketing, Event Promotion, Marketing, S...</td>\n",
       "      <td>Seed</td>\n",
       "      <td>250000</td>\n",
       "      <td>Bangalore, Karnataka, India</td>\n",
       "      <td>TheCollegeFever is a hub for fun, fiesta and f...</td>\n",
       "    </tr>\n",
       "    <tr>\n",
       "      <th>1</th>\n",
       "      <td>Happy Cow Dairy</td>\n",
       "      <td>Agriculture, Farming</td>\n",
       "      <td>Seed</td>\n",
       "      <td>₹40,000,000</td>\n",
       "      <td>Mumbai, Maharashtra, India</td>\n",
       "      <td>A startup which aggregates milk from dairy far...</td>\n",
       "    </tr>\n",
       "    <tr>\n",
       "      <th>2</th>\n",
       "      <td>MyLoanCare</td>\n",
       "      <td>Credit, Financial Services, Lending, Marketplace</td>\n",
       "      <td>Series A</td>\n",
       "      <td>₹65,000,000</td>\n",
       "      <td>Gurgaon, Haryana, India</td>\n",
       "      <td>Leading Online Loans Marketplace in India</td>\n",
       "    </tr>\n",
       "    <tr>\n",
       "      <th>3</th>\n",
       "      <td>PayMe India</td>\n",
       "      <td>Financial Services, FinTech</td>\n",
       "      <td>Angel</td>\n",
       "      <td>2000000</td>\n",
       "      <td>Noida, Uttar Pradesh, India</td>\n",
       "      <td>PayMe India is an innovative FinTech organizat...</td>\n",
       "    </tr>\n",
       "    <tr>\n",
       "      <th>4</th>\n",
       "      <td>Eunimart</td>\n",
       "      <td>E-Commerce Platforms, Retail, SaaS</td>\n",
       "      <td>Seed</td>\n",
       "      <td>—</td>\n",
       "      <td>Hyderabad, Andhra Pradesh, India</td>\n",
       "      <td>Eunimart is a one stop solution for merchants ...</td>\n",
       "    </tr>\n",
       "  </tbody>\n",
       "</table>\n",
       "</div>"
      ],
      "text/plain": [
       "      Company Name                                           Industry  \\\n",
       "0  TheCollegeFever  Brand Marketing, Event Promotion, Marketing, S...   \n",
       "1  Happy Cow Dairy                               Agriculture, Farming   \n",
       "2       MyLoanCare   Credit, Financial Services, Lending, Marketplace   \n",
       "3      PayMe India                        Financial Services, FinTech   \n",
       "4         Eunimart                 E-Commerce Platforms, Retail, SaaS   \n",
       "\n",
       "  Round/Series       Amount                          Location  \\\n",
       "0         Seed       250000       Bangalore, Karnataka, India   \n",
       "1         Seed  ₹40,000,000        Mumbai, Maharashtra, India   \n",
       "2     Series A  ₹65,000,000           Gurgaon, Haryana, India   \n",
       "3        Angel      2000000       Noida, Uttar Pradesh, India   \n",
       "4         Seed            —  Hyderabad, Andhra Pradesh, India   \n",
       "\n",
       "                                       About Company  \n",
       "0  TheCollegeFever is a hub for fun, fiesta and f...  \n",
       "1  A startup which aggregates milk from dairy far...  \n",
       "2          Leading Online Loans Marketplace in India  \n",
       "3  PayMe India is an innovative FinTech organizat...  \n",
       "4  Eunimart is a one stop solution for merchants ...  "
      ]
     },
     "execution_count": 184,
     "metadata": {},
     "output_type": "execute_result"
    }
   ],
   "source": [
    "df_2018.head(5)"
   ]
  },
  {
   "cell_type": "code",
   "execution_count": 185,
   "metadata": {},
   "outputs": [
    {
     "name": "stdout",
     "output_type": "stream",
     "text": [
      "<class 'pandas.core.frame.DataFrame'>\n",
      "RangeIndex: 526 entries, 0 to 525\n",
      "Data columns (total 6 columns):\n",
      " #   Column         Non-Null Count  Dtype \n",
      "---  ------         --------------  ----- \n",
      " 0   Company Name   526 non-null    object\n",
      " 1   Industry       526 non-null    object\n",
      " 2   Round/Series   526 non-null    object\n",
      " 3   Amount         526 non-null    object\n",
      " 4   Location       526 non-null    object\n",
      " 5   About Company  526 non-null    object\n",
      "dtypes: object(6)\n",
      "memory usage: 24.8+ KB\n"
     ]
    }
   ],
   "source": [
    "df_2018.info()"
   ]
  },
  {
   "cell_type": "code",
   "execution_count": 186,
   "metadata": {},
   "outputs": [
    {
     "data": {
      "text/plain": [
       "Company Name     0\n",
       "Industry         0\n",
       "Round/Series     0\n",
       "Amount           0\n",
       "Location         0\n",
       "About Company    0\n",
       "dtype: int64"
      ]
     },
     "execution_count": 186,
     "metadata": {},
     "output_type": "execute_result"
    }
   ],
   "source": [
    "df_2018.isnull().sum() "
   ]
  },
  {
   "cell_type": "code",
   "execution_count": 187,
   "metadata": {},
   "outputs": [
    {
     "data": {
      "text/plain": [
       "array(['Seed', 'Series A', 'Angel', 'Series B', 'Pre-Seed',\n",
       "       'Private Equity', 'Venture - Series Unknown', 'Grant',\n",
       "       'Debt Financing', 'Post-IPO Debt', 'Series H', 'Series C',\n",
       "       'Series E', 'Corporate Round', 'Undisclosed',\n",
       "       'https://docs.google.com/spreadsheets/d/1x9ziNeaz6auNChIHnMI8U6kS7knTr3byy_YBGfQaoUA/edit#gid=1861303593',\n",
       "       'Series D', 'Secondary Market', 'Post-IPO Equity',\n",
       "       'Non-equity Assistance', 'Funding Round'], dtype=object)"
      ]
     },
     "execution_count": 187,
     "metadata": {},
     "output_type": "execute_result"
    }
   ],
   "source": [
    "#checking the unique value of Round/series\n",
    "df_2018['Round/Series'].unique()"
   ]
  },
  {
   "cell_type": "code",
   "execution_count": 188,
   "metadata": {},
   "outputs": [
    {
     "data": {
      "text/html": [
       "<div>\n",
       "<style scoped>\n",
       "    .dataframe tbody tr th:only-of-type {\n",
       "        vertical-align: middle;\n",
       "    }\n",
       "\n",
       "    .dataframe tbody tr th {\n",
       "        vertical-align: top;\n",
       "    }\n",
       "\n",
       "    .dataframe thead th {\n",
       "        text-align: right;\n",
       "    }\n",
       "</style>\n",
       "<table border=\"1\" class=\"dataframe\">\n",
       "  <thead>\n",
       "    <tr style=\"text-align: right;\">\n",
       "      <th></th>\n",
       "      <th>Company Name</th>\n",
       "      <th>Industry</th>\n",
       "      <th>Round/Series</th>\n",
       "      <th>Amount</th>\n",
       "      <th>Location</th>\n",
       "      <th>About Company</th>\n",
       "    </tr>\n",
       "  </thead>\n",
       "  <tbody>\n",
       "    <tr>\n",
       "      <th>178</th>\n",
       "      <td>BuyForexOnline</td>\n",
       "      <td>Travel</td>\n",
       "      <td>https://docs.google.com/spreadsheets/d/1x9ziNe...</td>\n",
       "      <td>2000000</td>\n",
       "      <td>Bangalore, Karnataka, India</td>\n",
       "      <td>BuyForexOnline.com is India's first completely...</td>\n",
       "    </tr>\n",
       "  </tbody>\n",
       "</table>\n",
       "</div>"
      ],
      "text/plain": [
       "       Company Name Industry  \\\n",
       "178  BuyForexOnline   Travel   \n",
       "\n",
       "                                          Round/Series   Amount  \\\n",
       "178  https://docs.google.com/spreadsheets/d/1x9ziNe...  2000000   \n",
       "\n",
       "                        Location  \\\n",
       "178  Bangalore, Karnataka, India   \n",
       "\n",
       "                                         About Company  \n",
       "178  BuyForexOnline.com is India's first completely...  "
      ]
     },
     "execution_count": 188,
     "metadata": {},
     "output_type": "execute_result"
    }
   ],
   "source": [
    "df_2018[df_2018['Round/Series']=='https://docs.google.com/spreadsheets/d/1x9ziNeaz6auNChIHnMI8U6kS7knTr3byy_YBGfQaoUA/edit#gid=1861303593']"
   ]
  },
  {
   "cell_type": "code",
   "execution_count": 189,
   "metadata": {},
   "outputs": [],
   "source": [
    "#dropping the row 164\n",
    "df_2018=df_2018.drop(index=178)"
   ]
  },
  {
   "cell_type": "code",
   "execution_count": 190,
   "metadata": {},
   "outputs": [
    {
     "data": {
      "text/plain": [
       "array(['Bangalore, Karnataka, India', 'Mumbai, Maharashtra, India',\n",
       "       'Gurgaon, Haryana, India', 'Noida, Uttar Pradesh, India',\n",
       "       'Hyderabad, Andhra Pradesh, India', 'Bengaluru, Karnataka, India',\n",
       "       'Kalkaji, Delhi, India', 'Delhi, Delhi, India', 'India, Asia',\n",
       "       'Hubli, Karnataka, India', 'New Delhi, Delhi, India',\n",
       "       'Chennai, Tamil Nadu, India', 'Mohali, Punjab, India',\n",
       "       'Kolkata, West Bengal, India', 'Pune, Maharashtra, India',\n",
       "       'Jodhpur, Rajasthan, India', 'Kanpur, Uttar Pradesh, India',\n",
       "       'Ahmedabad, Gujarat, India', 'Azadpur, Delhi, India',\n",
       "       'Haryana, Haryana, India', 'Cochin, Kerala, India',\n",
       "       'Faridabad, Haryana, India', 'Jaipur, Rajasthan, India',\n",
       "       'Kota, Rajasthan, India', 'Anand, Gujarat, India',\n",
       "       'Bangalore City, Karnataka, India', 'Belgaum, Karnataka, India',\n",
       "       'Thane, Maharashtra, India', 'Margão, Goa, India',\n",
       "       'Indore, Madhya Pradesh, India', 'Alwar, Rajasthan, India',\n",
       "       'Kannur, Kerala, India', 'Trivandrum, Kerala, India',\n",
       "       'Ernakulam, Kerala, India', 'Kormangala, Karnataka, India',\n",
       "       'Uttar Pradesh, India, Asia', 'Andheri, Maharashtra, India',\n",
       "       'Mylapore, Tamil Nadu, India', 'Ghaziabad, Uttar Pradesh, India',\n",
       "       'Kochi, Kerala, India', 'Powai, Assam, India',\n",
       "       'Guntur, Andhra Pradesh, India', 'Kalpakkam, Tamil Nadu, India',\n",
       "       'Bhopal, Madhya Pradesh, India', 'Coimbatore, Tamil Nadu, India',\n",
       "       'Worli, Maharashtra, India', 'Alleppey, Kerala, India',\n",
       "       'Chandigarh, Chandigarh, India', 'Guindy, Tamil Nadu, India',\n",
       "       'Lucknow, Uttar Pradesh, India'], dtype=object)"
      ]
     },
     "execution_count": 190,
     "metadata": {},
     "output_type": "execute_result"
    }
   ],
   "source": [
    "#checking the unique value of Location\n",
    "df_2018['Location'].unique()"
   ]
  },
  {
   "cell_type": "code",
   "execution_count": 191,
   "metadata": {},
   "outputs": [],
   "source": [
    "#splitting the industry column using the comma\n",
    "df_2018['Location'] = df_2018['Location'].str.split(',').str[0]"
   ]
  },
  {
   "cell_type": "code",
   "execution_count": 192,
   "metadata": {},
   "outputs": [
    {
     "data": {
      "text/html": [
       "<div>\n",
       "<style scoped>\n",
       "    .dataframe tbody tr th:only-of-type {\n",
       "        vertical-align: middle;\n",
       "    }\n",
       "\n",
       "    .dataframe tbody tr th {\n",
       "        vertical-align: top;\n",
       "    }\n",
       "\n",
       "    .dataframe thead th {\n",
       "        text-align: right;\n",
       "    }\n",
       "</style>\n",
       "<table border=\"1\" class=\"dataframe\">\n",
       "  <thead>\n",
       "    <tr style=\"text-align: right;\">\n",
       "      <th></th>\n",
       "      <th>Company Name</th>\n",
       "      <th>Industry</th>\n",
       "      <th>Round/Series</th>\n",
       "      <th>Amount</th>\n",
       "      <th>Location</th>\n",
       "      <th>About Company</th>\n",
       "    </tr>\n",
       "  </thead>\n",
       "  <tbody>\n",
       "    <tr>\n",
       "      <th>0</th>\n",
       "      <td>TheCollegeFever</td>\n",
       "      <td>Brand Marketing, Event Promotion, Marketing, S...</td>\n",
       "      <td>Seed</td>\n",
       "      <td>250000</td>\n",
       "      <td>Bangalore</td>\n",
       "      <td>TheCollegeFever is a hub for fun, fiesta and f...</td>\n",
       "    </tr>\n",
       "    <tr>\n",
       "      <th>1</th>\n",
       "      <td>Happy Cow Dairy</td>\n",
       "      <td>Agriculture, Farming</td>\n",
       "      <td>Seed</td>\n",
       "      <td>₹40,000,000</td>\n",
       "      <td>Mumbai</td>\n",
       "      <td>A startup which aggregates milk from dairy far...</td>\n",
       "    </tr>\n",
       "    <tr>\n",
       "      <th>2</th>\n",
       "      <td>MyLoanCare</td>\n",
       "      <td>Credit, Financial Services, Lending, Marketplace</td>\n",
       "      <td>Series A</td>\n",
       "      <td>₹65,000,000</td>\n",
       "      <td>Gurgaon</td>\n",
       "      <td>Leading Online Loans Marketplace in India</td>\n",
       "    </tr>\n",
       "    <tr>\n",
       "      <th>3</th>\n",
       "      <td>PayMe India</td>\n",
       "      <td>Financial Services, FinTech</td>\n",
       "      <td>Angel</td>\n",
       "      <td>2000000</td>\n",
       "      <td>Noida</td>\n",
       "      <td>PayMe India is an innovative FinTech organizat...</td>\n",
       "    </tr>\n",
       "    <tr>\n",
       "      <th>4</th>\n",
       "      <td>Eunimart</td>\n",
       "      <td>E-Commerce Platforms, Retail, SaaS</td>\n",
       "      <td>Seed</td>\n",
       "      <td>—</td>\n",
       "      <td>Hyderabad</td>\n",
       "      <td>Eunimart is a one stop solution for merchants ...</td>\n",
       "    </tr>\n",
       "  </tbody>\n",
       "</table>\n",
       "</div>"
      ],
      "text/plain": [
       "      Company Name                                           Industry  \\\n",
       "0  TheCollegeFever  Brand Marketing, Event Promotion, Marketing, S...   \n",
       "1  Happy Cow Dairy                               Agriculture, Farming   \n",
       "2       MyLoanCare   Credit, Financial Services, Lending, Marketplace   \n",
       "3      PayMe India                        Financial Services, FinTech   \n",
       "4         Eunimart                 E-Commerce Platforms, Retail, SaaS   \n",
       "\n",
       "  Round/Series       Amount   Location  \\\n",
       "0         Seed       250000  Bangalore   \n",
       "1         Seed  ₹40,000,000     Mumbai   \n",
       "2     Series A  ₹65,000,000    Gurgaon   \n",
       "3        Angel      2000000      Noida   \n",
       "4         Seed            —  Hyderabad   \n",
       "\n",
       "                                       About Company  \n",
       "0  TheCollegeFever is a hub for fun, fiesta and f...  \n",
       "1  A startup which aggregates milk from dairy far...  \n",
       "2          Leading Online Loans Marketplace in India  \n",
       "3  PayMe India is an innovative FinTech organizat...  \n",
       "4  Eunimart is a one stop solution for merchants ...  "
      ]
     },
     "execution_count": 192,
     "metadata": {},
     "output_type": "execute_result"
    }
   ],
   "source": [
    "df_2018.head(5)"
   ]
  },
  {
   "cell_type": "code",
   "execution_count": 193,
   "metadata": {},
   "outputs": [
    {
     "data": {
      "text/plain": [
       "array(['250000', '₹40,000,000', '₹65,000,000', '2000000', '—', '1600000',\n",
       "       '₹16,000,000', '₹50,000,000', '₹100,000,000', '150000', '1100000',\n",
       "       '₹500,000', '6000000', '650000', '₹35,000,000', '₹64,000,000',\n",
       "       '₹20,000,000', '1000000', '5000000', '4000000', '₹30,000,000',\n",
       "       '2800000', '1700000', '1300000', '₹5,000,000', '₹12,500,000',\n",
       "       '₹15,000,000', '500000', '₹104,000,000', '₹45,000,000', '13400000',\n",
       "       '₹25,000,000', '₹26,400,000', '₹8,000,000', '₹60,000', '9000000',\n",
       "       '100000', '20000', '120000', '₹34,000,000', '₹342,000,000',\n",
       "       '$143,145', '₹600,000,000', '$742,000,000', '₹1,000,000,000',\n",
       "       '₹2,000,000,000', '$3,980,000', '$10,000', '₹100,000',\n",
       "       '₹250,000,000', '$1,000,000,000', '$7,000,000', '$35,000,000',\n",
       "       '₹550,000,000', '$28,500,000', '$2,000,000', '₹240,000,000',\n",
       "       '₹120,000,000', '$2,400,000', '$30,000,000', '₹2,500,000,000',\n",
       "       '$23,000,000', '$150,000', '$11,000,000', '₹44,000,000',\n",
       "       '$3,240,000', '₹60,000,000', '$540,000,000', '₹650,000,000',\n",
       "       '₹1,600,000,000', '$900,000', '$10,000,000', '$1,500,000',\n",
       "       '₹70,000,000', '$1,000,000', '$5,000,000', '$14,000,000',\n",
       "       '₹102,500,000', '$100,000,000', '₹1,200,000', '₹5,200,000,000',\n",
       "       '$800,000', '$1,041,000', '$100,000', '$15,000', '1400000',\n",
       "       '1200000', '2200000', '1800000', '3600000', '₹9,500,000', '300000',\n",
       "       '6830000', '200000', '₹150,000,000', '4300000', '364846', '400000',\n",
       "       '1500000', '₹7,000,000', '₹1,400,000', '₹10,000,000',\n",
       "       '₹22,500,000', '13200000', '50000', '₹140,200,000', '3000000',\n",
       "       '1250000', '180000', '₹19,200,000', '₹103,000,000', '4200000',\n",
       "       '175000', '1450000', '₹200,000', '4500000', '600000',\n",
       "       '₹16,600,000', '₹12,000,000', '15000000', '₹33,000,000', '125000',\n",
       "       '130000', '₹34,900,000', '₹72,000,000', '17200000', '₹32,000,000',\n",
       "       '3500000', '₹135,000,000', '12000000', '$40,000,000', '$1,100,000',\n",
       "       '$50,000,000', '₹1,540,000,000', '$3,000,000', '$6,000,000',\n",
       "       '₹140,000,000', '$41,900,000', '₹1,410,000,000', '$3,530,000',\n",
       "       '$200,000', '$3,300,000', '₹580,000,000', '₹36,000,000',\n",
       "       '₹340,000,000', '$210,000,000', '$37,680,000', '$250,000',\n",
       "       '$20,000', '₹510,000,000', '₹2,200,000,000', '22000000', '70000',\n",
       "       '10000000', '₹15,392,000,000', '₹20,000,000,000', '₹4,000,000,000',\n",
       "       '185000000', '65000000', '₹165,000,000', '700000', '30000000',\n",
       "       '₹210,000,000', '210000000', '₹2,029,600,000', '75000000',\n",
       "       '₹80,000,000', '1760000', '2700000', '₹280,000,000',\n",
       "       '₹800,000,000', '750000', '2500000', '80000000', '25000000',\n",
       "       '₹730,000,000', '₹400,000,000', '3700000', '5600000',\n",
       "       '₹260,000,000', '99230000', '70000000', '40000', '550000',\n",
       "       '50000000', '365000000', '₹8,750,000', '₹78,000,000', '28000000',\n",
       "       '₹264,000,000', '100000000', '₹1,130,000,000', '₹810,000,000',\n",
       "       '₹1,400,000,000', '14900000', '225000000', '7500', '35000000'],\n",
       "      dtype=object)"
      ]
     },
     "execution_count": 193,
     "metadata": {},
     "output_type": "execute_result"
    }
   ],
   "source": [
    "#cheacking the unique value of amount\n",
    "df_2018['Amount'].unique()"
   ]
  },
  {
   "cell_type": "code",
   "execution_count": 194,
   "metadata": {},
   "outputs": [],
   "source": [
    "# changing the repuss currency into dollors currency using the exchange rates\n",
    "\n",
    "for row in df_2018.index:\n",
    "\n",
    "    for column in df_2018.columns:\n",
    "\n",
    "        if '₹' in str(df_2018.loc[row, column]):\n",
    "\n",
    "            amount = df_2018.loc[row, column].replace('₹', '').replace(',', '')\n",
    "\n",
    "            df_2018.loc[row, column] = pd.to_numeric(amount, errors='coerce') * 0.146\n",
    "\n",
    "        elif '$' in str(df_2018.loc[row, column]):\n",
    "\n",
    "            df_2018.loc[row, column] = df_2018.loc[row, column].replace('$', '').replace(',', '')\n",
    "\n",
    "        elif \"—\" in str(df_2018.loc[row, column]):\n",
    "\n",
    "            df_2018.loc[row, column] = df_2018.loc[row, column].replace(\"—\", '')"
   ]
  },
  {
   "cell_type": "code",
   "execution_count": 195,
   "metadata": {},
   "outputs": [
    {
     "data": {
      "text/html": [
       "<div>\n",
       "<style scoped>\n",
       "    .dataframe tbody tr th:only-of-type {\n",
       "        vertical-align: middle;\n",
       "    }\n",
       "\n",
       "    .dataframe tbody tr th {\n",
       "        vertical-align: top;\n",
       "    }\n",
       "\n",
       "    .dataframe thead th {\n",
       "        text-align: right;\n",
       "    }\n",
       "</style>\n",
       "<table border=\"1\" class=\"dataframe\">\n",
       "  <thead>\n",
       "    <tr style=\"text-align: right;\">\n",
       "      <th></th>\n",
       "      <th>Company Name</th>\n",
       "      <th>Industry</th>\n",
       "      <th>Round/Series</th>\n",
       "      <th>Amount</th>\n",
       "      <th>Location</th>\n",
       "      <th>About Company</th>\n",
       "    </tr>\n",
       "  </thead>\n",
       "  <tbody>\n",
       "    <tr>\n",
       "      <th>0</th>\n",
       "      <td>TheCollegeFever</td>\n",
       "      <td>Brand Marketing, Event Promotion, Marketing, S...</td>\n",
       "      <td>Seed</td>\n",
       "      <td>250000</td>\n",
       "      <td>Bangalore</td>\n",
       "      <td>TheCollegeFever is a hub for fun, fiesta and f...</td>\n",
       "    </tr>\n",
       "    <tr>\n",
       "      <th>1</th>\n",
       "      <td>Happy Cow Dairy</td>\n",
       "      <td>Agriculture, Farming</td>\n",
       "      <td>Seed</td>\n",
       "      <td>5840000.0</td>\n",
       "      <td>Mumbai</td>\n",
       "      <td>A startup which aggregates milk from dairy far...</td>\n",
       "    </tr>\n",
       "    <tr>\n",
       "      <th>2</th>\n",
       "      <td>MyLoanCare</td>\n",
       "      <td>Credit, Financial Services, Lending, Marketplace</td>\n",
       "      <td>Series A</td>\n",
       "      <td>9490000.0</td>\n",
       "      <td>Gurgaon</td>\n",
       "      <td>Leading Online Loans Marketplace in India</td>\n",
       "    </tr>\n",
       "    <tr>\n",
       "      <th>3</th>\n",
       "      <td>PayMe India</td>\n",
       "      <td>Financial Services, FinTech</td>\n",
       "      <td>Angel</td>\n",
       "      <td>2000000</td>\n",
       "      <td>Noida</td>\n",
       "      <td>PayMe India is an innovative FinTech organizat...</td>\n",
       "    </tr>\n",
       "    <tr>\n",
       "      <th>4</th>\n",
       "      <td>Eunimart</td>\n",
       "      <td>E-Commerce Platforms, Retail, SaaS</td>\n",
       "      <td>Seed</td>\n",
       "      <td></td>\n",
       "      <td>Hyderabad</td>\n",
       "      <td>Eunimart is a one stop solution for merchants ...</td>\n",
       "    </tr>\n",
       "  </tbody>\n",
       "</table>\n",
       "</div>"
      ],
      "text/plain": [
       "      Company Name                                           Industry  \\\n",
       "0  TheCollegeFever  Brand Marketing, Event Promotion, Marketing, S...   \n",
       "1  Happy Cow Dairy                               Agriculture, Farming   \n",
       "2       MyLoanCare   Credit, Financial Services, Lending, Marketplace   \n",
       "3      PayMe India                        Financial Services, FinTech   \n",
       "4         Eunimart                 E-Commerce Platforms, Retail, SaaS   \n",
       "\n",
       "  Round/Series     Amount   Location  \\\n",
       "0         Seed     250000  Bangalore   \n",
       "1         Seed  5840000.0     Mumbai   \n",
       "2     Series A  9490000.0    Gurgaon   \n",
       "3        Angel    2000000      Noida   \n",
       "4         Seed             Hyderabad   \n",
       "\n",
       "                                       About Company  \n",
       "0  TheCollegeFever is a hub for fun, fiesta and f...  \n",
       "1  A startup which aggregates milk from dairy far...  \n",
       "2          Leading Online Loans Marketplace in India  \n",
       "3  PayMe India is an innovative FinTech organizat...  \n",
       "4  Eunimart is a one stop solution for merchants ...  "
      ]
     },
     "execution_count": 195,
     "metadata": {},
     "output_type": "execute_result"
    }
   ],
   "source": [
    "df_2018.head(5)"
   ]
  },
  {
   "cell_type": "code",
   "execution_count": 196,
   "metadata": {},
   "outputs": [
    {
     "data": {
      "text/plain": [
       "array(['250000', 5840000.0, 9490000.0, '2000000', '', '1600000',\n",
       "       2336000.0, 7300000.0, 14600000.0, '150000', '1100000', 73000.0,\n",
       "       '6000000', '650000', 5110000.0, 9344000.0, 2920000.0, '1000000',\n",
       "       '5000000', '4000000', 4380000.0, '2800000', '1700000', '1300000',\n",
       "       730000.0, 1825000.0, 2190000.0, '500000', 15183999.999999998,\n",
       "       6570000.0, '13400000', 3650000.0, 3854399.9999999995, 1168000.0,\n",
       "       8760.0, '9000000', '100000', '20000', '120000', 4964000.0,\n",
       "       49932000.0, '143145', 87600000.0, '742000000', 146000000.0,\n",
       "       292000000.0, '3980000', '10000', 14599.999999999998, 36500000.0,\n",
       "       '1000000000', '7000000', '35000000', 80300000.0, '28500000',\n",
       "       35040000.0, 17520000.0, '2400000', '30000000', 365000000.0,\n",
       "       '23000000', '11000000', 6424000.0, '3240000', 8760000.0,\n",
       "       '540000000', 94900000.0, 233600000.0, '900000', '10000000',\n",
       "       '1500000', 10220000.0, '14000000', 14964999.999999998, '100000000',\n",
       "       175200.0, 759200000.0, '800000', '1041000', '15000', '1400000',\n",
       "       '1200000', '2200000', '1800000', '3600000', 1387000.0, '300000',\n",
       "       '6830000', '200000', 21900000.0, '4300000', '364846', '400000',\n",
       "       1021999.9999999999, 204400.0, 1460000.0, 3285000.0, '13200000',\n",
       "       '50000', 20469200.0, '3000000', '1250000', '180000', 2803200.0,\n",
       "       15037999.999999998, '4200000', '175000', '1450000',\n",
       "       29199.999999999996, '4500000', '600000', 2423600.0, 1752000.0,\n",
       "       '15000000', 4818000.0, '125000', '130000', 5095400.0, 10512000.0,\n",
       "       '17200000', 4672000.0, '3500000', 19710000.0, '12000000',\n",
       "       '40000000', '50000000', 224840000.0, 20440000.0, '41900000',\n",
       "       205860000.0, '3530000', '3300000', 84680000.0, 5256000.0,\n",
       "       49640000.0, '210000000', '37680000', 74460000.0, 321200000.0,\n",
       "       '22000000', '70000', 2247232000.0, 2920000000.0, 584000000.0,\n",
       "       '185000000', '65000000', 24090000.0, '700000', 30659999.999999996,\n",
       "       296321600.0, '75000000', 11680000.0, '1760000', '2700000',\n",
       "       40880000.0, 116800000.0, '750000', '2500000', '80000000',\n",
       "       '25000000', 106580000.0, 58400000.0, '3700000', '5600000',\n",
       "       37960000.0, '99230000', '70000000', '40000', '550000', '365000000',\n",
       "       1277500.0, 11388000.0, '28000000', 38544000.0, 164980000.0,\n",
       "       118260000.0, 204400000.0, '14900000', '225000000', '7500'],\n",
       "      dtype=object)"
      ]
     },
     "execution_count": 196,
     "metadata": {},
     "output_type": "execute_result"
    }
   ],
   "source": [
    "df_2018['Amount'].unique()"
   ]
  },
  {
   "cell_type": "code",
   "execution_count": 197,
   "metadata": {},
   "outputs": [],
   "source": [
    "# replace commas and extract numbers to create a new column\n",
    "df_2018['Amount($)'] = df_2018['Amount'].str.replace(',', '').str.extract(r'(\\d+)').astype(float)\n"
   ]
  },
  {
   "cell_type": "code",
   "execution_count": 198,
   "metadata": {},
   "outputs": [],
   "source": [
    "# # fill null values with the mode in the Amount($) column\n",
    "from sklearn.impute import SimpleImputer\n",
    "imputer = SimpleImputer(strategy='most_frequent', missing_values=np.nan)\n",
    "imputer_18 = imputer.fit(df_2018[['Amount($)']])\n",
    "df_2018['Amount($)'] = imputer_18.transform(df_2018[['Amount($)']])"
   ]
  },
  {
   "cell_type": "code",
   "execution_count": 199,
   "metadata": {},
   "outputs": [
    {
     "data": {
      "text/plain": [
       "0"
      ]
     },
     "execution_count": 199,
     "metadata": {},
     "output_type": "execute_result"
    }
   ],
   "source": [
    "# confirm null value have been replaced\n",
    "df_2018['Amount($)'].isnull().sum()"
   ]
  },
  {
   "cell_type": "code",
   "execution_count": 200,
   "metadata": {},
   "outputs": [],
   "source": [
    "#changing of column name \n",
    "df_2018.rename(columns = {'Company Name' :'Company/Brand', 'Industry' :'Sector', 'Round/Series':'Stage','Amount':'Amount($)','About Company':'What it does'}, inplace = True)"
   ]
  },
  {
   "cell_type": "code",
   "execution_count": 201,
   "metadata": {},
   "outputs": [
    {
     "data": {
      "text/plain": [
       "Company/Brand    524\n",
       "Sector           405\n",
       "Stage             20\n",
       "Amount($)        180\n",
       "Location          50\n",
       "What it does     523\n",
       "Amount($)         98\n",
       "dtype: int64"
      ]
     },
     "execution_count": 201,
     "metadata": {},
     "output_type": "execute_result"
    }
   ],
   "source": [
    "# Get the cardinality/number of unique values in each column\n",
    "df_2018.nunique()"
   ]
  },
  {
   "cell_type": "code",
   "execution_count": 202,
   "metadata": {},
   "outputs": [
    {
     "data": {
      "text/html": [
       "<div>\n",
       "<style scoped>\n",
       "    .dataframe tbody tr th:only-of-type {\n",
       "        vertical-align: middle;\n",
       "    }\n",
       "\n",
       "    .dataframe tbody tr th {\n",
       "        vertical-align: top;\n",
       "    }\n",
       "\n",
       "    .dataframe thead th {\n",
       "        text-align: right;\n",
       "    }\n",
       "</style>\n",
       "<table border=\"1\" class=\"dataframe\">\n",
       "  <thead>\n",
       "    <tr style=\"text-align: right;\">\n",
       "      <th></th>\n",
       "      <th>Company/Brand</th>\n",
       "      <th>Sector</th>\n",
       "      <th>Stage</th>\n",
       "      <th>Amount($)</th>\n",
       "      <th>Location</th>\n",
       "      <th>What it does</th>\n",
       "      <th>Amount($)</th>\n",
       "    </tr>\n",
       "  </thead>\n",
       "  <tbody>\n",
       "    <tr>\n",
       "      <th>0</th>\n",
       "      <td>TheCollegeFever</td>\n",
       "      <td>Brand Marketing</td>\n",
       "      <td>Seed</td>\n",
       "      <td>250000</td>\n",
       "      <td>Bangalore</td>\n",
       "      <td>TheCollegeFever is a hub for fun, fiesta and f...</td>\n",
       "      <td>250000.0</td>\n",
       "    </tr>\n",
       "    <tr>\n",
       "      <th>1</th>\n",
       "      <td>Happy Cow Dairy</td>\n",
       "      <td>Agriculture</td>\n",
       "      <td>Seed</td>\n",
       "      <td>5840000.0</td>\n",
       "      <td>Mumbai</td>\n",
       "      <td>A startup which aggregates milk from dairy far...</td>\n",
       "      <td>1000000.0</td>\n",
       "    </tr>\n",
       "    <tr>\n",
       "      <th>2</th>\n",
       "      <td>MyLoanCare</td>\n",
       "      <td>Credit</td>\n",
       "      <td>Series A</td>\n",
       "      <td>9490000.0</td>\n",
       "      <td>Gurgaon</td>\n",
       "      <td>Leading Online Loans Marketplace in India</td>\n",
       "      <td>1000000.0</td>\n",
       "    </tr>\n",
       "    <tr>\n",
       "      <th>3</th>\n",
       "      <td>PayMe India</td>\n",
       "      <td>Financial Services</td>\n",
       "      <td>Angel</td>\n",
       "      <td>2000000</td>\n",
       "      <td>Noida</td>\n",
       "      <td>PayMe India is an innovative FinTech organizat...</td>\n",
       "      <td>2000000.0</td>\n",
       "    </tr>\n",
       "    <tr>\n",
       "      <th>4</th>\n",
       "      <td>Eunimart</td>\n",
       "      <td>E-Commerce Platforms</td>\n",
       "      <td>Seed</td>\n",
       "      <td></td>\n",
       "      <td>Hyderabad</td>\n",
       "      <td>Eunimart is a one stop solution for merchants ...</td>\n",
       "      <td>1000000.0</td>\n",
       "    </tr>\n",
       "  </tbody>\n",
       "</table>\n",
       "</div>"
      ],
      "text/plain": [
       "     Company/Brand                Sector     Stage  Amount($)   Location  \\\n",
       "0  TheCollegeFever       Brand Marketing      Seed     250000  Bangalore   \n",
       "1  Happy Cow Dairy           Agriculture      Seed  5840000.0     Mumbai   \n",
       "2       MyLoanCare                Credit  Series A  9490000.0    Gurgaon   \n",
       "3      PayMe India    Financial Services     Angel    2000000      Noida   \n",
       "4         Eunimart  E-Commerce Platforms      Seed             Hyderabad   \n",
       "\n",
       "                                        What it does  Amount($)  \n",
       "0  TheCollegeFever is a hub for fun, fiesta and f...   250000.0  \n",
       "1  A startup which aggregates milk from dairy far...  1000000.0  \n",
       "2          Leading Online Loans Marketplace in India  1000000.0  \n",
       "3  PayMe India is an innovative FinTech organizat...  2000000.0  \n",
       "4  Eunimart is a one stop solution for merchants ...  1000000.0  "
      ]
     },
     "execution_count": 202,
     "metadata": {},
     "output_type": "execute_result"
    }
   ],
   "source": [
    "# splitting the values in Sector columns  using a comma as the delimiter and selected the first value as the primary sector.\n",
    "#spliting the location column \n",
    "df_2018['Sector'] = df_2018['Sector'].str.split(',').str[0]\n",
    "df_2018.head(5)"
   ]
  },
  {
   "cell_type": "code",
   "execution_count": 203,
   "metadata": {},
   "outputs": [
    {
     "data": {
      "text/html": [
       "<div>\n",
       "<style scoped>\n",
       "    .dataframe tbody tr th:only-of-type {\n",
       "        vertical-align: middle;\n",
       "    }\n",
       "\n",
       "    .dataframe tbody tr th {\n",
       "        vertical-align: top;\n",
       "    }\n",
       "\n",
       "    .dataframe thead th {\n",
       "        text-align: right;\n",
       "    }\n",
       "</style>\n",
       "<table border=\"1\" class=\"dataframe\">\n",
       "  <thead>\n",
       "    <tr style=\"text-align: right;\">\n",
       "      <th></th>\n",
       "      <th>Company/Brand</th>\n",
       "      <th>Sector</th>\n",
       "      <th>Stage</th>\n",
       "      <th>Amount($)</th>\n",
       "      <th>Location</th>\n",
       "      <th>What it does</th>\n",
       "      <th>Amount($)</th>\n",
       "      <th>Year of Funding</th>\n",
       "    </tr>\n",
       "  </thead>\n",
       "  <tbody>\n",
       "    <tr>\n",
       "      <th>0</th>\n",
       "      <td>TheCollegeFever</td>\n",
       "      <td>Brand Marketing</td>\n",
       "      <td>Seed</td>\n",
       "      <td>250000</td>\n",
       "      <td>Bangalore</td>\n",
       "      <td>TheCollegeFever is a hub for fun, fiesta and f...</td>\n",
       "      <td>250000.0</td>\n",
       "      <td>2018</td>\n",
       "    </tr>\n",
       "    <tr>\n",
       "      <th>1</th>\n",
       "      <td>Happy Cow Dairy</td>\n",
       "      <td>Agriculture</td>\n",
       "      <td>Seed</td>\n",
       "      <td>5840000.0</td>\n",
       "      <td>Mumbai</td>\n",
       "      <td>A startup which aggregates milk from dairy far...</td>\n",
       "      <td>1000000.0</td>\n",
       "      <td>2018</td>\n",
       "    </tr>\n",
       "    <tr>\n",
       "      <th>2</th>\n",
       "      <td>MyLoanCare</td>\n",
       "      <td>Credit</td>\n",
       "      <td>Series A</td>\n",
       "      <td>9490000.0</td>\n",
       "      <td>Gurgaon</td>\n",
       "      <td>Leading Online Loans Marketplace in India</td>\n",
       "      <td>1000000.0</td>\n",
       "      <td>2018</td>\n",
       "    </tr>\n",
       "    <tr>\n",
       "      <th>3</th>\n",
       "      <td>PayMe India</td>\n",
       "      <td>Financial Services</td>\n",
       "      <td>Angel</td>\n",
       "      <td>2000000</td>\n",
       "      <td>Noida</td>\n",
       "      <td>PayMe India is an innovative FinTech organizat...</td>\n",
       "      <td>2000000.0</td>\n",
       "      <td>2018</td>\n",
       "    </tr>\n",
       "    <tr>\n",
       "      <th>4</th>\n",
       "      <td>Eunimart</td>\n",
       "      <td>E-Commerce Platforms</td>\n",
       "      <td>Seed</td>\n",
       "      <td></td>\n",
       "      <td>Hyderabad</td>\n",
       "      <td>Eunimart is a one stop solution for merchants ...</td>\n",
       "      <td>1000000.0</td>\n",
       "      <td>2018</td>\n",
       "    </tr>\n",
       "  </tbody>\n",
       "</table>\n",
       "</div>"
      ],
      "text/plain": [
       "     Company/Brand                Sector     Stage  Amount($)   Location  \\\n",
       "0  TheCollegeFever       Brand Marketing      Seed     250000  Bangalore   \n",
       "1  Happy Cow Dairy           Agriculture      Seed  5840000.0     Mumbai   \n",
       "2       MyLoanCare                Credit  Series A  9490000.0    Gurgaon   \n",
       "3      PayMe India    Financial Services     Angel    2000000      Noida   \n",
       "4         Eunimart  E-Commerce Platforms      Seed             Hyderabad   \n",
       "\n",
       "                                        What it does  Amount($)  \\\n",
       "0  TheCollegeFever is a hub for fun, fiesta and f...   250000.0   \n",
       "1  A startup which aggregates milk from dairy far...  1000000.0   \n",
       "2          Leading Online Loans Marketplace in India  1000000.0   \n",
       "3  PayMe India is an innovative FinTech organizat...  2000000.0   \n",
       "4  Eunimart is a one stop solution for merchants ...  1000000.0   \n",
       "\n",
       "  Year of Funding  \n",
       "0            2018  \n",
       "1            2018  \n",
       "2            2018  \n",
       "3            2018  \n",
       "4            2018  "
      ]
     },
     "execution_count": 203,
     "metadata": {},
     "output_type": "execute_result"
    }
   ],
   "source": [
    "# Create Year of Funding column\n",
    "df_2018['Year of Funding'] = '2018'\n",
    "df_2018.head(5)"
   ]
  },
  {
   "cell_type": "code",
   "execution_count": 204,
   "metadata": {},
   "outputs": [
    {
     "data": {
      "text/plain": [
       "1"
      ]
     },
     "execution_count": 204,
     "metadata": {},
     "output_type": "execute_result"
    }
   ],
   "source": [
    "# checking for duplicates\n",
    "df_2018.duplicated().sum()"
   ]
  },
  {
   "cell_type": "code",
   "execution_count": 205,
   "metadata": {},
   "outputs": [
    {
     "data": {
      "text/html": [
       "<div>\n",
       "<style scoped>\n",
       "    .dataframe tbody tr th:only-of-type {\n",
       "        vertical-align: middle;\n",
       "    }\n",
       "\n",
       "    .dataframe tbody tr th {\n",
       "        vertical-align: top;\n",
       "    }\n",
       "\n",
       "    .dataframe thead th {\n",
       "        text-align: right;\n",
       "    }\n",
       "</style>\n",
       "<table border=\"1\" class=\"dataframe\">\n",
       "  <thead>\n",
       "    <tr style=\"text-align: right;\">\n",
       "      <th></th>\n",
       "      <th>Company/Brand</th>\n",
       "      <th>Sector</th>\n",
       "      <th>Stage</th>\n",
       "      <th>Amount($)</th>\n",
       "      <th>Location</th>\n",
       "      <th>What it does</th>\n",
       "      <th>Amount($)</th>\n",
       "      <th>Year of Funding</th>\n",
       "    </tr>\n",
       "  </thead>\n",
       "  <tbody>\n",
       "    <tr>\n",
       "      <th>348</th>\n",
       "      <td>TheCollegeFever</td>\n",
       "      <td>Brand Marketing</td>\n",
       "      <td>Seed</td>\n",
       "      <td>250000</td>\n",
       "      <td>Bangalore</td>\n",
       "      <td>TheCollegeFever is a hub for fun, fiesta and f...</td>\n",
       "      <td>250000.0</td>\n",
       "      <td>2018</td>\n",
       "    </tr>\n",
       "  </tbody>\n",
       "</table>\n",
       "</div>"
      ],
      "text/plain": [
       "       Company/Brand           Sector Stage  Amount($)   Location  \\\n",
       "348  TheCollegeFever  Brand Marketing  Seed     250000  Bangalore   \n",
       "\n",
       "                                          What it does  Amount($)  \\\n",
       "348  TheCollegeFever is a hub for fun, fiesta and f...   250000.0   \n",
       "\n",
       "    Year of Funding  \n",
       "348            2018  "
      ]
     },
     "execution_count": 205,
     "metadata": {},
     "output_type": "execute_result"
    }
   ],
   "source": [
    "# lets have a look at rows with duplicates\n",
    "df_2018.loc[df_2018.duplicated()]"
   ]
  },
  {
   "cell_type": "code",
   "execution_count": 206,
   "metadata": {},
   "outputs": [],
   "source": [
    "df_2018=df_2018.drop(index=348)"
   ]
  },
  {
   "cell_type": "code",
   "execution_count": 207,
   "metadata": {},
   "outputs": [],
   "source": [
    "df_2018.to_csv('data_claning_2018.csv', index = False)"
   ]
  },
  {
   "cell_type": "code",
   "execution_count": 208,
   "metadata": {},
   "outputs": [
    {
     "data": {
      "text/html": [
       "<div>\n",
       "<style scoped>\n",
       "    .dataframe tbody tr th:only-of-type {\n",
       "        vertical-align: middle;\n",
       "    }\n",
       "\n",
       "    .dataframe tbody tr th {\n",
       "        vertical-align: top;\n",
       "    }\n",
       "\n",
       "    .dataframe thead th {\n",
       "        text-align: right;\n",
       "    }\n",
       "</style>\n",
       "<table border=\"1\" class=\"dataframe\">\n",
       "  <thead>\n",
       "    <tr style=\"text-align: right;\">\n",
       "      <th></th>\n",
       "      <th>Company_Brand</th>\n",
       "      <th>Founded</th>\n",
       "      <th>HeadQuarter</th>\n",
       "      <th>Sector</th>\n",
       "      <th>What_it_does</th>\n",
       "      <th>Founders</th>\n",
       "      <th>Investor</th>\n",
       "      <th>Amount</th>\n",
       "      <th>Stage</th>\n",
       "    </tr>\n",
       "  </thead>\n",
       "  <tbody>\n",
       "    <tr>\n",
       "      <th>0</th>\n",
       "      <td>Unbox Robotics</td>\n",
       "      <td>2019.0</td>\n",
       "      <td>Bangalore</td>\n",
       "      <td>AI startup</td>\n",
       "      <td>Unbox Robotics builds on-demand AI-driven ware...</td>\n",
       "      <td>Pramod Ghadge, Shahid Memon</td>\n",
       "      <td>BEENEXT, Entrepreneur First</td>\n",
       "      <td>$1,200,000</td>\n",
       "      <td>Pre-series A</td>\n",
       "    </tr>\n",
       "    <tr>\n",
       "      <th>1</th>\n",
       "      <td>upGrad</td>\n",
       "      <td>2015.0</td>\n",
       "      <td>Mumbai</td>\n",
       "      <td>EdTech</td>\n",
       "      <td>UpGrad is an online higher education platform.</td>\n",
       "      <td>Mayank Kumar, Phalgun Kompalli, Ravijot Chugh,...</td>\n",
       "      <td>Unilazer Ventures, IIFL Asset Management</td>\n",
       "      <td>$120,000,000</td>\n",
       "      <td>None</td>\n",
       "    </tr>\n",
       "    <tr>\n",
       "      <th>2</th>\n",
       "      <td>Lead School</td>\n",
       "      <td>2012.0</td>\n",
       "      <td>Mumbai</td>\n",
       "      <td>EdTech</td>\n",
       "      <td>LEAD School offers technology based school tra...</td>\n",
       "      <td>Smita Deorah, Sumeet Mehta</td>\n",
       "      <td>GSV Ventures, Westbridge Capital</td>\n",
       "      <td>$30,000,000</td>\n",
       "      <td>Series D</td>\n",
       "    </tr>\n",
       "    <tr>\n",
       "      <th>3</th>\n",
       "      <td>Bizongo</td>\n",
       "      <td>2015.0</td>\n",
       "      <td>Mumbai</td>\n",
       "      <td>B2B E-commerce</td>\n",
       "      <td>Bizongo is a business-to-business online marke...</td>\n",
       "      <td>Aniket Deb, Ankit Tomar, Sachin Agrawal</td>\n",
       "      <td>CDC Group, IDG Capital</td>\n",
       "      <td>$51,000,000</td>\n",
       "      <td>Series C</td>\n",
       "    </tr>\n",
       "    <tr>\n",
       "      <th>4</th>\n",
       "      <td>FypMoney</td>\n",
       "      <td>2021.0</td>\n",
       "      <td>Gurugram</td>\n",
       "      <td>FinTech</td>\n",
       "      <td>FypMoney is Digital NEO Bank for Teenagers, em...</td>\n",
       "      <td>Kapil Banwari</td>\n",
       "      <td>Liberatha Kallat, Mukesh Yadav, Dinesh Nagpal</td>\n",
       "      <td>$2,000,000</td>\n",
       "      <td>Seed</td>\n",
       "    </tr>\n",
       "  </tbody>\n",
       "</table>\n",
       "</div>"
      ],
      "text/plain": [
       "    Company_Brand  Founded HeadQuarter          Sector  \\\n",
       "0  Unbox Robotics   2019.0   Bangalore      AI startup   \n",
       "1          upGrad   2015.0      Mumbai          EdTech   \n",
       "2     Lead School   2012.0      Mumbai          EdTech   \n",
       "3         Bizongo   2015.0      Mumbai  B2B E-commerce   \n",
       "4        FypMoney   2021.0    Gurugram         FinTech   \n",
       "\n",
       "                                        What_it_does  \\\n",
       "0  Unbox Robotics builds on-demand AI-driven ware...   \n",
       "1     UpGrad is an online higher education platform.   \n",
       "2  LEAD School offers technology based school tra...   \n",
       "3  Bizongo is a business-to-business online marke...   \n",
       "4  FypMoney is Digital NEO Bank for Teenagers, em...   \n",
       "\n",
       "                                            Founders  \\\n",
       "0                        Pramod Ghadge, Shahid Memon   \n",
       "1  Mayank Kumar, Phalgun Kompalli, Ravijot Chugh,...   \n",
       "2                         Smita Deorah, Sumeet Mehta   \n",
       "3            Aniket Deb, Ankit Tomar, Sachin Agrawal   \n",
       "4                                      Kapil Banwari   \n",
       "\n",
       "                                        Investor        Amount         Stage  \n",
       "0                    BEENEXT, Entrepreneur First    $1,200,000  Pre-series A  \n",
       "1       Unilazer Ventures, IIFL Asset Management  $120,000,000          None  \n",
       "2               GSV Ventures, Westbridge Capital   $30,000,000      Series D  \n",
       "3                         CDC Group, IDG Capital   $51,000,000      Series C  \n",
       "4  Liberatha Kallat, Mukesh Yadav, Dinesh Nagpal    $2,000,000          Seed  "
      ]
     },
     "execution_count": 208,
     "metadata": {},
     "output_type": "execute_result"
    }
   ],
   "source": [
    "#loading 2019 data\n",
    "df_2019= pd.read_csv('startup_funding2019.csv')\n",
    "df_2021.head(5)"
   ]
  },
  {
   "cell_type": "code",
   "execution_count": 209,
   "metadata": {},
   "outputs": [
    {
     "name": "stdout",
     "output_type": "stream",
     "text": [
      "<class 'pandas.core.frame.DataFrame'>\n",
      "RangeIndex: 89 entries, 0 to 88\n",
      "Data columns (total 9 columns):\n",
      " #   Column         Non-Null Count  Dtype  \n",
      "---  ------         --------------  -----  \n",
      " 0   Company/Brand  89 non-null     object \n",
      " 1   Founded        60 non-null     float64\n",
      " 2   HeadQuarter    70 non-null     object \n",
      " 3   Sector         84 non-null     object \n",
      " 4   What it does   89 non-null     object \n",
      " 5   Founders       86 non-null     object \n",
      " 6   Investor       89 non-null     object \n",
      " 7   Amount($)      89 non-null     object \n",
      " 8   Stage          43 non-null     object \n",
      "dtypes: float64(1), object(8)\n",
      "memory usage: 6.4+ KB\n"
     ]
    }
   ],
   "source": [
    "#Preview of dataset summary information using info method.\n",
    "\n",
    "df_2019.info()"
   ]
  },
  {
   "cell_type": "code",
   "execution_count": 210,
   "metadata": {},
   "outputs": [
    {
     "name": "stdout",
     "output_type": "stream",
     "text": [
      "Number of rows in 2019 dataset: 89\n",
      "Number of columns in 2019 dataset: 9\n"
     ]
    }
   ],
   "source": [
    "#View of number of rows and columns in 2019 dataset\n",
    "num_f_colmns = df_2019.shape[(1)]\n",
    "num_f_rows = df_2019.shape[(0)]\n",
    "\n",
    "print('Number of rows in 2019 dataset:',num_f_rows)\n",
    "print('Number of columns in 2019 dataset:',num_f_colmns)"
   ]
  },
  {
   "cell_type": "code",
   "execution_count": 211,
   "metadata": {},
   "outputs": [
    {
     "data": {
      "text/html": [
       "<div>\n",
       "<style scoped>\n",
       "    .dataframe tbody tr th:only-of-type {\n",
       "        vertical-align: middle;\n",
       "    }\n",
       "\n",
       "    .dataframe tbody tr th {\n",
       "        vertical-align: top;\n",
       "    }\n",
       "\n",
       "    .dataframe thead th {\n",
       "        text-align: right;\n",
       "    }\n",
       "</style>\n",
       "<table border=\"1\" class=\"dataframe\">\n",
       "  <thead>\n",
       "    <tr style=\"text-align: right;\">\n",
       "      <th></th>\n",
       "      <th>Founded</th>\n",
       "    </tr>\n",
       "  </thead>\n",
       "  <tbody>\n",
       "    <tr>\n",
       "      <th>count</th>\n",
       "      <td>60.000000</td>\n",
       "    </tr>\n",
       "    <tr>\n",
       "      <th>mean</th>\n",
       "      <td>2014.533333</td>\n",
       "    </tr>\n",
       "    <tr>\n",
       "      <th>std</th>\n",
       "      <td>2.937003</td>\n",
       "    </tr>\n",
       "    <tr>\n",
       "      <th>min</th>\n",
       "      <td>2004.000000</td>\n",
       "    </tr>\n",
       "    <tr>\n",
       "      <th>25%</th>\n",
       "      <td>2013.000000</td>\n",
       "    </tr>\n",
       "    <tr>\n",
       "      <th>50%</th>\n",
       "      <td>2015.000000</td>\n",
       "    </tr>\n",
       "    <tr>\n",
       "      <th>75%</th>\n",
       "      <td>2016.250000</td>\n",
       "    </tr>\n",
       "    <tr>\n",
       "      <th>max</th>\n",
       "      <td>2019.000000</td>\n",
       "    </tr>\n",
       "  </tbody>\n",
       "</table>\n",
       "</div>"
      ],
      "text/plain": [
       "           Founded\n",
       "count    60.000000\n",
       "mean   2014.533333\n",
       "std       2.937003\n",
       "min    2004.000000\n",
       "25%    2013.000000\n",
       "50%    2015.000000\n",
       "75%    2016.250000\n",
       "max    2019.000000"
      ]
     },
     "execution_count": 211,
     "metadata": {},
     "output_type": "execute_result"
    }
   ],
   "source": [
    "# Preview of description summary of numerical columns using describe method\n",
    "\n",
    "df_2019.describe()"
   ]
  },
  {
   "cell_type": "code",
   "execution_count": 212,
   "metadata": {},
   "outputs": [
    {
     "data": {
      "text/html": [
       "<div>\n",
       "<style scoped>\n",
       "    .dataframe tbody tr th:only-of-type {\n",
       "        vertical-align: middle;\n",
       "    }\n",
       "\n",
       "    .dataframe tbody tr th {\n",
       "        vertical-align: top;\n",
       "    }\n",
       "\n",
       "    .dataframe thead th {\n",
       "        text-align: right;\n",
       "    }\n",
       "</style>\n",
       "<table border=\"1\" class=\"dataframe\">\n",
       "  <thead>\n",
       "    <tr style=\"text-align: right;\">\n",
       "      <th></th>\n",
       "      <th>Company/Brand</th>\n",
       "      <th>HeadQuarter</th>\n",
       "      <th>Sector</th>\n",
       "      <th>What it does</th>\n",
       "      <th>Founders</th>\n",
       "      <th>Investor</th>\n",
       "      <th>Amount($)</th>\n",
       "      <th>Stage</th>\n",
       "    </tr>\n",
       "  </thead>\n",
       "  <tbody>\n",
       "    <tr>\n",
       "      <th>count</th>\n",
       "      <td>89</td>\n",
       "      <td>70</td>\n",
       "      <td>84</td>\n",
       "      <td>89</td>\n",
       "      <td>86</td>\n",
       "      <td>89</td>\n",
       "      <td>89</td>\n",
       "      <td>43</td>\n",
       "    </tr>\n",
       "    <tr>\n",
       "      <th>unique</th>\n",
       "      <td>87</td>\n",
       "      <td>17</td>\n",
       "      <td>52</td>\n",
       "      <td>88</td>\n",
       "      <td>85</td>\n",
       "      <td>86</td>\n",
       "      <td>50</td>\n",
       "      <td>15</td>\n",
       "    </tr>\n",
       "    <tr>\n",
       "      <th>top</th>\n",
       "      <td>Kratikal</td>\n",
       "      <td>Bangalore</td>\n",
       "      <td>Edtech</td>\n",
       "      <td>Online meat shop</td>\n",
       "      <td>Vivek Gupta, Abhay Hanjura</td>\n",
       "      <td>Undisclosed</td>\n",
       "      <td>Undisclosed</td>\n",
       "      <td>Series A</td>\n",
       "    </tr>\n",
       "    <tr>\n",
       "      <th>freq</th>\n",
       "      <td>2</td>\n",
       "      <td>21</td>\n",
       "      <td>7</td>\n",
       "      <td>2</td>\n",
       "      <td>2</td>\n",
       "      <td>3</td>\n",
       "      <td>12</td>\n",
       "      <td>10</td>\n",
       "    </tr>\n",
       "  </tbody>\n",
       "</table>\n",
       "</div>"
      ],
      "text/plain": [
       "       Company/Brand HeadQuarter  Sector      What it does  \\\n",
       "count             89          70      84                89   \n",
       "unique            87          17      52                88   \n",
       "top         Kratikal   Bangalore  Edtech  Online meat shop   \n",
       "freq               2          21       7                 2   \n",
       "\n",
       "                          Founders     Investor    Amount($)     Stage  \n",
       "count                           86           89           89        43  \n",
       "unique                          85           86           50        15  \n",
       "top     Vivek Gupta, Abhay Hanjura  Undisclosed  Undisclosed  Series A  \n",
       "freq                             2            3           12        10  "
      ]
     },
     "execution_count": 212,
     "metadata": {},
     "output_type": "execute_result"
    }
   ],
   "source": [
    "# Preview of description summary of categorical columns using describe method\n",
    "df_2019.describe(include=object)"
   ]
  },
  {
   "cell_type": "code",
   "execution_count": 213,
   "metadata": {},
   "outputs": [
    {
     "name": "stdout",
     "output_type": "stream",
     "text": [
      "Count of duplicate values: 0\n"
     ]
    }
   ],
   "source": [
    "#Let us check for duplicates in our datas\n",
    "duplicate_vals = df_2019.duplicated().sum()\n",
    "\n",
    "#The 2019 dataset has no duplicate values\n",
    "\n",
    "print(\"Count of duplicate values:\",duplicate_vals)"
   ]
  },
  {
   "cell_type": "code",
   "execution_count": 214,
   "metadata": {},
   "outputs": [
    {
     "data": {
      "text/plain": [
       "Company/Brand     0\n",
       "Founded          29\n",
       "HeadQuarter      19\n",
       "Sector            5\n",
       "What it does      0\n",
       "Founders          3\n",
       "Investor          0\n",
       "Amount($)         0\n",
       "Stage            46\n",
       "dtype: int64"
      ]
     },
     "execution_count": 214,
     "metadata": {},
     "output_type": "execute_result"
    }
   ],
   "source": [
    "#Check of number of missing values in our dataset.(i.e Total NAN values per column)\n",
    "missin_vals = df_2019.isnull().sum()\n",
    "\n",
    "#The 2019 dataset contains missing values\n",
    "\n",
    "missin_vals"
   ]
  },
  {
   "cell_type": "code",
   "execution_count": 215,
   "metadata": {},
   "outputs": [
    {
     "data": {
      "text/plain": [
       "Company/Brand     0.000000\n",
       "Founded          32.584270\n",
       "HeadQuarter      21.348315\n",
       "Sector            5.617978\n",
       "What it does      0.000000\n",
       "Founders          3.370787\n",
       "Investor          0.000000\n",
       "Amount($)         0.000000\n",
       "Stage            51.685393\n",
       "dtype: float64"
      ]
     },
     "execution_count": 215,
     "metadata": {},
     "output_type": "execute_result"
    }
   ],
   "source": [
    "#conversion of missing value as percentage to enable comparison and inference\n",
    "#we get total percentage of missing data in each column\n",
    "#gives inference of whether to delete data or not\n",
    "\n",
    "missing_percent = (df_2019.isnull().sum()/len(df_2019)) * 100\n",
    "\n",
    "missing_percent"
   ]
  },
  {
   "cell_type": "code",
   "execution_count": 216,
   "metadata": {},
   "outputs": [],
   "source": [
    "#Boolean filtering of percentage missing data greater than 0 in columns\n",
    "#only columns selected have missing percentage > 0\n",
    "\n",
    "def missing_percent(table):\n",
    "    missing_percent = (df_2019.isnull().sum()/len(df_2019)) * 100\n",
    "    missing_percent = missing_percent[missing_percent > 0].sort_values(ascending=False)\n",
    "    return missing_percent"
   ]
  },
  {
   "cell_type": "code",
   "execution_count": 217,
   "metadata": {},
   "outputs": [
    {
     "data": {
      "text/plain": [
       "Stage          51.685393\n",
       "Founded        32.584270\n",
       "HeadQuarter    21.348315\n",
       "Sector          5.617978\n",
       "Founders        3.370787\n",
       "dtype: float64"
      ]
     },
     "execution_count": 217,
     "metadata": {},
     "output_type": "execute_result"
    }
   ],
   "source": [
    "# per_nan = percentage nan\n",
    "\n",
    "per_nan = missing_percent(df_2019)\n",
    "\n",
    "per_nan"
   ]
  },
  {
   "cell_type": "code",
   "execution_count": 218,
   "metadata": {},
   "outputs": [
    {
     "data": {
      "image/png": "[encoded data removed]",
      "text/plain": [
       "<Figure size 900x600 with 1 Axes>"
      ]
     },
     "metadata": {},
     "output_type": "display_data"
    }
   ],
   "source": [
    "#Let us visualize to infer missing data for comprehensive understanding\n",
    "#NBper_nan is a series data that is indexed(with only one column)\n",
    "#NBseaborn and matplotlib are compatible, we'll us matplotlib's 'plt.xticks()' to do x-axis rotation \n",
    "\n",
    "plt.figure(figsize=(9, 6))\n",
    "sns.barplot(x=per_nan.index, y=per_nan)\n",
    "plt.xticks(rotation = 45)\n",
    "plt.title(\"Percentage Missing Values\");\n",
    "#plt.ylim(3, 21)\n",
    "#to get columns with missing data btwn 3 to 21 percentage, we use function 'plt.ylim()'"
   ]
  },
  {
   "cell_type": "code",
   "execution_count": 219,
   "metadata": {},
   "outputs": [
    {
     "data": {
      "text/plain": [
       "array([  nan, 2014., 2004., 2013., 2010., 2018., 2019., 2017., 2011.,\n",
       "       2015., 2016., 2012., 2008.])"
      ]
     },
     "execution_count": 219,
     "metadata": {},
     "output_type": "execute_result"
    }
   ],
   "source": [
    "#let us clean column named 'founded' \n",
    "#we will fill in missing values with the median value\n",
    "elements = df_2019[\"Founded\"].unique()\n",
    "elements"
   ]
  },
  {
   "cell_type": "code",
   "execution_count": 220,
   "metadata": {},
   "outputs": [
    {
     "name": "stdout",
     "output_type": "stream",
     "text": [
      "Count of missing values in Founded column: 29\n"
     ]
    }
   ],
   "source": [
    "#Count of missing values in column 'founded'\n",
    "\n",
    "missn_vals = df_2019[\"Founded\"].isna().sum()\n",
    "missn_vals \n",
    "print(\"Count of missing values in Founded column:\",missn_vals)"
   ]
  },
  {
   "cell_type": "code",
   "execution_count": 221,
   "metadata": {},
   "outputs": [
    {
     "data": {
      "text/plain": [
       "2015.0"
      ]
     },
     "execution_count": 221,
     "metadata": {},
     "output_type": "execute_result"
    }
   ],
   "source": [
    "#Convert the column to numeric, coercing non-numeric values to NaN:\n",
    "#pd.to_numeric() converts values to float\n",
    "\n",
    "df_2019[\"Founded\"] = pd.to_numeric(df_2019[\"Founded\"], errors='coerce')\n",
    "\n",
    "#Calculate the median of the column, ignoring the NaN values:\n",
    "median_value = df_2019[\"Founded\"].median(skipna=True)\n",
    "\n",
    "median_value"
   ]
  },
  {
   "cell_type": "code",
   "execution_count": 222,
   "metadata": {},
   "outputs": [],
   "source": [
    "#Replace the NaN values with the calculated median:\n",
    "df_2019[\"Founded\"].fillna(median_value, inplace=True)"
   ]
  },
  {
   "cell_type": "code",
   "execution_count": 223,
   "metadata": {},
   "outputs": [
    {
     "data": {
      "text/plain": [
       "False"
      ]
     },
     "execution_count": 223,
     "metadata": {},
     "output_type": "execute_result"
    }
   ],
   "source": [
    "#Any missing values?\n",
    "#confirm whether there are any NAN values (missing_values)\n",
    "df_2019[\"Founded\"].isna().values.any()"
   ]
  },
  {
   "cell_type": "code",
   "execution_count": 224,
   "metadata": {},
   "outputs": [
    {
     "data": {
      "text/plain": [
       "array([nan, 'Mumbai', 'Chennai', 'Telangana', 'Pune', 'Bangalore',\n",
       "       'Noida', 'Delhi', 'Ahmedabad', 'Gurugram', 'Haryana', 'Chandigarh',\n",
       "       'Jaipur', 'New Delhi', 'Surat', 'Uttar pradesh', 'Hyderabad',\n",
       "       'Rajasthan'], dtype=object)"
      ]
     },
     "execution_count": 224,
     "metadata": {},
     "output_type": "execute_result"
    }
   ],
   "source": [
    "#we will clean column 'Headquarter'\n",
    "#We will fill up missing values with the mode(most occuring instance)\n",
    "\n",
    "#Let us use unique() method to examine the unique values:\n",
    "df_2019['HeadQuarter'].unique()"
   ]
  },
  {
   "cell_type": "code",
   "execution_count": 225,
   "metadata": {},
   "outputs": [
    {
     "data": {
      "text/plain": [
       "0           NaN\n",
       "1        Mumbai\n",
       "2        Mumbai\n",
       "3       Chennai\n",
       "4     Telangana\n",
       "        ...    \n",
       "84       Mumbai\n",
       "85     Gurugram\n",
       "86        Delhi\n",
       "87        Delhi\n",
       "88    Rajasthan\n",
       "Name: HeadQuarter, Length: 89, dtype: object"
      ]
     },
     "execution_count": 225,
     "metadata": {},
     "output_type": "execute_result"
    }
   ],
   "source": [
    "#Check on data\n",
    "df_2019['HeadQuarter']"
   ]
  },
  {
   "cell_type": "code",
   "execution_count": 226,
   "metadata": {},
   "outputs": [
    {
     "data": {
      "text/plain": [
       "'Bangalore'"
      ]
     },
     "execution_count": 226,
     "metadata": {},
     "output_type": "execute_result"
    }
   ],
   "source": [
    "#Calculate the mode of the column:\n",
    "#The iloc indexer is used to retrieve the first value from the mode result.\n",
    "#The mode() function returns a pandas Series object that contains the mode(s) of the column.\n",
    "\n",
    "mode_value = df_2019[\"HeadQuarter\"].mode().iloc[0]\n",
    "\n",
    "mode_value"
   ]
  },
  {
   "cell_type": "code",
   "execution_count": 227,
   "metadata": {},
   "outputs": [],
   "source": [
    "#Replace the missing values with the mode:\n",
    "df_2019[\"HeadQuarter\"].fillna(mode_value, inplace=True)"
   ]
  },
  {
   "cell_type": "code",
   "execution_count": 228,
   "metadata": {},
   "outputs": [
    {
     "data": {
      "text/plain": [
       "False"
      ]
     },
     "execution_count": 228,
     "metadata": {},
     "output_type": "execute_result"
    }
   ],
   "source": [
    "#Any missing values?\n",
    "#Let us confirm whether there are any NAN values after changes\n",
    "df_2019[\"HeadQuarter\"].isna().values.any()"
   ]
  },
  {
   "cell_type": "code",
   "execution_count": 229,
   "metadata": {},
   "outputs": [
    {
     "name": "stdout",
     "output_type": "stream",
     "text": [
      "['Ecommerce' 'Edtech' 'Interior design' 'AgriTech' 'Technology' 'SaaS'\n",
      " 'AI & Tech' 'E-commerce' 'E-commerce & AR' 'Fintech' 'HR tech'\n",
      " 'Food tech' 'Health' 'Healthcare' 'Safety tech' 'Pharmaceutical'\n",
      " 'Insurance technology' 'AI' 'Foodtech' 'Food' 'IoT' 'E-marketplace'\n",
      " 'Robotics & AI' 'Logistics' 'Travel' 'Manufacturing' 'Food & Nutrition'\n",
      " 'Social Media' nan 'E-Sports' 'Cosmetics' 'B2B' 'Jewellery'\n",
      " 'B2B Supply Chain' 'Games' 'Food & tech' 'Accomodation' 'Automotive tech'\n",
      " 'Legal tech' 'Mutual Funds' 'Cybersecurity' 'Automobile' 'Sports'\n",
      " 'Healthtech' 'Yoga & wellness' 'Virtual Banking' 'Transportation'\n",
      " 'Transport & Rentals' 'Marketing & Customer loyalty' 'Infratech'\n",
      " 'Hospitality' 'Automobile & Technology' 'Banking']\n"
     ]
    }
   ],
   "source": [
    "#Let us clean column 'sector' \n",
    "#Column has inconsistencies and some elements needs to be renamed to have consistent format\n",
    "#Let us use unique() method to examine the unique values:\n",
    "print(df_2019[\"Sector\"].unique())"
   ]
  },
  {
   "cell_type": "code",
   "execution_count": 230,
   "metadata": {},
   "outputs": [
    {
     "data": {
      "text/plain": [
       "Sector\n",
       "Edtech                          7\n",
       "Fintech                         5\n",
       "AgriTech                        4\n",
       "Technology                      4\n",
       "SaaS                            4\n",
       "Automobile                      3\n",
       "E-commerce                      3\n",
       "Logistics                       3\n",
       "IoT                             2\n",
       "E-marketplace                   2\n",
       "AI                              2\n",
       "Automotive tech                 2\n",
       "Accomodation                    2\n",
       "Foodtech                        2\n",
       "Food                            2\n",
       "Pharmaceutical                  1\n",
       "Interior design                 1\n",
       "AI & Tech                       1\n",
       "E-commerce & AR                 1\n",
       "HR tech                         1\n",
       "Food tech                       1\n",
       "Health                          1\n",
       "Healthcare                      1\n",
       "E-Sports                        1\n",
       "B2B                             1\n",
       "Insurance technology            1\n",
       "Robotics & AI                   1\n",
       "Travel                          1\n",
       "Manufacturing                   1\n",
       "Social Media                    1\n",
       "Jewellery                       1\n",
       "Cosmetics                       1\n",
       "Safety tech                     1\n",
       "Transport & Rentals             1\n",
       "Food & Nutrition                1\n",
       "Games                           1\n",
       "Ecommerce                       1\n",
       "Cybersecurity                   1\n",
       "Mutual Funds                    1\n",
       "Food & tech                     1\n",
       "Legal tech                      1\n",
       "Sports                          1\n",
       "B2B Supply Chain                1\n",
       "Healthtech                      1\n",
       "Yoga & wellness                 1\n",
       "Virtual Banking                 1\n",
       "Transportation                  1\n",
       "Marketing & Customer loyalty    1\n",
       "Infratech                       1\n",
       "Hospitality                     1\n",
       "Automobile & Technology         1\n",
       "Banking                         1\n",
       "Name: count, dtype: int64"
      ]
     },
     "execution_count": 230,
     "metadata": {},
     "output_type": "execute_result"
    }
   ],
   "source": [
    "#Check of counts of each category in the column\n",
    "df_2019[\"Sector\"].value_counts().sort_values(ascending=False)"
   ]
  },
  {
   "cell_type": "code",
   "execution_count": 231,
   "metadata": {},
   "outputs": [],
   "source": [
    "#Creation of a function to attain consistency in names of elements\n",
    "\n",
    "from fuzzywuzzy import fuzz\n",
    "\n",
    "def rename_similar_names(data, Sector):\n",
    "    # Create a copy of the dataframe to avoid modifying the original data\n",
    "    dff = data.copy()\n",
    "\n",
    "     # Convert values in the specified column to strings\n",
    "    dff[Sector] = dff[Sector].astype(str)\n",
    "\n",
    "    # Iterate over each unique value in the specified column\n",
    "    for value in dff[Sector].unique():\n",
    "        similar_names = [name for name in dff[Sector].unique() if fuzz.ratio(value, name) >= 75]\n",
    "        # Identify similar names with a similarity ratio of at least 80\n",
    "        \n",
    "        if len(similar_names) > 1:\n",
    "            # If there are multiple similar names, choose a consistent name for all of them\n",
    "            consistent_name = min(similar_names, key=len)  # You can change the selection criteria as per your preference\n",
    "            \n",
    "            # Replace the similar names with the consistent name\n",
    "            dff[Sector].replace(similar_names, consistent_name, inplace=True)\n",
    "\n",
    "    return dff"
   ]
  },
  {
   "cell_type": "code",
   "execution_count": 232,
   "metadata": {},
   "outputs": [
    {
     "name": "stdout",
     "output_type": "stream",
     "text": [
      "['Ecommerce' 'Edtech' 'Interior design' 'AgriTech' 'Technology' 'SaaS'\n",
      " 'AI & Tech' 'Fintech' 'HR tech' 'Foodtech' 'Health' 'Safety tech'\n",
      " 'Pharmaceutical' 'Insurance technology' 'AI' 'Food' 'IoT' 'E-marketplace'\n",
      " 'Robotics & AI' 'Logistics' 'Travel' 'Manufacturing' 'Food & Nutrition'\n",
      " 'Social Media' 'nan' 'Sports' 'Cosmetics' 'B2B' 'Jewellery'\n",
      " 'B2B Supply Chain' 'Games' 'Accomodation' 'Automotive tech' 'Legal tech'\n",
      " 'Mutual Funds' 'Cybersecurity' 'Automobile' 'Yoga & wellness'\n",
      " 'Virtual Banking' 'Transportation' 'Transport & Rentals'\n",
      " 'Marketing & Customer loyalty' 'Infratech' 'Hospitality'\n",
      " 'Automobile & Technology' 'Banking']\n"
     ]
    }
   ],
   "source": [
    "# Rename similar names in the 'Sector' column\n",
    "df_cleaned = rename_similar_names(df_2019, \"Sector\")\n",
    "\n",
    "#check of unique elements after renaming our columns\n",
    "print(df_cleaned[\"Sector\"].unique())"
   ]
  },
  {
   "cell_type": "code",
   "execution_count": 233,
   "metadata": {},
   "outputs": [
    {
     "data": {
      "text/plain": [
       "Sector\n",
       "Edtech                          7\n",
       "Fintech                         5\n",
       "nan                             5\n",
       "Ecommerce                       5\n",
       "AgriTech                        4\n",
       "Technology                      4\n",
       "SaaS                            4\n",
       "Foodtech                        4\n",
       "Health                          3\n",
       "Automobile                      3\n",
       "Logistics                       3\n",
       "E-marketplace                   2\n",
       "Accomodation                    2\n",
       "AI                              2\n",
       "Food                            2\n",
       "Sports                          2\n",
       "Automotive tech                 2\n",
       "IoT                             2\n",
       "Jewellery                       1\n",
       "Interior design                 1\n",
       "AI & Tech                       1\n",
       "HR tech                         1\n",
       "Safety tech                     1\n",
       "Pharmaceutical                  1\n",
       "Insurance technology            1\n",
       "Robotics & AI                   1\n",
       "Travel                          1\n",
       "Manufacturing                   1\n",
       "Food & Nutrition                1\n",
       "Cosmetics                       1\n",
       "B2B                             1\n",
       "Cybersecurity                   1\n",
       "B2B Supply Chain                1\n",
       "Social Media                    1\n",
       "Automobile & Technology         1\n",
       "Legal tech                      1\n",
       "Mutual Funds                    1\n",
       "Hospitality                     1\n",
       "Infratech                       1\n",
       "Marketing & Customer loyalty    1\n",
       "Transport & Rentals             1\n",
       "Yoga & wellness                 1\n",
       "Transportation                  1\n",
       "Virtual Banking                 1\n",
       "Games                           1\n",
       "Banking                         1\n",
       "Name: count, dtype: int64"
      ]
     },
     "execution_count": 233,
     "metadata": {},
     "output_type": "execute_result"
    }
   ],
   "source": [
    "# Count of unique elements in column after renaming columns\n",
    "df_cleaned[\"Sector\"].value_counts().sort_values(ascending=False)"
   ]
  },
  {
   "cell_type": "code",
   "execution_count": 234,
   "metadata": {},
   "outputs": [
    {
     "data": {
      "text/plain": [
       "'Edtech'"
      ]
     },
     "execution_count": 234,
     "metadata": {},
     "output_type": "execute_result"
    }
   ],
   "source": [
    "#Calculate mode of the column\n",
    "mode_value = df_cleaned[\"Sector\"].mode().iloc[0]\n",
    "\n",
    "mode_value"
   ]
  },
  {
   "cell_type": "code",
   "execution_count": 235,
   "metadata": {},
   "outputs": [
    {
     "data": {
      "text/html": [
       "<div>\n",
       "<style scoped>\n",
       "    .dataframe tbody tr th:only-of-type {\n",
       "        vertical-align: middle;\n",
       "    }\n",
       "\n",
       "    .dataframe tbody tr th {\n",
       "        vertical-align: top;\n",
       "    }\n",
       "\n",
       "    .dataframe thead th {\n",
       "        text-align: right;\n",
       "    }\n",
       "</style>\n",
       "<table border=\"1\" class=\"dataframe\">\n",
       "  <thead>\n",
       "    <tr style=\"text-align: right;\">\n",
       "      <th></th>\n",
       "      <th>Company/Brand</th>\n",
       "      <th>Founded</th>\n",
       "      <th>HeadQuarter</th>\n",
       "      <th>Sector</th>\n",
       "      <th>What it does</th>\n",
       "      <th>Founders</th>\n",
       "      <th>Investor</th>\n",
       "      <th>Amount($)</th>\n",
       "      <th>Stage</th>\n",
       "    </tr>\n",
       "  </thead>\n",
       "  <tbody>\n",
       "    <tr>\n",
       "      <th>39</th>\n",
       "      <td>Lil’ Goodness and sCool meal</td>\n",
       "      <td>2015.0</td>\n",
       "      <td>Bangalore</td>\n",
       "      <td>Food &amp; Nutrition</td>\n",
       "      <td>It empowers moms to provide the best of foods ...</td>\n",
       "      <td>NaN</td>\n",
       "      <td>Sajan Pillai, Muthu Krishnan,</td>\n",
       "      <td>$400,000</td>\n",
       "      <td>NaN</td>\n",
       "    </tr>\n",
       "    <tr>\n",
       "      <th>41</th>\n",
       "      <td>VMate</td>\n",
       "      <td>2015.0</td>\n",
       "      <td>Bangalore</td>\n",
       "      <td>nan</td>\n",
       "      <td>A short video platform</td>\n",
       "      <td>NaN</td>\n",
       "      <td>Alibaba</td>\n",
       "      <td>$100,000,000</td>\n",
       "      <td>NaN</td>\n",
       "    </tr>\n",
       "    <tr>\n",
       "      <th>71</th>\n",
       "      <td>Smart Institute</td>\n",
       "      <td>2015.0</td>\n",
       "      <td>Surat</td>\n",
       "      <td>Edtech</td>\n",
       "      <td>A platform to learn online</td>\n",
       "      <td>NaN</td>\n",
       "      <td>HNI investors</td>\n",
       "      <td>$1,500,000</td>\n",
       "      <td>NaN</td>\n",
       "    </tr>\n",
       "  </tbody>\n",
       "</table>\n",
       "</div>"
      ],
      "text/plain": [
       "                   Company/Brand  Founded HeadQuarter            Sector  \\\n",
       "39  Lil’ Goodness and sCool meal   2015.0   Bangalore  Food & Nutrition   \n",
       "41                         VMate   2015.0   Bangalore               nan   \n",
       "71               Smart Institute   2015.0       Surat            Edtech   \n",
       "\n",
       "                                         What it does Founders  \\\n",
       "39  It empowers moms to provide the best of foods ...      NaN   \n",
       "41                             A short video platform      NaN   \n",
       "71                         A platform to learn online      NaN   \n",
       "\n",
       "                         Investor     Amount($) Stage  \n",
       "39  Sajan Pillai, Muthu Krishnan,      $400,000   NaN  \n",
       "41                        Alibaba  $100,000,000   NaN  \n",
       "71                  HNI investors    $1,500,000   NaN  "
      ]
     },
     "execution_count": 235,
     "metadata": {},
     "output_type": "execute_result"
    }
   ],
   "source": [
    "#Let us clean 'Founders' column\n",
    "\n",
    "# View NaN values in 'Founders'\n",
    "nan_val = df_cleaned[df_cleaned[\"Founders\"].isna()]\n",
    "nan_val"
   ]
  },
  {
   "cell_type": "code",
   "execution_count": 236,
   "metadata": {},
   "outputs": [
    {
     "data": {
      "text/plain": [
       "False"
      ]
     },
     "execution_count": 236,
     "metadata": {},
     "output_type": "execute_result"
    }
   ],
   "source": [
    "# Replace missing values with \"Unknown\" in the 'Founders' column\n",
    "df_cleaned['Founders'] = df_cleaned['Founders'].fillna(\"Unknown\")\n",
    "\n",
    "#Any missing values?\n",
    "#Let us confirm whether there are any NAN values after changes\n",
    "\n",
    "df_cleaned[\"Founders\"].isna().values.any()"
   ]
  },
  {
   "cell_type": "code",
   "execution_count": 237,
   "metadata": {},
   "outputs": [
    {
     "data": {
      "text/plain": [
       "array([nan, 'Series C', 'Fresh funding', 'Series D', 'Pre series A',\n",
       "       'Series A', 'Series G', 'Series B', 'Post series A',\n",
       "       'Seed funding', 'Seed fund', 'Series E', 'Series F', 'Series B+',\n",
       "       'Seed round', 'Pre-series A'], dtype=object)"
      ]
     },
     "execution_count": 237,
     "metadata": {},
     "output_type": "execute_result"
    }
   ],
   "source": [
    "#Let us clean 'stage' colum\n",
    "#Column has inconsistencies\n",
    "\n",
    "df_cleaned['Stage'].unique()"
   ]
  },
  {
   "cell_type": "code",
   "execution_count": 238,
   "metadata": {},
   "outputs": [
    {
     "name": "stdout",
     "output_type": "stream",
     "text": [
      "Count of missing values in stage column: 46\n"
     ]
    }
   ],
   "source": [
    "#Count of missing values in column 'Stage'\n",
    "\n",
    "missn_vals = df_cleaned[\"Stage\"].isna().sum()\n",
    "missn_vals \n",
    "\n",
    "print(\"Count of missing values in stage column:\",missn_vals)"
   ]
  },
  {
   "cell_type": "code",
   "execution_count": 239,
   "metadata": {},
   "outputs": [],
   "source": [
    "#Replace the NaN values with 'Unknown':\n",
    "df_cleaned[\"Stage\"].fillna(\"Unknown\", inplace=True)"
   ]
  },
  {
   "cell_type": "code",
   "execution_count": 240,
   "metadata": {},
   "outputs": [
    {
     "data": {
      "text/plain": [
       "False"
      ]
     },
     "execution_count": 240,
     "metadata": {},
     "output_type": "execute_result"
    }
   ],
   "source": [
    "#Any missing values?\n",
    "#confirm whether there are any NAN values (missing_values)\n",
    "df_cleaned[\"Stage\"].isna().values.any()"
   ]
  },
  {
   "cell_type": "code",
   "execution_count": 241,
   "metadata": {},
   "outputs": [
    {
     "data": {
      "text/plain": [
       "Stage\n",
       "Unknown          46\n",
       "Series A         10\n",
       "Pre series A      8\n",
       "Series B          8\n",
       "Series D          4\n",
       "Series C          3\n",
       "Fresh funding     1\n",
       "Series G          1\n",
       "Post series A     1\n",
       "Seed funding      1\n",
       "Seed fund         1\n",
       "Series E          1\n",
       "Series F          1\n",
       "Series B+         1\n",
       "Seed round        1\n",
       "Pre-series A      1\n",
       "Name: count, dtype: int64"
      ]
     },
     "execution_count": 241,
     "metadata": {},
     "output_type": "execute_result"
    }
   ],
   "source": [
    "#A look at categorical column 'stage' value distribution.\n",
    "\n",
    "df_cleaned[\"Stage\"].value_counts()"
   ]
  },
  {
   "cell_type": "code",
   "execution_count": 242,
   "metadata": {},
   "outputs": [
    {
     "data": {
      "text/plain": [
       "Stage\n",
       "Unknown          46\n",
       "Series A         10\n",
       "Pre series A      9\n",
       "Series B          8\n",
       "Series D          4\n",
       "Series C          3\n",
       "Seed              2\n",
       "Fresh funding     1\n",
       "Series G          1\n",
       "Post series A     1\n",
       "Series E          1\n",
       "Series F          1\n",
       "Series B+         1\n",
       "Seed round        1\n",
       "Name: count, dtype: int64"
      ]
     },
     "execution_count": 242,
     "metadata": {},
     "output_type": "execute_result"
    }
   ],
   "source": [
    "#Renaming category variables for consistency\n",
    "df_cleaned[\"Stage\"] = df_cleaned[\"Stage\"].replace({\"Pre-series A\":\"Pre series A\"})\n",
    "df_cleaned[\"Stage\"] = df_cleaned[\"Stage\"].replace({\"Seed fund\":\"Seed\"})\n",
    "df_cleaned[\"Stage\"] = df_cleaned[\"Stage\"].replace({\"Seed funding\":\"Seed\"})\n",
    "\n",
    "df_cleaned[\"Stage\"].value_counts()"
   ]
  },
  {
   "cell_type": "code",
   "execution_count": 243,
   "metadata": {},
   "outputs": [
    {
     "data": {
      "text/plain": [
       "array(['$6,300,000', '$150,000,000', '$28,000,000', '$30,000,000',\n",
       "       '$6,000,000', 'Undisclosed', '$1,000,000', '$20,000,000',\n",
       "       '$275,000,000', '$22,000,000', '$5,000,000', '$140,500',\n",
       "       '$540,000,000', '$15,000,000', '$182,700', '$12,000,000',\n",
       "       '$11,000,000', '$15,500,000', '$1,500,000', '$5,500,000',\n",
       "       '$2,500,000', '$140,000', '$230,000,000', '$49,400,000',\n",
       "       '$32,000,000', '$26,000,000', '$150,000', '$400,000', '$2,000,000',\n",
       "       '$100,000,000', '$8,000,000', '$100,000', '$50,000,000',\n",
       "       '$120,000,000', '$4,000,000', '$6,800,000', '$36,000,000',\n",
       "       '$5,700,000', '$25,000,000', '$600,000', '$70,000,000',\n",
       "       '$60,000,000', '$220,000', '$2,800,000', '$2,100,000',\n",
       "       '$7,000,000', '$311,000,000', '$4,800,000', '$693,000,000',\n",
       "       '$33,000,000'], dtype=object)"
      ]
     },
     "execution_count": 243,
     "metadata": {},
     "output_type": "execute_result"
    }
   ],
   "source": [
    "df_2019['Amount($)'].unique()"
   ]
  },
  {
   "cell_type": "code",
   "execution_count": 244,
   "metadata": {},
   "outputs": [
    {
     "data": {
      "text/plain": [
       "0       $6,300,000\n",
       "1     $150,000,000\n",
       "2      $28,000,000\n",
       "3      $30,000,000\n",
       "4       $6,000,000\n",
       "          ...     \n",
       "84     $20,000,000\n",
       "85    $693,000,000\n",
       "86      $5,000,000\n",
       "87     $50,000,000\n",
       "88     $33,000,000\n",
       "Name: Amount($), Length: 89, dtype: object"
      ]
     },
     "execution_count": 244,
     "metadata": {},
     "output_type": "execute_result"
    }
   ],
   "source": [
    "df_2019['Amount($)']"
   ]
  },
  {
   "cell_type": "code",
   "execution_count": 245,
   "metadata": {},
   "outputs": [
    {
     "data": {
      "text/html": [
       "<div>\n",
       "<style scoped>\n",
       "    .dataframe tbody tr th:only-of-type {\n",
       "        vertical-align: middle;\n",
       "    }\n",
       "\n",
       "    .dataframe tbody tr th {\n",
       "        vertical-align: top;\n",
       "    }\n",
       "\n",
       "    .dataframe thead th {\n",
       "        text-align: right;\n",
       "    }\n",
       "</style>\n",
       "<table border=\"1\" class=\"dataframe\">\n",
       "  <thead>\n",
       "    <tr style=\"text-align: right;\">\n",
       "      <th></th>\n",
       "      <th>Company/Brand</th>\n",
       "      <th>Founded</th>\n",
       "      <th>HeadQuarter</th>\n",
       "      <th>Sector</th>\n",
       "      <th>What it does</th>\n",
       "      <th>Founders</th>\n",
       "      <th>Investor</th>\n",
       "      <th>Amount($)</th>\n",
       "      <th>Stage</th>\n",
       "    </tr>\n",
       "  </thead>\n",
       "  <tbody>\n",
       "    <tr>\n",
       "      <th>0</th>\n",
       "      <td>Bombay Shaving</td>\n",
       "      <td>2015.0</td>\n",
       "      <td>Bangalore</td>\n",
       "      <td>Ecommerce</td>\n",
       "      <td>Provides a range of male grooming products</td>\n",
       "      <td>Shantanu Deshpande</td>\n",
       "      <td>Sixth Sense Ventures</td>\n",
       "      <td>$6,300,000</td>\n",
       "      <td>NaN</td>\n",
       "    </tr>\n",
       "    <tr>\n",
       "      <th>1</th>\n",
       "      <td>Ruangguru</td>\n",
       "      <td>2014.0</td>\n",
       "      <td>Mumbai</td>\n",
       "      <td>Edtech</td>\n",
       "      <td>A learning platform that provides topic-based ...</td>\n",
       "      <td>Adamas Belva Syah Devara, Iman Usman.</td>\n",
       "      <td>General Atlantic</td>\n",
       "      <td>$150,000,000</td>\n",
       "      <td>Series C</td>\n",
       "    </tr>\n",
       "    <tr>\n",
       "      <th>2</th>\n",
       "      <td>Eduisfun</td>\n",
       "      <td>2015.0</td>\n",
       "      <td>Mumbai</td>\n",
       "      <td>Edtech</td>\n",
       "      <td>It aims to make learning fun via games.</td>\n",
       "      <td>Jatin Solanki</td>\n",
       "      <td>Deepak Parekh, Amitabh Bachchan, Piyush Pandey</td>\n",
       "      <td>$28,000,000</td>\n",
       "      <td>Fresh funding</td>\n",
       "    </tr>\n",
       "    <tr>\n",
       "      <th>3</th>\n",
       "      <td>HomeLane</td>\n",
       "      <td>2014.0</td>\n",
       "      <td>Chennai</td>\n",
       "      <td>Interior design</td>\n",
       "      <td>Provides interior designing solutions</td>\n",
       "      <td>Srikanth Iyer, Rama Harinath</td>\n",
       "      <td>Evolvence India Fund (EIF), Pidilite Group, FJ...</td>\n",
       "      <td>$30,000,000</td>\n",
       "      <td>Series D</td>\n",
       "    </tr>\n",
       "    <tr>\n",
       "      <th>4</th>\n",
       "      <td>Nu Genes</td>\n",
       "      <td>2004.0</td>\n",
       "      <td>Telangana</td>\n",
       "      <td>AgriTech</td>\n",
       "      <td>It is a seed company engaged in production, pr...</td>\n",
       "      <td>Narayana Reddy Punyala</td>\n",
       "      <td>Innovation in Food and Agriculture (IFA)</td>\n",
       "      <td>$6,000,000</td>\n",
       "      <td>NaN</td>\n",
       "    </tr>\n",
       "  </tbody>\n",
       "</table>\n",
       "</div>"
      ],
      "text/plain": [
       "    Company/Brand  Founded HeadQuarter           Sector  \\\n",
       "0  Bombay Shaving   2015.0   Bangalore        Ecommerce   \n",
       "1       Ruangguru   2014.0      Mumbai           Edtech   \n",
       "2        Eduisfun   2015.0      Mumbai           Edtech   \n",
       "3        HomeLane   2014.0     Chennai  Interior design   \n",
       "4        Nu Genes   2004.0   Telangana         AgriTech   \n",
       "\n",
       "                                        What it does  \\\n",
       "0         Provides a range of male grooming products   \n",
       "1  A learning platform that provides topic-based ...   \n",
       "2            It aims to make learning fun via games.   \n",
       "3              Provides interior designing solutions   \n",
       "4  It is a seed company engaged in production, pr...   \n",
       "\n",
       "                                Founders  \\\n",
       "0                     Shantanu Deshpande   \n",
       "1  Adamas Belva Syah Devara, Iman Usman.   \n",
       "2                          Jatin Solanki   \n",
       "3           Srikanth Iyer, Rama Harinath   \n",
       "4                 Narayana Reddy Punyala   \n",
       "\n",
       "                                            Investor     Amount($)  \\\n",
       "0                               Sixth Sense Ventures    $6,300,000   \n",
       "1                                   General Atlantic  $150,000,000   \n",
       "2     Deepak Parekh, Amitabh Bachchan, Piyush Pandey   $28,000,000   \n",
       "3  Evolvence India Fund (EIF), Pidilite Group, FJ...   $30,000,000   \n",
       "4           Innovation in Food and Agriculture (IFA)    $6,000,000   \n",
       "\n",
       "           Stage  \n",
       "0            NaN  \n",
       "1       Series C  \n",
       "2  Fresh funding  \n",
       "3       Series D  \n",
       "4            NaN  "
      ]
     },
     "execution_count": 245,
     "metadata": {},
     "output_type": "execute_result"
    }
   ],
   "source": [
    "df_2019.head(5)"
   ]
  },
  {
   "cell_type": "code",
   "execution_count": 246,
   "metadata": {},
   "outputs": [
    {
     "data": {
      "text/plain": [
       "0      6300000\n",
       "1    150000000\n",
       "2     28000000\n",
       "3     30000000\n",
       "4      6000000\n",
       "Name: Amount($), dtype: object"
      ]
     },
     "execution_count": 246,
     "metadata": {},
     "output_type": "execute_result"
    }
   ],
   "source": [
    "\n",
    "\n",
    "#Handing inconsistencies in 'Amount' column\n",
    "\n",
    "# Remove dollar sign, and convert the \"amount\" column from integer to float\n",
    "\n",
    "df_2019['Amount($)'] = df_2019['Amount($)'].str.replace('[$,]', '', regex=True)\n",
    "#Replace \"undisclosed\" with NaN\n",
    "\n",
    "df_2019['Amount($)'] = df_2019['Amount($)'].replace('Undisclosed', np.nan)\n",
    "\n",
    "\n",
    "\n",
    "\n",
    "#Preview of modified 'Amount' column\n",
    "\n",
    "\n",
    "\n",
    "\n",
    "df_2019['Amount($)'].head()\n",
    "\n",
    "\n",
    "\n"
   ]
  },
  {
   "cell_type": "code",
   "execution_count": 247,
   "metadata": {},
   "outputs": [
    {
     "data": {
      "text/plain": [
       "0       6300000.0\n",
       "1     150000000.0\n",
       "2      28000000.0\n",
       "3      30000000.0\n",
       "4       6000000.0\n",
       "         ...     \n",
       "84     20000000.0\n",
       "85    693000000.0\n",
       "86      5000000.0\n",
       "87     50000000.0\n",
       "88     33000000.0\n",
       "Name: Amount($), Length: 89, dtype: float64"
      ]
     },
     "execution_count": 247,
     "metadata": {},
     "output_type": "execute_result"
    }
   ],
   "source": [
    "#changing object into float \n",
    "df_2019['Amount($)'].astype('float64')"
   ]
  },
  {
   "cell_type": "code",
   "execution_count": 248,
   "metadata": {},
   "outputs": [
    {
     "data": {
      "text/plain": [
       "12"
      ]
     },
     "execution_count": 248,
     "metadata": {},
     "output_type": "execute_result"
    }
   ],
   "source": [
    "#count of null value in the Amount column \n",
    "df_2019['Amount($)'].isnull().sum()"
   ]
  },
  {
   "cell_type": "code",
   "execution_count": 249,
   "metadata": {},
   "outputs": [
    {
     "data": {
      "text/plain": [
       "6000000.0"
      ]
     },
     "execution_count": 249,
     "metadata": {},
     "output_type": "execute_result"
    }
   ],
   "source": [
    "#Convert the column to numeric, coercing non-numeric values to NaN:\n",
    "\n",
    "#pd.to_numeric() converts values to float\n",
    "\n",
    "\n",
    "\n",
    "\n",
    "df_2019[\"Amount($)\"] = pd.to_numeric(df_2019[\"Amount($)\"], errors='coerce')\n",
    "\n",
    "\n",
    "\n",
    "\n",
    "#Calculate the median of the column, ignoring the NaN values:\n",
    "\n",
    "median_value = df_2019[\"Amount($)\"].median(skipna=True)\n",
    "\n",
    "\n",
    "\n",
    "\n",
    "median_value"
   ]
  },
  {
   "cell_type": "code",
   "execution_count": 250,
   "metadata": {},
   "outputs": [
    {
     "name": "stdout",
     "output_type": "stream",
     "text": [
      "Count of non-NA elements in Amount column: 77\n"
     ]
    }
   ],
   "source": [
    "#let us confirm count of Non-NA elements in column the 'amount'\n",
    "\n",
    "#DataFrame.count() method returns count of non-Non-NA/null entries\n",
    "\n",
    "\n",
    "\n",
    "\n",
    "Non_NA = df_2019[\"Amount($)\"].count()\n",
    "\n",
    "\n",
    "\n",
    "\n",
    "print(\"Count of non-NA elements in Amount column:\",Non_NA)"
   ]
  },
  {
   "cell_type": "code",
   "execution_count": 251,
   "metadata": {},
   "outputs": [],
   "source": [
    "#Replace the NaN values with the calculated median:\n",
    "\n",
    "df_2019[\"Amount($)\"].fillna(median_value, inplace=True)"
   ]
  },
  {
   "cell_type": "code",
   "execution_count": 252,
   "metadata": {},
   "outputs": [
    {
     "data": {
      "text/plain": [
       "False"
      ]
     },
     "execution_count": 252,
     "metadata": {},
     "output_type": "execute_result"
    }
   ],
   "source": [
    "#confirm whether there are any NAN values (missing_values)\n",
    "\n",
    "df_2019[\"Amount($)\"].isna().values.any()"
   ]
  },
  {
   "cell_type": "code",
   "execution_count": 253,
   "metadata": {},
   "outputs": [
    {
     "data": {
      "text/html": [
       "<div>\n",
       "<style scoped>\n",
       "    .dataframe tbody tr th:only-of-type {\n",
       "        vertical-align: middle;\n",
       "    }\n",
       "\n",
       "    .dataframe tbody tr th {\n",
       "        vertical-align: top;\n",
       "    }\n",
       "\n",
       "    .dataframe thead th {\n",
       "        text-align: right;\n",
       "    }\n",
       "</style>\n",
       "<table border=\"1\" class=\"dataframe\">\n",
       "  <thead>\n",
       "    <tr style=\"text-align: right;\">\n",
       "      <th></th>\n",
       "      <th>Company/Brand</th>\n",
       "      <th>Founded</th>\n",
       "      <th>HeadQuarter</th>\n",
       "      <th>Sector</th>\n",
       "      <th>What it does</th>\n",
       "      <th>Founders</th>\n",
       "      <th>Investor</th>\n",
       "      <th>Amount($)</th>\n",
       "      <th>Stage</th>\n",
       "    </tr>\n",
       "  </thead>\n",
       "  <tbody>\n",
       "    <tr>\n",
       "      <th>0</th>\n",
       "      <td>Bombay Shaving</td>\n",
       "      <td>2015.0</td>\n",
       "      <td>Bangalore</td>\n",
       "      <td>Ecommerce</td>\n",
       "      <td>Provides a range of male grooming products</td>\n",
       "      <td>Shantanu Deshpande</td>\n",
       "      <td>Sixth Sense Ventures</td>\n",
       "      <td>6300000.0</td>\n",
       "      <td>NaN</td>\n",
       "    </tr>\n",
       "    <tr>\n",
       "      <th>1</th>\n",
       "      <td>Ruangguru</td>\n",
       "      <td>2014.0</td>\n",
       "      <td>Mumbai</td>\n",
       "      <td>Edtech</td>\n",
       "      <td>A learning platform that provides topic-based ...</td>\n",
       "      <td>Adamas Belva Syah Devara, Iman Usman.</td>\n",
       "      <td>General Atlantic</td>\n",
       "      <td>150000000.0</td>\n",
       "      <td>Series C</td>\n",
       "    </tr>\n",
       "    <tr>\n",
       "      <th>2</th>\n",
       "      <td>Eduisfun</td>\n",
       "      <td>2015.0</td>\n",
       "      <td>Mumbai</td>\n",
       "      <td>Edtech</td>\n",
       "      <td>It aims to make learning fun via games.</td>\n",
       "      <td>Jatin Solanki</td>\n",
       "      <td>Deepak Parekh, Amitabh Bachchan, Piyush Pandey</td>\n",
       "      <td>28000000.0</td>\n",
       "      <td>Fresh funding</td>\n",
       "    </tr>\n",
       "  </tbody>\n",
       "</table>\n",
       "</div>"
      ],
      "text/plain": [
       "    Company/Brand  Founded HeadQuarter     Sector  \\\n",
       "0  Bombay Shaving   2015.0   Bangalore  Ecommerce   \n",
       "1       Ruangguru   2014.0      Mumbai     Edtech   \n",
       "2        Eduisfun   2015.0      Mumbai     Edtech   \n",
       "\n",
       "                                        What it does  \\\n",
       "0         Provides a range of male grooming products   \n",
       "1  A learning platform that provides topic-based ...   \n",
       "2            It aims to make learning fun via games.   \n",
       "\n",
       "                                Founders  \\\n",
       "0                     Shantanu Deshpande   \n",
       "1  Adamas Belva Syah Devara, Iman Usman.   \n",
       "2                          Jatin Solanki   \n",
       "\n",
       "                                         Investor    Amount($)          Stage  \n",
       "0                            Sixth Sense Ventures    6300000.0            NaN  \n",
       "1                                General Atlantic  150000000.0       Series C  \n",
       "2  Deepak Parekh, Amitabh Bachchan, Piyush Pandey   28000000.0  Fresh funding  "
      ]
     },
     "execution_count": 253,
     "metadata": {},
     "output_type": "execute_result"
    }
   ],
   "source": [
    "df_2019.head(3)"
   ]
  },
  {
   "cell_type": "code",
   "execution_count": 254,
   "metadata": {},
   "outputs": [],
   "source": [
    "df_2019.to_csv('data_claning_2019.csv', index = False)"
   ]
  },
  {
   "cell_type": "code",
   "execution_count": 255,
   "metadata": {},
   "outputs": [
    {
     "data": {
      "text/html": [
       "<div>\n",
       "<style scoped>\n",
       "    .dataframe tbody tr th:only-of-type {\n",
       "        vertical-align: middle;\n",
       "    }\n",
       "\n",
       "    .dataframe tbody tr th {\n",
       "        vertical-align: top;\n",
       "    }\n",
       "\n",
       "    .dataframe thead th {\n",
       "        text-align: right;\n",
       "    }\n",
       "</style>\n",
       "<table border=\"1\" class=\"dataframe\">\n",
       "  <thead>\n",
       "    <tr style=\"text-align: right;\">\n",
       "      <th></th>\n",
       "      <th>Company_Brand</th>\n",
       "      <th>Founded</th>\n",
       "      <th>HeadQuarter</th>\n",
       "      <th>Sector</th>\n",
       "      <th>What_it_does</th>\n",
       "      <th>Founders</th>\n",
       "      <th>Investor</th>\n",
       "      <th>Amount</th>\n",
       "      <th>Stage</th>\n",
       "    </tr>\n",
       "  </thead>\n",
       "  <tbody>\n",
       "    <tr>\n",
       "      <th>0</th>\n",
       "      <td>Unbox Robotics</td>\n",
       "      <td>2019.0</td>\n",
       "      <td>Bangalore</td>\n",
       "      <td>AI startup</td>\n",
       "      <td>Unbox Robotics builds on-demand AI-driven ware...</td>\n",
       "      <td>Pramod Ghadge, Shahid Memon</td>\n",
       "      <td>BEENEXT, Entrepreneur First</td>\n",
       "      <td>$1,200,000</td>\n",
       "      <td>Pre-series A</td>\n",
       "    </tr>\n",
       "    <tr>\n",
       "      <th>1</th>\n",
       "      <td>upGrad</td>\n",
       "      <td>2015.0</td>\n",
       "      <td>Mumbai</td>\n",
       "      <td>EdTech</td>\n",
       "      <td>UpGrad is an online higher education platform.</td>\n",
       "      <td>Mayank Kumar, Phalgun Kompalli, Ravijot Chugh,...</td>\n",
       "      <td>Unilazer Ventures, IIFL Asset Management</td>\n",
       "      <td>$120,000,000</td>\n",
       "      <td>NaN</td>\n",
       "    </tr>\n",
       "    <tr>\n",
       "      <th>2</th>\n",
       "      <td>Lead School</td>\n",
       "      <td>2012.0</td>\n",
       "      <td>Mumbai</td>\n",
       "      <td>EdTech</td>\n",
       "      <td>LEAD School offers technology based school tra...</td>\n",
       "      <td>Smita Deorah, Sumeet Mehta</td>\n",
       "      <td>GSV Ventures, Westbridge Capital</td>\n",
       "      <td>$30,000,000</td>\n",
       "      <td>Series D</td>\n",
       "    </tr>\n",
       "    <tr>\n",
       "      <th>3</th>\n",
       "      <td>Bizongo</td>\n",
       "      <td>2015.0</td>\n",
       "      <td>Mumbai</td>\n",
       "      <td>B2B E-commerce</td>\n",
       "      <td>Bizongo is a business-to-business online marke...</td>\n",
       "      <td>Aniket Deb, Ankit Tomar, Sachin Agrawal</td>\n",
       "      <td>CDC Group, IDG Capital</td>\n",
       "      <td>$51,000,000</td>\n",
       "      <td>Series C</td>\n",
       "    </tr>\n",
       "    <tr>\n",
       "      <th>4</th>\n",
       "      <td>FypMoney</td>\n",
       "      <td>2021.0</td>\n",
       "      <td>Gurugram</td>\n",
       "      <td>FinTech</td>\n",
       "      <td>FypMoney is Digital NEO Bank for Teenagers, em...</td>\n",
       "      <td>Kapil Banwari</td>\n",
       "      <td>Liberatha Kallat, Mukesh Yadav, Dinesh Nagpal</td>\n",
       "      <td>$2,000,000</td>\n",
       "      <td>Seed</td>\n",
       "    </tr>\n",
       "  </tbody>\n",
       "</table>\n",
       "</div>"
      ],
      "text/plain": [
       "    Company_Brand  Founded HeadQuarter          Sector  \\\n",
       "0  Unbox Robotics   2019.0   Bangalore      AI startup   \n",
       "1          upGrad   2015.0      Mumbai          EdTech   \n",
       "2     Lead School   2012.0      Mumbai          EdTech   \n",
       "3         Bizongo   2015.0      Mumbai  B2B E-commerce   \n",
       "4        FypMoney   2021.0    Gurugram         FinTech   \n",
       "\n",
       "                                        What_it_does  \\\n",
       "0  Unbox Robotics builds on-demand AI-driven ware...   \n",
       "1     UpGrad is an online higher education platform.   \n",
       "2  LEAD School offers technology based school tra...   \n",
       "3  Bizongo is a business-to-business online marke...   \n",
       "4  FypMoney is Digital NEO Bank for Teenagers, em...   \n",
       "\n",
       "                                            Founders  \\\n",
       "0                        Pramod Ghadge, Shahid Memon   \n",
       "1  Mayank Kumar, Phalgun Kompalli, Ravijot Chugh,...   \n",
       "2                         Smita Deorah, Sumeet Mehta   \n",
       "3            Aniket Deb, Ankit Tomar, Sachin Agrawal   \n",
       "4                                      Kapil Banwari   \n",
       "\n",
       "                                        Investor        Amount         Stage  \n",
       "0                    BEENEXT, Entrepreneur First    $1,200,000  Pre-series A  \n",
       "1       Unilazer Ventures, IIFL Asset Management  $120,000,000           NaN  \n",
       "2               GSV Ventures, Westbridge Capital   $30,000,000      Series D  \n",
       "3                         CDC Group, IDG Capital   $51,000,000      Series C  \n",
       "4  Liberatha Kallat, Mukesh Yadav, Dinesh Nagpal    $2,000,000          Seed  "
      ]
     },
     "execution_count": 255,
     "metadata": {},
     "output_type": "execute_result"
    }
   ],
   "source": [
    "#loading 2021 data\n",
    "df_2021= pd.read_csv('startup_function2021.csv')\n",
    "df_2021.head(5)"
   ]
  },
  {
   "cell_type": "code",
   "execution_count": 256,
   "metadata": {},
   "outputs": [
    {
     "data": {
      "text/plain": [
       "(1209, 9)"
      ]
     },
     "execution_count": 256,
     "metadata": {},
     "output_type": "execute_result"
    }
   ],
   "source": [
    "# # Get the dimensions of the DataFrame\n",
    "df_2021.shape"
   ]
  },
  {
   "cell_type": "code",
   "execution_count": 257,
   "metadata": {},
   "outputs": [
    {
     "data": {
      "text/html": [
       "<div>\n",
       "<style scoped>\n",
       "    .dataframe tbody tr th:only-of-type {\n",
       "        vertical-align: middle;\n",
       "    }\n",
       "\n",
       "    .dataframe tbody tr th {\n",
       "        vertical-align: top;\n",
       "    }\n",
       "\n",
       "    .dataframe thead th {\n",
       "        text-align: right;\n",
       "    }\n",
       "</style>\n",
       "<table border=\"1\" class=\"dataframe\">\n",
       "  <thead>\n",
       "    <tr style=\"text-align: right;\">\n",
       "      <th></th>\n",
       "      <th>Founded</th>\n",
       "    </tr>\n",
       "  </thead>\n",
       "  <tbody>\n",
       "    <tr>\n",
       "      <th>count</th>\n",
       "      <td>1208.000000</td>\n",
       "    </tr>\n",
       "    <tr>\n",
       "      <th>mean</th>\n",
       "      <td>2016.655629</td>\n",
       "    </tr>\n",
       "    <tr>\n",
       "      <th>std</th>\n",
       "      <td>4.517364</td>\n",
       "    </tr>\n",
       "    <tr>\n",
       "      <th>min</th>\n",
       "      <td>1963.000000</td>\n",
       "    </tr>\n",
       "    <tr>\n",
       "      <th>25%</th>\n",
       "      <td>2015.000000</td>\n",
       "    </tr>\n",
       "    <tr>\n",
       "      <th>50%</th>\n",
       "      <td>2018.000000</td>\n",
       "    </tr>\n",
       "    <tr>\n",
       "      <th>75%</th>\n",
       "      <td>2020.000000</td>\n",
       "    </tr>\n",
       "    <tr>\n",
       "      <th>max</th>\n",
       "      <td>2021.000000</td>\n",
       "    </tr>\n",
       "  </tbody>\n",
       "</table>\n",
       "</div>"
      ],
      "text/plain": [
       "           Founded\n",
       "count  1208.000000\n",
       "mean   2016.655629\n",
       "std       4.517364\n",
       "min    1963.000000\n",
       "25%    2015.000000\n",
       "50%    2018.000000\n",
       "75%    2020.000000\n",
       "max    2021.000000"
      ]
     },
     "execution_count": 257,
     "metadata": {},
     "output_type": "execute_result"
    }
   ],
   "source": [
    "# # Generate descriptive statistics\n",
    "df_2021.describe()"
   ]
  },
  {
   "cell_type": "code",
   "execution_count": 258,
   "metadata": {},
   "outputs": [
    {
     "data": {
      "text/plain": [
       "Company_Brand    1033\n",
       "Founded            30\n",
       "HeadQuarter        70\n",
       "Sector            254\n",
       "What_it_does     1143\n",
       "Founders         1095\n",
       "Investor          937\n",
       "Amount            278\n",
       "Stage              31\n",
       "dtype: int64"
      ]
     },
     "execution_count": 258,
     "metadata": {},
     "output_type": "execute_result"
    }
   ],
   "source": [
    "# Get the cardinality/number of unique values in each column\n",
    "df_2021.nunique()"
   ]
  },
  {
   "cell_type": "code",
   "execution_count": 259,
   "metadata": {},
   "outputs": [
    {
     "data": {
      "text/plain": [
       "Company_Brand     object\n",
       "Founded          float64\n",
       "HeadQuarter       object\n",
       "Sector            object\n",
       "What_it_does      object\n",
       "Founders          object\n",
       "Investor          object\n",
       "Amount            object\n",
       "Stage             object\n",
       "dtype: object"
      ]
     },
     "execution_count": 259,
     "metadata": {},
     "output_type": "execute_result"
    }
   ],
   "source": [
    "# Get the data types of each column\n",
    "df_2021.dtypes"
   ]
  },
  {
   "cell_type": "code",
   "execution_count": 260,
   "metadata": {},
   "outputs": [
    {
     "data": {
      "text/plain": [
       "Company_Brand      0\n",
       "Founded            1\n",
       "HeadQuarter        1\n",
       "Sector             0\n",
       "What_it_does       0\n",
       "Founders           4\n",
       "Investor          62\n",
       "Amount             3\n",
       "Stage            428\n",
       "dtype: int64"
      ]
     },
     "execution_count": 260,
     "metadata": {},
     "output_type": "execute_result"
    }
   ],
   "source": [
    "# Get the missing values of each column\n",
    "df_2021.isna().sum()"
   ]
  },
  {
   "cell_type": "code",
   "execution_count": 261,
   "metadata": {},
   "outputs": [
    {
     "data": {
      "text/plain": [
       "Stage            35.401158\n",
       "Investor          5.128205\n",
       "Founders          0.330852\n",
       "Amount            0.248139\n",
       "Founded           0.082713\n",
       "HeadQuarter       0.082713\n",
       "Company_Brand     0.000000\n",
       "Sector            0.000000\n",
       "What_it_does      0.000000\n",
       "dtype: float64"
      ]
     },
     "execution_count": 261,
     "metadata": {},
     "output_type": "execute_result"
    }
   ],
   "source": [
    "# calculate the percentage of missing values in each column and sort them in descending order\n",
    "df_2021.isna().mean().sort_values(ascending=False)*100"
   ]
  },
  {
   "cell_type": "code",
   "execution_count": 262,
   "metadata": {},
   "outputs": [
    {
     "data": {
      "text/plain": [
       "Index(['Company_Brand', 'Founded', 'HeadQuarter', 'Sector', 'What_it_does',\n",
       "       'Founders', 'Investor', 'Amount($)', 'Stage'],\n",
       "      dtype='object')"
      ]
     },
     "execution_count": 262,
     "metadata": {},
     "output_type": "execute_result"
    }
   ],
   "source": [
    "# rename company/brand and Amount columns\n",
    "data2021=df_2021.rename(columns={'Company/Brand':'Company_Brand','Amount':'Amount($)'})\n",
    "data2021.columns"
   ]
  },
  {
   "cell_type": "code",
   "execution_count": 263,
   "metadata": {},
   "outputs": [
    {
     "data": {
      "text/plain": [
       "Company_Brand\n",
       "BharatPe            8\n",
       "BYJU'S              4\n",
       "CoinSwitch Kuber    3\n",
       "Delhivery           3\n",
       "Slice               3\n",
       "                   ..\n",
       "MYFITNESS           1\n",
       "I am Love           1\n",
       "Gumlet              1\n",
       "Eloelo              1\n",
       "WeRize              1\n",
       "Name: count, Length: 1033, dtype: int64"
      ]
     },
     "execution_count": 263,
     "metadata": {},
     "output_type": "execute_result"
    }
   ],
   "source": [
    "# count the occurrences of unique values in Company_brand column\n",
    "data2021['Company_Brand'].value_counts()"
   ]
  },
  {
   "cell_type": "code",
   "execution_count": 264,
   "metadata": {},
   "outputs": [
    {
     "data": {
      "text/plain": [
       "Founded\n",
       "2020.0    237\n",
       "2019.0    177\n",
       "2018.0    143\n",
       "2015.0    129\n",
       "2016.0    118\n",
       "2017.0    112\n",
       "2021.0     76\n",
       "2014.0     57\n",
       "2011.0     34\n",
       "2012.0     31\n",
       "2013.0     22\n",
       "2008.0     15\n",
       "2010.0     14\n",
       "2009.0      9\n",
       "2007.0      6\n",
       "2000.0      6\n",
       "2006.0      3\n",
       "2002.0      2\n",
       "1994.0      2\n",
       "1989.0      2\n",
       "1999.0      2\n",
       "1998.0      2\n",
       "2004.0      2\n",
       "1993.0      1\n",
       "1978.0      1\n",
       "2003.0      1\n",
       "1991.0      1\n",
       "1984.0      1\n",
       "2005.0      1\n",
       "1963.0      1\n",
       "Name: count, dtype: int64"
      ]
     },
     "execution_count": 264,
     "metadata": {},
     "output_type": "execute_result"
    }
   ],
   "source": [
    "# count the occurrences of unique values in Founded column\n",
    "data2021['Founded'].value_counts()"
   ]
  },
  {
   "cell_type": "code",
   "execution_count": 265,
   "metadata": {},
   "outputs": [],
   "source": [
    "# remove the floats in founded year\n",
    "# Replace non-finite values with median\n",
    "data2021['Founded'] = data2021['Founded'].fillna(data2021['Founded'].median())\n",
    "\n",
    "# Convert the 'Founded' column to an integer data type\n",
    "data2021['Founded'] = data2021['Founded'].astype(int)"
   ]
  },
  {
   "cell_type": "code",
   "execution_count": 266,
   "metadata": {},
   "outputs": [
    {
     "data": {
      "text/plain": [
       "Founded\n",
       "2020    237\n",
       "2019    177\n",
       "2018    144\n",
       "2015    129\n",
       "2016    118\n",
       "2017    112\n",
       "2021     76\n",
       "2014     57\n",
       "2011     34\n",
       "2012     31\n",
       "2013     22\n",
       "2008     15\n",
       "2010     14\n",
       "2009      9\n",
       "2007      6\n",
       "2000      6\n",
       "2006      3\n",
       "2002      2\n",
       "1994      2\n",
       "1989      2\n",
       "1999      2\n",
       "1998      2\n",
       "2004      2\n",
       "1993      1\n",
       "1978      1\n",
       "2003      1\n",
       "1991      1\n",
       "1984      1\n",
       "2005      1\n",
       "1963      1\n",
       "Name: count, dtype: int64"
      ]
     },
     "execution_count": 266,
     "metadata": {},
     "output_type": "execute_result"
    }
   ],
   "source": [
    "data2021['Founded'].value_counts()"
   ]
  },
  {
   "cell_type": "code",
   "execution_count": 267,
   "metadata": {},
   "outputs": [
    {
     "data": {
      "text/plain": [
       "HeadQuarter\n",
       "Bangalore      426\n",
       "Mumbai         203\n",
       "Gurugram       155\n",
       "New Delhi      144\n",
       "Pune            47\n",
       "              ... \n",
       "Roorkee          1\n",
       "Ambernath        1\n",
       "Panchkula        1\n",
       "Andheri          1\n",
       "Gandhinagar      1\n",
       "Name: count, Length: 70, dtype: int64"
      ]
     },
     "execution_count": 267,
     "metadata": {},
     "output_type": "execute_result"
    }
   ],
   "source": [
    "# count the occurrences of unique values in Headquarter column\n",
    "data2021['HeadQuarter'].value_counts()"
   ]
  },
  {
   "cell_type": "code",
   "execution_count": 268,
   "metadata": {},
   "outputs": [],
   "source": [
    "# a few entries do not appear to be cities. extract the first part of each value\n",
    "# in the 'HeadQuarter' column before the comma\n",
    "# Split values in 'HeadQuarter' column by comma\n",
    "data2021['HeadQuarter'] = data2021['HeadQuarter'].str.split(',').str[0]"
   ]
  },
  {
   "cell_type": "code",
   "execution_count": 269,
   "metadata": {},
   "outputs": [],
   "source": [
    "# Replace non headquarter values with NaN in a column\n",
    "data2021['HeadQuarter'] = data2021['HeadQuarter'].replace(['Pharmaceuticals\\t#REF!', 'Food & Beverages', 'Computer Games','Online Media\\t#REF!','Information Technology & Services'])"
   ]
  },
  {
   "cell_type": "code",
   "execution_count": 270,
   "metadata": {},
   "outputs": [
    {
     "data": {
      "text/plain": [
       "HeadQuarter\n",
       "Bangalore      426\n",
       "Mumbai         203\n",
       "Gurugram       155\n",
       "New Delhi      144\n",
       "Pune            47\n",
       "              ... \n",
       "Roorkee          1\n",
       "Ambernath        1\n",
       "Panchkula        1\n",
       "Andheri          1\n",
       "Gandhinagar      1\n",
       "Name: count, Length: 70, dtype: int64"
      ]
     },
     "execution_count": 270,
     "metadata": {},
     "output_type": "execute_result"
    }
   ],
   "source": [
    "df_2021['HeadQuarter'].value_counts()"
   ]
  },
  {
   "cell_type": "code",
   "execution_count": 271,
   "metadata": {},
   "outputs": [],
   "source": [
    "# remove special characters\n",
    "df_2021['HeadQuarter'] = df_2021['HeadQuarter'].str.replace('[\\,#,!,]','')"
   ]
  },
  {
   "cell_type": "code",
   "execution_count": 272,
   "metadata": {},
   "outputs": [
    {
     "data": {
      "text/plain": [
       "Sector\n",
       "FinTech                          122\n",
       "EdTech                           102\n",
       "Financial Services                61\n",
       "E-commerce                        37\n",
       "Food & Beverages                  37\n",
       "                                ... \n",
       "Business Supplies & Equipment      1\n",
       "D2C jewellery                      1\n",
       "Oil & Energy                       1\n",
       "EV                                 1\n",
       "Staffing & Recruiting              1\n",
       "Name: count, Length: 254, dtype: int64"
      ]
     },
     "execution_count": 272,
     "metadata": {},
     "output_type": "execute_result"
    }
   ],
   "source": [
    "# count the occurrences of unique values in Sector column\n",
    "df_2021['Sector'].value_counts().sort_values(ascending=False)"
   ]
  },
  {
   "cell_type": "code",
   "execution_count": 273,
   "metadata": {},
   "outputs": [
    {
     "name": "stdout",
     "output_type": "stream",
     "text": [
      "Sector\n",
      "FinTech                   122\n",
      "EdTech                    102\n",
      "Financial Services         61\n",
      "E-commerce                 37\n",
      "Food & Beverages           37\n",
      "                         ... \n",
      "Manufacturing startup       1\n",
      "Cryptocurrency              1\n",
      "Vehicle repair startup      1\n",
      "Advisory firm               1\n",
      "Staffing & Recruiting       1\n",
      "Name: count, Length: 254, dtype: int64\n"
     ]
    }
   ],
   "source": [
    "# there are inconsistencies in the sector column\n",
    "# create a function to merge values based on name similarity to improve consistency\n",
    "def merge_values_by_name_similarity(df, column_name, pattern, consistent_name):\n",
    "    df.loc[df[column_name].str.contains(pattern, case=False), column_name] = consistent_name\n",
    "    return df\n",
    "\n",
    "# Define the patterns and consistent names\n",
    "patterns = ['care', 'Information', 'food']\n",
    "consistent_names = ['Healthcare', 'Information Technology & Services', 'Food & Beverages']\n",
    "\n",
    "# Apply the function for each pattern and consistent name\n",
    "for pattern, consistent_name in zip(patterns, consistent_names):\n",
    "    data2021 = merge_values_by_name_similarity(data2021, 'Sector', pattern, consistent_name)\n",
    "\n",
    "# Display the updated column\n",
    "print(df_2021['Sector'].value_counts())"
   ]
  },
  {
   "cell_type": "code",
   "execution_count": 274,
   "metadata": {},
   "outputs": [
    {
     "data": {
      "text/plain": [
       "Amount($)\n",
       "1000000.0      85\n",
       "2000000.0      60\n",
       "3000000.0      48\n",
       "10000000.0     43\n",
       "5000000.0      41\n",
       "               ..\n",
       "265000.0        1\n",
       "111000000.0     1\n",
       "10000.0         1\n",
       "130000.0        1\n",
       "55000000.0      1\n",
       "Name: count, Length: 197, dtype: int64"
      ]
     },
     "execution_count": 274,
     "metadata": {},
     "output_type": "execute_result"
    }
   ],
   "source": [
    "# there are inconsistencies in the amount column\n",
    "# remove special characters($ sign)\n",
    "data2021['Amount($)'] = data2021['Amount($)'].str.replace('[$,,]','', regex=True)\n",
    "# remove any non-digit characters from the 'Amount($)' column\n",
    "data2021['Amount($)'] = data2021['Amount($)'].str.replace(r'\\D+','', regex=True)\n",
    "# convert empty space to nan\n",
    "data2021['Amount($)'] = data2021['Amount($)'].replace('',np.nan)\n",
    "# convert column to numeric\n",
    "data2021[\"Amount($)\"] = pd.to_numeric(data2021[\"Amount($)\"], errors='coerce')\n",
    "data2021['Amount($)'].value_counts()"
   ]
  },
  {
   "cell_type": "code",
   "execution_count": 275,
   "metadata": {},
   "outputs": [
    {
     "data": {
      "text/plain": [
       "Stage\n",
       "Seed             246\n",
       "Pre-series A     157\n",
       "Series A         126\n",
       "Series B          49\n",
       "Pre-seed          47\n",
       "Series C          45\n",
       "Debt              27\n",
       "Series D          21\n",
       "Series E          18\n",
       "Pre-series B      10\n",
       "Series F           6\n",
       "Pre-series A1      4\n",
       "$1200000           2\n",
       "Bridge             2\n",
       "Series G           2\n",
       "Series H           2\n",
       "$300000            2\n",
       "Pre-series         2\n",
       "Series A+          1\n",
       "Series F2          1\n",
       "Series B3          1\n",
       "PE                 1\n",
       "Series F1          1\n",
       "Seed+              1\n",
       "Early seed         1\n",
       "Series D1          1\n",
       "$6000000           1\n",
       "$1000000           1\n",
       "Seies A            1\n",
       "Series A2          1\n",
       "Series I           1\n",
       "Name: count, dtype: int64"
      ]
     },
     "execution_count": 275,
     "metadata": {},
     "output_type": "execute_result"
    }
   ],
   "source": [
    "# count the occurrences of unique values in Stage column\n",
    "data2021['Stage'].value_counts().sort_values(ascending=False)"
   ]
  },
  {
   "cell_type": "code",
   "execution_count": 276,
   "metadata": {},
   "outputs": [
    {
     "data": {
      "text/plain": [
       "Stage\n",
       "Unknown         428\n",
       "Seed            246\n",
       "Pre-series A    161\n",
       "Series A        127\n",
       "Series B         50\n",
       "Pre-seed         47\n",
       "Series C         45\n",
       "Debt             27\n",
       "Series D         22\n",
       "Series E         18\n",
       "Pre-series B     10\n",
       "Series F          8\n",
       "$                 6\n",
       "Bridge            2\n",
       "Series G          2\n",
       "Series H          2\n",
       "Pre-series        2\n",
       "Seed+             1\n",
       "Series A+         1\n",
       "PE                1\n",
       "Early seed        1\n",
       "Seies A           1\n",
       "Series I          1\n",
       "Name: count, dtype: int64"
      ]
     },
     "execution_count": 276,
     "metadata": {},
     "output_type": "execute_result"
    }
   ],
   "source": [
    "# the stage has inconsistencies\n",
    "# remove special characters($ sign)\n",
    "data2021['Stage'] = data2021['Stage'].str.replace('$','', regex=True)\n",
    "# remove any digit characters from the 'Stage' column\n",
    "data2021['Stage'] = data2021['Stage'].str.replace(r'\\d+','', regex=True)\n",
    "# replace empty spaces with np.nan\n",
    "data2021['Stage'] = data2021['Stage'].replace('', np.nan)\n",
    "# replace nan with 'unknown'\n",
    "data2021['Stage'] = data2021['Stage'].replace(np.nan, 'Unknown')\n",
    "\n",
    "data2021['Stage'].value_counts()"
   ]
  },
  {
   "cell_type": "code",
   "execution_count": 277,
   "metadata": {},
   "outputs": [
    {
     "data": {
      "text/plain": [
       "Founders\n",
       "Ashneer Grover, Shashvat Nakrani                        7\n",
       "Byju Raveendran, Divya Gokulnath                        5\n",
       "Bhavish Aggarwal                                        4\n",
       "Ritesh Agarwal                                          4\n",
       "Ashish Singhal, Govind Soni, Vimal Sagar Tiwari         3\n",
       "                                                       ..\n",
       "Adarsh Anand, Amit Tiwari                               1\n",
       "Madhav Krishna                                          1\n",
       "Sai Srinivas Kiran GV, Shubh Malhotra                   1\n",
       "O.P. Godara, Vivek Pathak, Kapil Arya, Sharad Bansal    1\n",
       "Vishal Chopra, Himanshu Gupta                           1\n",
       "Name: count, Length: 1095, dtype: int64"
      ]
     },
     "execution_count": 277,
     "metadata": {},
     "output_type": "execute_result"
    }
   ],
   "source": [
    "# count the occurrences of unique values in Founders column\n",
    "data2021['Founders'].value_counts().sort_values(ascending=False)"
   ]
  },
  {
   "cell_type": "code",
   "execution_count": 278,
   "metadata": {},
   "outputs": [
    {
     "data": {
      "text/html": [
       "<div>\n",
       "<style scoped>\n",
       "    .dataframe tbody tr th:only-of-type {\n",
       "        vertical-align: middle;\n",
       "    }\n",
       "\n",
       "    .dataframe tbody tr th {\n",
       "        vertical-align: top;\n",
       "    }\n",
       "\n",
       "    .dataframe thead th {\n",
       "        text-align: right;\n",
       "    }\n",
       "</style>\n",
       "<table border=\"1\" class=\"dataframe\">\n",
       "  <thead>\n",
       "    <tr style=\"text-align: right;\">\n",
       "      <th></th>\n",
       "      <th>Company_Brand</th>\n",
       "      <th>Founded</th>\n",
       "      <th>HeadQuarter</th>\n",
       "      <th>Sector</th>\n",
       "      <th>What_it_does</th>\n",
       "      <th>Founders</th>\n",
       "      <th>Investor</th>\n",
       "      <th>Amount($)</th>\n",
       "      <th>Stage</th>\n",
       "    </tr>\n",
       "  </thead>\n",
       "  <tbody>\n",
       "    <tr>\n",
       "      <th>274</th>\n",
       "      <td>ByteLearn</td>\n",
       "      <td>2021</td>\n",
       "      <td>Noida</td>\n",
       "      <td>E-learning</td>\n",
       "      <td>AI powered teaching assistant for 100 Mn teach...</td>\n",
       "      <td>NaN</td>\n",
       "      <td>Aditya Singhal, Nishant Sinha</td>\n",
       "      <td>9500000.0</td>\n",
       "      <td>Seed</td>\n",
       "    </tr>\n",
       "    <tr>\n",
       "      <th>558</th>\n",
       "      <td>The Sleep Company</td>\n",
       "      <td>2019</td>\n",
       "      <td>Mumbai</td>\n",
       "      <td>Consumer Goods</td>\n",
       "      <td>Patent Pending sleep technology developed by a...</td>\n",
       "      <td>NaN</td>\n",
       "      <td>Fireside Ventures</td>\n",
       "      <td>1000000.0</td>\n",
       "      <td>Pre-series A</td>\n",
       "    </tr>\n",
       "    <tr>\n",
       "      <th>1095</th>\n",
       "      <td>PredictiVu</td>\n",
       "      <td>2020</td>\n",
       "      <td>Gurugram</td>\n",
       "      <td>Management Consulting</td>\n",
       "      <td>PredictiVu's AI-enabled dashboard integrated w...</td>\n",
       "      <td>NaN</td>\n",
       "      <td>Kunal Sarkar</td>\n",
       "      <td>1500000.0</td>\n",
       "      <td>Pre-seed</td>\n",
       "    </tr>\n",
       "    <tr>\n",
       "      <th>1187</th>\n",
       "      <td>NeuroPixel.AI</td>\n",
       "      <td>2020</td>\n",
       "      <td>Bangalore</td>\n",
       "      <td>Deeptech</td>\n",
       "      <td>NeuroPixel.AI Labs is a deep tech start-up tha...</td>\n",
       "      <td>NaN</td>\n",
       "      <td>Arvind Venugopal Nair, Amritendu Mukherjee</td>\n",
       "      <td>800000.0</td>\n",
       "      <td>Seed</td>\n",
       "    </tr>\n",
       "  </tbody>\n",
       "</table>\n",
       "</div>"
      ],
      "text/plain": [
       "          Company_Brand  Founded HeadQuarter                 Sector  \\\n",
       "274           ByteLearn     2021       Noida             E-learning   \n",
       "558   The Sleep Company     2019      Mumbai         Consumer Goods   \n",
       "1095         PredictiVu     2020    Gurugram  Management Consulting   \n",
       "1187      NeuroPixel.AI     2020   Bangalore               Deeptech   \n",
       "\n",
       "                                           What_it_does Founders  \\\n",
       "274   AI powered teaching assistant for 100 Mn teach...      NaN   \n",
       "558   Patent Pending sleep technology developed by a...      NaN   \n",
       "1095  PredictiVu's AI-enabled dashboard integrated w...      NaN   \n",
       "1187  NeuroPixel.AI Labs is a deep tech start-up tha...      NaN   \n",
       "\n",
       "                                        Investor  Amount($)         Stage  \n",
       "274                Aditya Singhal, Nishant Sinha  9500000.0          Seed  \n",
       "558                            Fireside Ventures  1000000.0  Pre-series A  \n",
       "1095                                Kunal Sarkar  1500000.0      Pre-seed  \n",
       "1187  Arvind Venugopal Nair, Amritendu Mukherjee   800000.0          Seed  "
      ]
     },
     "execution_count": 278,
     "metadata": {},
     "output_type": "execute_result"
    }
   ],
   "source": [
    "missing_rows=data2021[data2021['Founders'].isnull()]\n",
    "missing_rows"
   ]
  },
  {
   "cell_type": "code",
   "execution_count": 279,
   "metadata": {},
   "outputs": [
    {
     "data": {
      "text/plain": [
       "Investor\n",
       "Inflection Point Ventures                   24\n",
       "Venture Catalysts                           11\n",
       "Tiger Global                                11\n",
       "Elevation Capital                            7\n",
       "Titan Capital                                6\n",
       "                                            ..\n",
       "Omidyar Network India, Chiratae Ventures     1\n",
       "Elevation Capital, Accel India               1\n",
       "Legatum Capital                              1\n",
       "1000000\\t#REF!                               1\n",
       "3one4 Capital, Kalaari Capital               1\n",
       "Name: count, Length: 937, dtype: int64"
      ]
     },
     "execution_count": 279,
     "metadata": {},
     "output_type": "execute_result"
    }
   ],
   "source": [
    "# count the occurrences of unique values in Investor column\n",
    "data2021['Investor'].value_counts().sort_values(ascending=False)"
   ]
  },
  {
   "cell_type": "code",
   "execution_count": 280,
   "metadata": {},
   "outputs": [
    {
     "data": {
      "text/plain": [
       "Company_Brand      0\n",
       "Founded            0\n",
       "HeadQuarter        1\n",
       "Sector             0\n",
       "What_it_does       0\n",
       "Founders           4\n",
       "Investor          62\n",
       "Amount($)        153\n",
       "Stage              0\n",
       "dtype: int64"
      ]
     },
     "execution_count": 280,
     "metadata": {},
     "output_type": "execute_result"
    }
   ],
   "source": [
    "# check missing values\n",
    "data2021.isna().sum()"
   ]
  },
  {
   "cell_type": "code",
   "execution_count": 281,
   "metadata": {},
   "outputs": [
    {
     "data": {
      "text/plain": [
       "Index(['Company_Brand', 'HeadQuarter', 'Sector', 'What_it_does', 'Founders',\n",
       "       'Investor', 'Stage'],\n",
       "      dtype='object')"
      ]
     },
     "execution_count": 281,
     "metadata": {},
     "output_type": "execute_result"
    }
   ],
   "source": [
    "#select object variables\n",
    "obj=data2021.select_dtypes(include='object')\n",
    "obj.columns"
   ]
  },
  {
   "cell_type": "code",
   "execution_count": 282,
   "metadata": {},
   "outputs": [],
   "source": [
    "obj= ['Founders','HeadQuarter','Investor']"
   ]
  },
  {
   "cell_type": "code",
   "execution_count": 283,
   "metadata": {},
   "outputs": [],
   "source": [
    "# use mode to impute missing value in object columns\n",
    "data2021[obj]=data2021[obj].fillna(data2021[obj].mode().iloc[0])"
   ]
  },
  {
   "cell_type": "code",
   "execution_count": 284,
   "metadata": {},
   "outputs": [
    {
     "data": {
      "text/plain": [
       "Index(['Founded', 'Amount($)'], dtype='object')"
      ]
     },
     "execution_count": 284,
     "metadata": {},
     "output_type": "execute_result"
    }
   ],
   "source": [
    "# select num columns\n",
    "num=data2021.select_dtypes(exclude='object')\n",
    "num.columns"
   ]
  },
  {
   "cell_type": "code",
   "execution_count": 285,
   "metadata": {},
   "outputs": [],
   "source": [
    "num=['Amount($)']"
   ]
  },
  {
   "cell_type": "code",
   "execution_count": 286,
   "metadata": {},
   "outputs": [],
   "source": [
    "# use median to impute numerical columns ignoring the Nan values to calculate the median\n",
    "data2021[num]=data2021[num].fillna(data2021[num].median(skipna=True))"
   ]
  },
  {
   "cell_type": "code",
   "execution_count": 287,
   "metadata": {},
   "outputs": [
    {
     "data": {
      "text/plain": [
       "Company_Brand    0\n",
       "Founded          0\n",
       "HeadQuarter      0\n",
       "Sector           0\n",
       "What_it_does     0\n",
       "Founders         0\n",
       "Investor         0\n",
       "Amount($)        0\n",
       "Stage            0\n",
       "dtype: int64"
      ]
     },
     "execution_count": 287,
     "metadata": {},
     "output_type": "execute_result"
    }
   ],
   "source": [
    "data2021.isnull().sum()"
   ]
  },
  {
   "cell_type": "code",
   "execution_count": 288,
   "metadata": {},
   "outputs": [
    {
     "data": {
      "text/plain": [
       "19"
      ]
     },
     "execution_count": 288,
     "metadata": {},
     "output_type": "execute_result"
    }
   ],
   "source": [
    "# checking for duplicates\n",
    "data2021.duplicated().sum()"
   ]
  },
  {
   "cell_type": "code",
   "execution_count": 289,
   "metadata": {},
   "outputs": [
    {
     "data": {
      "text/html": [
       "<div>\n",
       "<style scoped>\n",
       "    .dataframe tbody tr th:only-of-type {\n",
       "        vertical-align: middle;\n",
       "    }\n",
       "\n",
       "    .dataframe tbody tr th {\n",
       "        vertical-align: top;\n",
       "    }\n",
       "\n",
       "    .dataframe thead th {\n",
       "        text-align: right;\n",
       "    }\n",
       "</style>\n",
       "<table border=\"1\" class=\"dataframe\">\n",
       "  <thead>\n",
       "    <tr style=\"text-align: right;\">\n",
       "      <th></th>\n",
       "      <th>Company_Brand</th>\n",
       "      <th>Founded</th>\n",
       "      <th>HeadQuarter</th>\n",
       "      <th>Sector</th>\n",
       "      <th>What_it_does</th>\n",
       "      <th>Founders</th>\n",
       "      <th>Investor</th>\n",
       "      <th>Amount($)</th>\n",
       "      <th>Stage</th>\n",
       "    </tr>\n",
       "  </thead>\n",
       "  <tbody>\n",
       "    <tr>\n",
       "      <th>107</th>\n",
       "      <td>Curefoods</td>\n",
       "      <td>2020</td>\n",
       "      <td>Bangalore</td>\n",
       "      <td>Food &amp; Beverages</td>\n",
       "      <td>Healthy &amp; nutritious foods and cold pressed ju...</td>\n",
       "      <td>Ankit Nagori</td>\n",
       "      <td>Iron Pillar, Nordstar, Binny Bansal</td>\n",
       "      <td>13000000.0</td>\n",
       "      <td>Unknown</td>\n",
       "    </tr>\n",
       "    <tr>\n",
       "      <th>109</th>\n",
       "      <td>Bewakoof</td>\n",
       "      <td>2012</td>\n",
       "      <td>Mumbai</td>\n",
       "      <td>Apparel &amp; Fashion</td>\n",
       "      <td>Bewakoof is a lifestyle fashion brand that mak...</td>\n",
       "      <td>Prabhkiran Singh</td>\n",
       "      <td>InvestCorp</td>\n",
       "      <td>8000000.0</td>\n",
       "      <td>Unknown</td>\n",
       "    </tr>\n",
       "    <tr>\n",
       "      <th>111</th>\n",
       "      <td>FanPlay</td>\n",
       "      <td>2020</td>\n",
       "      <td>New Delhi</td>\n",
       "      <td>Computer Games</td>\n",
       "      <td>A real money game app specializing in trivia g...</td>\n",
       "      <td>YC W21</td>\n",
       "      <td>Pritesh Kumar, Bharat Gupta</td>\n",
       "      <td>3500000.0</td>\n",
       "      <td>$</td>\n",
       "    </tr>\n",
       "    <tr>\n",
       "      <th>117</th>\n",
       "      <td>Advantage Club</td>\n",
       "      <td>2014</td>\n",
       "      <td>Mumbai</td>\n",
       "      <td>HRTech</td>\n",
       "      <td>Advantage Club is India's largest employee eng...</td>\n",
       "      <td>Sourabh Deorah, Smiti Bhatt Deorah</td>\n",
       "      <td>Y Combinator, Broom Ventures, Kunal Shah</td>\n",
       "      <td>1700000.0</td>\n",
       "      <td>Unknown</td>\n",
       "    </tr>\n",
       "    <tr>\n",
       "      <th>119</th>\n",
       "      <td>Ruptok</td>\n",
       "      <td>2020</td>\n",
       "      <td>New Delhi</td>\n",
       "      <td>FinTech</td>\n",
       "      <td>Ruptok fintech Pvt. Ltd. is an online gold loa...</td>\n",
       "      <td>Ankur Gupta</td>\n",
       "      <td>Eclear Leasing</td>\n",
       "      <td>1000000.0</td>\n",
       "      <td>Unknown</td>\n",
       "    </tr>\n",
       "    <tr>\n",
       "      <th>243</th>\n",
       "      <td>Trinkerr</td>\n",
       "      <td>2021</td>\n",
       "      <td>Bangalore</td>\n",
       "      <td>Capital Markets</td>\n",
       "      <td>Trinkerr is India's first social trading platf...</td>\n",
       "      <td>Manvendra Singh, Gaurav Agarwal</td>\n",
       "      <td>Accel India</td>\n",
       "      <td>6600000.0</td>\n",
       "      <td>Series A</td>\n",
       "    </tr>\n",
       "    <tr>\n",
       "      <th>244</th>\n",
       "      <td>Zorro</td>\n",
       "      <td>2021</td>\n",
       "      <td>Gurugram</td>\n",
       "      <td>Social network</td>\n",
       "      <td>Pseudonymous social network platform</td>\n",
       "      <td>Jasveer Singh, Abhishek Asthana, Deepak Kumar</td>\n",
       "      <td>Vijay Shekhar Sharma, Ritesh Agarwal, Ankiti Bose</td>\n",
       "      <td>32000000.0</td>\n",
       "      <td>Seed</td>\n",
       "    </tr>\n",
       "    <tr>\n",
       "      <th>245</th>\n",
       "      <td>Ultraviolette</td>\n",
       "      <td>2021</td>\n",
       "      <td>Bangalore</td>\n",
       "      <td>Automotive</td>\n",
       "      <td>Create and Inspire the future of sustainable u...</td>\n",
       "      <td>Subramaniam Narayan, Niraj Rajmohan</td>\n",
       "      <td>TVS Motor, Zoho</td>\n",
       "      <td>150000000.0</td>\n",
       "      <td>Series C</td>\n",
       "    </tr>\n",
       "    <tr>\n",
       "      <th>246</th>\n",
       "      <td>NephroPlus</td>\n",
       "      <td>2009</td>\n",
       "      <td>Hyderabad</td>\n",
       "      <td>Healthcare</td>\n",
       "      <td>A vision and passion of redefining healthcare ...</td>\n",
       "      <td>Vikram Vuppala</td>\n",
       "      <td>IIFL Asset Management</td>\n",
       "      <td>24000000.0</td>\n",
       "      <td>Series E</td>\n",
       "    </tr>\n",
       "    <tr>\n",
       "      <th>247</th>\n",
       "      <td>Unremot</td>\n",
       "      <td>2020</td>\n",
       "      <td>Bangalore</td>\n",
       "      <td>Information Technology &amp; Services</td>\n",
       "      <td>Unremot is a personal office for consultants!</td>\n",
       "      <td>Shiju Radhakrishnan</td>\n",
       "      <td>Inflection Point Ventures</td>\n",
       "      <td>700000.0</td>\n",
       "      <td>Seed</td>\n",
       "    </tr>\n",
       "    <tr>\n",
       "      <th>248</th>\n",
       "      <td>FanAnywhere</td>\n",
       "      <td>2021</td>\n",
       "      <td>Bangalore</td>\n",
       "      <td>Financial Services</td>\n",
       "      <td>Celebrity NFT platform</td>\n",
       "      <td>Varun Chaudhary, Amit Kumar</td>\n",
       "      <td>Oasis Capital, Scorpio VC, DeltaHub Capital</td>\n",
       "      <td>3500000.0</td>\n",
       "      <td>Seed</td>\n",
       "    </tr>\n",
       "    <tr>\n",
       "      <th>249</th>\n",
       "      <td>PingoLearn</td>\n",
       "      <td>2021</td>\n",
       "      <td>Pune</td>\n",
       "      <td>E-learning</td>\n",
       "      <td>PingoLearn offers language learning courses wi...</td>\n",
       "      <td>Mohit Menghani, Shubham Maheshwari</td>\n",
       "      <td>Titan Capital, Haresh Chawla, AngelList Syndicate</td>\n",
       "      <td>200000.0</td>\n",
       "      <td>Unknown</td>\n",
       "    </tr>\n",
       "    <tr>\n",
       "      <th>250</th>\n",
       "      <td>Spry</td>\n",
       "      <td>2021</td>\n",
       "      <td>Mumbai</td>\n",
       "      <td>Music</td>\n",
       "      <td>THE BEST ROYALTY-FREE MUSIC TO CREATE TRENDING...</td>\n",
       "      <td>Gaurav Dagaonkar, Meghna Mittal</td>\n",
       "      <td>9Unicorns, Ashneer Grover</td>\n",
       "      <td>1500000.0</td>\n",
       "      <td>Seed</td>\n",
       "    </tr>\n",
       "    <tr>\n",
       "      <th>251</th>\n",
       "      <td>Enmovil</td>\n",
       "      <td>2015</td>\n",
       "      <td>Hyderabad</td>\n",
       "      <td>Information Technology &amp; Services</td>\n",
       "      <td>Enmovil delivers a Business Intelligence Platf...</td>\n",
       "      <td>Ravi Bulusu, Nanda Kishore, Venkat Moganty</td>\n",
       "      <td>Anicut Angel Fund</td>\n",
       "      <td>1300000.0</td>\n",
       "      <td>Pre-series A</td>\n",
       "    </tr>\n",
       "    <tr>\n",
       "      <th>252</th>\n",
       "      <td>ASQI Advisors</td>\n",
       "      <td>2019</td>\n",
       "      <td>Mumbai</td>\n",
       "      <td>Financial Services</td>\n",
       "      <td>Bringing Blockchain technology intro mainstrea...</td>\n",
       "      <td>Swapnil Pawar</td>\n",
       "      <td>Founders Room Capital</td>\n",
       "      <td>1000000.0</td>\n",
       "      <td>Pre-series A</td>\n",
       "    </tr>\n",
       "    <tr>\n",
       "      <th>253</th>\n",
       "      <td>Insurance Samadhan</td>\n",
       "      <td>2018</td>\n",
       "      <td>New Delhi</td>\n",
       "      <td>Insurance</td>\n",
       "      <td>The insurance industry will help in representa...</td>\n",
       "      <td>Deepak Bhuvenshwari Uniyal</td>\n",
       "      <td>9Unicorns, ZNL</td>\n",
       "      <td>725000.0</td>\n",
       "      <td>Pre-series A</td>\n",
       "    </tr>\n",
       "    <tr>\n",
       "      <th>254</th>\n",
       "      <td>Evenflow Brands</td>\n",
       "      <td>2020</td>\n",
       "      <td>Mumbai</td>\n",
       "      <td>Consumer Goods</td>\n",
       "      <td>Identify and partner with the upcoming eCommer...</td>\n",
       "      <td>Utsav Agarwal, Pulkit Chhabra</td>\n",
       "      <td>Inflection Point Ventures</td>\n",
       "      <td>500000.0</td>\n",
       "      <td>Unknown</td>\n",
       "    </tr>\n",
       "    <tr>\n",
       "      <th>255</th>\n",
       "      <td>MasterChow</td>\n",
       "      <td>2020</td>\n",
       "      <td>Mumbai</td>\n",
       "      <td>Hauz Khas</td>\n",
       "      <td>A ready-to-cook Asian cuisine brand</td>\n",
       "      <td>Vidur Kataria, Sidhanth Madan</td>\n",
       "      <td>WEH Ventures</td>\n",
       "      <td>461000.0</td>\n",
       "      <td>Seed</td>\n",
       "    </tr>\n",
       "    <tr>\n",
       "      <th>256</th>\n",
       "      <td>Fullife Healthcare</td>\n",
       "      <td>2009</td>\n",
       "      <td>Mumbai</td>\n",
       "      <td>Healthcare</td>\n",
       "      <td>Varun Khanna</td>\n",
       "      <td>Morgan Stanley Private Equity Asia</td>\n",
       "      <td>$22000000</td>\n",
       "      <td>3500000.0</td>\n",
       "      <td>Unknown</td>\n",
       "    </tr>\n",
       "  </tbody>\n",
       "</table>\n",
       "</div>"
      ],
      "text/plain": [
       "          Company_Brand  Founded HeadQuarter  \\\n",
       "107           Curefoods     2020   Bangalore   \n",
       "109            Bewakoof     2012      Mumbai   \n",
       "111             FanPlay     2020   New Delhi   \n",
       "117      Advantage Club     2014      Mumbai   \n",
       "119              Ruptok     2020   New Delhi   \n",
       "243            Trinkerr     2021   Bangalore   \n",
       "244               Zorro     2021    Gurugram   \n",
       "245       Ultraviolette     2021   Bangalore   \n",
       "246          NephroPlus     2009   Hyderabad   \n",
       "247             Unremot     2020   Bangalore   \n",
       "248         FanAnywhere     2021   Bangalore   \n",
       "249          PingoLearn     2021        Pune   \n",
       "250                Spry     2021      Mumbai   \n",
       "251             Enmovil     2015   Hyderabad   \n",
       "252       ASQI Advisors     2019      Mumbai   \n",
       "253  Insurance Samadhan     2018   New Delhi   \n",
       "254     Evenflow Brands     2020      Mumbai   \n",
       "255          MasterChow     2020      Mumbai   \n",
       "256  Fullife Healthcare     2009      Mumbai   \n",
       "\n",
       "                                Sector  \\\n",
       "107                   Food & Beverages   \n",
       "109                  Apparel & Fashion   \n",
       "111                     Computer Games   \n",
       "117                             HRTech   \n",
       "119                            FinTech   \n",
       "243                    Capital Markets   \n",
       "244                     Social network   \n",
       "245                         Automotive   \n",
       "246                         Healthcare   \n",
       "247  Information Technology & Services   \n",
       "248                 Financial Services   \n",
       "249                         E-learning   \n",
       "250                              Music   \n",
       "251  Information Technology & Services   \n",
       "252                 Financial Services   \n",
       "253                          Insurance   \n",
       "254                     Consumer Goods   \n",
       "255                          Hauz Khas   \n",
       "256                         Healthcare   \n",
       "\n",
       "                                          What_it_does  \\\n",
       "107  Healthy & nutritious foods and cold pressed ju...   \n",
       "109  Bewakoof is a lifestyle fashion brand that mak...   \n",
       "111  A real money game app specializing in trivia g...   \n",
       "117  Advantage Club is India's largest employee eng...   \n",
       "119  Ruptok fintech Pvt. Ltd. is an online gold loa...   \n",
       "243  Trinkerr is India's first social trading platf...   \n",
       "244               Pseudonymous social network platform   \n",
       "245  Create and Inspire the future of sustainable u...   \n",
       "246  A vision and passion of redefining healthcare ...   \n",
       "247      Unremot is a personal office for consultants!   \n",
       "248                             Celebrity NFT platform   \n",
       "249  PingoLearn offers language learning courses wi...   \n",
       "250  THE BEST ROYALTY-FREE MUSIC TO CREATE TRENDING...   \n",
       "251  Enmovil delivers a Business Intelligence Platf...   \n",
       "252  Bringing Blockchain technology intro mainstrea...   \n",
       "253  The insurance industry will help in representa...   \n",
       "254  Identify and partner with the upcoming eCommer...   \n",
       "255                A ready-to-cook Asian cuisine brand   \n",
       "256                                       Varun Khanna   \n",
       "\n",
       "                                          Founders  \\\n",
       "107                                   Ankit Nagori   \n",
       "109                               Prabhkiran Singh   \n",
       "111                                         YC W21   \n",
       "117             Sourabh Deorah, Smiti Bhatt Deorah   \n",
       "119                                    Ankur Gupta   \n",
       "243                Manvendra Singh, Gaurav Agarwal   \n",
       "244  Jasveer Singh, Abhishek Asthana, Deepak Kumar   \n",
       "245            Subramaniam Narayan, Niraj Rajmohan   \n",
       "246                                 Vikram Vuppala   \n",
       "247                            Shiju Radhakrishnan   \n",
       "248                    Varun Chaudhary, Amit Kumar   \n",
       "249             Mohit Menghani, Shubham Maheshwari   \n",
       "250                Gaurav Dagaonkar, Meghna Mittal   \n",
       "251     Ravi Bulusu, Nanda Kishore, Venkat Moganty   \n",
       "252                                  Swapnil Pawar   \n",
       "253                     Deepak Bhuvenshwari Uniyal   \n",
       "254                  Utsav Agarwal, Pulkit Chhabra   \n",
       "255                  Vidur Kataria, Sidhanth Madan   \n",
       "256             Morgan Stanley Private Equity Asia   \n",
       "\n",
       "                                              Investor    Amount($)  \\\n",
       "107                Iron Pillar, Nordstar, Binny Bansal   13000000.0   \n",
       "109                                         InvestCorp    8000000.0   \n",
       "111                        Pritesh Kumar, Bharat Gupta    3500000.0   \n",
       "117           Y Combinator, Broom Ventures, Kunal Shah    1700000.0   \n",
       "119                                     Eclear Leasing    1000000.0   \n",
       "243                                        Accel India    6600000.0   \n",
       "244  Vijay Shekhar Sharma, Ritesh Agarwal, Ankiti Bose   32000000.0   \n",
       "245                                    TVS Motor, Zoho  150000000.0   \n",
       "246                              IIFL Asset Management   24000000.0   \n",
       "247                          Inflection Point Ventures     700000.0   \n",
       "248        Oasis Capital, Scorpio VC, DeltaHub Capital    3500000.0   \n",
       "249  Titan Capital, Haresh Chawla, AngelList Syndicate     200000.0   \n",
       "250                          9Unicorns, Ashneer Grover    1500000.0   \n",
       "251                                  Anicut Angel Fund    1300000.0   \n",
       "252                              Founders Room Capital    1000000.0   \n",
       "253                                     9Unicorns, ZNL     725000.0   \n",
       "254                          Inflection Point Ventures     500000.0   \n",
       "255                                       WEH Ventures     461000.0   \n",
       "256                                          $22000000    3500000.0   \n",
       "\n",
       "            Stage  \n",
       "107       Unknown  \n",
       "109       Unknown  \n",
       "111             $  \n",
       "117       Unknown  \n",
       "119       Unknown  \n",
       "243      Series A  \n",
       "244          Seed  \n",
       "245      Series C  \n",
       "246      Series E  \n",
       "247          Seed  \n",
       "248          Seed  \n",
       "249       Unknown  \n",
       "250          Seed  \n",
       "251  Pre-series A  \n",
       "252  Pre-series A  \n",
       "253  Pre-series A  \n",
       "254       Unknown  \n",
       "255          Seed  \n",
       "256       Unknown  "
      ]
     },
     "execution_count": 289,
     "metadata": {},
     "output_type": "execute_result"
    }
   ],
   "source": [
    "# lets have a look at rows with duplicates\n",
    "data2021.loc[data2021.duplicated()]"
   ]
  },
  {
   "cell_type": "code",
   "execution_count": 290,
   "metadata": {},
   "outputs": [
    {
     "data": {
      "text/html": [
       "<div>\n",
       "<style scoped>\n",
       "    .dataframe tbody tr th:only-of-type {\n",
       "        vertical-align: middle;\n",
       "    }\n",
       "\n",
       "    .dataframe tbody tr th {\n",
       "        vertical-align: top;\n",
       "    }\n",
       "\n",
       "    .dataframe thead th {\n",
       "        text-align: right;\n",
       "    }\n",
       "</style>\n",
       "<table border=\"1\" class=\"dataframe\">\n",
       "  <thead>\n",
       "    <tr style=\"text-align: right;\">\n",
       "      <th></th>\n",
       "      <th>Company_Brand</th>\n",
       "      <th>Founded</th>\n",
       "      <th>HeadQuarter</th>\n",
       "      <th>Sector</th>\n",
       "      <th>What_it_does</th>\n",
       "      <th>Founders</th>\n",
       "      <th>Investor</th>\n",
       "      <th>Amount($)</th>\n",
       "      <th>Stage</th>\n",
       "    </tr>\n",
       "  </thead>\n",
       "  <tbody>\n",
       "    <tr>\n",
       "      <th>94</th>\n",
       "      <td>Curefoods</td>\n",
       "      <td>2020</td>\n",
       "      <td>Bangalore</td>\n",
       "      <td>Food &amp; Beverages</td>\n",
       "      <td>Healthy &amp; nutritious foods and cold pressed ju...</td>\n",
       "      <td>Ankit Nagori</td>\n",
       "      <td>Iron Pillar, Nordstar, Binny Bansal</td>\n",
       "      <td>13000000.0</td>\n",
       "      <td>Unknown</td>\n",
       "    </tr>\n",
       "    <tr>\n",
       "      <th>107</th>\n",
       "      <td>Curefoods</td>\n",
       "      <td>2020</td>\n",
       "      <td>Bangalore</td>\n",
       "      <td>Food &amp; Beverages</td>\n",
       "      <td>Healthy &amp; nutritious foods and cold pressed ju...</td>\n",
       "      <td>Ankit Nagori</td>\n",
       "      <td>Iron Pillar, Nordstar, Binny Bansal</td>\n",
       "      <td>13000000.0</td>\n",
       "      <td>Unknown</td>\n",
       "    </tr>\n",
       "  </tbody>\n",
       "</table>\n",
       "</div>"
      ],
      "text/plain": [
       "    Company_Brand  Founded HeadQuarter            Sector  \\\n",
       "94      Curefoods     2020   Bangalore  Food & Beverages   \n",
       "107     Curefoods     2020   Bangalore  Food & Beverages   \n",
       "\n",
       "                                          What_it_does      Founders  \\\n",
       "94   Healthy & nutritious foods and cold pressed ju...  Ankit Nagori   \n",
       "107  Healthy & nutritious foods and cold pressed ju...  Ankit Nagori   \n",
       "\n",
       "                                Investor   Amount($)    Stage  \n",
       "94   Iron Pillar, Nordstar, Binny Bansal  13000000.0  Unknown  \n",
       "107  Iron Pillar, Nordstar, Binny Bansal  13000000.0  Unknown  "
      ]
     },
     "execution_count": 290,
     "metadata": {},
     "output_type": "execute_result"
    }
   ],
   "source": [
    "# checking an example of a duplicate\n",
    "data2021.query('Company_Brand ==\"Curefoods\"')"
   ]
  },
  {
   "cell_type": "code",
   "execution_count": 291,
   "metadata": {},
   "outputs": [
    {
     "data": {
      "text/html": [
       "<div>\n",
       "<style scoped>\n",
       "    .dataframe tbody tr th:only-of-type {\n",
       "        vertical-align: middle;\n",
       "    }\n",
       "\n",
       "    .dataframe tbody tr th {\n",
       "        vertical-align: top;\n",
       "    }\n",
       "\n",
       "    .dataframe thead th {\n",
       "        text-align: right;\n",
       "    }\n",
       "</style>\n",
       "<table border=\"1\" class=\"dataframe\">\n",
       "  <thead>\n",
       "    <tr style=\"text-align: right;\">\n",
       "      <th></th>\n",
       "      <th>Company_Brand</th>\n",
       "      <th>Founded</th>\n",
       "      <th>HeadQuarter</th>\n",
       "      <th>Sector</th>\n",
       "      <th>What_it_does</th>\n",
       "      <th>Founders</th>\n",
       "      <th>Investor</th>\n",
       "      <th>Amount($)</th>\n",
       "      <th>Stage</th>\n",
       "    </tr>\n",
       "  </thead>\n",
       "  <tbody>\n",
       "    <tr>\n",
       "      <th>242</th>\n",
       "      <td>Fullife Healthcare</td>\n",
       "      <td>2009</td>\n",
       "      <td>Mumbai</td>\n",
       "      <td>Healthcare</td>\n",
       "      <td>Varun Khanna</td>\n",
       "      <td>Morgan Stanley Private Equity Asia</td>\n",
       "      <td>$22000000</td>\n",
       "      <td>3500000.0</td>\n",
       "      <td>Unknown</td>\n",
       "    </tr>\n",
       "    <tr>\n",
       "      <th>256</th>\n",
       "      <td>Fullife Healthcare</td>\n",
       "      <td>2009</td>\n",
       "      <td>Mumbai</td>\n",
       "      <td>Healthcare</td>\n",
       "      <td>Varun Khanna</td>\n",
       "      <td>Morgan Stanley Private Equity Asia</td>\n",
       "      <td>$22000000</td>\n",
       "      <td>3500000.0</td>\n",
       "      <td>Unknown</td>\n",
       "    </tr>\n",
       "  </tbody>\n",
       "</table>\n",
       "</div>"
      ],
      "text/plain": [
       "          Company_Brand  Founded HeadQuarter      Sector  What_it_does  \\\n",
       "242  Fullife Healthcare     2009      Mumbai  Healthcare  Varun Khanna   \n",
       "256  Fullife Healthcare     2009      Mumbai  Healthcare  Varun Khanna   \n",
       "\n",
       "                               Founders   Investor  Amount($)    Stage  \n",
       "242  Morgan Stanley Private Equity Asia  $22000000  3500000.0  Unknown  \n",
       "256  Morgan Stanley Private Equity Asia  $22000000  3500000.0  Unknown  "
      ]
     },
     "execution_count": 291,
     "metadata": {},
     "output_type": "execute_result"
    }
   ],
   "source": [
    "\n",
    "# checking another example of a duplicate\n",
    "data2021.query('Company_Brand ==\"Fullife Healthcare\"')"
   ]
  },
  {
   "cell_type": "code",
   "execution_count": 292,
   "metadata": {},
   "outputs": [],
   "source": [
    "# rows without duplicates\n",
    "# remove duplicate rows based on the specified subset of columns\n",
    "data2021=data2021.loc[~data2021.duplicated(subset=['Company_Brand','Founded','Founders','Investor','Amount($)'])].reset_index(drop=True).copy()"
   ]
  },
  {
   "cell_type": "code",
   "execution_count": 293,
   "metadata": {},
   "outputs": [
    {
     "data": {
      "text/plain": [
       "(1180, 9)"
      ]
     },
     "execution_count": 293,
     "metadata": {},
     "output_type": "execute_result"
    }
   ],
   "source": [
    "# unique rows and columns\n",
    "data2021.shape"
   ]
  },
  {
   "cell_type": "code",
   "execution_count": 294,
   "metadata": {},
   "outputs": [],
   "source": [
    "# Save the data as a CSV file\n",
    "df_2021.to_csv('data_cleaning_2021.csv', index = False)"
   ]
  }
 ],
 "metadata": {
  "kernelspec": {
   "display_name": "base",
   "language": "python",
   "name": "python3"
  },
  "language_info": {
   "codemirror_mode": {
    "name": "ipython",
    "version": 3
   },
   "file_extension": ".py",
   "mimetype": "text/x-python",
   "name": "python",
   "nbconvert_exporter": "python",
   "pygments_lexer": "ipython3",
   "version": "3.11.2"
  },
  "orig_nbformat": 4
 },
 "nbformat": 4,
 "nbformat_minor": 2
}
